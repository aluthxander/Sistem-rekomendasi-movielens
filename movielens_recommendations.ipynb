{
  "nbformat": 4,
  "nbformat_minor": 0,
  "metadata": {
    "colab": {
      "name": "movielens_recommendations.ipynb",
      "provenance": [],
      "collapsed_sections": []
    },
    "kernelspec": {
      "name": "python3",
      "display_name": "Python 3"
    },
    "language_info": {
      "name": "python"
    }
  },
  "cells": [
    {
      "cell_type": "markdown",
      "source": [
        "# Movielens\n",
        "Pada proyek ini saya membuat sistem rekomendasi content-based filtering dan collaborative filtering. Disini saya menggunakan Dataset Movielens. Dataset ini merupakan Dataset yang berisi 1.000.209 peringkat anonim dari sekitar 3.900 film\n",
        "dibuat oleh 6.040 pengguna MovieLens yang bergabung dengan MovieLens pada tahun 2000. untuk lebih lengkapnya bisa dicek pada tautan dibawah ini:\\\n",
        "[MovieLens](https://www.kaggle.com/datasets/sherinclaudia/movielens)\n",
        "\n",
        "## Download Dataset\n",
        "Disini saya akan langsung melakukan download dari kaggle. dengan kode sebagai berikut:"
      ],
      "metadata": {
        "id": "pttg1IuPnIy7"
      }
    },
    {
      "cell_type": "code",
      "source": [
        "!pip install -q kaggle"
      ],
      "metadata": {
        "id": "62cdlRTeh2Uc"
      },
      "execution_count": null,
      "outputs": []
    },
    {
      "cell_type": "code",
      "source": [
        "from google.colab import files\n",
        "files.upload()"
      ],
      "metadata": {
        "id": "WQYhygQciwi4"
      },
      "execution_count": null,
      "outputs": []
    },
    {
      "cell_type": "code",
      "source": [
        "! mkdir ~/.kaggle\n",
        "! cp kaggle.json ~/.kaggle/\n",
        "! chmod 600 ~/.kaggle/kaggle.json\n",
        "! kaggle datasets list"
      ],
      "metadata": {
        "colab": {
          "base_uri": "https://localhost:8080/"
        },
        "id": "6RFJFhqbizti",
        "outputId": "44db9ce6-7134-4a49-824d-b531de5841ff"
      },
      "execution_count": null,
      "outputs": [
        {
          "output_type": "stream",
          "name": "stdout",
          "text": [
            "ref                                                           title                                                size  lastUpdated          downloadCount  voteCount  usabilityRating  \n",
            "------------------------------------------------------------  --------------------------------------------------  -----  -------------------  -------------  ---------  ---------------  \n",
            "ruchi798/data-science-job-salaries                            Data Science Job Salaries                             7KB  2022-06-15 08:59:12          15228        485  1.0              \n",
            "neelgajare/dogecoin-historical-price-data                     DogeCoin Historical Price Data                       34KB  2022-07-28 15:37:35            878         28  1.0              \n",
            "himanshunakrani/student-study-hours                           Student Study Hours                                  276B  2022-07-20 13:17:29           1053         39  1.0              \n",
            "saketpradhan/electric-and-alternative-fuel-charging-stations  Electric/Alternative Fuel Charging Stations [2022]    4MB  2022-08-06 13:40:29            307         24  0.9705882        \n",
            "zzettrkalpakbal/full-filled-brain-stroke-dataset              Brain stroke prediction dataset                      52KB  2022-07-16 09:57:08           1548         47  0.9705882        \n",
            "asgharalikhan/mortality-rate-heart-patient-pakistan-hospital  The Heart Failure Prediction Dataset                 10KB  2022-07-21 04:55:42            736         30  0.8235294        \n",
            "mfaaris/spotify-app-reviews-2022                              Spotify App Reviews                                   4MB  2022-07-10 17:25:08            981         36  1.0              \n",
            "mukuldeshantri/ecommerce-fashion-dataset                      E-commerce Dataset with 30K Products                546KB  2022-07-08 12:28:18           1945         64  1.0              \n",
            "surajjha101/bigbasket-entire-product-list-28k-datapoints      BigBasket Entire Product List (~28K datapoints)       6MB  2022-06-22 12:51:18           3778        135  1.0              \n",
            "ilyaryabov/financial-performance-of-companies-from-sp500      Financial Performance of Companies from S&P500       95KB  2022-07-28 21:58:20            491         31  1.0              \n",
            "dansbecker/melbourne-housing-snapshot                         Melbourne Housing Snapshot                          451KB  2018-06-05 12:52:24          92371       1116  0.7058824        \n",
            "ramjasmaurya/1-gb-internet-price                              Internet Prices around 200+ countries in 2022.       22KB  2022-07-17 02:56:12           2286         73  0.9705882        \n",
            "datasnaek/youtube-new                                         Trending YouTube Video Statistics                   201MB  2019-06-03 00:56:47         180723       4625  0.7941176        \n",
            "gabrielsantello/cars-purchase-decision-dataset                Cars - Purchase Decision Dataset                      6KB  2022-07-09 13:18:38           1626         45  1.0              \n",
            "zynicide/wine-reviews                                         Wine Reviews                                         51MB  2017-11-27 17:08:04         164000       3345  0.7941176        \n",
            "residentmario/ramen-ratings                                   Ramen Ratings                                        40KB  2018-01-11 16:04:39          35040        802  0.7058824        \n",
            "rtatman/188-million-us-wildfires                              1.88 Million US Wildfires                           168MB  2020-05-12 21:03:49          20942       1026  0.8235294        \n",
            "dansbecker/powerlifting-database                              powerlifting-database                                 9MB  2019-04-30 21:07:41           5122         63  0.5882353        \n",
            "datasnaek/chess                                               Chess Game Dataset (Lichess)                          3MB  2017-09-04 03:09:09          30709       1022  0.8235294        \n",
            "jpmiller/publicassistance                                     US Public Food Assistance                           703KB  2020-08-21 16:51:18          16770        400  0.9117647        \n"
          ]
        }
      ]
    },
    {
      "cell_type": "code",
      "source": [
        "!kaggle datasets download -d sherinclaudia/movielens"
      ],
      "metadata": {
        "colab": {
          "base_uri": "https://localhost:8080/"
        },
        "id": "VzI0vgWpi_oh",
        "outputId": "9cc802b7-48e8-415f-b79e-35be0aa18a14"
      },
      "execution_count": null,
      "outputs": [
        {
          "output_type": "stream",
          "name": "stdout",
          "text": [
            "Downloading movielens.zip to /content\n",
            " 86% 5.00M/5.83M [00:00<00:00, 24.1MB/s]\n",
            "100% 5.83M/5.83M [00:00<00:00, 27.7MB/s]\n"
          ]
        }
      ]
    },
    {
      "cell_type": "markdown",
      "source": [
        "unzip file yang telah didownload"
      ],
      "metadata": {
        "id": "kXG1oQE9NdGy"
      }
    },
    {
      "cell_type": "code",
      "source": [
        "!unzip movielens.zip -d /content/"
      ],
      "metadata": {
        "colab": {
          "base_uri": "https://localhost:8080/"
        },
        "id": "92Y4ifopjQu5",
        "outputId": "facd61a6-e1d3-4575-e326-cc5840d93857"
      },
      "execution_count": null,
      "outputs": [
        {
          "output_type": "stream",
          "name": "stdout",
          "text": [
            "Archive:  movielens.zip\n",
            "  inflating: /content/movies.dat     \n",
            "  inflating: /content/ratings.dat    \n",
            "  inflating: /content/users.dat      \n"
          ]
        }
      ]
    },
    {
      "cell_type": "markdown",
      "source": [
        "## Data Understanding\n",
        "Pada tahap ini saya melakukan eksplorasi pada data untuk mendapatkan insight. disini saya hanya menggunakan library pandas untuk melakukannya."
      ],
      "metadata": {
        "id": "QD44hxSYn1UJ"
      }
    },
    {
      "cell_type": "code",
      "execution_count": 6,
      "metadata": {
        "id": "sRADpg4BQwSd"
      },
      "outputs": [],
      "source": [
        "import pandas as pd"
      ]
    },
    {
      "cell_type": "code",
      "source": [
        "movies_cols = ['MovieID','Title','Genres']\n",
        "ratings_cols = ['UserID','MovieID','Rating','Timestamp']\n",
        "users_cols = ['UserID','Gender','Age','Occupation','Zip-code']"
      ],
      "metadata": {
        "id": "ddOLHAIbAPKX"
      },
      "execution_count": 7,
      "outputs": []
    },
    {
      "cell_type": "markdown",
      "source": [
        "karena data yang diterima dalam bentuk **.dat** jadi perlu ditambahkan beberapa parameter seperti `sep`dan `encoding` (kadang jika tidak diberikan akan muncul error). karena pada datasetnya tidak mengandung header maka perlu ditambahkan header pada parameternya."
      ],
      "metadata": {
        "id": "SY-Qed8ZOYTJ"
      }
    },
    {
      "cell_type": "code",
      "source": [
        "movies=pd.read_csv('/content/movies.dat',sep='::',header=None,names=movies_cols, encoding='latin 1')\n",
        "movies.head()"
      ],
      "metadata": {
        "colab": {
          "base_uri": "https://localhost:8080/",
          "height": 261
        },
        "id": "Us5-ym9vR6wB",
        "outputId": "351ab23b-fabf-47f6-c96b-acd61e3d0a56"
      },
      "execution_count": 8,
      "outputs": [
        {
          "output_type": "stream",
          "name": "stderr",
          "text": [
            "/usr/local/lib/python3.7/dist-packages/pandas/util/_decorators.py:311: ParserWarning: Falling back to the 'python' engine because the 'c' engine does not support regex separators (separators > 1 char and different from '\\s+' are interpreted as regex); you can avoid this warning by specifying engine='python'.\n",
            "  return func(*args, **kwargs)\n"
          ]
        },
        {
          "output_type": "execute_result",
          "data": {
            "text/plain": [
              "   MovieID                               Title                        Genres\n",
              "0        1                    Toy Story (1995)   Animation|Children's|Comedy\n",
              "1        2                      Jumanji (1995)  Adventure|Children's|Fantasy\n",
              "2        3             Grumpier Old Men (1995)                Comedy|Romance\n",
              "3        4            Waiting to Exhale (1995)                  Comedy|Drama\n",
              "4        5  Father of the Bride Part II (1995)                        Comedy"
            ],
            "text/html": [
              "\n",
              "  <div id=\"df-b29d99e8-344a-41d0-b23e-85b96093b03a\">\n",
              "    <div class=\"colab-df-container\">\n",
              "      <div>\n",
              "<style scoped>\n",
              "    .dataframe tbody tr th:only-of-type {\n",
              "        vertical-align: middle;\n",
              "    }\n",
              "\n",
              "    .dataframe tbody tr th {\n",
              "        vertical-align: top;\n",
              "    }\n",
              "\n",
              "    .dataframe thead th {\n",
              "        text-align: right;\n",
              "    }\n",
              "</style>\n",
              "<table border=\"1\" class=\"dataframe\">\n",
              "  <thead>\n",
              "    <tr style=\"text-align: right;\">\n",
              "      <th></th>\n",
              "      <th>MovieID</th>\n",
              "      <th>Title</th>\n",
              "      <th>Genres</th>\n",
              "    </tr>\n",
              "  </thead>\n",
              "  <tbody>\n",
              "    <tr>\n",
              "      <th>0</th>\n",
              "      <td>1</td>\n",
              "      <td>Toy Story (1995)</td>\n",
              "      <td>Animation|Children's|Comedy</td>\n",
              "    </tr>\n",
              "    <tr>\n",
              "      <th>1</th>\n",
              "      <td>2</td>\n",
              "      <td>Jumanji (1995)</td>\n",
              "      <td>Adventure|Children's|Fantasy</td>\n",
              "    </tr>\n",
              "    <tr>\n",
              "      <th>2</th>\n",
              "      <td>3</td>\n",
              "      <td>Grumpier Old Men (1995)</td>\n",
              "      <td>Comedy|Romance</td>\n",
              "    </tr>\n",
              "    <tr>\n",
              "      <th>3</th>\n",
              "      <td>4</td>\n",
              "      <td>Waiting to Exhale (1995)</td>\n",
              "      <td>Comedy|Drama</td>\n",
              "    </tr>\n",
              "    <tr>\n",
              "      <th>4</th>\n",
              "      <td>5</td>\n",
              "      <td>Father of the Bride Part II (1995)</td>\n",
              "      <td>Comedy</td>\n",
              "    </tr>\n",
              "  </tbody>\n",
              "</table>\n",
              "</div>\n",
              "      <button class=\"colab-df-convert\" onclick=\"convertToInteractive('df-b29d99e8-344a-41d0-b23e-85b96093b03a')\"\n",
              "              title=\"Convert this dataframe to an interactive table.\"\n",
              "              style=\"display:none;\">\n",
              "        \n",
              "  <svg xmlns=\"http://www.w3.org/2000/svg\" height=\"24px\"viewBox=\"0 0 24 24\"\n",
              "       width=\"24px\">\n",
              "    <path d=\"M0 0h24v24H0V0z\" fill=\"none\"/>\n",
              "    <path d=\"M18.56 5.44l.94 2.06.94-2.06 2.06-.94-2.06-.94-.94-2.06-.94 2.06-2.06.94zm-11 1L8.5 8.5l.94-2.06 2.06-.94-2.06-.94L8.5 2.5l-.94 2.06-2.06.94zm10 10l.94 2.06.94-2.06 2.06-.94-2.06-.94-.94-2.06-.94 2.06-2.06.94z\"/><path d=\"M17.41 7.96l-1.37-1.37c-.4-.4-.92-.59-1.43-.59-.52 0-1.04.2-1.43.59L10.3 9.45l-7.72 7.72c-.78.78-.78 2.05 0 2.83L4 21.41c.39.39.9.59 1.41.59.51 0 1.02-.2 1.41-.59l7.78-7.78 2.81-2.81c.8-.78.8-2.07 0-2.86zM5.41 20L4 18.59l7.72-7.72 1.47 1.35L5.41 20z\"/>\n",
              "  </svg>\n",
              "      </button>\n",
              "      \n",
              "  <style>\n",
              "    .colab-df-container {\n",
              "      display:flex;\n",
              "      flex-wrap:wrap;\n",
              "      gap: 12px;\n",
              "    }\n",
              "\n",
              "    .colab-df-convert {\n",
              "      background-color: #E8F0FE;\n",
              "      border: none;\n",
              "      border-radius: 50%;\n",
              "      cursor: pointer;\n",
              "      display: none;\n",
              "      fill: #1967D2;\n",
              "      height: 32px;\n",
              "      padding: 0 0 0 0;\n",
              "      width: 32px;\n",
              "    }\n",
              "\n",
              "    .colab-df-convert:hover {\n",
              "      background-color: #E2EBFA;\n",
              "      box-shadow: 0px 1px 2px rgba(60, 64, 67, 0.3), 0px 1px 3px 1px rgba(60, 64, 67, 0.15);\n",
              "      fill: #174EA6;\n",
              "    }\n",
              "\n",
              "    [theme=dark] .colab-df-convert {\n",
              "      background-color: #3B4455;\n",
              "      fill: #D2E3FC;\n",
              "    }\n",
              "\n",
              "    [theme=dark] .colab-df-convert:hover {\n",
              "      background-color: #434B5C;\n",
              "      box-shadow: 0px 1px 3px 1px rgba(0, 0, 0, 0.15);\n",
              "      filter: drop-shadow(0px 1px 2px rgba(0, 0, 0, 0.3));\n",
              "      fill: #FFFFFF;\n",
              "    }\n",
              "  </style>\n",
              "\n",
              "      <script>\n",
              "        const buttonEl =\n",
              "          document.querySelector('#df-b29d99e8-344a-41d0-b23e-85b96093b03a button.colab-df-convert');\n",
              "        buttonEl.style.display =\n",
              "          google.colab.kernel.accessAllowed ? 'block' : 'none';\n",
              "\n",
              "        async function convertToInteractive(key) {\n",
              "          const element = document.querySelector('#df-b29d99e8-344a-41d0-b23e-85b96093b03a');\n",
              "          const dataTable =\n",
              "            await google.colab.kernel.invokeFunction('convertToInteractive',\n",
              "                                                     [key], {});\n",
              "          if (!dataTable) return;\n",
              "\n",
              "          const docLinkHtml = 'Like what you see? Visit the ' +\n",
              "            '<a target=\"_blank\" href=https://colab.research.google.com/notebooks/data_table.ipynb>data table notebook</a>'\n",
              "            + ' to learn more about interactive tables.';\n",
              "          element.innerHTML = '';\n",
              "          dataTable['output_type'] = 'display_data';\n",
              "          await google.colab.output.renderOutput(dataTable, element);\n",
              "          const docLink = document.createElement('div');\n",
              "          docLink.innerHTML = docLinkHtml;\n",
              "          element.appendChild(docLink);\n",
              "        }\n",
              "      </script>\n",
              "    </div>\n",
              "  </div>\n",
              "  "
            ]
          },
          "metadata": {},
          "execution_count": 8
        }
      ]
    },
    {
      "cell_type": "code",
      "source": [
        "ratings=pd.read_csv('/content/ratings.dat',sep='::',header=None,names=ratings_cols, encoding='latin 1')\n",
        "ratings.head()"
      ],
      "metadata": {
        "colab": {
          "base_uri": "https://localhost:8080/",
          "height": 261
        },
        "id": "ht6Rcp1WqYES",
        "outputId": "5d894390-33d6-49fe-b2fa-94a57e9c5b6b"
      },
      "execution_count": 9,
      "outputs": [
        {
          "output_type": "stream",
          "name": "stderr",
          "text": [
            "/usr/local/lib/python3.7/dist-packages/pandas/util/_decorators.py:311: ParserWarning: Falling back to the 'python' engine because the 'c' engine does not support regex separators (separators > 1 char and different from '\\s+' are interpreted as regex); you can avoid this warning by specifying engine='python'.\n",
            "  return func(*args, **kwargs)\n"
          ]
        },
        {
          "output_type": "execute_result",
          "data": {
            "text/plain": [
              "   UserID  MovieID  Rating  Timestamp\n",
              "0       1     1193       5  978300760\n",
              "1       1      661       3  978302109\n",
              "2       1      914       3  978301968\n",
              "3       1     3408       4  978300275\n",
              "4       1     2355       5  978824291"
            ],
            "text/html": [
              "\n",
              "  <div id=\"df-99cba435-d02b-4306-acd2-e4a6da83c87a\">\n",
              "    <div class=\"colab-df-container\">\n",
              "      <div>\n",
              "<style scoped>\n",
              "    .dataframe tbody tr th:only-of-type {\n",
              "        vertical-align: middle;\n",
              "    }\n",
              "\n",
              "    .dataframe tbody tr th {\n",
              "        vertical-align: top;\n",
              "    }\n",
              "\n",
              "    .dataframe thead th {\n",
              "        text-align: right;\n",
              "    }\n",
              "</style>\n",
              "<table border=\"1\" class=\"dataframe\">\n",
              "  <thead>\n",
              "    <tr style=\"text-align: right;\">\n",
              "      <th></th>\n",
              "      <th>UserID</th>\n",
              "      <th>MovieID</th>\n",
              "      <th>Rating</th>\n",
              "      <th>Timestamp</th>\n",
              "    </tr>\n",
              "  </thead>\n",
              "  <tbody>\n",
              "    <tr>\n",
              "      <th>0</th>\n",
              "      <td>1</td>\n",
              "      <td>1193</td>\n",
              "      <td>5</td>\n",
              "      <td>978300760</td>\n",
              "    </tr>\n",
              "    <tr>\n",
              "      <th>1</th>\n",
              "      <td>1</td>\n",
              "      <td>661</td>\n",
              "      <td>3</td>\n",
              "      <td>978302109</td>\n",
              "    </tr>\n",
              "    <tr>\n",
              "      <th>2</th>\n",
              "      <td>1</td>\n",
              "      <td>914</td>\n",
              "      <td>3</td>\n",
              "      <td>978301968</td>\n",
              "    </tr>\n",
              "    <tr>\n",
              "      <th>3</th>\n",
              "      <td>1</td>\n",
              "      <td>3408</td>\n",
              "      <td>4</td>\n",
              "      <td>978300275</td>\n",
              "    </tr>\n",
              "    <tr>\n",
              "      <th>4</th>\n",
              "      <td>1</td>\n",
              "      <td>2355</td>\n",
              "      <td>5</td>\n",
              "      <td>978824291</td>\n",
              "    </tr>\n",
              "  </tbody>\n",
              "</table>\n",
              "</div>\n",
              "      <button class=\"colab-df-convert\" onclick=\"convertToInteractive('df-99cba435-d02b-4306-acd2-e4a6da83c87a')\"\n",
              "              title=\"Convert this dataframe to an interactive table.\"\n",
              "              style=\"display:none;\">\n",
              "        \n",
              "  <svg xmlns=\"http://www.w3.org/2000/svg\" height=\"24px\"viewBox=\"0 0 24 24\"\n",
              "       width=\"24px\">\n",
              "    <path d=\"M0 0h24v24H0V0z\" fill=\"none\"/>\n",
              "    <path d=\"M18.56 5.44l.94 2.06.94-2.06 2.06-.94-2.06-.94-.94-2.06-.94 2.06-2.06.94zm-11 1L8.5 8.5l.94-2.06 2.06-.94-2.06-.94L8.5 2.5l-.94 2.06-2.06.94zm10 10l.94 2.06.94-2.06 2.06-.94-2.06-.94-.94-2.06-.94 2.06-2.06.94z\"/><path d=\"M17.41 7.96l-1.37-1.37c-.4-.4-.92-.59-1.43-.59-.52 0-1.04.2-1.43.59L10.3 9.45l-7.72 7.72c-.78.78-.78 2.05 0 2.83L4 21.41c.39.39.9.59 1.41.59.51 0 1.02-.2 1.41-.59l7.78-7.78 2.81-2.81c.8-.78.8-2.07 0-2.86zM5.41 20L4 18.59l7.72-7.72 1.47 1.35L5.41 20z\"/>\n",
              "  </svg>\n",
              "      </button>\n",
              "      \n",
              "  <style>\n",
              "    .colab-df-container {\n",
              "      display:flex;\n",
              "      flex-wrap:wrap;\n",
              "      gap: 12px;\n",
              "    }\n",
              "\n",
              "    .colab-df-convert {\n",
              "      background-color: #E8F0FE;\n",
              "      border: none;\n",
              "      border-radius: 50%;\n",
              "      cursor: pointer;\n",
              "      display: none;\n",
              "      fill: #1967D2;\n",
              "      height: 32px;\n",
              "      padding: 0 0 0 0;\n",
              "      width: 32px;\n",
              "    }\n",
              "\n",
              "    .colab-df-convert:hover {\n",
              "      background-color: #E2EBFA;\n",
              "      box-shadow: 0px 1px 2px rgba(60, 64, 67, 0.3), 0px 1px 3px 1px rgba(60, 64, 67, 0.15);\n",
              "      fill: #174EA6;\n",
              "    }\n",
              "\n",
              "    [theme=dark] .colab-df-convert {\n",
              "      background-color: #3B4455;\n",
              "      fill: #D2E3FC;\n",
              "    }\n",
              "\n",
              "    [theme=dark] .colab-df-convert:hover {\n",
              "      background-color: #434B5C;\n",
              "      box-shadow: 0px 1px 3px 1px rgba(0, 0, 0, 0.15);\n",
              "      filter: drop-shadow(0px 1px 2px rgba(0, 0, 0, 0.3));\n",
              "      fill: #FFFFFF;\n",
              "    }\n",
              "  </style>\n",
              "\n",
              "      <script>\n",
              "        const buttonEl =\n",
              "          document.querySelector('#df-99cba435-d02b-4306-acd2-e4a6da83c87a button.colab-df-convert');\n",
              "        buttonEl.style.display =\n",
              "          google.colab.kernel.accessAllowed ? 'block' : 'none';\n",
              "\n",
              "        async function convertToInteractive(key) {\n",
              "          const element = document.querySelector('#df-99cba435-d02b-4306-acd2-e4a6da83c87a');\n",
              "          const dataTable =\n",
              "            await google.colab.kernel.invokeFunction('convertToInteractive',\n",
              "                                                     [key], {});\n",
              "          if (!dataTable) return;\n",
              "\n",
              "          const docLinkHtml = 'Like what you see? Visit the ' +\n",
              "            '<a target=\"_blank\" href=https://colab.research.google.com/notebooks/data_table.ipynb>data table notebook</a>'\n",
              "            + ' to learn more about interactive tables.';\n",
              "          element.innerHTML = '';\n",
              "          dataTable['output_type'] = 'display_data';\n",
              "          await google.colab.output.renderOutput(dataTable, element);\n",
              "          const docLink = document.createElement('div');\n",
              "          docLink.innerHTML = docLinkHtml;\n",
              "          element.appendChild(docLink);\n",
              "        }\n",
              "      </script>\n",
              "    </div>\n",
              "  </div>\n",
              "  "
            ]
          },
          "metadata": {},
          "execution_count": 9
        }
      ]
    },
    {
      "cell_type": "code",
      "source": [
        "users=pd.read_csv('/content/users.dat',sep='::',header=None,names=users_cols, encoding='latin 1')\n",
        "users.head()"
      ],
      "metadata": {
        "colab": {
          "base_uri": "https://localhost:8080/",
          "height": 261
        },
        "id": "K2_2gxIHqimR",
        "outputId": "e0c64c5a-afab-4dd0-cb38-abbd7d9aec1e"
      },
      "execution_count": 10,
      "outputs": [
        {
          "output_type": "stream",
          "name": "stderr",
          "text": [
            "/usr/local/lib/python3.7/dist-packages/pandas/util/_decorators.py:311: ParserWarning: Falling back to the 'python' engine because the 'c' engine does not support regex separators (separators > 1 char and different from '\\s+' are interpreted as regex); you can avoid this warning by specifying engine='python'.\n",
            "  return func(*args, **kwargs)\n"
          ]
        },
        {
          "output_type": "execute_result",
          "data": {
            "text/plain": [
              "   UserID Gender  Age  Occupation Zip-code\n",
              "0       1      F    1          10    48067\n",
              "1       2      M   56          16    70072\n",
              "2       3      M   25          15    55117\n",
              "3       4      M   45           7    02460\n",
              "4       5      M   25          20    55455"
            ],
            "text/html": [
              "\n",
              "  <div id=\"df-bab22929-1265-4b68-b8bc-ae99e0f5c788\">\n",
              "    <div class=\"colab-df-container\">\n",
              "      <div>\n",
              "<style scoped>\n",
              "    .dataframe tbody tr th:only-of-type {\n",
              "        vertical-align: middle;\n",
              "    }\n",
              "\n",
              "    .dataframe tbody tr th {\n",
              "        vertical-align: top;\n",
              "    }\n",
              "\n",
              "    .dataframe thead th {\n",
              "        text-align: right;\n",
              "    }\n",
              "</style>\n",
              "<table border=\"1\" class=\"dataframe\">\n",
              "  <thead>\n",
              "    <tr style=\"text-align: right;\">\n",
              "      <th></th>\n",
              "      <th>UserID</th>\n",
              "      <th>Gender</th>\n",
              "      <th>Age</th>\n",
              "      <th>Occupation</th>\n",
              "      <th>Zip-code</th>\n",
              "    </tr>\n",
              "  </thead>\n",
              "  <tbody>\n",
              "    <tr>\n",
              "      <th>0</th>\n",
              "      <td>1</td>\n",
              "      <td>F</td>\n",
              "      <td>1</td>\n",
              "      <td>10</td>\n",
              "      <td>48067</td>\n",
              "    </tr>\n",
              "    <tr>\n",
              "      <th>1</th>\n",
              "      <td>2</td>\n",
              "      <td>M</td>\n",
              "      <td>56</td>\n",
              "      <td>16</td>\n",
              "      <td>70072</td>\n",
              "    </tr>\n",
              "    <tr>\n",
              "      <th>2</th>\n",
              "      <td>3</td>\n",
              "      <td>M</td>\n",
              "      <td>25</td>\n",
              "      <td>15</td>\n",
              "      <td>55117</td>\n",
              "    </tr>\n",
              "    <tr>\n",
              "      <th>3</th>\n",
              "      <td>4</td>\n",
              "      <td>M</td>\n",
              "      <td>45</td>\n",
              "      <td>7</td>\n",
              "      <td>02460</td>\n",
              "    </tr>\n",
              "    <tr>\n",
              "      <th>4</th>\n",
              "      <td>5</td>\n",
              "      <td>M</td>\n",
              "      <td>25</td>\n",
              "      <td>20</td>\n",
              "      <td>55455</td>\n",
              "    </tr>\n",
              "  </tbody>\n",
              "</table>\n",
              "</div>\n",
              "      <button class=\"colab-df-convert\" onclick=\"convertToInteractive('df-bab22929-1265-4b68-b8bc-ae99e0f5c788')\"\n",
              "              title=\"Convert this dataframe to an interactive table.\"\n",
              "              style=\"display:none;\">\n",
              "        \n",
              "  <svg xmlns=\"http://www.w3.org/2000/svg\" height=\"24px\"viewBox=\"0 0 24 24\"\n",
              "       width=\"24px\">\n",
              "    <path d=\"M0 0h24v24H0V0z\" fill=\"none\"/>\n",
              "    <path d=\"M18.56 5.44l.94 2.06.94-2.06 2.06-.94-2.06-.94-.94-2.06-.94 2.06-2.06.94zm-11 1L8.5 8.5l.94-2.06 2.06-.94-2.06-.94L8.5 2.5l-.94 2.06-2.06.94zm10 10l.94 2.06.94-2.06 2.06-.94-2.06-.94-.94-2.06-.94 2.06-2.06.94z\"/><path d=\"M17.41 7.96l-1.37-1.37c-.4-.4-.92-.59-1.43-.59-.52 0-1.04.2-1.43.59L10.3 9.45l-7.72 7.72c-.78.78-.78 2.05 0 2.83L4 21.41c.39.39.9.59 1.41.59.51 0 1.02-.2 1.41-.59l7.78-7.78 2.81-2.81c.8-.78.8-2.07 0-2.86zM5.41 20L4 18.59l7.72-7.72 1.47 1.35L5.41 20z\"/>\n",
              "  </svg>\n",
              "      </button>\n",
              "      \n",
              "  <style>\n",
              "    .colab-df-container {\n",
              "      display:flex;\n",
              "      flex-wrap:wrap;\n",
              "      gap: 12px;\n",
              "    }\n",
              "\n",
              "    .colab-df-convert {\n",
              "      background-color: #E8F0FE;\n",
              "      border: none;\n",
              "      border-radius: 50%;\n",
              "      cursor: pointer;\n",
              "      display: none;\n",
              "      fill: #1967D2;\n",
              "      height: 32px;\n",
              "      padding: 0 0 0 0;\n",
              "      width: 32px;\n",
              "    }\n",
              "\n",
              "    .colab-df-convert:hover {\n",
              "      background-color: #E2EBFA;\n",
              "      box-shadow: 0px 1px 2px rgba(60, 64, 67, 0.3), 0px 1px 3px 1px rgba(60, 64, 67, 0.15);\n",
              "      fill: #174EA6;\n",
              "    }\n",
              "\n",
              "    [theme=dark] .colab-df-convert {\n",
              "      background-color: #3B4455;\n",
              "      fill: #D2E3FC;\n",
              "    }\n",
              "\n",
              "    [theme=dark] .colab-df-convert:hover {\n",
              "      background-color: #434B5C;\n",
              "      box-shadow: 0px 1px 3px 1px rgba(0, 0, 0, 0.15);\n",
              "      filter: drop-shadow(0px 1px 2px rgba(0, 0, 0, 0.3));\n",
              "      fill: #FFFFFF;\n",
              "    }\n",
              "  </style>\n",
              "\n",
              "      <script>\n",
              "        const buttonEl =\n",
              "          document.querySelector('#df-bab22929-1265-4b68-b8bc-ae99e0f5c788 button.colab-df-convert');\n",
              "        buttonEl.style.display =\n",
              "          google.colab.kernel.accessAllowed ? 'block' : 'none';\n",
              "\n",
              "        async function convertToInteractive(key) {\n",
              "          const element = document.querySelector('#df-bab22929-1265-4b68-b8bc-ae99e0f5c788');\n",
              "          const dataTable =\n",
              "            await google.colab.kernel.invokeFunction('convertToInteractive',\n",
              "                                                     [key], {});\n",
              "          if (!dataTable) return;\n",
              "\n",
              "          const docLinkHtml = 'Like what you see? Visit the ' +\n",
              "            '<a target=\"_blank\" href=https://colab.research.google.com/notebooks/data_table.ipynb>data table notebook</a>'\n",
              "            + ' to learn more about interactive tables.';\n",
              "          element.innerHTML = '';\n",
              "          dataTable['output_type'] = 'display_data';\n",
              "          await google.colab.output.renderOutput(dataTable, element);\n",
              "          const docLink = document.createElement('div');\n",
              "          docLink.innerHTML = docLinkHtml;\n",
              "          element.appendChild(docLink);\n",
              "        }\n",
              "      </script>\n",
              "    </div>\n",
              "  </div>\n",
              "  "
            ]
          },
          "metadata": {},
          "execution_count": 10
        }
      ]
    },
    {
      "cell_type": "code",
      "source": [
        "print(f'Ukuran Data Movies : {movies.shape}')\n",
        "print(f'Ukuran Data ratings : {ratings.shape}')\n",
        "print(f'Ukuran Data users : {users.shape}')"
      ],
      "metadata": {
        "colab": {
          "base_uri": "https://localhost:8080/"
        },
        "id": "HeMp3EqErMo5",
        "outputId": "0cb9cec6-b9b6-4be4-c02b-2cc38a4947cc"
      },
      "execution_count": 11,
      "outputs": [
        {
          "output_type": "stream",
          "name": "stdout",
          "text": [
            "Ukuran Data Movies : (3883, 3)\n",
            "Ukuran Data ratings : (1000209, 4)\n",
            "Ukuran Data users : (6040, 5)\n"
          ]
        }
      ]
    },
    {
      "cell_type": "code",
      "source": [
        "movies.info()"
      ],
      "metadata": {
        "colab": {
          "base_uri": "https://localhost:8080/"
        },
        "id": "a0e-uBonr7-b",
        "outputId": "5ecff492-7d33-4834-fd3d-097f65f0e74c"
      },
      "execution_count": 12,
      "outputs": [
        {
          "output_type": "stream",
          "name": "stdout",
          "text": [
            "<class 'pandas.core.frame.DataFrame'>\n",
            "RangeIndex: 3883 entries, 0 to 3882\n",
            "Data columns (total 3 columns):\n",
            " #   Column   Non-Null Count  Dtype \n",
            "---  ------   --------------  ----- \n",
            " 0   MovieID  3883 non-null   int64 \n",
            " 1   Title    3883 non-null   object\n",
            " 2   Genres   3883 non-null   object\n",
            "dtypes: int64(1), object(2)\n",
            "memory usage: 91.1+ KB\n"
          ]
        }
      ]
    },
    {
      "cell_type": "code",
      "source": [
        "ratings.info()"
      ],
      "metadata": {
        "colab": {
          "base_uri": "https://localhost:8080/"
        },
        "id": "0gpZK5tcsTux",
        "outputId": "d68711bc-2c55-4b3a-f3c7-ae77ec49dbac"
      },
      "execution_count": 13,
      "outputs": [
        {
          "output_type": "stream",
          "name": "stdout",
          "text": [
            "<class 'pandas.core.frame.DataFrame'>\n",
            "RangeIndex: 1000209 entries, 0 to 1000208\n",
            "Data columns (total 4 columns):\n",
            " #   Column     Non-Null Count    Dtype\n",
            "---  ------     --------------    -----\n",
            " 0   UserID     1000209 non-null  int64\n",
            " 1   MovieID    1000209 non-null  int64\n",
            " 2   Rating     1000209 non-null  int64\n",
            " 3   Timestamp  1000209 non-null  int64\n",
            "dtypes: int64(4)\n",
            "memory usage: 30.5 MB\n"
          ]
        }
      ]
    },
    {
      "cell_type": "markdown",
      "source": [
        "Dari code diatas dapat diketahui ukuran data untuk **movies** adalah 3883 x 3 dan ratings adalah 1000209 x 4. ini ukuran data yang cukup besar. dan untuk mengetahui _unique_ pada masing-masing features rating, dapat menjalankan kode berikut:"
      ],
      "metadata": {
        "id": "2Fmp7zxFPb_i"
      }
    },
    {
      "cell_type": "code",
      "source": [
        "users.info()"
      ],
      "metadata": {
        "colab": {
          "base_uri": "https://localhost:8080/"
        },
        "id": "jsfJPg3ksYG1",
        "outputId": "e7dd044a-b3f4-4b70-fa65-ae0952931626"
      },
      "execution_count": 14,
      "outputs": [
        {
          "output_type": "stream",
          "name": "stdout",
          "text": [
            "<class 'pandas.core.frame.DataFrame'>\n",
            "RangeIndex: 6040 entries, 0 to 6039\n",
            "Data columns (total 5 columns):\n",
            " #   Column      Non-Null Count  Dtype \n",
            "---  ------      --------------  ----- \n",
            " 0   UserID      6040 non-null   int64 \n",
            " 1   Gender      6040 non-null   object\n",
            " 2   Age         6040 non-null   int64 \n",
            " 3   Occupation  6040 non-null   int64 \n",
            " 4   Zip-code    6040 non-null   object\n",
            "dtypes: int64(3), object(2)\n",
            "memory usage: 236.1+ KB\n"
          ]
        }
      ]
    },
    {
      "cell_type": "markdown",
      "source": [
        "## Exploratory Data Analysis\n",
        "### Univariate Exploratory Data Analysis\n",
        "Pada proses ini saya akan mencari kode unik pada masing-masing fitur dengan menjalankan kode berikut:"
      ],
      "metadata": {
        "id": "4cW6T55HsmI-"
      }
    },
    {
      "cell_type": "code",
      "source": [
        " # Jumlah user\n",
        "print('ratings dataset mempunyai', ratings['UserID'].nunique(), 'unique users')\n",
        "# jumlah film\n",
        "print('ratings dataset mempunyai', ratings['MovieID'].nunique(), 'unique movies')\n",
        "# jumlah ratings\n",
        "print('ratings dataset mempunyai', ratings['Rating'].nunique(), 'unique ratings')\n",
        "# List dari unique ratings\n",
        "print('unique ratings terdiri dari', sorted(ratings['Rating'].unique()))"
      ],
      "metadata": {
        "colab": {
          "base_uri": "https://localhost:8080/"
        },
        "id": "_Q8E4OiVsnlK",
        "outputId": "962940fa-315f-41d5-a3cb-16ed5bbed4dd"
      },
      "execution_count": 15,
      "outputs": [
        {
          "output_type": "stream",
          "name": "stdout",
          "text": [
            "ratings dataset mempunyai 6040 unique users\n",
            "ratings dataset mempunyai 3706 unique movies\n",
            "ratings dataset mempunyai 5 unique ratings\n",
            "unique ratings terdiri dari [1, 2, 3, 4, 5]\n"
          ]
        }
      ]
    },
    {
      "cell_type": "code",
      "source": [
        "print('jumlah kategori pada gender: ',len(users['Gender'].unique()))\n",
        "print('kategori pada gender: ',users['Gender'].unique())\n",
        "\n",
        "print('jumlah unik umur: ',len(users['Age'].unique()))\n",
        "print('unik umur: ',sorted(users['Age'].unique()))\n",
        "\n",
        "print('jumlah unik pekerjaan: ',len(users['Occupation'].unique()))\n",
        "print('kategori pada Occupation: ',sorted(users['Occupation'].unique()))"
      ],
      "metadata": {
        "colab": {
          "base_uri": "https://localhost:8080/"
        },
        "id": "CFI4wh4xsHn-",
        "outputId": "0f0d53e9-cddf-4e83-e976-c0ed89906b5f"
      },
      "execution_count": 16,
      "outputs": [
        {
          "output_type": "stream",
          "name": "stdout",
          "text": [
            "jumlah kategori pada gender:  2\n",
            "kategori pada gender:  ['F' 'M']\n",
            "jumlah unik umur:  7\n",
            "unik umur:  [1, 18, 25, 35, 45, 50, 56]\n",
            "jumlah unik pekerjaan:  21\n",
            "kategori pada Occupation:  [0, 1, 2, 3, 4, 5, 6, 7, 8, 9, 10, 11, 12, 13, 14, 15, 16, 17, 18, 19, 20]\n"
          ]
        }
      ]
    },
    {
      "cell_type": "markdown",
      "source": [
        "\n",
        "Selanjutnya saya akan melakukan Explorasi lebih dalam mengenai dataset `movieslens`. Agar dataset tidak mengalami perubahan saat membuat sistem rekomendasi nanti, jadi saya mencopy datanya ke variabel lain. "
      ],
      "metadata": {
        "id": "5rCHtdNV0bWw"
      }
    },
    {
      "cell_type": "code",
      "source": [
        "movies2 = movies.copy()\n",
        "movies2.head()"
      ],
      "metadata": {
        "colab": {
          "base_uri": "https://localhost:8080/",
          "height": 206
        },
        "id": "21ICh5KO0Zgg",
        "outputId": "d00a7cb8-9b14-455c-f338-3767417201ec"
      },
      "execution_count": 17,
      "outputs": [
        {
          "output_type": "execute_result",
          "data": {
            "text/plain": [
              "   MovieID                               Title                        Genres\n",
              "0        1                    Toy Story (1995)   Animation|Children's|Comedy\n",
              "1        2                      Jumanji (1995)  Adventure|Children's|Fantasy\n",
              "2        3             Grumpier Old Men (1995)                Comedy|Romance\n",
              "3        4            Waiting to Exhale (1995)                  Comedy|Drama\n",
              "4        5  Father of the Bride Part II (1995)                        Comedy"
            ],
            "text/html": [
              "\n",
              "  <div id=\"df-955a8986-bbb5-416c-861a-3fbf38938b03\">\n",
              "    <div class=\"colab-df-container\">\n",
              "      <div>\n",
              "<style scoped>\n",
              "    .dataframe tbody tr th:only-of-type {\n",
              "        vertical-align: middle;\n",
              "    }\n",
              "\n",
              "    .dataframe tbody tr th {\n",
              "        vertical-align: top;\n",
              "    }\n",
              "\n",
              "    .dataframe thead th {\n",
              "        text-align: right;\n",
              "    }\n",
              "</style>\n",
              "<table border=\"1\" class=\"dataframe\">\n",
              "  <thead>\n",
              "    <tr style=\"text-align: right;\">\n",
              "      <th></th>\n",
              "      <th>MovieID</th>\n",
              "      <th>Title</th>\n",
              "      <th>Genres</th>\n",
              "    </tr>\n",
              "  </thead>\n",
              "  <tbody>\n",
              "    <tr>\n",
              "      <th>0</th>\n",
              "      <td>1</td>\n",
              "      <td>Toy Story (1995)</td>\n",
              "      <td>Animation|Children's|Comedy</td>\n",
              "    </tr>\n",
              "    <tr>\n",
              "      <th>1</th>\n",
              "      <td>2</td>\n",
              "      <td>Jumanji (1995)</td>\n",
              "      <td>Adventure|Children's|Fantasy</td>\n",
              "    </tr>\n",
              "    <tr>\n",
              "      <th>2</th>\n",
              "      <td>3</td>\n",
              "      <td>Grumpier Old Men (1995)</td>\n",
              "      <td>Comedy|Romance</td>\n",
              "    </tr>\n",
              "    <tr>\n",
              "      <th>3</th>\n",
              "      <td>4</td>\n",
              "      <td>Waiting to Exhale (1995)</td>\n",
              "      <td>Comedy|Drama</td>\n",
              "    </tr>\n",
              "    <tr>\n",
              "      <th>4</th>\n",
              "      <td>5</td>\n",
              "      <td>Father of the Bride Part II (1995)</td>\n",
              "      <td>Comedy</td>\n",
              "    </tr>\n",
              "  </tbody>\n",
              "</table>\n",
              "</div>\n",
              "      <button class=\"colab-df-convert\" onclick=\"convertToInteractive('df-955a8986-bbb5-416c-861a-3fbf38938b03')\"\n",
              "              title=\"Convert this dataframe to an interactive table.\"\n",
              "              style=\"display:none;\">\n",
              "        \n",
              "  <svg xmlns=\"http://www.w3.org/2000/svg\" height=\"24px\"viewBox=\"0 0 24 24\"\n",
              "       width=\"24px\">\n",
              "    <path d=\"M0 0h24v24H0V0z\" fill=\"none\"/>\n",
              "    <path d=\"M18.56 5.44l.94 2.06.94-2.06 2.06-.94-2.06-.94-.94-2.06-.94 2.06-2.06.94zm-11 1L8.5 8.5l.94-2.06 2.06-.94-2.06-.94L8.5 2.5l-.94 2.06-2.06.94zm10 10l.94 2.06.94-2.06 2.06-.94-2.06-.94-.94-2.06-.94 2.06-2.06.94z\"/><path d=\"M17.41 7.96l-1.37-1.37c-.4-.4-.92-.59-1.43-.59-.52 0-1.04.2-1.43.59L10.3 9.45l-7.72 7.72c-.78.78-.78 2.05 0 2.83L4 21.41c.39.39.9.59 1.41.59.51 0 1.02-.2 1.41-.59l7.78-7.78 2.81-2.81c.8-.78.8-2.07 0-2.86zM5.41 20L4 18.59l7.72-7.72 1.47 1.35L5.41 20z\"/>\n",
              "  </svg>\n",
              "      </button>\n",
              "      \n",
              "  <style>\n",
              "    .colab-df-container {\n",
              "      display:flex;\n",
              "      flex-wrap:wrap;\n",
              "      gap: 12px;\n",
              "    }\n",
              "\n",
              "    .colab-df-convert {\n",
              "      background-color: #E8F0FE;\n",
              "      border: none;\n",
              "      border-radius: 50%;\n",
              "      cursor: pointer;\n",
              "      display: none;\n",
              "      fill: #1967D2;\n",
              "      height: 32px;\n",
              "      padding: 0 0 0 0;\n",
              "      width: 32px;\n",
              "    }\n",
              "\n",
              "    .colab-df-convert:hover {\n",
              "      background-color: #E2EBFA;\n",
              "      box-shadow: 0px 1px 2px rgba(60, 64, 67, 0.3), 0px 1px 3px 1px rgba(60, 64, 67, 0.15);\n",
              "      fill: #174EA6;\n",
              "    }\n",
              "\n",
              "    [theme=dark] .colab-df-convert {\n",
              "      background-color: #3B4455;\n",
              "      fill: #D2E3FC;\n",
              "    }\n",
              "\n",
              "    [theme=dark] .colab-df-convert:hover {\n",
              "      background-color: #434B5C;\n",
              "      box-shadow: 0px 1px 3px 1px rgba(0, 0, 0, 0.15);\n",
              "      filter: drop-shadow(0px 1px 2px rgba(0, 0, 0, 0.3));\n",
              "      fill: #FFFFFF;\n",
              "    }\n",
              "  </style>\n",
              "\n",
              "      <script>\n",
              "        const buttonEl =\n",
              "          document.querySelector('#df-955a8986-bbb5-416c-861a-3fbf38938b03 button.colab-df-convert');\n",
              "        buttonEl.style.display =\n",
              "          google.colab.kernel.accessAllowed ? 'block' : 'none';\n",
              "\n",
              "        async function convertToInteractive(key) {\n",
              "          const element = document.querySelector('#df-955a8986-bbb5-416c-861a-3fbf38938b03');\n",
              "          const dataTable =\n",
              "            await google.colab.kernel.invokeFunction('convertToInteractive',\n",
              "                                                     [key], {});\n",
              "          if (!dataTable) return;\n",
              "\n",
              "          const docLinkHtml = 'Like what you see? Visit the ' +\n",
              "            '<a target=\"_blank\" href=https://colab.research.google.com/notebooks/data_table.ipynb>data table notebook</a>'\n",
              "            + ' to learn more about interactive tables.';\n",
              "          element.innerHTML = '';\n",
              "          dataTable['output_type'] = 'display_data';\n",
              "          await google.colab.output.renderOutput(dataTable, element);\n",
              "          const docLink = document.createElement('div');\n",
              "          docLink.innerHTML = docLinkHtml;\n",
              "          element.appendChild(docLink);\n",
              "        }\n",
              "      </script>\n",
              "    </div>\n",
              "  </div>\n",
              "  "
            ]
          },
          "metadata": {},
          "execution_count": 17
        }
      ]
    },
    {
      "cell_type": "markdown",
      "source": [
        "Untuk kode dibawah ini, saya memunculkan seluruh kategori pada features `Genres` "
      ],
      "metadata": {
        "id": "rX1gdu3g03GO"
      }
    },
    {
      "cell_type": "code",
      "source": [
        "genre_labels = set()\n",
        "for s in movies2['Genres'].str.split('|').values:\n",
        "    genre_labels = genre_labels.union(set(s))\n",
        "print(len(genre_labels))\n",
        "genre_labels"
      ],
      "metadata": {
        "id": "z2aHWXqy03km",
        "colab": {
          "base_uri": "https://localhost:8080/"
        },
        "outputId": "68bd4132-d740-4496-db42-85a0e0c4767d"
      },
      "execution_count": 18,
      "outputs": [
        {
          "output_type": "stream",
          "name": "stdout",
          "text": [
            "18\n"
          ]
        },
        {
          "output_type": "execute_result",
          "data": {
            "text/plain": [
              "{'Action',\n",
              " 'Adventure',\n",
              " 'Animation',\n",
              " \"Children's\",\n",
              " 'Comedy',\n",
              " 'Crime',\n",
              " 'Documentary',\n",
              " 'Drama',\n",
              " 'Fantasy',\n",
              " 'Film-Noir',\n",
              " 'Horror',\n",
              " 'Musical',\n",
              " 'Mystery',\n",
              " 'Romance',\n",
              " 'Sci-Fi',\n",
              " 'Thriller',\n",
              " 'War',\n",
              " 'Western'}"
            ]
          },
          "metadata": {},
          "execution_count": 18
        }
      ]
    },
    {
      "cell_type": "markdown",
      "source": [
        "Fungsi ini akan mengitung jumlah film pada masing-masing kategori di features `Genres`"
      ],
      "metadata": {
        "id": "nyEUnvWdUshx"
      }
    },
    {
      "cell_type": "code",
      "source": [
        "def countWord(dataset, ref_col, sensus):\n",
        "    countKeywords = dict()\n",
        "    for s in sensus: \n",
        "        countKeywords[s] = 0\n",
        "    for sensus_keywords in dataset[ref_col].str.split('|'):        \n",
        "        if type(sensus_keywords) == float and pd.isnull(sensus_keywords): \n",
        "            continue        \n",
        "        for s in [s for s in sensus_keywords if s in sensus]: \n",
        "            if pd.notnull(s): \n",
        "                countKeywords[s] += 1\n",
        "    keywordOccurences = []\n",
        "    for k,v in countKeywords.items():\n",
        "        keywordOccurences.append([k,v])\n",
        "    keywordOccurences.sort(key = lambda x:x[1], reverse = True)\n",
        "    return keywordOccurences, countKeywords"
      ],
      "metadata": {
        "id": "-O1V9rBt2OX7"
      },
      "execution_count": 19,
      "outputs": []
    },
    {
      "cell_type": "code",
      "source": [
        "keyword_occurences, dum = countWord(movies2, 'Genres', genre_labels)\n",
        "keyword_occurences"
      ],
      "metadata": {
        "colab": {
          "base_uri": "https://localhost:8080/"
        },
        "id": "fXxFgAyG3DvK",
        "outputId": "23bd4bf3-871c-4cf4-ac17-e8ea6ed37bf2"
      },
      "execution_count": 20,
      "outputs": [
        {
          "output_type": "execute_result",
          "data": {
            "text/plain": [
              "[['Drama', 1603],\n",
              " ['Comedy', 1200],\n",
              " ['Action', 503],\n",
              " ['Thriller', 492],\n",
              " ['Romance', 471],\n",
              " ['Horror', 343],\n",
              " ['Adventure', 283],\n",
              " ['Sci-Fi', 276],\n",
              " [\"Children's\", 251],\n",
              " ['Crime', 211],\n",
              " ['War', 143],\n",
              " ['Documentary', 127],\n",
              " ['Musical', 114],\n",
              " ['Mystery', 106],\n",
              " ['Animation', 105],\n",
              " ['Fantasy', 68],\n",
              " ['Western', 68],\n",
              " ['Film-Noir', 44]]"
            ]
          },
          "metadata": {},
          "execution_count": 20
        }
      ]
    },
    {
      "cell_type": "markdown",
      "source": [
        "Dari kode diatas, dapat dianalisa bahwa banyak film dengan genre **Drama** dan **comedy** pada dataset ini."
      ],
      "metadata": {
        "id": "S0eyiwNKW1DF"
      }
    },
    {
      "cell_type": "markdown",
      "source": [
        "### Bivariate Data Analysis\n",
        "Sebelum menggunakan data untuk sistem rekomendasi. saya melakukan eksplorasi pada data terlebih dahulu. pertama-tama saya akan melakukan _merge_ pada dataset **movies**, **rating** dan users ke dalam variabel `merge_on_movieid`."
      ],
      "metadata": {
        "id": "BWwvrk3l1ypn"
      }
    },
    {
      "cell_type": "code",
      "source": [
        "merge_on_movieid = pd.merge(movies,ratings,on = 'MovieID').reset_index(drop = True)\n",
        "merge_on_movieid.head()"
      ],
      "metadata": {
        "colab": {
          "base_uri": "https://localhost:8080/",
          "height": 250
        },
        "id": "idaNj8yPq8yT",
        "outputId": "868ada44-8464-43db-91e9-98486b62b3e6"
      },
      "execution_count": 21,
      "outputs": [
        {
          "output_type": "execute_result",
          "data": {
            "text/plain": [
              "   MovieID             Title                       Genres  UserID  Rating  \\\n",
              "0        1  Toy Story (1995)  Animation|Children's|Comedy       1       5   \n",
              "1        1  Toy Story (1995)  Animation|Children's|Comedy       6       4   \n",
              "2        1  Toy Story (1995)  Animation|Children's|Comedy       8       4   \n",
              "3        1  Toy Story (1995)  Animation|Children's|Comedy       9       5   \n",
              "4        1  Toy Story (1995)  Animation|Children's|Comedy      10       5   \n",
              "\n",
              "   Timestamp  \n",
              "0  978824268  \n",
              "1  978237008  \n",
              "2  978233496  \n",
              "3  978225952  \n",
              "4  978226474  "
            ],
            "text/html": [
              "\n",
              "  <div id=\"df-6bc01015-057e-4601-ab91-2c03c21a44c5\">\n",
              "    <div class=\"colab-df-container\">\n",
              "      <div>\n",
              "<style scoped>\n",
              "    .dataframe tbody tr th:only-of-type {\n",
              "        vertical-align: middle;\n",
              "    }\n",
              "\n",
              "    .dataframe tbody tr th {\n",
              "        vertical-align: top;\n",
              "    }\n",
              "\n",
              "    .dataframe thead th {\n",
              "        text-align: right;\n",
              "    }\n",
              "</style>\n",
              "<table border=\"1\" class=\"dataframe\">\n",
              "  <thead>\n",
              "    <tr style=\"text-align: right;\">\n",
              "      <th></th>\n",
              "      <th>MovieID</th>\n",
              "      <th>Title</th>\n",
              "      <th>Genres</th>\n",
              "      <th>UserID</th>\n",
              "      <th>Rating</th>\n",
              "      <th>Timestamp</th>\n",
              "    </tr>\n",
              "  </thead>\n",
              "  <tbody>\n",
              "    <tr>\n",
              "      <th>0</th>\n",
              "      <td>1</td>\n",
              "      <td>Toy Story (1995)</td>\n",
              "      <td>Animation|Children's|Comedy</td>\n",
              "      <td>1</td>\n",
              "      <td>5</td>\n",
              "      <td>978824268</td>\n",
              "    </tr>\n",
              "    <tr>\n",
              "      <th>1</th>\n",
              "      <td>1</td>\n",
              "      <td>Toy Story (1995)</td>\n",
              "      <td>Animation|Children's|Comedy</td>\n",
              "      <td>6</td>\n",
              "      <td>4</td>\n",
              "      <td>978237008</td>\n",
              "    </tr>\n",
              "    <tr>\n",
              "      <th>2</th>\n",
              "      <td>1</td>\n",
              "      <td>Toy Story (1995)</td>\n",
              "      <td>Animation|Children's|Comedy</td>\n",
              "      <td>8</td>\n",
              "      <td>4</td>\n",
              "      <td>978233496</td>\n",
              "    </tr>\n",
              "    <tr>\n",
              "      <th>3</th>\n",
              "      <td>1</td>\n",
              "      <td>Toy Story (1995)</td>\n",
              "      <td>Animation|Children's|Comedy</td>\n",
              "      <td>9</td>\n",
              "      <td>5</td>\n",
              "      <td>978225952</td>\n",
              "    </tr>\n",
              "    <tr>\n",
              "      <th>4</th>\n",
              "      <td>1</td>\n",
              "      <td>Toy Story (1995)</td>\n",
              "      <td>Animation|Children's|Comedy</td>\n",
              "      <td>10</td>\n",
              "      <td>5</td>\n",
              "      <td>978226474</td>\n",
              "    </tr>\n",
              "  </tbody>\n",
              "</table>\n",
              "</div>\n",
              "      <button class=\"colab-df-convert\" onclick=\"convertToInteractive('df-6bc01015-057e-4601-ab91-2c03c21a44c5')\"\n",
              "              title=\"Convert this dataframe to an interactive table.\"\n",
              "              style=\"display:none;\">\n",
              "        \n",
              "  <svg xmlns=\"http://www.w3.org/2000/svg\" height=\"24px\"viewBox=\"0 0 24 24\"\n",
              "       width=\"24px\">\n",
              "    <path d=\"M0 0h24v24H0V0z\" fill=\"none\"/>\n",
              "    <path d=\"M18.56 5.44l.94 2.06.94-2.06 2.06-.94-2.06-.94-.94-2.06-.94 2.06-2.06.94zm-11 1L8.5 8.5l.94-2.06 2.06-.94-2.06-.94L8.5 2.5l-.94 2.06-2.06.94zm10 10l.94 2.06.94-2.06 2.06-.94-2.06-.94-.94-2.06-.94 2.06-2.06.94z\"/><path d=\"M17.41 7.96l-1.37-1.37c-.4-.4-.92-.59-1.43-.59-.52 0-1.04.2-1.43.59L10.3 9.45l-7.72 7.72c-.78.78-.78 2.05 0 2.83L4 21.41c.39.39.9.59 1.41.59.51 0 1.02-.2 1.41-.59l7.78-7.78 2.81-2.81c.8-.78.8-2.07 0-2.86zM5.41 20L4 18.59l7.72-7.72 1.47 1.35L5.41 20z\"/>\n",
              "  </svg>\n",
              "      </button>\n",
              "      \n",
              "  <style>\n",
              "    .colab-df-container {\n",
              "      display:flex;\n",
              "      flex-wrap:wrap;\n",
              "      gap: 12px;\n",
              "    }\n",
              "\n",
              "    .colab-df-convert {\n",
              "      background-color: #E8F0FE;\n",
              "      border: none;\n",
              "      border-radius: 50%;\n",
              "      cursor: pointer;\n",
              "      display: none;\n",
              "      fill: #1967D2;\n",
              "      height: 32px;\n",
              "      padding: 0 0 0 0;\n",
              "      width: 32px;\n",
              "    }\n",
              "\n",
              "    .colab-df-convert:hover {\n",
              "      background-color: #E2EBFA;\n",
              "      box-shadow: 0px 1px 2px rgba(60, 64, 67, 0.3), 0px 1px 3px 1px rgba(60, 64, 67, 0.15);\n",
              "      fill: #174EA6;\n",
              "    }\n",
              "\n",
              "    [theme=dark] .colab-df-convert {\n",
              "      background-color: #3B4455;\n",
              "      fill: #D2E3FC;\n",
              "    }\n",
              "\n",
              "    [theme=dark] .colab-df-convert:hover {\n",
              "      background-color: #434B5C;\n",
              "      box-shadow: 0px 1px 3px 1px rgba(0, 0, 0, 0.15);\n",
              "      filter: drop-shadow(0px 1px 2px rgba(0, 0, 0, 0.3));\n",
              "      fill: #FFFFFF;\n",
              "    }\n",
              "  </style>\n",
              "\n",
              "      <script>\n",
              "        const buttonEl =\n",
              "          document.querySelector('#df-6bc01015-057e-4601-ab91-2c03c21a44c5 button.colab-df-convert');\n",
              "        buttonEl.style.display =\n",
              "          google.colab.kernel.accessAllowed ? 'block' : 'none';\n",
              "\n",
              "        async function convertToInteractive(key) {\n",
              "          const element = document.querySelector('#df-6bc01015-057e-4601-ab91-2c03c21a44c5');\n",
              "          const dataTable =\n",
              "            await google.colab.kernel.invokeFunction('convertToInteractive',\n",
              "                                                     [key], {});\n",
              "          if (!dataTable) return;\n",
              "\n",
              "          const docLinkHtml = 'Like what you see? Visit the ' +\n",
              "            '<a target=\"_blank\" href=https://colab.research.google.com/notebooks/data_table.ipynb>data table notebook</a>'\n",
              "            + ' to learn more about interactive tables.';\n",
              "          element.innerHTML = '';\n",
              "          dataTable['output_type'] = 'display_data';\n",
              "          await google.colab.output.renderOutput(dataTable, element);\n",
              "          const docLink = document.createElement('div');\n",
              "          docLink.innerHTML = docLinkHtml;\n",
              "          element.appendChild(docLink);\n",
              "        }\n",
              "      </script>\n",
              "    </div>\n",
              "  </div>\n",
              "  "
            ]
          },
          "metadata": {},
          "execution_count": 21
        }
      ]
    },
    {
      "cell_type": "code",
      "source": [
        "merge_on_userid = pd.merge(merge_on_movieid, users, on = 'UserID').reset_index(drop = True)\n",
        "merge_on_userid.head()"
      ],
      "metadata": {
        "colab": {
          "base_uri": "https://localhost:8080/",
          "height": 426
        },
        "id": "zCPbDViXra9F",
        "outputId": "aa518438-60d8-4331-c207-a480e9cb114a"
      },
      "execution_count": 22,
      "outputs": [
        {
          "output_type": "execute_result",
          "data": {
            "text/plain": [
              "   MovieID                                      Title  \\\n",
              "0        1                           Toy Story (1995)   \n",
              "1       48                          Pocahontas (1995)   \n",
              "2      150                           Apollo 13 (1995)   \n",
              "3      260  Star Wars: Episode IV - A New Hope (1977)   \n",
              "4      527                    Schindler's List (1993)   \n",
              "\n",
              "                                 Genres  UserID  Rating  Timestamp Gender  \\\n",
              "0           Animation|Children's|Comedy       1       5  978824268      F   \n",
              "1  Animation|Children's|Musical|Romance       1       5  978824351      F   \n",
              "2                                 Drama       1       5  978301777      F   \n",
              "3       Action|Adventure|Fantasy|Sci-Fi       1       4  978300760      F   \n",
              "4                             Drama|War       1       5  978824195      F   \n",
              "\n",
              "   Age  Occupation Zip-code  \n",
              "0    1          10    48067  \n",
              "1    1          10    48067  \n",
              "2    1          10    48067  \n",
              "3    1          10    48067  \n",
              "4    1          10    48067  "
            ],
            "text/html": [
              "\n",
              "  <div id=\"df-b53fe5af-b30e-41e2-af7b-65eae5ff3d3b\">\n",
              "    <div class=\"colab-df-container\">\n",
              "      <div>\n",
              "<style scoped>\n",
              "    .dataframe tbody tr th:only-of-type {\n",
              "        vertical-align: middle;\n",
              "    }\n",
              "\n",
              "    .dataframe tbody tr th {\n",
              "        vertical-align: top;\n",
              "    }\n",
              "\n",
              "    .dataframe thead th {\n",
              "        text-align: right;\n",
              "    }\n",
              "</style>\n",
              "<table border=\"1\" class=\"dataframe\">\n",
              "  <thead>\n",
              "    <tr style=\"text-align: right;\">\n",
              "      <th></th>\n",
              "      <th>MovieID</th>\n",
              "      <th>Title</th>\n",
              "      <th>Genres</th>\n",
              "      <th>UserID</th>\n",
              "      <th>Rating</th>\n",
              "      <th>Timestamp</th>\n",
              "      <th>Gender</th>\n",
              "      <th>Age</th>\n",
              "      <th>Occupation</th>\n",
              "      <th>Zip-code</th>\n",
              "    </tr>\n",
              "  </thead>\n",
              "  <tbody>\n",
              "    <tr>\n",
              "      <th>0</th>\n",
              "      <td>1</td>\n",
              "      <td>Toy Story (1995)</td>\n",
              "      <td>Animation|Children's|Comedy</td>\n",
              "      <td>1</td>\n",
              "      <td>5</td>\n",
              "      <td>978824268</td>\n",
              "      <td>F</td>\n",
              "      <td>1</td>\n",
              "      <td>10</td>\n",
              "      <td>48067</td>\n",
              "    </tr>\n",
              "    <tr>\n",
              "      <th>1</th>\n",
              "      <td>48</td>\n",
              "      <td>Pocahontas (1995)</td>\n",
              "      <td>Animation|Children's|Musical|Romance</td>\n",
              "      <td>1</td>\n",
              "      <td>5</td>\n",
              "      <td>978824351</td>\n",
              "      <td>F</td>\n",
              "      <td>1</td>\n",
              "      <td>10</td>\n",
              "      <td>48067</td>\n",
              "    </tr>\n",
              "    <tr>\n",
              "      <th>2</th>\n",
              "      <td>150</td>\n",
              "      <td>Apollo 13 (1995)</td>\n",
              "      <td>Drama</td>\n",
              "      <td>1</td>\n",
              "      <td>5</td>\n",
              "      <td>978301777</td>\n",
              "      <td>F</td>\n",
              "      <td>1</td>\n",
              "      <td>10</td>\n",
              "      <td>48067</td>\n",
              "    </tr>\n",
              "    <tr>\n",
              "      <th>3</th>\n",
              "      <td>260</td>\n",
              "      <td>Star Wars: Episode IV - A New Hope (1977)</td>\n",
              "      <td>Action|Adventure|Fantasy|Sci-Fi</td>\n",
              "      <td>1</td>\n",
              "      <td>4</td>\n",
              "      <td>978300760</td>\n",
              "      <td>F</td>\n",
              "      <td>1</td>\n",
              "      <td>10</td>\n",
              "      <td>48067</td>\n",
              "    </tr>\n",
              "    <tr>\n",
              "      <th>4</th>\n",
              "      <td>527</td>\n",
              "      <td>Schindler's List (1993)</td>\n",
              "      <td>Drama|War</td>\n",
              "      <td>1</td>\n",
              "      <td>5</td>\n",
              "      <td>978824195</td>\n",
              "      <td>F</td>\n",
              "      <td>1</td>\n",
              "      <td>10</td>\n",
              "      <td>48067</td>\n",
              "    </tr>\n",
              "  </tbody>\n",
              "</table>\n",
              "</div>\n",
              "      <button class=\"colab-df-convert\" onclick=\"convertToInteractive('df-b53fe5af-b30e-41e2-af7b-65eae5ff3d3b')\"\n",
              "              title=\"Convert this dataframe to an interactive table.\"\n",
              "              style=\"display:none;\">\n",
              "        \n",
              "  <svg xmlns=\"http://www.w3.org/2000/svg\" height=\"24px\"viewBox=\"0 0 24 24\"\n",
              "       width=\"24px\">\n",
              "    <path d=\"M0 0h24v24H0V0z\" fill=\"none\"/>\n",
              "    <path d=\"M18.56 5.44l.94 2.06.94-2.06 2.06-.94-2.06-.94-.94-2.06-.94 2.06-2.06.94zm-11 1L8.5 8.5l.94-2.06 2.06-.94-2.06-.94L8.5 2.5l-.94 2.06-2.06.94zm10 10l.94 2.06.94-2.06 2.06-.94-2.06-.94-.94-2.06-.94 2.06-2.06.94z\"/><path d=\"M17.41 7.96l-1.37-1.37c-.4-.4-.92-.59-1.43-.59-.52 0-1.04.2-1.43.59L10.3 9.45l-7.72 7.72c-.78.78-.78 2.05 0 2.83L4 21.41c.39.39.9.59 1.41.59.51 0 1.02-.2 1.41-.59l7.78-7.78 2.81-2.81c.8-.78.8-2.07 0-2.86zM5.41 20L4 18.59l7.72-7.72 1.47 1.35L5.41 20z\"/>\n",
              "  </svg>\n",
              "      </button>\n",
              "      \n",
              "  <style>\n",
              "    .colab-df-container {\n",
              "      display:flex;\n",
              "      flex-wrap:wrap;\n",
              "      gap: 12px;\n",
              "    }\n",
              "\n",
              "    .colab-df-convert {\n",
              "      background-color: #E8F0FE;\n",
              "      border: none;\n",
              "      border-radius: 50%;\n",
              "      cursor: pointer;\n",
              "      display: none;\n",
              "      fill: #1967D2;\n",
              "      height: 32px;\n",
              "      padding: 0 0 0 0;\n",
              "      width: 32px;\n",
              "    }\n",
              "\n",
              "    .colab-df-convert:hover {\n",
              "      background-color: #E2EBFA;\n",
              "      box-shadow: 0px 1px 2px rgba(60, 64, 67, 0.3), 0px 1px 3px 1px rgba(60, 64, 67, 0.15);\n",
              "      fill: #174EA6;\n",
              "    }\n",
              "\n",
              "    [theme=dark] .colab-df-convert {\n",
              "      background-color: #3B4455;\n",
              "      fill: #D2E3FC;\n",
              "    }\n",
              "\n",
              "    [theme=dark] .colab-df-convert:hover {\n",
              "      background-color: #434B5C;\n",
              "      box-shadow: 0px 1px 3px 1px rgba(0, 0, 0, 0.15);\n",
              "      filter: drop-shadow(0px 1px 2px rgba(0, 0, 0, 0.3));\n",
              "      fill: #FFFFFF;\n",
              "    }\n",
              "  </style>\n",
              "\n",
              "      <script>\n",
              "        const buttonEl =\n",
              "          document.querySelector('#df-b53fe5af-b30e-41e2-af7b-65eae5ff3d3b button.colab-df-convert');\n",
              "        buttonEl.style.display =\n",
              "          google.colab.kernel.accessAllowed ? 'block' : 'none';\n",
              "\n",
              "        async function convertToInteractive(key) {\n",
              "          const element = document.querySelector('#df-b53fe5af-b30e-41e2-af7b-65eae5ff3d3b');\n",
              "          const dataTable =\n",
              "            await google.colab.kernel.invokeFunction('convertToInteractive',\n",
              "                                                     [key], {});\n",
              "          if (!dataTable) return;\n",
              "\n",
              "          const docLinkHtml = 'Like what you see? Visit the ' +\n",
              "            '<a target=\"_blank\" href=https://colab.research.google.com/notebooks/data_table.ipynb>data table notebook</a>'\n",
              "            + ' to learn more about interactive tables.';\n",
              "          element.innerHTML = '';\n",
              "          dataTable['output_type'] = 'display_data';\n",
              "          await google.colab.output.renderOutput(dataTable, element);\n",
              "          const docLink = document.createElement('div');\n",
              "          docLink.innerHTML = docLinkHtml;\n",
              "          element.appendChild(docLink);\n",
              "        }\n",
              "      </script>\n",
              "    </div>\n",
              "  </div>\n",
              "  "
            ]
          },
          "metadata": {},
          "execution_count": 22
        }
      ]
    },
    {
      "cell_type": "markdown",
      "source": [
        "karena pada proses EDA ini saya tidak membutuhkan fitur Genres,Timestamp dan Zip-code. maka saya akan membuang fitur tersebut"
      ],
      "metadata": {
        "id": "4T9iwlU6rmWa"
      }
    },
    {
      "cell_type": "code",
      "source": [
        "master_data = merge_on_userid.drop(['Genres','Timestamp','Zip-code'],axis = 1)\n",
        "master_data.head()"
      ],
      "metadata": {
        "colab": {
          "base_uri": "https://localhost:8080/",
          "height": 268
        },
        "id": "smMHuak1rlqe",
        "outputId": "2f719006-2097-4f61-95d7-d5947318df11"
      },
      "execution_count": 23,
      "outputs": [
        {
          "output_type": "execute_result",
          "data": {
            "text/plain": [
              "   MovieID                                      Title  UserID  Rating Gender  \\\n",
              "0        1                           Toy Story (1995)       1       5      F   \n",
              "1       48                          Pocahontas (1995)       1       5      F   \n",
              "2      150                           Apollo 13 (1995)       1       5      F   \n",
              "3      260  Star Wars: Episode IV - A New Hope (1977)       1       4      F   \n",
              "4      527                    Schindler's List (1993)       1       5      F   \n",
              "\n",
              "   Age  Occupation  \n",
              "0    1          10  \n",
              "1    1          10  \n",
              "2    1          10  \n",
              "3    1          10  \n",
              "4    1          10  "
            ],
            "text/html": [
              "\n",
              "  <div id=\"df-7ce5d0ad-990e-4255-b444-f0566d9f273f\">\n",
              "    <div class=\"colab-df-container\">\n",
              "      <div>\n",
              "<style scoped>\n",
              "    .dataframe tbody tr th:only-of-type {\n",
              "        vertical-align: middle;\n",
              "    }\n",
              "\n",
              "    .dataframe tbody tr th {\n",
              "        vertical-align: top;\n",
              "    }\n",
              "\n",
              "    .dataframe thead th {\n",
              "        text-align: right;\n",
              "    }\n",
              "</style>\n",
              "<table border=\"1\" class=\"dataframe\">\n",
              "  <thead>\n",
              "    <tr style=\"text-align: right;\">\n",
              "      <th></th>\n",
              "      <th>MovieID</th>\n",
              "      <th>Title</th>\n",
              "      <th>UserID</th>\n",
              "      <th>Rating</th>\n",
              "      <th>Gender</th>\n",
              "      <th>Age</th>\n",
              "      <th>Occupation</th>\n",
              "    </tr>\n",
              "  </thead>\n",
              "  <tbody>\n",
              "    <tr>\n",
              "      <th>0</th>\n",
              "      <td>1</td>\n",
              "      <td>Toy Story (1995)</td>\n",
              "      <td>1</td>\n",
              "      <td>5</td>\n",
              "      <td>F</td>\n",
              "      <td>1</td>\n",
              "      <td>10</td>\n",
              "    </tr>\n",
              "    <tr>\n",
              "      <th>1</th>\n",
              "      <td>48</td>\n",
              "      <td>Pocahontas (1995)</td>\n",
              "      <td>1</td>\n",
              "      <td>5</td>\n",
              "      <td>F</td>\n",
              "      <td>1</td>\n",
              "      <td>10</td>\n",
              "    </tr>\n",
              "    <tr>\n",
              "      <th>2</th>\n",
              "      <td>150</td>\n",
              "      <td>Apollo 13 (1995)</td>\n",
              "      <td>1</td>\n",
              "      <td>5</td>\n",
              "      <td>F</td>\n",
              "      <td>1</td>\n",
              "      <td>10</td>\n",
              "    </tr>\n",
              "    <tr>\n",
              "      <th>3</th>\n",
              "      <td>260</td>\n",
              "      <td>Star Wars: Episode IV - A New Hope (1977)</td>\n",
              "      <td>1</td>\n",
              "      <td>4</td>\n",
              "      <td>F</td>\n",
              "      <td>1</td>\n",
              "      <td>10</td>\n",
              "    </tr>\n",
              "    <tr>\n",
              "      <th>4</th>\n",
              "      <td>527</td>\n",
              "      <td>Schindler's List (1993)</td>\n",
              "      <td>1</td>\n",
              "      <td>5</td>\n",
              "      <td>F</td>\n",
              "      <td>1</td>\n",
              "      <td>10</td>\n",
              "    </tr>\n",
              "  </tbody>\n",
              "</table>\n",
              "</div>\n",
              "      <button class=\"colab-df-convert\" onclick=\"convertToInteractive('df-7ce5d0ad-990e-4255-b444-f0566d9f273f')\"\n",
              "              title=\"Convert this dataframe to an interactive table.\"\n",
              "              style=\"display:none;\">\n",
              "        \n",
              "  <svg xmlns=\"http://www.w3.org/2000/svg\" height=\"24px\"viewBox=\"0 0 24 24\"\n",
              "       width=\"24px\">\n",
              "    <path d=\"M0 0h24v24H0V0z\" fill=\"none\"/>\n",
              "    <path d=\"M18.56 5.44l.94 2.06.94-2.06 2.06-.94-2.06-.94-.94-2.06-.94 2.06-2.06.94zm-11 1L8.5 8.5l.94-2.06 2.06-.94-2.06-.94L8.5 2.5l-.94 2.06-2.06.94zm10 10l.94 2.06.94-2.06 2.06-.94-2.06-.94-.94-2.06-.94 2.06-2.06.94z\"/><path d=\"M17.41 7.96l-1.37-1.37c-.4-.4-.92-.59-1.43-.59-.52 0-1.04.2-1.43.59L10.3 9.45l-7.72 7.72c-.78.78-.78 2.05 0 2.83L4 21.41c.39.39.9.59 1.41.59.51 0 1.02-.2 1.41-.59l7.78-7.78 2.81-2.81c.8-.78.8-2.07 0-2.86zM5.41 20L4 18.59l7.72-7.72 1.47 1.35L5.41 20z\"/>\n",
              "  </svg>\n",
              "      </button>\n",
              "      \n",
              "  <style>\n",
              "    .colab-df-container {\n",
              "      display:flex;\n",
              "      flex-wrap:wrap;\n",
              "      gap: 12px;\n",
              "    }\n",
              "\n",
              "    .colab-df-convert {\n",
              "      background-color: #E8F0FE;\n",
              "      border: none;\n",
              "      border-radius: 50%;\n",
              "      cursor: pointer;\n",
              "      display: none;\n",
              "      fill: #1967D2;\n",
              "      height: 32px;\n",
              "      padding: 0 0 0 0;\n",
              "      width: 32px;\n",
              "    }\n",
              "\n",
              "    .colab-df-convert:hover {\n",
              "      background-color: #E2EBFA;\n",
              "      box-shadow: 0px 1px 2px rgba(60, 64, 67, 0.3), 0px 1px 3px 1px rgba(60, 64, 67, 0.15);\n",
              "      fill: #174EA6;\n",
              "    }\n",
              "\n",
              "    [theme=dark] .colab-df-convert {\n",
              "      background-color: #3B4455;\n",
              "      fill: #D2E3FC;\n",
              "    }\n",
              "\n",
              "    [theme=dark] .colab-df-convert:hover {\n",
              "      background-color: #434B5C;\n",
              "      box-shadow: 0px 1px 3px 1px rgba(0, 0, 0, 0.15);\n",
              "      filter: drop-shadow(0px 1px 2px rgba(0, 0, 0, 0.3));\n",
              "      fill: #FFFFFF;\n",
              "    }\n",
              "  </style>\n",
              "\n",
              "      <script>\n",
              "        const buttonEl =\n",
              "          document.querySelector('#df-7ce5d0ad-990e-4255-b444-f0566d9f273f button.colab-df-convert');\n",
              "        buttonEl.style.display =\n",
              "          google.colab.kernel.accessAllowed ? 'block' : 'none';\n",
              "\n",
              "        async function convertToInteractive(key) {\n",
              "          const element = document.querySelector('#df-7ce5d0ad-990e-4255-b444-f0566d9f273f');\n",
              "          const dataTable =\n",
              "            await google.colab.kernel.invokeFunction('convertToInteractive',\n",
              "                                                     [key], {});\n",
              "          if (!dataTable) return;\n",
              "\n",
              "          const docLinkHtml = 'Like what you see? Visit the ' +\n",
              "            '<a target=\"_blank\" href=https://colab.research.google.com/notebooks/data_table.ipynb>data table notebook</a>'\n",
              "            + ' to learn more about interactive tables.';\n",
              "          element.innerHTML = '';\n",
              "          dataTable['output_type'] = 'display_data';\n",
              "          await google.colab.output.renderOutput(dataTable, element);\n",
              "          const docLink = document.createElement('div');\n",
              "          docLink.innerHTML = docLinkHtml;\n",
              "          element.appendChild(docLink);\n",
              "        }\n",
              "      </script>\n",
              "    </div>\n",
              "  </div>\n",
              "  "
            ]
          },
          "metadata": {},
          "execution_count": 23
        }
      ]
    },
    {
      "cell_type": "markdown",
      "source": [
        "selanjutnya saya melakukan eksplorasi dengan menggunakan representasi visual (grafik/plot) dengan menggunakan library matplotlib dan seaborn"
      ],
      "metadata": {
        "id": "yKMph4oasNv_"
      }
    },
    {
      "cell_type": "code",
      "source": [
        "import matplotlib.pyplot as plt\n",
        "import seaborn as sns\n",
        "from matplotlib import style"
      ],
      "metadata": {
        "id": "shbIW_sVsHvK"
      },
      "execution_count": 24,
      "outputs": []
    },
    {
      "cell_type": "code",
      "source": [
        "# user age distribution\n",
        "style.use('ggplot')\n",
        "plt.figure(figsize = (7,7))\n",
        "master_data['Age'].value_counts().plot(kind = 'bar', color = 'blue')\n",
        "plt.xlabel('Usia Users')\n",
        "plt.ylabel('Jumlah Film')\n",
        "plt.title('Grafik Distribusi Usia User')\n",
        "plt.show()\n",
        "plt.savefig('plot1')"
      ],
      "metadata": {
        "colab": {
          "base_uri": "https://localhost:8080/",
          "height": 482
        },
        "id": "JvaXg2VMspdz",
        "outputId": "a8eed6d7-6793-4f0a-d74f-4baa86c6c947"
      },
      "execution_count": 25,
      "outputs": [
        {
          "output_type": "display_data",
          "data": {
            "text/plain": [
              "<Figure size 504x504 with 1 Axes>"
            ],
            "image/png": "[encoded data removed]"
          },
          "metadata": {}
        },
        {
          "output_type": "display_data",
          "data": {
            "text/plain": [
              "<Figure size 432x288 with 0 Axes>"
            ]
          },
          "metadata": {}
        }
      ]
    },
    {
      "cell_type": "markdown",
      "source": [
        "dari grafik tersebut dapat diketahui bahwa, kabanyakan penonton film pada dataset ini berada pada usia 25-34 tahun."
      ],
      "metadata": {
        "id": "HT2hr16cs8h9"
      }
    },
    {
      "cell_type": "code",
      "source": [
        "# user age distribution\n",
        "plt.figure(figsize = (7,7))\n",
        "master_data.groupby('Age')['Gender'].value_counts().unstack().plot(kind = 'bar',color = ['blue','orange'])\n",
        "plt.xlabel('Usia User')\n",
        "plt.ylabel('Jumlah Film')\n",
        "plt.title('Grafik Distribusi Usia User : Male/Female')\n",
        "plt.show()\n",
        "plt.savefig('plot2')"
      ],
      "metadata": {
        "colab": {
          "base_uri": "https://localhost:8080/",
          "height": 337
        },
        "id": "M1Qci0U2taCC",
        "outputId": "d374d613-4fc5-40de-c7a6-8c8c637eb4a9"
      },
      "execution_count": 26,
      "outputs": [
        {
          "output_type": "display_data",
          "data": {
            "text/plain": [
              "<Figure size 504x504 with 0 Axes>"
            ]
          },
          "metadata": {}
        },
        {
          "output_type": "display_data",
          "data": {
            "text/plain": [
              "<Figure size 432x288 with 1 Axes>"
            ],
            "image/png": "[encoded data removed]"
          },
          "metadata": {}
        },
        {
          "output_type": "display_data",
          "data": {
            "text/plain": [
              "<Figure size 432x288 with 0 Axes>"
            ]
          },
          "metadata": {}
        }
      ]
    },
    {
      "cell_type": "markdown",
      "source": [
        "dari grafik diatas dapat diketahui bahwa mayoritas penonton film pada dataset ini merupakan laki-laki."
      ],
      "metadata": {
        "id": "THcFCmOZt_16"
      }
    },
    {
      "cell_type": "markdown",
      "source": [
        "# Content-Based Filtering\n",
        "\n",
        "Disini saya membuat sistem rekomendasi content-base filtering. Untuk membuat sistem rekomendasi ini saya akan menggunakan `movies` dataset. saya akan memanfaatkan features `Genres` pada dataset untuk mendapatkan rekomendasi.\n",
        "\n"
      ],
      "metadata": {
        "id": "Z1NqokcatYyb"
      }
    },
    {
      "cell_type": "markdown",
      "source": [
        "### Data Preprocessing\n",
        "**Mencari missing value**\\\n",
        "pada tahap ini saya megecek apakah ada missing value atau tidak"
      ],
      "metadata": {
        "id": "wt2-8lBHTl6L"
      }
    },
    {
      "cell_type": "code",
      "source": [
        "print(movies2.isna().sum())"
      ],
      "metadata": {
        "colab": {
          "base_uri": "https://localhost:8080/"
        },
        "id": "H7GDGAypG82J",
        "outputId": "7f7e5b34-21f7-4448-85a2-40bae8d0458e"
      },
      "execution_count": 27,
      "outputs": [
        {
          "output_type": "stream",
          "name": "stdout",
          "text": [
            "MovieID    0\n",
            "Title      0\n",
            "Genres     0\n",
            "dtype: int64\n"
          ]
        }
      ]
    },
    {
      "cell_type": "markdown",
      "source": [
        "Bisa dilihat, tidak ada missing value pada dataset ini, jadi saya akan ke tahap selanjutnya.\\\n",
        "\n"
      ],
      "metadata": {
        "id": "FCyJP-31T4cB"
      }
    },
    {
      "cell_type": "markdown",
      "source": [
        "### Data Preparation\n",
        "pada tahap ini, saya mengubah features `Genres` ke dalam bentuk **string array**"
      ],
      "metadata": {
        "id": "jWaFvIgjXspz"
      }
    },
    {
      "cell_type": "code",
      "source": [
        "movies2['Genres'] = movies2.Genres.str.split('|')\n",
        "movies2['Genres'] = movies2['Genres'].fillna(\"\").astype('str')\n",
        "movies2"
      ],
      "metadata": {
        "colab": {
          "base_uri": "https://localhost:8080/",
          "height": 424
        },
        "id": "5PnH2Zg53WvU",
        "outputId": "8a0d2e95-9533-4e01-9d32-e38d4be5d7c2"
      },
      "execution_count": 28,
      "outputs": [
        {
          "output_type": "execute_result",
          "data": {
            "text/plain": [
              "      MovieID                               Title  \\\n",
              "0           1                    Toy Story (1995)   \n",
              "1           2                      Jumanji (1995)   \n",
              "2           3             Grumpier Old Men (1995)   \n",
              "3           4            Waiting to Exhale (1995)   \n",
              "4           5  Father of the Bride Part II (1995)   \n",
              "...       ...                                 ...   \n",
              "3878     3948             Meet the Parents (2000)   \n",
              "3879     3949          Requiem for a Dream (2000)   \n",
              "3880     3950                    Tigerland (2000)   \n",
              "3881     3951             Two Family House (2000)   \n",
              "3882     3952               Contender, The (2000)   \n",
              "\n",
              "                                      Genres  \n",
              "0      ['Animation', \"Children's\", 'Comedy']  \n",
              "1     ['Adventure', \"Children's\", 'Fantasy']  \n",
              "2                      ['Comedy', 'Romance']  \n",
              "3                        ['Comedy', 'Drama']  \n",
              "4                                 ['Comedy']  \n",
              "...                                      ...  \n",
              "3878                              ['Comedy']  \n",
              "3879                               ['Drama']  \n",
              "3880                               ['Drama']  \n",
              "3881                               ['Drama']  \n",
              "3882                   ['Drama', 'Thriller']  \n",
              "\n",
              "[3883 rows x 3 columns]"
            ],
            "text/html": [
              "\n",
              "  <div id=\"df-28e1b903-9d3c-4e6a-a0c4-826fd2013546\">\n",
              "    <div class=\"colab-df-container\">\n",
              "      <div>\n",
              "<style scoped>\n",
              "    .dataframe tbody tr th:only-of-type {\n",
              "        vertical-align: middle;\n",
              "    }\n",
              "\n",
              "    .dataframe tbody tr th {\n",
              "        vertical-align: top;\n",
              "    }\n",
              "\n",
              "    .dataframe thead th {\n",
              "        text-align: right;\n",
              "    }\n",
              "</style>\n",
              "<table border=\"1\" class=\"dataframe\">\n",
              "  <thead>\n",
              "    <tr style=\"text-align: right;\">\n",
              "      <th></th>\n",
              "      <th>MovieID</th>\n",
              "      <th>Title</th>\n",
              "      <th>Genres</th>\n",
              "    </tr>\n",
              "  </thead>\n",
              "  <tbody>\n",
              "    <tr>\n",
              "      <th>0</th>\n",
              "      <td>1</td>\n",
              "      <td>Toy Story (1995)</td>\n",
              "      <td>['Animation', \"Children's\", 'Comedy']</td>\n",
              "    </tr>\n",
              "    <tr>\n",
              "      <th>1</th>\n",
              "      <td>2</td>\n",
              "      <td>Jumanji (1995)</td>\n",
              "      <td>['Adventure', \"Children's\", 'Fantasy']</td>\n",
              "    </tr>\n",
              "    <tr>\n",
              "      <th>2</th>\n",
              "      <td>3</td>\n",
              "      <td>Grumpier Old Men (1995)</td>\n",
              "      <td>['Comedy', 'Romance']</td>\n",
              "    </tr>\n",
              "    <tr>\n",
              "      <th>3</th>\n",
              "      <td>4</td>\n",
              "      <td>Waiting to Exhale (1995)</td>\n",
              "      <td>['Comedy', 'Drama']</td>\n",
              "    </tr>\n",
              "    <tr>\n",
              "      <th>4</th>\n",
              "      <td>5</td>\n",
              "      <td>Father of the Bride Part II (1995)</td>\n",
              "      <td>['Comedy']</td>\n",
              "    </tr>\n",
              "    <tr>\n",
              "      <th>...</th>\n",
              "      <td>...</td>\n",
              "      <td>...</td>\n",
              "      <td>...</td>\n",
              "    </tr>\n",
              "    <tr>\n",
              "      <th>3878</th>\n",
              "      <td>3948</td>\n",
              "      <td>Meet the Parents (2000)</td>\n",
              "      <td>['Comedy']</td>\n",
              "    </tr>\n",
              "    <tr>\n",
              "      <th>3879</th>\n",
              "      <td>3949</td>\n",
              "      <td>Requiem for a Dream (2000)</td>\n",
              "      <td>['Drama']</td>\n",
              "    </tr>\n",
              "    <tr>\n",
              "      <th>3880</th>\n",
              "      <td>3950</td>\n",
              "      <td>Tigerland (2000)</td>\n",
              "      <td>['Drama']</td>\n",
              "    </tr>\n",
              "    <tr>\n",
              "      <th>3881</th>\n",
              "      <td>3951</td>\n",
              "      <td>Two Family House (2000)</td>\n",
              "      <td>['Drama']</td>\n",
              "    </tr>\n",
              "    <tr>\n",
              "      <th>3882</th>\n",
              "      <td>3952</td>\n",
              "      <td>Contender, The (2000)</td>\n",
              "      <td>['Drama', 'Thriller']</td>\n",
              "    </tr>\n",
              "  </tbody>\n",
              "</table>\n",
              "<p>3883 rows × 3 columns</p>\n",
              "</div>\n",
              "      <button class=\"colab-df-convert\" onclick=\"convertToInteractive('df-28e1b903-9d3c-4e6a-a0c4-826fd2013546')\"\n",
              "              title=\"Convert this dataframe to an interactive table.\"\n",
              "              style=\"display:none;\">\n",
              "        \n",
              "  <svg xmlns=\"http://www.w3.org/2000/svg\" height=\"24px\"viewBox=\"0 0 24 24\"\n",
              "       width=\"24px\">\n",
              "    <path d=\"M0 0h24v24H0V0z\" fill=\"none\"/>\n",
              "    <path d=\"M18.56 5.44l.94 2.06.94-2.06 2.06-.94-2.06-.94-.94-2.06-.94 2.06-2.06.94zm-11 1L8.5 8.5l.94-2.06 2.06-.94-2.06-.94L8.5 2.5l-.94 2.06-2.06.94zm10 10l.94 2.06.94-2.06 2.06-.94-2.06-.94-.94-2.06-.94 2.06-2.06.94z\"/><path d=\"M17.41 7.96l-1.37-1.37c-.4-.4-.92-.59-1.43-.59-.52 0-1.04.2-1.43.59L10.3 9.45l-7.72 7.72c-.78.78-.78 2.05 0 2.83L4 21.41c.39.39.9.59 1.41.59.51 0 1.02-.2 1.41-.59l7.78-7.78 2.81-2.81c.8-.78.8-2.07 0-2.86zM5.41 20L4 18.59l7.72-7.72 1.47 1.35L5.41 20z\"/>\n",
              "  </svg>\n",
              "      </button>\n",
              "      \n",
              "  <style>\n",
              "    .colab-df-container {\n",
              "      display:flex;\n",
              "      flex-wrap:wrap;\n",
              "      gap: 12px;\n",
              "    }\n",
              "\n",
              "    .colab-df-convert {\n",
              "      background-color: #E8F0FE;\n",
              "      border: none;\n",
              "      border-radius: 50%;\n",
              "      cursor: pointer;\n",
              "      display: none;\n",
              "      fill: #1967D2;\n",
              "      height: 32px;\n",
              "      padding: 0 0 0 0;\n",
              "      width: 32px;\n",
              "    }\n",
              "\n",
              "    .colab-df-convert:hover {\n",
              "      background-color: #E2EBFA;\n",
              "      box-shadow: 0px 1px 2px rgba(60, 64, 67, 0.3), 0px 1px 3px 1px rgba(60, 64, 67, 0.15);\n",
              "      fill: #174EA6;\n",
              "    }\n",
              "\n",
              "    [theme=dark] .colab-df-convert {\n",
              "      background-color: #3B4455;\n",
              "      fill: #D2E3FC;\n",
              "    }\n",
              "\n",
              "    [theme=dark] .colab-df-convert:hover {\n",
              "      background-color: #434B5C;\n",
              "      box-shadow: 0px 1px 3px 1px rgba(0, 0, 0, 0.15);\n",
              "      filter: drop-shadow(0px 1px 2px rgba(0, 0, 0, 0.3));\n",
              "      fill: #FFFFFF;\n",
              "    }\n",
              "  </style>\n",
              "\n",
              "      <script>\n",
              "        const buttonEl =\n",
              "          document.querySelector('#df-28e1b903-9d3c-4e6a-a0c4-826fd2013546 button.colab-df-convert');\n",
              "        buttonEl.style.display =\n",
              "          google.colab.kernel.accessAllowed ? 'block' : 'none';\n",
              "\n",
              "        async function convertToInteractive(key) {\n",
              "          const element = document.querySelector('#df-28e1b903-9d3c-4e6a-a0c4-826fd2013546');\n",
              "          const dataTable =\n",
              "            await google.colab.kernel.invokeFunction('convertToInteractive',\n",
              "                                                     [key], {});\n",
              "          if (!dataTable) return;\n",
              "\n",
              "          const docLinkHtml = 'Like what you see? Visit the ' +\n",
              "            '<a target=\"_blank\" href=https://colab.research.google.com/notebooks/data_table.ipynb>data table notebook</a>'\n",
              "            + ' to learn more about interactive tables.';\n",
              "          element.innerHTML = '';\n",
              "          dataTable['output_type'] = 'display_data';\n",
              "          await google.colab.output.renderOutput(dataTable, element);\n",
              "          const docLink = document.createElement('div');\n",
              "          docLink.innerHTML = docLinkHtml;\n",
              "          element.appendChild(docLink);\n",
              "        }\n",
              "      </script>\n",
              "    </div>\n",
              "  </div>\n",
              "  "
            ]
          },
          "metadata": {},
          "execution_count": 28
        }
      ]
    },
    {
      "cell_type": "markdown",
      "source": [
        "### Model Development\n",
        "**TF-IDF Vectorizer**\\\n",
        "Pada tahap ini saya akan membuat sistem rekomendasi content-based filtering. saya membangun sistem rekomendasi ini berdasarkan _genre_ film. disini saya menggunakan TF-IDF Vectorizer untuk menemukan representasi fitur penting dari setiap kategori film. untuk melakukannya saya menggunakan fungsi `TfidfVectorizer` pada library sklearn."
      ],
      "metadata": {
        "id": "-9f_bAH9YzO0"
      }
    },
    {
      "cell_type": "code",
      "source": [
        "from sklearn.feature_extraction.text import TfidfVectorizer\n",
        "\n",
        "tf = TfidfVectorizer(analyzer='word',ngram_range=(1, 2),min_df=0, stop_words='english')\n",
        "tfidf_matrix = tf.fit_transform(movies2['Genres'])\n",
        "tfidf_matrix.shape"
      ],
      "metadata": {
        "colab": {
          "base_uri": "https://localhost:8080/"
        },
        "id": "ch7onZSU34l0",
        "outputId": "e497579d-3e31-481b-f2e7-282700f8d765"
      },
      "execution_count": 29,
      "outputs": [
        {
          "output_type": "execute_result",
          "data": {
            "text/plain": [
              "(3883, 127)"
            ]
          },
          "metadata": {},
          "execution_count": 29
        }
      ]
    },
    {
      "cell_type": "markdown",
      "source": [
        "**Similarity**\\\n",
        "Dalam menghitung drajat kesamaan (similarity degree) antar film, saya akan menggunakan `euclidean_distances` dari library sklearn."
      ],
      "metadata": {
        "id": "GvYNk4_uatx7"
      }
    },
    {
      "cell_type": "code",
      "source": [
        "from sklearn.metrics.pairwise import euclidean_distances\n",
        "euclidean_dist = euclidean_distances(tfidf_matrix, tfidf_matrix)\n",
        "euclidean_dist[:4, :4]"
      ],
      "metadata": {
        "colab": {
          "base_uri": "https://localhost:8080/"
        },
        "id": "hESTPlKEx6hK",
        "outputId": "b43a7588-6eb3-442a-bb7b-9b5c2df70925"
      },
      "execution_count": 30,
      "outputs": [
        {
          "output_type": "execute_result",
          "data": {
            "text/plain": [
              "array([[0.        , 1.31001058, 1.34899327, 1.33744802],\n",
              "       [1.31001058, 0.        , 1.41421356, 1.41421356],\n",
              "       [1.34899327, 1.41421356, 0.        , 1.28686534],\n",
              "       [1.33744802, 1.41421356, 1.28686534, 0.        ]])"
            ]
          },
          "metadata": {},
          "execution_count": 30
        }
      ]
    },
    {
      "cell_type": "markdown",
      "source": [
        "Setelah menghitung kesamaan antar film. selanjutnya saya membuat fungsi `genre_recommendations` dengan satu parameter yaitu title(judul film yang ditonton). keluaran fungsi ini berupa rekomendasi film untuk pengguna sesuai genre film yang telah user tonton."
      ],
      "metadata": {
        "id": "RPtlCJRgcA5k"
      }
    },
    {
      "cell_type": "code",
      "source": [
        "titles = movies2['Title']\n",
        "genres = movies2['Genres']\n",
        "indices = pd.Series(movies2.index, index=movies2['Title'])\n",
        "\n",
        "def genre_recommendations(title):\n",
        "    idx = indices[title]\n",
        "    sim_scores = list(enumerate(euclidean_dist[idx]))\n",
        "    sim_scores = sorted(sim_scores, key=lambda x: x[1], reverse=True)\n",
        "    sim_scores = sim_scores[1:21]\n",
        "    movie_indices = [i[0] for i in sim_scores]\n",
        "    df = pd.DataFrame(titles.iloc[movie_indices])\n",
        "    df['Genres'] = genres.iloc[movie_indices]\n",
        "    return df"
      ],
      "metadata": {
        "id": "fNYdUx1pyH_J"
      },
      "execution_count": 31,
      "outputs": []
    },
    {
      "cell_type": "markdown",
      "source": [
        "Selanjutnya saya akan mencoba sistem rekomendasi yang saya buat."
      ],
      "metadata": {
        "id": "Wn8KjeOBdXon"
      }
    },
    {
      "cell_type": "code",
      "source": [
        "idx = 5\n",
        "movies2['Title'][idx], movies2['Genres'][idx]\n",
        "print('film yang telah ditonton user',movies2['Title'][idx],' genre: ', movies2['Genres'][idx])\n",
        "\n",
        "recomendation_user = genre_recommendations(movies2['Title'][idx])\n",
        "recomendation_user.head(10)"
      ],
      "metadata": {
        "colab": {
          "base_uri": "https://localhost:8080/",
          "height": 400
        },
        "id": "l81sUZuXyQzF",
        "outputId": "c79ccd98-fe28-46e2-95a8-36f2e6a31ce2"
      },
      "execution_count": 32,
      "outputs": [
        {
          "output_type": "stream",
          "name": "stdout",
          "text": [
            "film yang telah ditonton user Heat (1995)  genre:  ['Action', 'Crime', 'Thriller']\n"
          ]
        },
        {
          "output_type": "execute_result",
          "data": {
            "text/plain": [
              "                                    Title                          Genres\n",
              "4      Father of the Bride Part II (1995)                      ['Comedy']\n",
              "7                     Tom and Huck (1995)     ['Adventure', \"Children's\"]\n",
              "10         American President, The (1995)  ['Comedy', 'Drama', 'Romance']\n",
              "11     Dracula: Dead and Loving It (1995)            ['Comedy', 'Horror']\n",
              "12                           Balto (1995)     ['Animation', \"Children's\"]\n",
              "13                           Nixon (1995)                       ['Drama']\n",
              "16           Sense and Sensibility (1995)            ['Drama', 'Romance']\n",
              "18  Ace Ventura: When Nature Calls (1995)                      ['Comedy']\n",
              "23                          Powder (1995)             ['Drama', 'Sci-Fi']\n",
              "24               Leaving Las Vegas (1995)            ['Drama', 'Romance']"
            ],
            "text/html": [
              "\n",
              "  <div id=\"df-b64908d1-8240-4216-be00-014b1d878e59\">\n",
              "    <div class=\"colab-df-container\">\n",
              "      <div>\n",
              "<style scoped>\n",
              "    .dataframe tbody tr th:only-of-type {\n",
              "        vertical-align: middle;\n",
              "    }\n",
              "\n",
              "    .dataframe tbody tr th {\n",
              "        vertical-align: top;\n",
              "    }\n",
              "\n",
              "    .dataframe thead th {\n",
              "        text-align: right;\n",
              "    }\n",
              "</style>\n",
              "<table border=\"1\" class=\"dataframe\">\n",
              "  <thead>\n",
              "    <tr style=\"text-align: right;\">\n",
              "      <th></th>\n",
              "      <th>Title</th>\n",
              "      <th>Genres</th>\n",
              "    </tr>\n",
              "  </thead>\n",
              "  <tbody>\n",
              "    <tr>\n",
              "      <th>4</th>\n",
              "      <td>Father of the Bride Part II (1995)</td>\n",
              "      <td>['Comedy']</td>\n",
              "    </tr>\n",
              "    <tr>\n",
              "      <th>7</th>\n",
              "      <td>Tom and Huck (1995)</td>\n",
              "      <td>['Adventure', \"Children's\"]</td>\n",
              "    </tr>\n",
              "    <tr>\n",
              "      <th>10</th>\n",
              "      <td>American President, The (1995)</td>\n",
              "      <td>['Comedy', 'Drama', 'Romance']</td>\n",
              "    </tr>\n",
              "    <tr>\n",
              "      <th>11</th>\n",
              "      <td>Dracula: Dead and Loving It (1995)</td>\n",
              "      <td>['Comedy', 'Horror']</td>\n",
              "    </tr>\n",
              "    <tr>\n",
              "      <th>12</th>\n",
              "      <td>Balto (1995)</td>\n",
              "      <td>['Animation', \"Children's\"]</td>\n",
              "    </tr>\n",
              "    <tr>\n",
              "      <th>13</th>\n",
              "      <td>Nixon (1995)</td>\n",
              "      <td>['Drama']</td>\n",
              "    </tr>\n",
              "    <tr>\n",
              "      <th>16</th>\n",
              "      <td>Sense and Sensibility (1995)</td>\n",
              "      <td>['Drama', 'Romance']</td>\n",
              "    </tr>\n",
              "    <tr>\n",
              "      <th>18</th>\n",
              "      <td>Ace Ventura: When Nature Calls (1995)</td>\n",
              "      <td>['Comedy']</td>\n",
              "    </tr>\n",
              "    <tr>\n",
              "      <th>23</th>\n",
              "      <td>Powder (1995)</td>\n",
              "      <td>['Drama', 'Sci-Fi']</td>\n",
              "    </tr>\n",
              "    <tr>\n",
              "      <th>24</th>\n",
              "      <td>Leaving Las Vegas (1995)</td>\n",
              "      <td>['Drama', 'Romance']</td>\n",
              "    </tr>\n",
              "  </tbody>\n",
              "</table>\n",
              "</div>\n",
              "      <button class=\"colab-df-convert\" onclick=\"convertToInteractive('df-b64908d1-8240-4216-be00-014b1d878e59')\"\n",
              "              title=\"Convert this dataframe to an interactive table.\"\n",
              "              style=\"display:none;\">\n",
              "        \n",
              "  <svg xmlns=\"http://www.w3.org/2000/svg\" height=\"24px\"viewBox=\"0 0 24 24\"\n",
              "       width=\"24px\">\n",
              "    <path d=\"M0 0h24v24H0V0z\" fill=\"none\"/>\n",
              "    <path d=\"M18.56 5.44l.94 2.06.94-2.06 2.06-.94-2.06-.94-.94-2.06-.94 2.06-2.06.94zm-11 1L8.5 8.5l.94-2.06 2.06-.94-2.06-.94L8.5 2.5l-.94 2.06-2.06.94zm10 10l.94 2.06.94-2.06 2.06-.94-2.06-.94-.94-2.06-.94 2.06-2.06.94z\"/><path d=\"M17.41 7.96l-1.37-1.37c-.4-.4-.92-.59-1.43-.59-.52 0-1.04.2-1.43.59L10.3 9.45l-7.72 7.72c-.78.78-.78 2.05 0 2.83L4 21.41c.39.39.9.59 1.41.59.51 0 1.02-.2 1.41-.59l7.78-7.78 2.81-2.81c.8-.78.8-2.07 0-2.86zM5.41 20L4 18.59l7.72-7.72 1.47 1.35L5.41 20z\"/>\n",
              "  </svg>\n",
              "      </button>\n",
              "      \n",
              "  <style>\n",
              "    .colab-df-container {\n",
              "      display:flex;\n",
              "      flex-wrap:wrap;\n",
              "      gap: 12px;\n",
              "    }\n",
              "\n",
              "    .colab-df-convert {\n",
              "      background-color: #E8F0FE;\n",
              "      border: none;\n",
              "      border-radius: 50%;\n",
              "      cursor: pointer;\n",
              "      display: none;\n",
              "      fill: #1967D2;\n",
              "      height: 32px;\n",
              "      padding: 0 0 0 0;\n",
              "      width: 32px;\n",
              "    }\n",
              "\n",
              "    .colab-df-convert:hover {\n",
              "      background-color: #E2EBFA;\n",
              "      box-shadow: 0px 1px 2px rgba(60, 64, 67, 0.3), 0px 1px 3px 1px rgba(60, 64, 67, 0.15);\n",
              "      fill: #174EA6;\n",
              "    }\n",
              "\n",
              "    [theme=dark] .colab-df-convert {\n",
              "      background-color: #3B4455;\n",
              "      fill: #D2E3FC;\n",
              "    }\n",
              "\n",
              "    [theme=dark] .colab-df-convert:hover {\n",
              "      background-color: #434B5C;\n",
              "      box-shadow: 0px 1px 3px 1px rgba(0, 0, 0, 0.15);\n",
              "      filter: drop-shadow(0px 1px 2px rgba(0, 0, 0, 0.3));\n",
              "      fill: #FFFFFF;\n",
              "    }\n",
              "  </style>\n",
              "\n",
              "      <script>\n",
              "        const buttonEl =\n",
              "          document.querySelector('#df-b64908d1-8240-4216-be00-014b1d878e59 button.colab-df-convert');\n",
              "        buttonEl.style.display =\n",
              "          google.colab.kernel.accessAllowed ? 'block' : 'none';\n",
              "\n",
              "        async function convertToInteractive(key) {\n",
              "          const element = document.querySelector('#df-b64908d1-8240-4216-be00-014b1d878e59');\n",
              "          const dataTable =\n",
              "            await google.colab.kernel.invokeFunction('convertToInteractive',\n",
              "                                                     [key], {});\n",
              "          if (!dataTable) return;\n",
              "\n",
              "          const docLinkHtml = 'Like what you see? Visit the ' +\n",
              "            '<a target=\"_blank\" href=https://colab.research.google.com/notebooks/data_table.ipynb>data table notebook</a>'\n",
              "            + ' to learn more about interactive tables.';\n",
              "          element.innerHTML = '';\n",
              "          dataTable['output_type'] = 'display_data';\n",
              "          await google.colab.output.renderOutput(dataTable, element);\n",
              "          const docLink = document.createElement('div');\n",
              "          docLink.innerHTML = docLinkHtml;\n",
              "          element.appendChild(docLink);\n",
              "        }\n",
              "      </script>\n",
              "    </div>\n",
              "  </div>\n",
              "  "
            ]
          },
          "metadata": {},
          "execution_count": 32
        }
      ]
    },
    {
      "cell_type": "markdown",
      "source": [
        "dapat dilihat, sistem rekomendasi memunculkan 10 film. tapi dari 10 film tersebut terasa kurang meyakinkan dari genre nya. film yang telah ditonton user bergenre ['Action', 'Crime', 'Thriller'], sedangkan kebanyakan film yang direkomendasikan tidak sesuai. disini saya dapat memperbaikinya dengan mengganti metode similarity dengan menggunakan `cosine_similarity`. dan hasilnya didapatkan sebagai berikut :"
      ],
      "metadata": {
        "id": "NnO2cLz2elG8"
      }
    },
    {
      "cell_type": "code",
      "source": [
        "from sklearn.metrics.pairwise import cosine_similarity\n",
        "cosine_sim = cosine_similarity(tfidf_matrix, tfidf_matrix)\n",
        "cosine_sim.shape"
      ],
      "metadata": {
        "colab": {
          "base_uri": "https://localhost:8080/"
        },
        "id": "vrAtec493-oS",
        "outputId": "0f755c61-8156-404e-8698-a47460d86c61"
      },
      "execution_count": 33,
      "outputs": [
        {
          "output_type": "execute_result",
          "data": {
            "text/plain": [
              "(3883, 3883)"
            ]
          },
          "metadata": {},
          "execution_count": 33
        }
      ]
    },
    {
      "cell_type": "code",
      "source": [
        "titles = movies2['Title']\n",
        "genres = movies2['Genres']\n",
        "indices = pd.Series(movies2.index, index=movies2['Title'])\n",
        "\n",
        "def genre_recommendations(title):\n",
        "    idx = indices[title]\n",
        "    sim_scores = list(enumerate(cosine_sim[idx]))\n",
        "    sim_scores = sorted(sim_scores, key=lambda x: x[1], reverse=True)\n",
        "    sim_scores = sim_scores[1:21]\n",
        "    movie_indices = [i[0] for i in sim_scores]\n",
        "    df = pd.DataFrame(titles.iloc[movie_indices])\n",
        "    df['Genres'] = genres.iloc[movie_indices]\n",
        "    return df"
      ],
      "metadata": {
        "id": "l5ADkezI6PxQ"
      },
      "execution_count": 34,
      "outputs": []
    },
    {
      "cell_type": "code",
      "source": [
        "idx = 5\n",
        "movies2['Title'][idx], movies2['Genres'][idx]\n",
        "print(movies2['Title'][idx], movies2['Genres'][idx])\n",
        "\n",
        "recomendation_user = genre_recommendations(movies2['Title'][idx])\n",
        "recomendation_user.head(10)"
      ],
      "metadata": {
        "colab": {
          "base_uri": "https://localhost:8080/",
          "height": 380
        },
        "id": "EcZ1vq4G6yec",
        "outputId": "7a75562e-0bc3-4c10-9ced-1fd717856379"
      },
      "execution_count": 35,
      "outputs": [
        {
          "output_type": "stream",
          "name": "stdout",
          "text": [
            "Heat (1995) ['Action', 'Crime', 'Thriller']\n"
          ]
        },
        {
          "output_type": "execute_result",
          "data": {
            "text/plain": [
              "                                Title                           Genres\n",
              "168                    Hackers (1995)  ['Action', 'Crime', 'Thriller']\n",
              "2209                     Ronin (1998)  ['Action', 'Crime', 'Thriller']\n",
              "2887  Someone to Watch Over Me (1987)  ['Action', 'Crime', 'Thriller']\n",
              "3694                       F/X (1986)  ['Action', 'Crime', 'Thriller']\n",
              "3695                     F/X 2 (1992)  ['Action', 'Crime', 'Thriller']\n",
              "46               Seven (Se7en) (1995)            ['Crime', 'Thriller']\n",
              "49         Usual Suspects, The (1995)            ['Crime', 'Thriller']\n",
              "517          Romeo Is Bleeding (1993)            ['Crime', 'Thriller']\n",
              "653                Purple Noon (1960)            ['Crime', 'Thriller']\n",
              "1073            Reservoir Dogs (1992)            ['Crime', 'Thriller']"
            ],
            "text/html": [
              "\n",
              "  <div id=\"df-74451458-a66a-4b5c-8408-9c61cbe52f39\">\n",
              "    <div class=\"colab-df-container\">\n",
              "      <div>\n",
              "<style scoped>\n",
              "    .dataframe tbody tr th:only-of-type {\n",
              "        vertical-align: middle;\n",
              "    }\n",
              "\n",
              "    .dataframe tbody tr th {\n",
              "        vertical-align: top;\n",
              "    }\n",
              "\n",
              "    .dataframe thead th {\n",
              "        text-align: right;\n",
              "    }\n",
              "</style>\n",
              "<table border=\"1\" class=\"dataframe\">\n",
              "  <thead>\n",
              "    <tr style=\"text-align: right;\">\n",
              "      <th></th>\n",
              "      <th>Title</th>\n",
              "      <th>Genres</th>\n",
              "    </tr>\n",
              "  </thead>\n",
              "  <tbody>\n",
              "    <tr>\n",
              "      <th>168</th>\n",
              "      <td>Hackers (1995)</td>\n",
              "      <td>['Action', 'Crime', 'Thriller']</td>\n",
              "    </tr>\n",
              "    <tr>\n",
              "      <th>2209</th>\n",
              "      <td>Ronin (1998)</td>\n",
              "      <td>['Action', 'Crime', 'Thriller']</td>\n",
              "    </tr>\n",
              "    <tr>\n",
              "      <th>2887</th>\n",
              "      <td>Someone to Watch Over Me (1987)</td>\n",
              "      <td>['Action', 'Crime', 'Thriller']</td>\n",
              "    </tr>\n",
              "    <tr>\n",
              "      <th>3694</th>\n",
              "      <td>F/X (1986)</td>\n",
              "      <td>['Action', 'Crime', 'Thriller']</td>\n",
              "    </tr>\n",
              "    <tr>\n",
              "      <th>3695</th>\n",
              "      <td>F/X 2 (1992)</td>\n",
              "      <td>['Action', 'Crime', 'Thriller']</td>\n",
              "    </tr>\n",
              "    <tr>\n",
              "      <th>46</th>\n",
              "      <td>Seven (Se7en) (1995)</td>\n",
              "      <td>['Crime', 'Thriller']</td>\n",
              "    </tr>\n",
              "    <tr>\n",
              "      <th>49</th>\n",
              "      <td>Usual Suspects, The (1995)</td>\n",
              "      <td>['Crime', 'Thriller']</td>\n",
              "    </tr>\n",
              "    <tr>\n",
              "      <th>517</th>\n",
              "      <td>Romeo Is Bleeding (1993)</td>\n",
              "      <td>['Crime', 'Thriller']</td>\n",
              "    </tr>\n",
              "    <tr>\n",
              "      <th>653</th>\n",
              "      <td>Purple Noon (1960)</td>\n",
              "      <td>['Crime', 'Thriller']</td>\n",
              "    </tr>\n",
              "    <tr>\n",
              "      <th>1073</th>\n",
              "      <td>Reservoir Dogs (1992)</td>\n",
              "      <td>['Crime', 'Thriller']</td>\n",
              "    </tr>\n",
              "  </tbody>\n",
              "</table>\n",
              "</div>\n",
              "      <button class=\"colab-df-convert\" onclick=\"convertToInteractive('df-74451458-a66a-4b5c-8408-9c61cbe52f39')\"\n",
              "              title=\"Convert this dataframe to an interactive table.\"\n",
              "              style=\"display:none;\">\n",
              "        \n",
              "  <svg xmlns=\"http://www.w3.org/2000/svg\" height=\"24px\"viewBox=\"0 0 24 24\"\n",
              "       width=\"24px\">\n",
              "    <path d=\"M0 0h24v24H0V0z\" fill=\"none\"/>\n",
              "    <path d=\"M18.56 5.44l.94 2.06.94-2.06 2.06-.94-2.06-.94-.94-2.06-.94 2.06-2.06.94zm-11 1L8.5 8.5l.94-2.06 2.06-.94-2.06-.94L8.5 2.5l-.94 2.06-2.06.94zm10 10l.94 2.06.94-2.06 2.06-.94-2.06-.94-.94-2.06-.94 2.06-2.06.94z\"/><path d=\"M17.41 7.96l-1.37-1.37c-.4-.4-.92-.59-1.43-.59-.52 0-1.04.2-1.43.59L10.3 9.45l-7.72 7.72c-.78.78-.78 2.05 0 2.83L4 21.41c.39.39.9.59 1.41.59.51 0 1.02-.2 1.41-.59l7.78-7.78 2.81-2.81c.8-.78.8-2.07 0-2.86zM5.41 20L4 18.59l7.72-7.72 1.47 1.35L5.41 20z\"/>\n",
              "  </svg>\n",
              "      </button>\n",
              "      \n",
              "  <style>\n",
              "    .colab-df-container {\n",
              "      display:flex;\n",
              "      flex-wrap:wrap;\n",
              "      gap: 12px;\n",
              "    }\n",
              "\n",
              "    .colab-df-convert {\n",
              "      background-color: #E8F0FE;\n",
              "      border: none;\n",
              "      border-radius: 50%;\n",
              "      cursor: pointer;\n",
              "      display: none;\n",
              "      fill: #1967D2;\n",
              "      height: 32px;\n",
              "      padding: 0 0 0 0;\n",
              "      width: 32px;\n",
              "    }\n",
              "\n",
              "    .colab-df-convert:hover {\n",
              "      background-color: #E2EBFA;\n",
              "      box-shadow: 0px 1px 2px rgba(60, 64, 67, 0.3), 0px 1px 3px 1px rgba(60, 64, 67, 0.15);\n",
              "      fill: #174EA6;\n",
              "    }\n",
              "\n",
              "    [theme=dark] .colab-df-convert {\n",
              "      background-color: #3B4455;\n",
              "      fill: #D2E3FC;\n",
              "    }\n",
              "\n",
              "    [theme=dark] .colab-df-convert:hover {\n",
              "      background-color: #434B5C;\n",
              "      box-shadow: 0px 1px 3px 1px rgba(0, 0, 0, 0.15);\n",
              "      filter: drop-shadow(0px 1px 2px rgba(0, 0, 0, 0.3));\n",
              "      fill: #FFFFFF;\n",
              "    }\n",
              "  </style>\n",
              "\n",
              "      <script>\n",
              "        const buttonEl =\n",
              "          document.querySelector('#df-74451458-a66a-4b5c-8408-9c61cbe52f39 button.colab-df-convert');\n",
              "        buttonEl.style.display =\n",
              "          google.colab.kernel.accessAllowed ? 'block' : 'none';\n",
              "\n",
              "        async function convertToInteractive(key) {\n",
              "          const element = document.querySelector('#df-74451458-a66a-4b5c-8408-9c61cbe52f39');\n",
              "          const dataTable =\n",
              "            await google.colab.kernel.invokeFunction('convertToInteractive',\n",
              "                                                     [key], {});\n",
              "          if (!dataTable) return;\n",
              "\n",
              "          const docLinkHtml = 'Like what you see? Visit the ' +\n",
              "            '<a target=\"_blank\" href=https://colab.research.google.com/notebooks/data_table.ipynb>data table notebook</a>'\n",
              "            + ' to learn more about interactive tables.';\n",
              "          element.innerHTML = '';\n",
              "          dataTable['output_type'] = 'display_data';\n",
              "          await google.colab.output.renderOutput(dataTable, element);\n",
              "          const docLink = document.createElement('div');\n",
              "          docLink.innerHTML = docLinkHtml;\n",
              "          element.appendChild(docLink);\n",
              "        }\n",
              "      </script>\n",
              "    </div>\n",
              "  </div>\n",
              "  "
            ]
          },
          "metadata": {},
          "execution_count": 35
        }
      ]
    },
    {
      "cell_type": "markdown",
      "source": [
        "dapat dilihat. Bahwa film-film yang direkomendasikan sekarang jauh lebih masuk akal dari pada tadi. "
      ],
      "metadata": {
        "id": "DqAmnxtKfryZ"
      }
    },
    {
      "cell_type": "markdown",
      "source": [
        "# Collaborative Filtering\n",
        "Pada tahap ini saya akan membuat sistem rekomendasi collaborative filtering. Disini saya akan memanfaatkan dataset **ratings**. Nantinya saya akan menggunakan keras pada framework tensorflow dalam membangun sistem rekomendasi ini. saya juga menggunakan library lain seperti numpy."
      ],
      "metadata": {
        "id": "KWcOWMcJJkRY"
      }
    },
    {
      "cell_type": "markdown",
      "source": [
        "### Mencari Missing Value\n"
      ],
      "metadata": {
        "id": "sJaNRc-iwlj8"
      }
    },
    {
      "cell_type": "code",
      "source": [
        "print(ratings.isna().sum())\n",
        "print(ratings.isnull().sum())"
      ],
      "metadata": {
        "colab": {
          "base_uri": "https://localhost:8080/"
        },
        "id": "3TkvbtS8xAc6",
        "outputId": "fd467dce-5cf0-44b6-c76a-9f9f5a9da92d"
      },
      "execution_count": 36,
      "outputs": [
        {
          "output_type": "stream",
          "name": "stdout",
          "text": [
            "UserID       0\n",
            "MovieID      0\n",
            "Rating       0\n",
            "Timestamp    0\n",
            "dtype: int64\n",
            "UserID       0\n",
            "MovieID      0\n",
            "Rating       0\n",
            "Timestamp    0\n",
            "dtype: int64\n"
          ]
        }
      ]
    },
    {
      "cell_type": "markdown",
      "source": [
        "dari kode diatas, dapat dilihat tidak ada _missing value_ atau nilai kosong pada data. sehingga saya langsung menuju ke tahap Data Preparation"
      ],
      "metadata": {
        "id": "-pHuM70fxPNE"
      }
    },
    {
      "cell_type": "markdown",
      "source": [
        "## Data Preprocessing dan Preparation\n",
        "pada tahap ini saya akan melakukan persiapan data sebelum data digunakan untuk melatih model. disini saya melakukan copy pada data ratings."
      ],
      "metadata": {
        "id": "wEkAKNFgx62q"
      }
    },
    {
      "cell_type": "code",
      "source": [
        "import numpy as np"
      ],
      "metadata": {
        "id": "5S_onLea0KMq"
      },
      "execution_count": 37,
      "outputs": []
    },
    {
      "cell_type": "code",
      "source": [
        "ratings3 = ratings.copy()\n",
        "ratings3.info()"
      ],
      "metadata": {
        "id": "I1_2iUd81Tnr",
        "colab": {
          "base_uri": "https://localhost:8080/"
        },
        "outputId": "6cf621ac-6016-455d-82f1-42951dad2a2a"
      },
      "execution_count": 38,
      "outputs": [
        {
          "output_type": "stream",
          "name": "stdout",
          "text": [
            "<class 'pandas.core.frame.DataFrame'>\n",
            "RangeIndex: 1000209 entries, 0 to 1000208\n",
            "Data columns (total 4 columns):\n",
            " #   Column     Non-Null Count    Dtype\n",
            "---  ------     --------------    -----\n",
            " 0   UserID     1000209 non-null  int64\n",
            " 1   MovieID    1000209 non-null  int64\n",
            " 2   Rating     1000209 non-null  int64\n",
            " 3   Timestamp  1000209 non-null  int64\n",
            "dtypes: int64(4)\n",
            "memory usage: 30.5 MB\n"
          ]
        }
      ]
    },
    {
      "cell_type": "markdown",
      "source": [
        "Pada tahap Preprocessing, saya melakukan persiapan data dengan encode fitur `UserID` dan `MovieID`"
      ],
      "metadata": {
        "id": "cj9_523CyuAZ"
      }
    },
    {
      "cell_type": "code",
      "source": [
        "user_ids = ratings3['UserID'].unique().tolist()\n",
        "user2user_encoded = {x: i for i, x in enumerate(user_ids)}\n",
        "userencoded2user = {i: x for i, x in enumerate(user_ids)}\n",
        "print(user2user_encoded)\n",
        "print(userencoded2user)"
      ],
      "metadata": {
        "colab": {
          "base_uri": "https://localhost:8080/"
        },
        "id": "R_kbpdWsE1yW",
        "outputId": "53daa620-6151-44e4-a2ea-caac0e480735"
      },
      "execution_count": 39,
      "outputs": [
        {
          "output_type": "stream",
          "name": "stdout",
          "text": [
            "{1: 0, 2: 1, 3: 2, 4: 3, 5: 4, 6: 5, 7: 6, 8: 7, 9: 8, 10: 9, 11: 10, 12: 11, 13: 12, 14: 13, 15: 14, 16: 15, 17: 16, 18: 17, 19: 18, 20: 19, 21: 20, 22: 21, 23: 22, 24: 23, 25: 24, 26: 25, 27: 26, 28: 27, 29: 28, 30: 29, 31: 30, 32: 31, 33: 32, 34: 33, 35: 34, 36: 35, 37: 36, 38: 37, 39: 38, 40: 39, 41: 40, 42: 41, 43: 42, 44: 43, 45: 44, 46: 45, 47: 46, 48: 47, 49: 48, 50: 49, 51: 50, 52: 51, 53: 52, 54: 53, 55: 54, 56: 55, 57: 56, 58: 57, 59: 58, 60: 59, 61: 60, 62: 61, 63: 62, 64: 63, 65: 64, 66: 65, 67: 66, 68: 67, 69: 68, 70: 69, 71: 70, 72: 71, 73: 72, 74: 73, 75: 74, 76: 75, 77: 76, 78: 77, 79: 78, 80: 79, 81: 80, 82: 81, 83: 82, 84: 83, 85: 84, 86: 85, 87: 86, 88: 87, 89: 88, 90: 89, 91: 90, 92: 91, 93: 92, 94: 93, 95: 94, 96: 95, 97: 96, 98: 97, 99: 98, 100: 99, 101: 100, 102: 101, 103: 102, 104: 103, 105: 104, 106: 105, 107: 106, 108: 107, 109: 108, 110: 109, 111: 110, 112: 111, 113: 112, 114: 113, 115: 114, 116: 115, 117: 116, 118: 117, 119: 118, 120: 119, 121: 120, 122: 121, 123: 122, 124: 123, 125: 124, 126: 125, 127: 126, 128: 127, 129: 128, 130: 129, 131: 130, 132: 131, 133: 132, 134: 133, 135: 134, 136: 135, 137: 136, 138: 137, 139: 138, 140: 139, 141: 140, 142: 141, 143: 142, 144: 143, 145: 144, 146: 145, 147: 146, 148: 147, 149: 148, 150: 149, 151: 150, 152: 151, 153: 152, 154: 153, 155: 154, 156: 155, 157: 156, 158: 157, 159: 158, 160: 159, 161: 160, 162: 161, 163: 162, 164: 163, 165: 164, 166: 165, 167: 166, 168: 167, 169: 168, 170: 169, 171: 170, 172: 171, 173: 172, 174: 173, 175: 174, 176: 175, 177: 176, 178: 177, 179: 178, 180: 179, 181: 180, 182: 181, 183: 182, 184: 183, 185: 184, 186: 185, 187: 186, 188: 187, 189: 188, 190: 189, 191: 190, 192: 191, 193: 192, 194: 193, 195: 194, 196: 195, 197: 196, 198: 197, 199: 198, 200: 199, 201: 200, 202: 201, 203: 202, 204: 203, 205: 204, 206: 205, 207: 206, 208: 207, 209: 208, 210: 209, 211: 210, 212: 211, 213: 212, 214: 213, 215: 214, 216: 215, 217: 216, 218: 217, 219: 218, 220: 219, 221: 220, 222: 221, 223: 222, 224: 223, 225: 224, 226: 225, 227: 226, 228: 227, 229: 228, 230: 229, 231: 230, 232: 231, 233: 232, 234: 233, 235: 234, 236: 235, 237: 236, 238: 237, 239: 238, 240: 239, 241: 240, 242: 241, 243: 242, 244: 243, 245: 244, 246: 245, 247: 246, 248: 247, 249: 248, 250: 249, 251: 250, 252: 251, 253: 252, 254: 253, 255: 254, 256: 255, 257: 256, 258: 257, 259: 258, 260: 259, 261: 260, 262: 261, 263: 262, 264: 263, 265: 264, 266: 265, 267: 266, 268: 267, 269: 268, 270: 269, 271: 270, 272: 271, 273: 272, 274: 273, 275: 274, 276: 275, 277: 276, 278: 277, 279: 278, 280: 279, 281: 280, 282: 281, 283: 282, 284: 283, 285: 284, 286: 285, 287: 286, 288: 287, 289: 288, 290: 289, 291: 290, 292: 291, 293: 292, 294: 293, 295: 294, 296: 295, 297: 296, 298: 297, 299: 298, 300: 299, 301: 300, 302: 301, 303: 302, 304: 303, 305: 304, 306: 305, 307: 306, 308: 307, 309: 308, 310: 309, 311: 310, 312: 311, 313: 312, 314: 313, 315: 314, 316: 315, 317: 316, 318: 317, 319: 318, 320: 319, 321: 320, 322: 321, 323: 322, 324: 323, 325: 324, 326: 325, 327: 326, 328: 327, 329: 328, 330: 329, 331: 330, 332: 331, 333: 332, 334: 333, 335: 334, 336: 335, 337: 336, 338: 337, 339: 338, 340: 339, 341: 340, 342: 341, 343: 342, 344: 343, 345: 344, 346: 345, 347: 346, 348: 347, 349: 348, 350: 349, 351: 350, 352: 351, 353: 352, 354: 353, 355: 354, 356: 355, 357: 356, 358: 357, 359: 358, 360: 359, 361: 360, 362: 361, 363: 362, 364: 363, 365: 364, 366: 365, 367: 366, 368: 367, 369: 368, 370: 369, 371: 370, 372: 371, 373: 372, 374: 373, 375: 374, 376: 375, 377: 376, 378: 377, 379: 378, 380: 379, 381: 380, 382: 381, 383: 382, 384: 383, 385: 384, 386: 385, 387: 386, 388: 387, 389: 388, 390: 389, 391: 390, 392: 391, 393: 392, 394: 393, 395: 394, 396: 395, 397: 396, 398: 397, 399: 398, 400: 399, 401: 400, 402: 401, 403: 402, 404: 403, 405: 404, 406: 405, 407: 406, 408: 407, 409: 408, 410: 409, 411: 410, 412: 411, 413: 412, 414: 413, 415: 414, 416: 415, 417: 416, 418: 417, 419: 418, 420: 419, 421: 420, 422: 421, 423: 422, 424: 423, 425: 424, 426: 425, 427: 426, 428: 427, 429: 428, 430: 429, 431: 430, 432: 431, 433: 432, 434: 433, 435: 434, 436: 435, 437: 436, 438: 437, 439: 438, 440: 439, 441: 440, 442: 441, 443: 442, 444: 443, 445: 444, 446: 445, 447: 446, 448: 447, 449: 448, 450: 449, 451: 450, 452: 451, 453: 452, 454: 453, 455: 454, 456: 455, 457: 456, 458: 457, 459: 458, 460: 459, 461: 460, 462: 461, 463: 462, 464: 463, 465: 464, 466: 465, 467: 466, 468: 467, 469: 468, 470: 469, 471: 470, 472: 471, 473: 472, 474: 473, 475: 474, 476: 475, 477: 476, 478: 477, 479: 478, 480: 479, 481: 480, 482: 481, 483: 482, 484: 483, 485: 484, 486: 485, 487: 486, 488: 487, 489: 488, 490: 489, 491: 490, 492: 491, 493: 492, 494: 493, 495: 494, 496: 495, 497: 496, 498: 497, 499: 498, 500: 499, 501: 500, 502: 501, 503: 502, 504: 503, 505: 504, 506: 505, 507: 506, 508: 507, 509: 508, 510: 509, 511: 510, 512: 511, 513: 512, 514: 513, 515: 514, 516: 515, 517: 516, 518: 517, 519: 518, 520: 519, 521: 520, 522: 521, 523: 522, 524: 523, 525: 524, 526: 525, 527: 526, 528: 527, 529: 528, 530: 529, 531: 530, 532: 531, 533: 532, 534: 533, 535: 534, 536: 535, 537: 536, 538: 537, 539: 538, 540: 539, 541: 540, 542: 541, 543: 542, 544: 543, 545: 544, 546: 545, 547: 546, 548: 547, 549: 548, 550: 549, 551: 550, 552: 551, 553: 552, 554: 553, 555: 554, 556: 555, 557: 556, 558: 557, 559: 558, 560: 559, 561: 560, 562: 561, 563: 562, 564: 563, 565: 564, 566: 565, 567: 566, 568: 567, 569: 568, 570: 569, 571: 570, 572: 571, 573: 572, 574: 573, 575: 574, 576: 575, 577: 576, 578: 577, 579: 578, 580: 579, 581: 580, 582: 581, 583: 582, 584: 583, 585: 584, 586: 585, 587: 586, 588: 587, 589: 588, 590: 589, 591: 590, 592: 591, 593: 592, 594: 593, 595: 594, 596: 595, 597: 596, 598: 597, 599: 598, 600: 599, 601: 600, 602: 601, 603: 602, 604: 603, 605: 604, 606: 605, 607: 606, 608: 607, 609: 608, 610: 609, 611: 610, 612: 611, 613: 612, 614: 613, 615: 614, 616: 615, 617: 616, 618: 617, 619: 618, 620: 619, 621: 620, 622: 621, 623: 622, 624: 623, 625: 624, 626: 625, 627: 626, 628: 627, 629: 628, 630: 629, 631: 630, 632: 631, 633: 632, 634: 633, 635: 634, 636: 635, 637: 636, 638: 637, 639: 638, 640: 639, 641: 640, 642: 641, 643: 642, 644: 643, 645: 644, 646: 645, 647: 646, 648: 647, 649: 648, 650: 649, 651: 650, 652: 651, 653: 652, 654: 653, 655: 654, 656: 655, 657: 656, 658: 657, 659: 658, 660: 659, 661: 660, 662: 661, 663: 662, 664: 663, 665: 664, 666: 665, 667: 666, 668: 667, 669: 668, 670: 669, 671: 670, 672: 671, 673: 672, 674: 673, 675: 674, 676: 675, 677: 676, 678: 677, 679: 678, 680: 679, 681: 680, 682: 681, 683: 682, 684: 683, 685: 684, 686: 685, 687: 686, 688: 687, 689: 688, 690: 689, 691: 690, 692: 691, 693: 692, 694: 693, 695: 694, 696: 695, 697: 696, 698: 697, 699: 698, 700: 699, 701: 700, 702: 701, 703: 702, 704: 703, 705: 704, 706: 705, 707: 706, 708: 707, 709: 708, 710: 709, 711: 710, 712: 711, 713: 712, 714: 713, 715: 714, 716: 715, 717: 716, 718: 717, 719: 718, 720: 719, 721: 720, 722: 721, 723: 722, 724: 723, 725: 724, 726: 725, 727: 726, 728: 727, 729: 728, 730: 729, 731: 730, 732: 731, 733: 732, 734: 733, 735: 734, 736: 735, 737: 736, 738: 737, 739: 738, 740: 739, 741: 740, 742: 741, 743: 742, 744: 743, 745: 744, 746: 745, 747: 746, 748: 747, 749: 748, 750: 749, 751: 750, 752: 751, 753: 752, 754: 753, 755: 754, 756: 755, 757: 756, 758: 757, 759: 758, 760: 759, 761: 760, 762: 761, 763: 762, 764: 763, 765: 764, 766: 765, 767: 766, 768: 767, 769: 768, 770: 769, 771: 770, 772: 771, 773: 772, 774: 773, 775: 774, 776: 775, 777: 776, 778: 777, 779: 778, 780: 779, 781: 780, 782: 781, 783: 782, 784: 783, 785: 784, 786: 785, 787: 786, 788: 787, 789: 788, 790: 789, 791: 790, 792: 791, 793: 792, 794: 793, 795: 794, 796: 795, 797: 796, 798: 797, 799: 798, 800: 799, 801: 800, 802: 801, 803: 802, 804: 803, 805: 804, 806: 805, 807: 806, 808: 807, 809: 808, 810: 809, 811: 810, 812: 811, 813: 812, 814: 813, 815: 814, 816: 815, 817: 816, 818: 817, 819: 818, 820: 819, 821: 820, 822: 821, 823: 822, 824: 823, 825: 824, 826: 825, 827: 826, 828: 827, 829: 828, 830: 829, 831: 830, 832: 831, 833: 832, 834: 833, 835: 834, 836: 835, 837: 836, 838: 837, 839: 838, 840: 839, 841: 840, 842: 841, 843: 842, 844: 843, 845: 844, 846: 845, 847: 846, 848: 847, 849: 848, 850: 849, 851: 850, 852: 851, 853: 852, 854: 853, 855: 854, 856: 855, 857: 856, 858: 857, 859: 858, 860: 859, 861: 860, 862: 861, 863: 862, 864: 863, 865: 864, 866: 865, 867: 866, 868: 867, 869: 868, 870: 869, 871: 870, 872: 871, 873: 872, 874: 873, 875: 874, 876: 875, 877: 876, 878: 877, 879: 878, 880: 879, 881: 880, 882: 881, 883: 882, 884: 883, 885: 884, 886: 885, 887: 886, 888: 887, 889: 888, 890: 889, 891: 890, 892: 891, 893: 892, 894: 893, 895: 894, 896: 895, 897: 896, 898: 897, 899: 898, 900: 899, 901: 900, 902: 901, 903: 902, 904: 903, 905: 904, 906: 905, 907: 906, 908: 907, 909: 908, 910: 909, 911: 910, 912: 911, 913: 912, 914: 913, 915: 914, 916: 915, 917: 916, 918: 917, 919: 918, 920: 919, 921: 920, 922: 921, 923: 922, 924: 923, 925: 924, 926: 925, 927: 926, 928: 927, 929: 928, 930: 929, 931: 930, 932: 931, 933: 932, 934: 933, 935: 934, 936: 935, 937: 936, 938: 937, 939: 938, 940: 939, 941: 940, 942: 941, 943: 942, 944: 943, 945: 944, 946: 945, 947: 946, 948: 947, 949: 948, 950: 949, 951: 950, 952: 951, 953: 952, 954: 953, 955: 954, 956: 955, 957: 956, 958: 957, 959: 958, 960: 959, 961: 960, 962: 961, 963: 962, 964: 963, 965: 964, 966: 965, 967: 966, 968: 967, 969: 968, 970: 969, 971: 970, 972: 971, 973: 972, 974: 973, 975: 974, 976: 975, 977: 976, 978: 977, 979: 978, 980: 979, 981: 980, 982: 981, 983: 982, 984: 983, 985: 984, 986: 985, 987: 986, 988: 987, 989: 988, 990: 989, 991: 990, 992: 991, 993: 992, 994: 993, 995: 994, 996: 995, 997: 996, 998: 997, 999: 998, 1000: 999, 1001: 1000, 1002: 1001, 1003: 1002, 1004: 1003, 1005: 1004, 1006: 1005, 1007: 1006, 1008: 1007, 1009: 1008, 1010: 1009, 1011: 1010, 1012: 1011, 1013: 1012, 1014: 1013, 1015: 1014, 1016: 1015, 1017: 1016, 1018: 1017, 1019: 1018, 1020: 1019, 1021: 1020, 1022: 1021, 1023: 1022, 1024: 1023, 1025: 1024, 1026: 1025, 1027: 1026, 1028: 1027, 1029: 1028, 1030: 1029, 1031: 1030, 1032: 1031, 1033: 1032, 1034: 1033, 1035: 1034, 1036: 1035, 1037: 1036, 1038: 1037, 1039: 1038, 1040: 1039, 1041: 1040, 1042: 1041, 1043: 1042, 1044: 1043, 1045: 1044, 1046: 1045, 1047: 1046, 1048: 1047, 1049: 1048, 1050: 1049, 1051: 1050, 1052: 1051, 1053: 1052, 1054: 1053, 1055: 1054, 1056: 1055, 1057: 1056, 1058: 1057, 1059: 1058, 1060: 1059, 1061: 1060, 1062: 1061, 1063: 1062, 1064: 1063, 1065: 1064, 1066: 1065, 1067: 1066, 1068: 1067, 1069: 1068, 1070: 1069, 1071: 1070, 1072: 1071, 1073: 1072, 1074: 1073, 1075: 1074, 1076: 1075, 1077: 1076, 1078: 1077, 1079: 1078, 1080: 1079, 1081: 1080, 1082: 1081, 1083: 1082, 1084: 1083, 1085: 1084, 1086: 1085, 1087: 1086, 1088: 1087, 1089: 1088, 1090: 1089, 1091: 1090, 1092: 1091, 1093: 1092, 1094: 1093, 1095: 1094, 1096: 1095, 1097: 1096, 1098: 1097, 1099: 1098, 1100: 1099, 1101: 1100, 1102: 1101, 1103: 1102, 1104: 1103, 1105: 1104, 1106: 1105, 1107: 1106, 1108: 1107, 1109: 1108, 1110: 1109, 1111: 1110, 1112: 1111, 1113: 1112, 1114: 1113, 1115: 1114, 1116: 1115, 1117: 1116, 1118: 1117, 1119: 1118, 1120: 1119, 1121: 1120, 1122: 1121, 1123: 1122, 1124: 1123, 1125: 1124, 1126: 1125, 1127: 1126, 1128: 1127, 1129: 1128, 1130: 1129, 1131: 1130, 1132: 1131, 1133: 1132, 1134: 1133, 1135: 1134, 1136: 1135, 1137: 1136, 1138: 1137, 1139: 1138, 1140: 1139, 1141: 1140, 1142: 1141, 1143: 1142, 1144: 1143, 1145: 1144, 1146: 1145, 1147: 1146, 1148: 1147, 1149: 1148, 1150: 1149, 1151: 1150, 1152: 1151, 1153: 1152, 1154: 1153, 1155: 1154, 1156: 1155, 1157: 1156, 1158: 1157, 1159: 1158, 1160: 1159, 1161: 1160, 1162: 1161, 1163: 1162, 1164: 1163, 1165: 1164, 1166: 1165, 1167: 1166, 1168: 1167, 1169: 1168, 1170: 1169, 1171: 1170, 1172: 1171, 1173: 1172, 1174: 1173, 1175: 1174, 1176: 1175, 1177: 1176, 1178: 1177, 1179: 1178, 1180: 1179, 1181: 1180, 1182: 1181, 1183: 1182, 1184: 1183, 1185: 1184, 1186: 1185, 1187: 1186, 1188: 1187, 1189: 1188, 1190: 1189, 1191: 1190, 1192: 1191, 1193: 1192, 1194: 1193, 1195: 1194, 1196: 1195, 1197: 1196, 1198: 1197, 1199: 1198, 1200: 1199, 1201: 1200, 1202: 1201, 1203: 1202, 1204: 1203, 1205: 1204, 1206: 1205, 1207: 1206, 1208: 1207, 1209: 1208, 1210: 1209, 1211: 1210, 1212: 1211, 1213: 1212, 1214: 1213, 1215: 1214, 1216: 1215, 1217: 1216, 1218: 1217, 1219: 1218, 1220: 1219, 1221: 1220, 1222: 1221, 1223: 1222, 1224: 1223, 1225: 1224, 1226: 1225, 1227: 1226, 1228: 1227, 1229: 1228, 1230: 1229, 1231: 1230, 1232: 1231, 1233: 1232, 1234: 1233, 1235: 1234, 1236: 1235, 1237: 1236, 1238: 1237, 1239: 1238, 1240: 1239, 1241: 1240, 1242: 1241, 1243: 1242, 1244: 1243, 1245: 1244, 1246: 1245, 1247: 1246, 1248: 1247, 1249: 1248, 1250: 1249, 1251: 1250, 1252: 1251, 1253: 1252, 1254: 1253, 1255: 1254, 1256: 1255, 1257: 1256, 1258: 1257, 1259: 1258, 1260: 1259, 1261: 1260, 1262: 1261, 1263: 1262, 1264: 1263, 1265: 1264, 1266: 1265, 1267: 1266, 1268: 1267, 1269: 1268, 1270: 1269, 1271: 1270, 1272: 1271, 1273: 1272, 1274: 1273, 1275: 1274, 1276: 1275, 1277: 1276, 1278: 1277, 1279: 1278, 1280: 1279, 1281: 1280, 1282: 1281, 1283: 1282, 1284: 1283, 1285: 1284, 1286: 1285, 1287: 1286, 1288: 1287, 1289: 1288, 1290: 1289, 1291: 1290, 1292: 1291, 1293: 1292, 1294: 1293, 1295: 1294, 1296: 1295, 1297: 1296, 1298: 1297, 1299: 1298, 1300: 1299, 1301: 1300, 1302: 1301, 1303: 1302, 1304: 1303, 1305: 1304, 1306: 1305, 1307: 1306, 1308: 1307, 1309: 1308, 1310: 1309, 1311: 1310, 1312: 1311, 1313: 1312, 1314: 1313, 1315: 1314, 1316: 1315, 1317: 1316, 1318: 1317, 1319: 1318, 1320: 1319, 1321: 1320, 1322: 1321, 1323: 1322, 1324: 1323, 1325: 1324, 1326: 1325, 1327: 1326, 1328: 1327, 1329: 1328, 1330: 1329, 1331: 1330, 1332: 1331, 1333: 1332, 1334: 1333, 1335: 1334, 1336: 1335, 1337: 1336, 1338: 1337, 1339: 1338, 1340: 1339, 1341: 1340, 1342: 1341, 1343: 1342, 1344: 1343, 1345: 1344, 1346: 1345, 1347: 1346, 1348: 1347, 1349: 1348, 1350: 1349, 1351: 1350, 1352: 1351, 1353: 1352, 1354: 1353, 1355: 1354, 1356: 1355, 1357: 1356, 1358: 1357, 1359: 1358, 1360: 1359, 1361: 1360, 1362: 1361, 1363: 1362, 1364: 1363, 1365: 1364, 1366: 1365, 1367: 1366, 1368: 1367, 1369: 1368, 1370: 1369, 1371: 1370, 1372: 1371, 1373: 1372, 1374: 1373, 1375: 1374, 1376: 1375, 1377: 1376, 1378: 1377, 1379: 1378, 1380: 1379, 1381: 1380, 1382: 1381, 1383: 1382, 1384: 1383, 1385: 1384, 1386: 1385, 1387: 1386, 1388: 1387, 1389: 1388, 1390: 1389, 1391: 1390, 1392: 1391, 1393: 1392, 1394: 1393, 1395: 1394, 1396: 1395, 1397: 1396, 1398: 1397, 1399: 1398, 1400: 1399, 1401: 1400, 1402: 1401, 1403: 1402, 1404: 1403, 1405: 1404, 1406: 1405, 1407: 1406, 1408: 1407, 1409: 1408, 1410: 1409, 1411: 1410, 1412: 1411, 1413: 1412, 1414: 1413, 1415: 1414, 1416: 1415, 1417: 1416, 1418: 1417, 1419: 1418, 1420: 1419, 1421: 1420, 1422: 1421, 1423: 1422, 1424: 1423, 1425: 1424, 1426: 1425, 1427: 1426, 1428: 1427, 1429: 1428, 1430: 1429, 1431: 1430, 1432: 1431, 1433: 1432, 1434: 1433, 1435: 1434, 1436: 1435, 1437: 1436, 1438: 1437, 1439: 1438, 1440: 1439, 1441: 1440, 1442: 1441, 1443: 1442, 1444: 1443, 1445: 1444, 1446: 1445, 1447: 1446, 1448: 1447, 1449: 1448, 1450: 1449, 1451: 1450, 1452: 1451, 1453: 1452, 1454: 1453, 1455: 1454, 1456: 1455, 1457: 1456, 1458: 1457, 1459: 1458, 1460: 1459, 1461: 1460, 1462: 1461, 1463: 1462, 1464: 1463, 1465: 1464, 1466: 1465, 1467: 1466, 1468: 1467, 1469: 1468, 1470: 1469, 1471: 1470, 1472: 1471, 1473: 1472, 1474: 1473, 1475: 1474, 1476: 1475, 1477: 1476, 1478: 1477, 1479: 1478, 1480: 1479, 1481: 1480, 1482: 1481, 1483: 1482, 1484: 1483, 1485: 1484, 1486: 1485, 1487: 1486, 1488: 1487, 1489: 1488, 1490: 1489, 1491: 1490, 1492: 1491, 1493: 1492, 1494: 1493, 1495: 1494, 1496: 1495, 1497: 1496, 1498: 1497, 1499: 1498, 1500: 1499, 1501: 1500, 1502: 1501, 1503: 1502, 1504: 1503, 1505: 1504, 1506: 1505, 1507: 1506, 1508: 1507, 1509: 1508, 1510: 1509, 1511: 1510, 1512: 1511, 1513: 1512, 1514: 1513, 1515: 1514, 1516: 1515, 1517: 1516, 1518: 1517, 1519: 1518, 1520: 1519, 1521: 1520, 1522: 1521, 1523: 1522, 1524: 1523, 1525: 1524, 1526: 1525, 1527: 1526, 1528: 1527, 1529: 1528, 1530: 1529, 1531: 1530, 1532: 1531, 1533: 1532, 1534: 1533, 1535: 1534, 1536: 1535, 1537: 1536, 1538: 1537, 1539: 1538, 1540: 1539, 1541: 1540, 1542: 1541, 1543: 1542, 1544: 1543, 1545: 1544, 1546: 1545, 1547: 1546, 1548: 1547, 1549: 1548, 1550: 1549, 1551: 1550, 1552: 1551, 1553: 1552, 1554: 1553, 1555: 1554, 1556: 1555, 1557: 1556, 1558: 1557, 1559: 1558, 1560: 1559, 1561: 1560, 1562: 1561, 1563: 1562, 1564: 1563, 1565: 1564, 1566: 1565, 1567: 1566, 1568: 1567, 1569: 1568, 1570: 1569, 1571: 1570, 1572: 1571, 1573: 1572, 1574: 1573, 1575: 1574, 1576: 1575, 1577: 1576, 1578: 1577, 1579: 1578, 1580: 1579, 1581: 1580, 1582: 1581, 1583: 1582, 1584: 1583, 1585: 1584, 1586: 1585, 1587: 1586, 1588: 1587, 1589: 1588, 1590: 1589, 1591: 1590, 1592: 1591, 1593: 1592, 1594: 1593, 1595: 1594, 1596: 1595, 1597: 1596, 1598: 1597, 1599: 1598, 1600: 1599, 1601: 1600, 1602: 1601, 1603: 1602, 1604: 1603, 1605: 1604, 1606: 1605, 1607: 1606, 1608: 1607, 1609: 1608, 1610: 1609, 1611: 1610, 1612: 1611, 1613: 1612, 1614: 1613, 1615: 1614, 1616: 1615, 1617: 1616, 1618: 1617, 1619: 1618, 1620: 1619, 1621: 1620, 1622: 1621, 1623: 1622, 1624: 1623, 1625: 1624, 1626: 1625, 1627: 1626, 1628: 1627, 1629: 1628, 1630: 1629, 1631: 1630, 1632: 1631, 1633: 1632, 1634: 1633, 1635: 1634, 1636: 1635, 1637: 1636, 1638: 1637, 1639: 1638, 1640: 1639, 1641: 1640, 1642: 1641, 1643: 1642, 1644: 1643, 1645: 1644, 1646: 1645, 1647: 1646, 1648: 1647, 1649: 1648, 1650: 1649, 1651: 1650, 1652: 1651, 1653: 1652, 1654: 1653, 1655: 1654, 1656: 1655, 1657: 1656, 1658: 1657, 1659: 1658, 1660: 1659, 1661: 1660, 1662: 1661, 1663: 1662, 1664: 1663, 1665: 1664, 1666: 1665, 1667: 1666, 1668: 1667, 1669: 1668, 1670: 1669, 1671: 1670, 1672: 1671, 1673: 1672, 1674: 1673, 1675: 1674, 1676: 1675, 1677: 1676, 1678: 1677, 1679: 1678, 1680: 1679, 1681: 1680, 1682: 1681, 1683: 1682, 1684: 1683, 1685: 1684, 1686: 1685, 1687: 1686, 1688: 1687, 1689: 1688, 1690: 1689, 1691: 1690, 1692: 1691, 1693: 1692, 1694: 1693, 1695: 1694, 1696: 1695, 1697: 1696, 1698: 1697, 1699: 1698, 1700: 1699, 1701: 1700, 1702: 1701, 1703: 1702, 1704: 1703, 1705: 1704, 1706: 1705, 1707: 1706, 1708: 1707, 1709: 1708, 1710: 1709, 1711: 1710, 1712: 1711, 1713: 1712, 1714: 1713, 1715: 1714, 1716: 1715, 1717: 1716, 1718: 1717, 1719: 1718, 1720: 1719, 1721: 1720, 1722: 1721, 1723: 1722, 1724: 1723, 1725: 1724, 1726: 1725, 1727: 1726, 1728: 1727, 1729: 1728, 1730: 1729, 1731: 1730, 1732: 1731, 1733: 1732, 1734: 1733, 1735: 1734, 1736: 1735, 1737: 1736, 1738: 1737, 1739: 1738, 1740: 1739, 1741: 1740, 1742: 1741, 1743: 1742, 1744: 1743, 1745: 1744, 1746: 1745, 1747: 1746, 1748: 1747, 1749: 1748, 1750: 1749, 1751: 1750, 1752: 1751, 1753: 1752, 1754: 1753, 1755: 1754, 1756: 1755, 1757: 1756, 1758: 1757, 1759: 1758, 1760: 1759, 1761: 1760, 1762: 1761, 1763: 1762, 1764: 1763, 1765: 1764, 1766: 1765, 1767: 1766, 1768: 1767, 1769: 1768, 1770: 1769, 1771: 1770, 1772: 1771, 1773: 1772, 1774: 1773, 1775: 1774, 1776: 1775, 1777: 1776, 1778: 1777, 1779: 1778, 1780: 1779, 1781: 1780, 1782: 1781, 1783: 1782, 1784: 1783, 1785: 1784, 1786: 1785, 1787: 1786, 1788: 1787, 1789: 1788, 1790: 1789, 1791: 1790, 1792: 1791, 1793: 1792, 1794: 1793, 1795: 1794, 1796: 1795, 1797: 1796, 1798: 1797, 1799: 1798, 1800: 1799, 1801: 1800, 1802: 1801, 1803: 1802, 1804: 1803, 1805: 1804, 1806: 1805, 1807: 1806, 1808: 1807, 1809: 1808, 1810: 1809, 1811: 1810, 1812: 1811, 1813: 1812, 1814: 1813, 1815: 1814, 1816: 1815, 1817: 1816, 1818: 1817, 1819: 1818, 1820: 1819, 1821: 1820, 1822: 1821, 1823: 1822, 1824: 1823, 1825: 1824, 1826: 1825, 1827: 1826, 1828: 1827, 1829: 1828, 1830: 1829, 1831: 1830, 1832: 1831, 1833: 1832, 1834: 1833, 1835: 1834, 1836: 1835, 1837: 1836, 1838: 1837, 1839: 1838, 1840: 1839, 1841: 1840, 1842: 1841, 1843: 1842, 1844: 1843, 1845: 1844, 1846: 1845, 1847: 1846, 1848: 1847, 1849: 1848, 1850: 1849, 1851: 1850, 1852: 1851, 1853: 1852, 1854: 1853, 1855: 1854, 1856: 1855, 1857: 1856, 1858: 1857, 1859: 1858, 1860: 1859, 1861: 1860, 1862: 1861, 1863: 1862, 1864: 1863, 1865: 1864, 1866: 1865, 1867: 1866, 1868: 1867, 1869: 1868, 1870: 1869, 1871: 1870, 1872: 1871, 1873: 1872, 1874: 1873, 1875: 1874, 1876: 1875, 1877: 1876, 1878: 1877, 1879: 1878, 1880: 1879, 1881: 1880, 1882: 1881, 1883: 1882, 1884: 1883, 1885: 1884, 1886: 1885, 1887: 1886, 1888: 1887, 1889: 1888, 1890: 1889, 1891: 1890, 1892: 1891, 1893: 1892, 1894: 1893, 1895: 1894, 1896: 1895, 1897: 1896, 1898: 1897, 1899: 1898, 1900: 1899, 1901: 1900, 1902: 1901, 1903: 1902, 1904: 1903, 1905: 1904, 1906: 1905, 1907: 1906, 1908: 1907, 1909: 1908, 1910: 1909, 1911: 1910, 1912: 1911, 1913: 1912, 1914: 1913, 1915: 1914, 1916: 1915, 1917: 1916, 1918: 1917, 1919: 1918, 1920: 1919, 1921: 1920, 1922: 1921, 1923: 1922, 1924: 1923, 1925: 1924, 1926: 1925, 1927: 1926, 1928: 1927, 1929: 1928, 1930: 1929, 1931: 1930, 1932: 1931, 1933: 1932, 1934: 1933, 1935: 1934, 1936: 1935, 1937: 1936, 1938: 1937, 1939: 1938, 1940: 1939, 1941: 1940, 1942: 1941, 1943: 1942, 1944: 1943, 1945: 1944, 1946: 1945, 1947: 1946, 1948: 1947, 1949: 1948, 1950: 1949, 1951: 1950, 1952: 1951, 1953: 1952, 1954: 1953, 1955: 1954, 1956: 1955, 1957: 1956, 1958: 1957, 1959: 1958, 1960: 1959, 1961: 1960, 1962: 1961, 1963: 1962, 1964: 1963, 1965: 1964, 1966: 1965, 1967: 1966, 1968: 1967, 1969: 1968, 1970: 1969, 1971: 1970, 1972: 1971, 1973: 1972, 1974: 1973, 1975: 1974, 1976: 1975, 1977: 1976, 1978: 1977, 1979: 1978, 1980: 1979, 1981: 1980, 1982: 1981, 1983: 1982, 1984: 1983, 1985: 1984, 1986: 1985, 1987: 1986, 1988: 1987, 1989: 1988, 1990: 1989, 1991: 1990, 1992: 1991, 1993: 1992, 1994: 1993, 1995: 1994, 1996: 1995, 1997: 1996, 1998: 1997, 1999: 1998, 2000: 1999, 2001: 2000, 2002: 2001, 2003: 2002, 2004: 2003, 2005: 2004, 2006: 2005, 2007: 2006, 2008: 2007, 2009: 2008, 2010: 2009, 2011: 2010, 2012: 2011, 2013: 2012, 2014: 2013, 2015: 2014, 2016: 2015, 2017: 2016, 2018: 2017, 2019: 2018, 2020: 2019, 2021: 2020, 2022: 2021, 2023: 2022, 2024: 2023, 2025: 2024, 2026: 2025, 2027: 2026, 2028: 2027, 2029: 2028, 2030: 2029, 2031: 2030, 2032: 2031, 2033: 2032, 2034: 2033, 2035: 2034, 2036: 2035, 2037: 2036, 2038: 2037, 2039: 2038, 2040: 2039, 2041: 2040, 2042: 2041, 2043: 2042, 2044: 2043, 2045: 2044, 2046: 2045, 2047: 2046, 2048: 2047, 2049: 2048, 2050: 2049, 2051: 2050, 2052: 2051, 2053: 2052, 2054: 2053, 2055: 2054, 2056: 2055, 2057: 2056, 2058: 2057, 2059: 2058, 2060: 2059, 2061: 2060, 2062: 2061, 2063: 2062, 2064: 2063, 2065: 2064, 2066: 2065, 2067: 2066, 2068: 2067, 2069: 2068, 2070: 2069, 2071: 2070, 2072: 2071, 2073: 2072, 2074: 2073, 2075: 2074, 2076: 2075, 2077: 2076, 2078: 2077, 2079: 2078, 2080: 2079, 2081: 2080, 2082: 2081, 2083: 2082, 2084: 2083, 2085: 2084, 2086: 2085, 2087: 2086, 2088: 2087, 2089: 2088, 2090: 2089, 2091: 2090, 2092: 2091, 2093: 2092, 2094: 2093, 2095: 2094, 2096: 2095, 2097: 2096, 2098: 2097, 2099: 2098, 2100: 2099, 2101: 2100, 2102: 2101, 2103: 2102, 2104: 2103, 2105: 2104, 2106: 2105, 2107: 2106, 2108: 2107, 2109: 2108, 2110: 2109, 2111: 2110, 2112: 2111, 2113: 2112, 2114: 2113, 2115: 2114, 2116: 2115, 2117: 2116, 2118: 2117, 2119: 2118, 2120: 2119, 2121: 2120, 2122: 2121, 2123: 2122, 2124: 2123, 2125: 2124, 2126: 2125, 2127: 2126, 2128: 2127, 2129: 2128, 2130: 2129, 2131: 2130, 2132: 2131, 2133: 2132, 2134: 2133, 2135: 2134, 2136: 2135, 2137: 2136, 2138: 2137, 2139: 2138, 2140: 2139, 2141: 2140, 2142: 2141, 2143: 2142, 2144: 2143, 2145: 2144, 2146: 2145, 2147: 2146, 2148: 2147, 2149: 2148, 2150: 2149, 2151: 2150, 2152: 2151, 2153: 2152, 2154: 2153, 2155: 2154, 2156: 2155, 2157: 2156, 2158: 2157, 2159: 2158, 2160: 2159, 2161: 2160, 2162: 2161, 2163: 2162, 2164: 2163, 2165: 2164, 2166: 2165, 2167: 2166, 2168: 2167, 2169: 2168, 2170: 2169, 2171: 2170, 2172: 2171, 2173: 2172, 2174: 2173, 2175: 2174, 2176: 2175, 2177: 2176, 2178: 2177, 2179: 2178, 2180: 2179, 2181: 2180, 2182: 2181, 2183: 2182, 2184: 2183, 2185: 2184, 2186: 2185, 2187: 2186, 2188: 2187, 2189: 2188, 2190: 2189, 2191: 2190, 2192: 2191, 2193: 2192, 2194: 2193, 2195: 2194, 2196: 2195, 2197: 2196, 2198: 2197, 2199: 2198, 2200: 2199, 2201: 2200, 2202: 2201, 2203: 2202, 2204: 2203, 2205: 2204, 2206: 2205, 2207: 2206, 2208: 2207, 2209: 2208, 2210: 2209, 2211: 2210, 2212: 2211, 2213: 2212, 2214: 2213, 2215: 2214, 2216: 2215, 2217: 2216, 2218: 2217, 2219: 2218, 2220: 2219, 2221: 2220, 2222: 2221, 2223: 2222, 2224: 2223, 2225: 2224, 2226: 2225, 2227: 2226, 2228: 2227, 2229: 2228, 2230: 2229, 2231: 2230, 2232: 2231, 2233: 2232, 2234: 2233, 2235: 2234, 2236: 2235, 2237: 2236, 2238: 2237, 2239: 2238, 2240: 2239, 2241: 2240, 2242: 2241, 2243: 2242, 2244: 2243, 2245: 2244, 2246: 2245, 2247: 2246, 2248: 2247, 2249: 2248, 2250: 2249, 2251: 2250, 2252: 2251, 2253: 2252, 2254: 2253, 2255: 2254, 2256: 2255, 2257: 2256, 2258: 2257, 2259: 2258, 2260: 2259, 2261: 2260, 2262: 2261, 2263: 2262, 2264: 2263, 2265: 2264, 2266: 2265, 2267: 2266, 2268: 2267, 2269: 2268, 2270: 2269, 2271: 2270, 2272: 2271, 2273: 2272, 2274: 2273, 2275: 2274, 2276: 2275, 2277: 2276, 2278: 2277, 2279: 2278, 2280: 2279, 2281: 2280, 2282: 2281, 2283: 2282, 2284: 2283, 2285: 2284, 2286: 2285, 2287: 2286, 2288: 2287, 2289: 2288, 2290: 2289, 2291: 2290, 2292: 2291, 2293: 2292, 2294: 2293, 2295: 2294, 2296: 2295, 2297: 2296, 2298: 2297, 2299: 2298, 2300: 2299, 2301: 2300, 2302: 2301, 2303: 2302, 2304: 2303, 2305: 2304, 2306: 2305, 2307: 2306, 2308: 2307, 2309: 2308, 2310: 2309, 2311: 2310, 2312: 2311, 2313: 2312, 2314: 2313, 2315: 2314, 2316: 2315, 2317: 2316, 2318: 2317, 2319: 2318, 2320: 2319, 2321: 2320, 2322: 2321, 2323: 2322, 2324: 2323, 2325: 2324, 2326: 2325, 2327: 2326, 2328: 2327, 2329: 2328, 2330: 2329, 2331: 2330, 2332: 2331, 2333: 2332, 2334: 2333, 2335: 2334, 2336: 2335, 2337: 2336, 2338: 2337, 2339: 2338, 2340: 2339, 2341: 2340, 2342: 2341, 2343: 2342, 2344: 2343, 2345: 2344, 2346: 2345, 2347: 2346, 2348: 2347, 2349: 2348, 2350: 2349, 2351: 2350, 2352: 2351, 2353: 2352, 2354: 2353, 2355: 2354, 2356: 2355, 2357: 2356, 2358: 2357, 2359: 2358, 2360: 2359, 2361: 2360, 2362: 2361, 2363: 2362, 2364: 2363, 2365: 2364, 2366: 2365, 2367: 2366, 2368: 2367, 2369: 2368, 2370: 2369, 2371: 2370, 2372: 2371, 2373: 2372, 2374: 2373, 2375: 2374, 2376: 2375, 2377: 2376, 2378: 2377, 2379: 2378, 2380: 2379, 2381: 2380, 2382: 2381, 2383: 2382, 2384: 2383, 2385: 2384, 2386: 2385, 2387: 2386, 2388: 2387, 2389: 2388, 2390: 2389, 2391: 2390, 2392: 2391, 2393: 2392, 2394: 2393, 2395: 2394, 2396: 2395, 2397: 2396, 2398: 2397, 2399: 2398, 2400: 2399, 2401: 2400, 2402: 2401, 2403: 2402, 2404: 2403, 2405: 2404, 2406: 2405, 2407: 2406, 2408: 2407, 2409: 2408, 2410: 2409, 2411: 2410, 2412: 2411, 2413: 2412, 2414: 2413, 2415: 2414, 2416: 2415, 2417: 2416, 2418: 2417, 2419: 2418, 2420: 2419, 2421: 2420, 2422: 2421, 2423: 2422, 2424: 2423, 2425: 2424, 2426: 2425, 2427: 2426, 2428: 2427, 2429: 2428, 2430: 2429, 2431: 2430, 2432: 2431, 2433: 2432, 2434: 2433, 2435: 2434, 2436: 2435, 2437: 2436, 2438: 2437, 2439: 2438, 2440: 2439, 2441: 2440, 2442: 2441, 2443: 2442, 2444: 2443, 2445: 2444, 2446: 2445, 2447: 2446, 2448: 2447, 2449: 2448, 2450: 2449, 2451: 2450, 2452: 2451, 2453: 2452, 2454: 2453, 2455: 2454, 2456: 2455, 2457: 2456, 2458: 2457, 2459: 2458, 2460: 2459, 2461: 2460, 2462: 2461, 2463: 2462, 2464: 2463, 2465: 2464, 2466: 2465, 2467: 2466, 2468: 2467, 2469: 2468, 2470: 2469, 2471: 2470, 2472: 2471, 2473: 2472, 2474: 2473, 2475: 2474, 2476: 2475, 2477: 2476, 2478: 2477, 2479: 2478, 2480: 2479, 2481: 2480, 2482: 2481, 2483: 2482, 2484: 2483, 2485: 2484, 2486: 2485, 2487: 2486, 2488: 2487, 2489: 2488, 2490: 2489, 2491: 2490, 2492: 2491, 2493: 2492, 2494: 2493, 2495: 2494, 2496: 2495, 2497: 2496, 2498: 2497, 2499: 2498, 2500: 2499, 2501: 2500, 2502: 2501, 2503: 2502, 2504: 2503, 2505: 2504, 2506: 2505, 2507: 2506, 2508: 2507, 2509: 2508, 2510: 2509, 2511: 2510, 2512: 2511, 2513: 2512, 2514: 2513, 2515: 2514, 2516: 2515, 2517: 2516, 2518: 2517, 2519: 2518, 2520: 2519, 2521: 2520, 2522: 2521, 2523: 2522, 2524: 2523, 2525: 2524, 2526: 2525, 2527: 2526, 2528: 2527, 2529: 2528, 2530: 2529, 2531: 2530, 2532: 2531, 2533: 2532, 2534: 2533, 2535: 2534, 2536: 2535, 2537: 2536, 2538: 2537, 2539: 2538, 2540: 2539, 2541: 2540, 2542: 2541, 2543: 2542, 2544: 2543, 2545: 2544, 2546: 2545, 2547: 2546, 2548: 2547, 2549: 2548, 2550: 2549, 2551: 2550, 2552: 2551, 2553: 2552, 2554: 2553, 2555: 2554, 2556: 2555, 2557: 2556, 2558: 2557, 2559: 2558, 2560: 2559, 2561: 2560, 2562: 2561, 2563: 2562, 2564: 2563, 2565: 2564, 2566: 2565, 2567: 2566, 2568: 2567, 2569: 2568, 2570: 2569, 2571: 2570, 2572: 2571, 2573: 2572, 2574: 2573, 2575: 2574, 2576: 2575, 2577: 2576, 2578: 2577, 2579: 2578, 2580: 2579, 2581: 2580, 2582: 2581, 2583: 2582, 2584: 2583, 2585: 2584, 2586: 2585, 2587: 2586, 2588: 2587, 2589: 2588, 2590: 2589, 2591: 2590, 2592: 2591, 2593: 2592, 2594: 2593, 2595: 2594, 2596: 2595, 2597: 2596, 2598: 2597, 2599: 2598, 2600: 2599, 2601: 2600, 2602: 2601, 2603: 2602, 2604: 2603, 2605: 2604, 2606: 2605, 2607: 2606, 2608: 2607, 2609: 2608, 2610: 2609, 2611: 2610, 2612: 2611, 2613: 2612, 2614: 2613, 2615: 2614, 2616: 2615, 2617: 2616, 2618: 2617, 2619: 2618, 2620: 2619, 2621: 2620, 2622: 2621, 2623: 2622, 2624: 2623, 2625: 2624, 2626: 2625, 2627: 2626, 2628: 2627, 2629: 2628, 2630: 2629, 2631: 2630, 2632: 2631, 2633: 2632, 2634: 2633, 2635: 2634, 2636: 2635, 2637: 2636, 2638: 2637, 2639: 2638, 2640: 2639, 2641: 2640, 2642: 2641, 2643: 2642, 2644: 2643, 2645: 2644, 2646: 2645, 2647: 2646, 2648: 2647, 2649: 2648, 2650: 2649, 2651: 2650, 2652: 2651, 2653: 2652, 2654: 2653, 2655: 2654, 2656: 2655, 2657: 2656, 2658: 2657, 2659: 2658, 2660: 2659, 2661: 2660, 2662: 2661, 2663: 2662, 2664: 2663, 2665: 2664, 2666: 2665, 2667: 2666, 2668: 2667, 2669: 2668, 2670: 2669, 2671: 2670, 2672: 2671, 2673: 2672, 2674: 2673, 2675: 2674, 2676: 2675, 2677: 2676, 2678: 2677, 2679: 2678, 2680: 2679, 2681: 2680, 2682: 2681, 2683: 2682, 2684: 2683, 2685: 2684, 2686: 2685, 2687: 2686, 2688: 2687, 2689: 2688, 2690: 2689, 2691: 2690, 2692: 2691, 2693: 2692, 2694: 2693, 2695: 2694, 2696: 2695, 2697: 2696, 2698: 2697, 2699: 2698, 2700: 2699, 2701: 2700, 2702: 2701, 2703: 2702, 2704: 2703, 2705: 2704, 2706: 2705, 2707: 2706, 2708: 2707, 2709: 2708, 2710: 2709, 2711: 2710, 2712: 2711, 2713: 2712, 2714: 2713, 2715: 2714, 2716: 2715, 2717: 2716, 2718: 2717, 2719: 2718, 2720: 2719, 2721: 2720, 2722: 2721, 2723: 2722, 2724: 2723, 2725: 2724, 2726: 2725, 2727: 2726, 2728: 2727, 2729: 2728, 2730: 2729, 2731: 2730, 2732: 2731, 2733: 2732, 2734: 2733, 2735: 2734, 2736: 2735, 2737: 2736, 2738: 2737, 2739: 2738, 2740: 2739, 2741: 2740, 2742: 2741, 2743: 2742, 2744: 2743, 2745: 2744, 2746: 2745, 2747: 2746, 2748: 2747, 2749: 2748, 2750: 2749, 2751: 2750, 2752: 2751, 2753: 2752, 2754: 2753, 2755: 2754, 2756: 2755, 2757: 2756, 2758: 2757, 2759: 2758, 2760: 2759, 2761: 2760, 2762: 2761, 2763: 2762, 2764: 2763, 2765: 2764, 2766: 2765, 2767: 2766, 2768: 2767, 2769: 2768, 2770: 2769, 2771: 2770, 2772: 2771, 2773: 2772, 2774: 2773, 2775: 2774, 2776: 2775, 2777: 2776, 2778: 2777, 2779: 2778, 2780: 2779, 2781: 2780, 2782: 2781, 2783: 2782, 2784: 2783, 2785: 2784, 2786: 2785, 2787: 2786, 2788: 2787, 2789: 2788, 2790: 2789, 2791: 2790, 2792: 2791, 2793: 2792, 2794: 2793, 2795: 2794, 2796: 2795, 2797: 2796, 2798: 2797, 2799: 2798, 2800: 2799, 2801: 2800, 2802: 2801, 2803: 2802, 2804: 2803, 2805: 2804, 2806: 2805, 2807: 2806, 2808: 2807, 2809: 2808, 2810: 2809, 2811: 2810, 2812: 2811, 2813: 2812, 2814: 2813, 2815: 2814, 2816: 2815, 2817: 2816, 2818: 2817, 2819: 2818, 2820: 2819, 2821: 2820, 2822: 2821, 2823: 2822, 2824: 2823, 2825: 2824, 2826: 2825, 2827: 2826, 2828: 2827, 2829: 2828, 2830: 2829, 2831: 2830, 2832: 2831, 2833: 2832, 2834: 2833, 2835: 2834, 2836: 2835, 2837: 2836, 2838: 2837, 2839: 2838, 2840: 2839, 2841: 2840, 2842: 2841, 2843: 2842, 2844: 2843, 2845: 2844, 2846: 2845, 2847: 2846, 2848: 2847, 2849: 2848, 2850: 2849, 2851: 2850, 2852: 2851, 2853: 2852, 2854: 2853, 2855: 2854, 2856: 2855, 2857: 2856, 2858: 2857, 2859: 2858, 2860: 2859, 2861: 2860, 2862: 2861, 2863: 2862, 2864: 2863, 2865: 2864, 2866: 2865, 2867: 2866, 2868: 2867, 2869: 2868, 2870: 2869, 2871: 2870, 2872: 2871, 2873: 2872, 2874: 2873, 2875: 2874, 2876: 2875, 2877: 2876, 2878: 2877, 2879: 2878, 2880: 2879, 2881: 2880, 2882: 2881, 2883: 2882, 2884: 2883, 2885: 2884, 2886: 2885, 2887: 2886, 2888: 2887, 2889: 2888, 2890: 2889, 2891: 2890, 2892: 2891, 2893: 2892, 2894: 2893, 2895: 2894, 2896: 2895, 2897: 2896, 2898: 2897, 2899: 2898, 2900: 2899, 2901: 2900, 2902: 2901, 2903: 2902, 2904: 2903, 2905: 2904, 2906: 2905, 2907: 2906, 2908: 2907, 2909: 2908, 2910: 2909, 2911: 2910, 2912: 2911, 2913: 2912, 2914: 2913, 2915: 2914, 2916: 2915, 2917: 2916, 2918: 2917, 2919: 2918, 2920: 2919, 2921: 2920, 2922: 2921, 2923: 2922, 2924: 2923, 2925: 2924, 2926: 2925, 2927: 2926, 2928: 2927, 2929: 2928, 2930: 2929, 2931: 2930, 2932: 2931, 2933: 2932, 2934: 2933, 2935: 2934, 2936: 2935, 2937: 2936, 2938: 2937, 2939: 2938, 2940: 2939, 2941: 2940, 2942: 2941, 2943: 2942, 2944: 2943, 2945: 2944, 2946: 2945, 2947: 2946, 2948: 2947, 2949: 2948, 2950: 2949, 2951: 2950, 2952: 2951, 2953: 2952, 2954: 2953, 2955: 2954, 2956: 2955, 2957: 2956, 2958: 2957, 2959: 2958, 2960: 2959, 2961: 2960, 2962: 2961, 2963: 2962, 2964: 2963, 2965: 2964, 2966: 2965, 2967: 2966, 2968: 2967, 2969: 2968, 2970: 2969, 2971: 2970, 2972: 2971, 2973: 2972, 2974: 2973, 2975: 2974, 2976: 2975, 2977: 2976, 2978: 2977, 2979: 2978, 2980: 2979, 2981: 2980, 2982: 2981, 2983: 2982, 2984: 2983, 2985: 2984, 2986: 2985, 2987: 2986, 2988: 2987, 2989: 2988, 2990: 2989, 2991: 2990, 2992: 2991, 2993: 2992, 2994: 2993, 2995: 2994, 2996: 2995, 2997: 2996, 2998: 2997, 2999: 2998, 3000: 2999, 3001: 3000, 3002: 3001, 3003: 3002, 3004: 3003, 3005: 3004, 3006: 3005, 3007: 3006, 3008: 3007, 3009: 3008, 3010: 3009, 3011: 3010, 3012: 3011, 3013: 3012, 3014: 3013, 3015: 3014, 3016: 3015, 3017: 3016, 3018: 3017, 3019: 3018, 3020: 3019, 3021: 3020, 3022: 3021, 3023: 3022, 3024: 3023, 3025: 3024, 3026: 3025, 3027: 3026, 3028: 3027, 3029: 3028, 3030: 3029, 3031: 3030, 3032: 3031, 3033: 3032, 3034: 3033, 3035: 3034, 3036: 3035, 3037: 3036, 3038: 3037, 3039: 3038, 3040: 3039, 3041: 3040, 3042: 3041, 3043: 3042, 3044: 3043, 3045: 3044, 3046: 3045, 3047: 3046, 3048: 3047, 3049: 3048, 3050: 3049, 3051: 3050, 3052: 3051, 3053: 3052, 3054: 3053, 3055: 3054, 3056: 3055, 3057: 3056, 3058: 3057, 3059: 3058, 3060: 3059, 3061: 3060, 3062: 3061, 3063: 3062, 3064: 3063, 3065: 3064, 3066: 3065, 3067: 3066, 3068: 3067, 3069: 3068, 3070: 3069, 3071: 3070, 3072: 3071, 3073: 3072, 3074: 3073, 3075: 3074, 3076: 3075, 3077: 3076, 3078: 3077, 3079: 3078, 3080: 3079, 3081: 3080, 3082: 3081, 3083: 3082, 3084: 3083, 3085: 3084, 3086: 3085, 3087: 3086, 3088: 3087, 3089: 3088, 3090: 3089, 3091: 3090, 3092: 3091, 3093: 3092, 3094: 3093, 3095: 3094, 3096: 3095, 3097: 3096, 3098: 3097, 3099: 3098, 3100: 3099, 3101: 3100, 3102: 3101, 3103: 3102, 3104: 3103, 3105: 3104, 3106: 3105, 3107: 3106, 3108: 3107, 3109: 3108, 3110: 3109, 3111: 3110, 3112: 3111, 3113: 3112, 3114: 3113, 3115: 3114, 3116: 3115, 3117: 3116, 3118: 3117, 3119: 3118, 3120: 3119, 3121: 3120, 3122: 3121, 3123: 3122, 3124: 3123, 3125: 3124, 3126: 3125, 3127: 3126, 3128: 3127, 3129: 3128, 3130: 3129, 3131: 3130, 3132: 3131, 3133: 3132, 3134: 3133, 3135: 3134, 3136: 3135, 3137: 3136, 3138: 3137, 3139: 3138, 3140: 3139, 3141: 3140, 3142: 3141, 3143: 3142, 3144: 3143, 3145: 3144, 3146: 3145, 3147: 3146, 3148: 3147, 3149: 3148, 3150: 3149, 3151: 3150, 3152: 3151, 3153: 3152, 3154: 3153, 3155: 3154, 3156: 3155, 3157: 3156, 3158: 3157, 3159: 3158, 3160: 3159, 3161: 3160, 3162: 3161, 3163: 3162, 3164: 3163, 3165: 3164, 3166: 3165, 3167: 3166, 3168: 3167, 3169: 3168, 3170: 3169, 3171: 3170, 3172: 3171, 3173: 3172, 3174: 3173, 3175: 3174, 3176: 3175, 3177: 3176, 3178: 3177, 3179: 3178, 3180: 3179, 3181: 3180, 3182: 3181, 3183: 3182, 3184: 3183, 3185: 3184, 3186: 3185, 3187: 3186, 3188: 3187, 3189: 3188, 3190: 3189, 3191: 3190, 3192: 3191, 3193: 3192, 3194: 3193, 3195: 3194, 3196: 3195, 3197: 3196, 3198: 3197, 3199: 3198, 3200: 3199, 3201: 3200, 3202: 3201, 3203: 3202, 3204: 3203, 3205: 3204, 3206: 3205, 3207: 3206, 3208: 3207, 3209: 3208, 3210: 3209, 3211: 3210, 3212: 3211, 3213: 3212, 3214: 3213, 3215: 3214, 3216: 3215, 3217: 3216, 3218: 3217, 3219: 3218, 3220: 3219, 3221: 3220, 3222: 3221, 3223: 3222, 3224: 3223, 3225: 3224, 3226: 3225, 3227: 3226, 3228: 3227, 3229: 3228, 3230: 3229, 3231: 3230, 3232: 3231, 3233: 3232, 3234: 3233, 3235: 3234, 3236: 3235, 3237: 3236, 3238: 3237, 3239: 3238, 3240: 3239, 3241: 3240, 3242: 3241, 3243: 3242, 3244: 3243, 3245: 3244, 3246: 3245, 3247: 3246, 3248: 3247, 3249: 3248, 3250: 3249, 3251: 3250, 3252: 3251, 3253: 3252, 3254: 3253, 3255: 3254, 3256: 3255, 3257: 3256, 3258: 3257, 3259: 3258, 3260: 3259, 3261: 3260, 3262: 3261, 3263: 3262, 3264: 3263, 3265: 3264, 3266: 3265, 3267: 3266, 3268: 3267, 3269: 3268, 3270: 3269, 3271: 3270, 3272: 3271, 3273: 3272, 3274: 3273, 3275: 3274, 3276: 3275, 3277: 3276, 3278: 3277, 3279: 3278, 3280: 3279, 3281: 3280, 3282: 3281, 3283: 3282, 3284: 3283, 3285: 3284, 3286: 3285, 3287: 3286, 3288: 3287, 3289: 3288, 3290: 3289, 3291: 3290, 3292: 3291, 3293: 3292, 3294: 3293, 3295: 3294, 3296: 3295, 3297: 3296, 3298: 3297, 3299: 3298, 3300: 3299, 3301: 3300, 3302: 3301, 3303: 3302, 3304: 3303, 3305: 3304, 3306: 3305, 3307: 3306, 3308: 3307, 3309: 3308, 3310: 3309, 3311: 3310, 3312: 3311, 3313: 3312, 3314: 3313, 3315: 3314, 3316: 3315, 3317: 3316, 3318: 3317, 3319: 3318, 3320: 3319, 3321: 3320, 3322: 3321, 3323: 3322, 3324: 3323, 3325: 3324, 3326: 3325, 3327: 3326, 3328: 3327, 3329: 3328, 3330: 3329, 3331: 3330, 3332: 3331, 3333: 3332, 3334: 3333, 3335: 3334, 3336: 3335, 3337: 3336, 3338: 3337, 3339: 3338, 3340: 3339, 3341: 3340, 3342: 3341, 3343: 3342, 3344: 3343, 3345: 3344, 3346: 3345, 3347: 3346, 3348: 3347, 3349: 3348, 3350: 3349, 3351: 3350, 3352: 3351, 3353: 3352, 3354: 3353, 3355: 3354, 3356: 3355, 3357: 3356, 3358: 3357, 3359: 3358, 3360: 3359, 3361: 3360, 3362: 3361, 3363: 3362, 3364: 3363, 3365: 3364, 3366: 3365, 3367: 3366, 3368: 3367, 3369: 3368, 3370: 3369, 3371: 3370, 3372: 3371, 3373: 3372, 3374: 3373, 3375: 3374, 3376: 3375, 3377: 3376, 3378: 3377, 3379: 3378, 3380: 3379, 3381: 3380, 3382: 3381, 3383: 3382, 3384: 3383, 3385: 3384, 3386: 3385, 3387: 3386, 3388: 3387, 3389: 3388, 3390: 3389, 3391: 3390, 3392: 3391, 3393: 3392, 3394: 3393, 3395: 3394, 3396: 3395, 3397: 3396, 3398: 3397, 3399: 3398, 3400: 3399, 3401: 3400, 3402: 3401, 3403: 3402, 3404: 3403, 3405: 3404, 3406: 3405, 3407: 3406, 3408: 3407, 3409: 3408, 3410: 3409, 3411: 3410, 3412: 3411, 3413: 3412, 3414: 3413, 3415: 3414, 3416: 3415, 3417: 3416, 3418: 3417, 3419: 3418, 3420: 3419, 3421: 3420, 3422: 3421, 3423: 3422, 3424: 3423, 3425: 3424, 3426: 3425, 3427: 3426, 3428: 3427, 3429: 3428, 3430: 3429, 3431: 3430, 3432: 3431, 3433: 3432, 3434: 3433, 3435: 3434, 3436: 3435, 3437: 3436, 3438: 3437, 3439: 3438, 3440: 3439, 3441: 3440, 3442: 3441, 3443: 3442, 3444: 3443, 3445: 3444, 3446: 3445, 3447: 3446, 3448: 3447, 3449: 3448, 3450: 3449, 3451: 3450, 3452: 3451, 3453: 3452, 3454: 3453, 3455: 3454, 3456: 3455, 3457: 3456, 3458: 3457, 3459: 3458, 3460: 3459, 3461: 3460, 3462: 3461, 3463: 3462, 3464: 3463, 3465: 3464, 3466: 3465, 3467: 3466, 3468: 3467, 3469: 3468, 3470: 3469, 3471: 3470, 3472: 3471, 3473: 3472, 3474: 3473, 3475: 3474, 3476: 3475, 3477: 3476, 3478: 3477, 3479: 3478, 3480: 3479, 3481: 3480, 3482: 3481, 3483: 3482, 3484: 3483, 3485: 3484, 3486: 3485, 3487: 3486, 3488: 3487, 3489: 3488, 3490: 3489, 3491: 3490, 3492: 3491, 3493: 3492, 3494: 3493, 3495: 3494, 3496: 3495, 3497: 3496, 3498: 3497, 3499: 3498, 3500: 3499, 3501: 3500, 3502: 3501, 3503: 3502, 3504: 3503, 3505: 3504, 3506: 3505, 3507: 3506, 3508: 3507, 3509: 3508, 3510: 3509, 3511: 3510, 3512: 3511, 3513: 3512, 3514: 3513, 3515: 3514, 3516: 3515, 3517: 3516, 3518: 3517, 3519: 3518, 3520: 3519, 3521: 3520, 3522: 3521, 3523: 3522, 3524: 3523, 3525: 3524, 3526: 3525, 3527: 3526, 3528: 3527, 3529: 3528, 3530: 3529, 3531: 3530, 3532: 3531, 3533: 3532, 3534: 3533, 3535: 3534, 3536: 3535, 3537: 3536, 3538: 3537, 3539: 3538, 3540: 3539, 3541: 3540, 3542: 3541, 3543: 3542, 3544: 3543, 3545: 3544, 3546: 3545, 3547: 3546, 3548: 3547, 3549: 3548, 3550: 3549, 3551: 3550, 3552: 3551, 3553: 3552, 3554: 3553, 3555: 3554, 3556: 3555, 3557: 3556, 3558: 3557, 3559: 3558, 3560: 3559, 3561: 3560, 3562: 3561, 3563: 3562, 3564: 3563, 3565: 3564, 3566: 3565, 3567: 3566, 3568: 3567, 3569: 3568, 3570: 3569, 3571: 3570, 3572: 3571, 3573: 3572, 3574: 3573, 3575: 3574, 3576: 3575, 3577: 3576, 3578: 3577, 3579: 3578, 3580: 3579, 3581: 3580, 3582: 3581, 3583: 3582, 3584: 3583, 3585: 3584, 3586: 3585, 3587: 3586, 3588: 3587, 3589: 3588, 3590: 3589, 3591: 3590, 3592: 3591, 3593: 3592, 3594: 3593, 3595: 3594, 3596: 3595, 3597: 3596, 3598: 3597, 3599: 3598, 3600: 3599, 3601: 3600, 3602: 3601, 3603: 3602, 3604: 3603, 3605: 3604, 3606: 3605, 3607: 3606, 3608: 3607, 3609: 3608, 3610: 3609, 3611: 3610, 3612: 3611, 3613: 3612, 3614: 3613, 3615: 3614, 3616: 3615, 3617: 3616, 3618: 3617, 3619: 3618, 3620: 3619, 3621: 3620, 3622: 3621, 3623: 3622, 3624: 3623, 3625: 3624, 3626: 3625, 3627: 3626, 3628: 3627, 3629: 3628, 3630: 3629, 3631: 3630, 3632: 3631, 3633: 3632, 3634: 3633, 3635: 3634, 3636: 3635, 3637: 3636, 3638: 3637, 3639: 3638, 3640: 3639, 3641: 3640, 3642: 3641, 3643: 3642, 3644: 3643, 3645: 3644, 3646: 3645, 3647: 3646, 3648: 3647, 3649: 3648, 3650: 3649, 3651: 3650, 3652: 3651, 3653: 3652, 3654: 3653, 3655: 3654, 3656: 3655, 3657: 3656, 3658: 3657, 3659: 3658, 3660: 3659, 3661: 3660, 3662: 3661, 3663: 3662, 3664: 3663, 3665: 3664, 3666: 3665, 3667: 3666, 3668: 3667, 3669: 3668, 3670: 3669, 3671: 3670, 3672: 3671, 3673: 3672, 3674: 3673, 3675: 3674, 3676: 3675, 3677: 3676, 3678: 3677, 3679: 3678, 3680: 3679, 3681: 3680, 3682: 3681, 3683: 3682, 3684: 3683, 3685: 3684, 3686: 3685, 3687: 3686, 3688: 3687, 3689: 3688, 3690: 3689, 3691: 3690, 3692: 3691, 3693: 3692, 3694: 3693, 3695: 3694, 3696: 3695, 3697: 3696, 3698: 3697, 3699: 3698, 3700: 3699, 3701: 3700, 3702: 3701, 3703: 3702, 3704: 3703, 3705: 3704, 3706: 3705, 3707: 3706, 3708: 3707, 3709: 3708, 3710: 3709, 3711: 3710, 3712: 3711, 3713: 3712, 3714: 3713, 3715: 3714, 3716: 3715, 3717: 3716, 3718: 3717, 3719: 3718, 3720: 3719, 3721: 3720, 3722: 3721, 3723: 3722, 3724: 3723, 3725: 3724, 3726: 3725, 3727: 3726, 3728: 3727, 3729: 3728, 3730: 3729, 3731: 3730, 3732: 3731, 3733: 3732, 3734: 3733, 3735: 3734, 3736: 3735, 3737: 3736, 3738: 3737, 3739: 3738, 3740: 3739, 3741: 3740, 3742: 3741, 3743: 3742, 3744: 3743, 3745: 3744, 3746: 3745, 3747: 3746, 3748: 3747, 3749: 3748, 3750: 3749, 3751: 3750, 3752: 3751, 3753: 3752, 3754: 3753, 3755: 3754, 3756: 3755, 3757: 3756, 3758: 3757, 3759: 3758, 3760: 3759, 3761: 3760, 3762: 3761, 3763: 3762, 3764: 3763, 3765: 3764, 3766: 3765, 3767: 3766, 3768: 3767, 3769: 3768, 3770: 3769, 3771: 3770, 3772: 3771, 3773: 3772, 3774: 3773, 3775: 3774, 3776: 3775, 3777: 3776, 3778: 3777, 3779: 3778, 3780: 3779, 3781: 3780, 3782: 3781, 3783: 3782, 3784: 3783, 3785: 3784, 3786: 3785, 3787: 3786, 3788: 3787, 3789: 3788, 3790: 3789, 3791: 3790, 3792: 3791, 3793: 3792, 3794: 3793, 3795: 3794, 3796: 3795, 3797: 3796, 3798: 3797, 3799: 3798, 3800: 3799, 3801: 3800, 3802: 3801, 3803: 3802, 3804: 3803, 3805: 3804, 3806: 3805, 3807: 3806, 3808: 3807, 3809: 3808, 3810: 3809, 3811: 3810, 3812: 3811, 3813: 3812, 3814: 3813, 3815: 3814, 3816: 3815, 3817: 3816, 3818: 3817, 3819: 3818, 3820: 3819, 3821: 3820, 3822: 3821, 3823: 3822, 3824: 3823, 3825: 3824, 3826: 3825, 3827: 3826, 3828: 3827, 3829: 3828, 3830: 3829, 3831: 3830, 3832: 3831, 3833: 3832, 3834: 3833, 3835: 3834, 3836: 3835, 3837: 3836, 3838: 3837, 3839: 3838, 3840: 3839, 3841: 3840, 3842: 3841, 3843: 3842, 3844: 3843, 3845: 3844, 3846: 3845, 3847: 3846, 3848: 3847, 3849: 3848, 3850: 3849, 3851: 3850, 3852: 3851, 3853: 3852, 3854: 3853, 3855: 3854, 3856: 3855, 3857: 3856, 3858: 3857, 3859: 3858, 3860: 3859, 3861: 3860, 3862: 3861, 3863: 3862, 3864: 3863, 3865: 3864, 3866: 3865, 3867: 3866, 3868: 3867, 3869: 3868, 3870: 3869, 3871: 3870, 3872: 3871, 3873: 3872, 3874: 3873, 3875: 3874, 3876: 3875, 3877: 3876, 3878: 3877, 3879: 3878, 3880: 3879, 3881: 3880, 3882: 3881, 3883: 3882, 3884: 3883, 3885: 3884, 3886: 3885, 3887: 3886, 3888: 3887, 3889: 3888, 3890: 3889, 3891: 3890, 3892: 3891, 3893: 3892, 3894: 3893, 3895: 3894, 3896: 3895, 3897: 3896, 3898: 3897, 3899: 3898, 3900: 3899, 3901: 3900, 3902: 3901, 3903: 3902, 3904: 3903, 3905: 3904, 3906: 3905, 3907: 3906, 3908: 3907, 3909: 3908, 3910: 3909, 3911: 3910, 3912: 3911, 3913: 3912, 3914: 3913, 3915: 3914, 3916: 3915, 3917: 3916, 3918: 3917, 3919: 3918, 3920: 3919, 3921: 3920, 3922: 3921, 3923: 3922, 3924: 3923, 3925: 3924, 3926: 3925, 3927: 3926, 3928: 3927, 3929: 3928, 3930: 3929, 3931: 3930, 3932: 3931, 3933: 3932, 3934: 3933, 3935: 3934, 3936: 3935, 3937: 3936, 3938: 3937, 3939: 3938, 3940: 3939, 3941: 3940, 3942: 3941, 3943: 3942, 3944: 3943, 3945: 3944, 3946: 3945, 3947: 3946, 3948: 3947, 3949: 3948, 3950: 3949, 3951: 3950, 3952: 3951, 3953: 3952, 3954: 3953, 3955: 3954, 3956: 3955, 3957: 3956, 3958: 3957, 3959: 3958, 3960: 3959, 3961: 3960, 3962: 3961, 3963: 3962, 3964: 3963, 3965: 3964, 3966: 3965, 3967: 3966, 3968: 3967, 3969: 3968, 3970: 3969, 3971: 3970, 3972: 3971, 3973: 3972, 3974: 3973, 3975: 3974, 3976: 3975, 3977: 3976, 3978: 3977, 3979: 3978, 3980: 3979, 3981: 3980, 3982: 3981, 3983: 3982, 3984: 3983, 3985: 3984, 3986: 3985, 3987: 3986, 3988: 3987, 3989: 3988, 3990: 3989, 3991: 3990, 3992: 3991, 3993: 3992, 3994: 3993, 3995: 3994, 3996: 3995, 3997: 3996, 3998: 3997, 3999: 3998, 4000: 3999, 4001: 4000, 4002: 4001, 4003: 4002, 4004: 4003, 4005: 4004, 4006: 4005, 4007: 4006, 4008: 4007, 4009: 4008, 4010: 4009, 4011: 4010, 4012: 4011, 4013: 4012, 4014: 4013, 4015: 4014, 4016: 4015, 4017: 4016, 4018: 4017, 4019: 4018, 4020: 4019, 4021: 4020, 4022: 4021, 4023: 4022, 4024: 4023, 4025: 4024, 4026: 4025, 4027: 4026, 4028: 4027, 4029: 4028, 4030: 4029, 4031: 4030, 4032: 4031, 4033: 4032, 4034: 4033, 4035: 4034, 4036: 4035, 4037: 4036, 4038: 4037, 4039: 4038, 4040: 4039, 4041: 4040, 4042: 4041, 4043: 4042, 4044: 4043, 4045: 4044, 4046: 4045, 4047: 4046, 4048: 4047, 4049: 4048, 4050: 4049, 4051: 4050, 4052: 4051, 4053: 4052, 4054: 4053, 4055: 4054, 4056: 4055, 4057: 4056, 4058: 4057, 4059: 4058, 4060: 4059, 4061: 4060, 4062: 4061, 4063: 4062, 4064: 4063, 4065: 4064, 4066: 4065, 4067: 4066, 4068: 4067, 4069: 4068, 4070: 4069, 4071: 4070, 4072: 4071, 4073: 4072, 4074: 4073, 4075: 4074, 4076: 4075, 4077: 4076, 4078: 4077, 4079: 4078, 4080: 4079, 4081: 4080, 4082: 4081, 4083: 4082, 4084: 4083, 4085: 4084, 4086: 4085, 4087: 4086, 4088: 4087, 4089: 4088, 4090: 4089, 4091: 4090, 4092: 4091, 4093: 4092, 4094: 4093, 4095: 4094, 4096: 4095, 4097: 4096, 4098: 4097, 4099: 4098, 4100: 4099, 4101: 4100, 4102: 4101, 4103: 4102, 4104: 4103, 4105: 4104, 4106: 4105, 4107: 4106, 4108: 4107, 4109: 4108, 4110: 4109, 4111: 4110, 4112: 4111, 4113: 4112, 4114: 4113, 4115: 4114, 4116: 4115, 4117: 4116, 4118: 4117, 4119: 4118, 4120: 4119, 4121: 4120, 4122: 4121, 4123: 4122, 4124: 4123, 4125: 4124, 4126: 4125, 4127: 4126, 4128: 4127, 4129: 4128, 4130: 4129, 4131: 4130, 4132: 4131, 4133: 4132, 4134: 4133, 4135: 4134, 4136: 4135, 4137: 4136, 4138: 4137, 4139: 4138, 4140: 4139, 4141: 4140, 4142: 4141, 4143: 4142, 4144: 4143, 4145: 4144, 4146: 4145, 4147: 4146, 4148: 4147, 4149: 4148, 4150: 4149, 4151: 4150, 4152: 4151, 4153: 4152, 4154: 4153, 4155: 4154, 4156: 4155, 4157: 4156, 4158: 4157, 4159: 4158, 4160: 4159, 4161: 4160, 4162: 4161, 4163: 4162, 4164: 4163, 4165: 4164, 4166: 4165, 4167: 4166, 4168: 4167, 4169: 4168, 4170: 4169, 4171: 4170, 4172: 4171, 4173: 4172, 4174: 4173, 4175: 4174, 4176: 4175, 4177: 4176, 4178: 4177, 4179: 4178, 4180: 4179, 4181: 4180, 4182: 4181, 4183: 4182, 4184: 4183, 4185: 4184, 4186: 4185, 4187: 4186, 4188: 4187, 4189: 4188, 4190: 4189, 4191: 4190, 4192: 4191, 4193: 4192, 4194: 4193, 4195: 4194, 4196: 4195, 4197: 4196, 4198: 4197, 4199: 4198, 4200: 4199, 4201: 4200, 4202: 4201, 4203: 4202, 4204: 4203, 4205: 4204, 4206: 4205, 4207: 4206, 4208: 4207, 4209: 4208, 4210: 4209, 4211: 4210, 4212: 4211, 4213: 4212, 4214: 4213, 4215: 4214, 4216: 4215, 4217: 4216, 4218: 4217, 4219: 4218, 4220: 4219, 4221: 4220, 4222: 4221, 4223: 4222, 4224: 4223, 4225: 4224, 4226: 4225, 4227: 4226, 4228: 4227, 4229: 4228, 4230: 4229, 4231: 4230, 4232: 4231, 4233: 4232, 4234: 4233, 4235: 4234, 4236: 4235, 4237: 4236, 4238: 4237, 4239: 4238, 4240: 4239, 4241: 4240, 4242: 4241, 4243: 4242, 4244: 4243, 4245: 4244, 4246: 4245, 4247: 4246, 4248: 4247, 4249: 4248, 4250: 4249, 4251: 4250, 4252: 4251, 4253: 4252, 4254: 4253, 4255: 4254, 4256: 4255, 4257: 4256, 4258: 4257, 4259: 4258, 4260: 4259, 4261: 4260, 4262: 4261, 4263: 4262, 4264: 4263, 4265: 4264, 4266: 4265, 4267: 4266, 4268: 4267, 4269: 4268, 4270: 4269, 4271: 4270, 4272: 4271, 4273: 4272, 4274: 4273, 4275: 4274, 4276: 4275, 4277: 4276, 4278: 4277, 4279: 4278, 4280: 4279, 4281: 4280, 4282: 4281, 4283: 4282, 4284: 4283, 4285: 4284, 4286: 4285, 4287: 4286, 4288: 4287, 4289: 4288, 4290: 4289, 4291: 4290, 4292: 4291, 4293: 4292, 4294: 4293, 4295: 4294, 4296: 4295, 4297: 4296, 4298: 4297, 4299: 4298, 4300: 4299, 4301: 4300, 4302: 4301, 4303: 4302, 4304: 4303, 4305: 4304, 4306: 4305, 4307: 4306, 4308: 4307, 4309: 4308, 4310: 4309, 4311: 4310, 4312: 4311, 4313: 4312, 4314: 4313, 4315: 4314, 4316: 4315, 4317: 4316, 4318: 4317, 4319: 4318, 4320: 4319, 4321: 4320, 4322: 4321, 4323: 4322, 4324: 4323, 4325: 4324, 4326: 4325, 4327: 4326, 4328: 4327, 4329: 4328, 4330: 4329, 4331: 4330, 4332: 4331, 4333: 4332, 4334: 4333, 4335: 4334, 4336: 4335, 4337: 4336, 4338: 4337, 4339: 4338, 4340: 4339, 4341: 4340, 4342: 4341, 4343: 4342, 4344: 4343, 4345: 4344, 4346: 4345, 4347: 4346, 4348: 4347, 4349: 4348, 4350: 4349, 4351: 4350, 4352: 4351, 4353: 4352, 4354: 4353, 4355: 4354, 4356: 4355, 4357: 4356, 4358: 4357, 4359: 4358, 4360: 4359, 4361: 4360, 4362: 4361, 4363: 4362, 4364: 4363, 4365: 4364, 4366: 4365, 4367: 4366, 4368: 4367, 4369: 4368, 4370: 4369, 4371: 4370, 4372: 4371, 4373: 4372, 4374: 4373, 4375: 4374, 4376: 4375, 4377: 4376, 4378: 4377, 4379: 4378, 4380: 4379, 4381: 4380, 4382: 4381, 4383: 4382, 4384: 4383, 4385: 4384, 4386: 4385, 4387: 4386, 4388: 4387, 4389: 4388, 4390: 4389, 4391: 4390, 4392: 4391, 4393: 4392, 4394: 4393, 4395: 4394, 4396: 4395, 4397: 4396, 4398: 4397, 4399: 4398, 4400: 4399, 4401: 4400, 4402: 4401, 4403: 4402, 4404: 4403, 4405: 4404, 4406: 4405, 4407: 4406, 4408: 4407, 4409: 4408, 4410: 4409, 4411: 4410, 4412: 4411, 4413: 4412, 4414: 4413, 4415: 4414, 4416: 4415, 4417: 4416, 4418: 4417, 4419: 4418, 4420: 4419, 4421: 4420, 4422: 4421, 4423: 4422, 4424: 4423, 4425: 4424, 4426: 4425, 4427: 4426, 4428: 4427, 4429: 4428, 4430: 4429, 4431: 4430, 4432: 4431, 4433: 4432, 4434: 4433, 4435: 4434, 4436: 4435, 4437: 4436, 4438: 4437, 4439: 4438, 4440: 4439, 4441: 4440, 4442: 4441, 4443: 4442, 4444: 4443, 4445: 4444, 4446: 4445, 4447: 4446, 4448: 4447, 4449: 4448, 4450: 4449, 4451: 4450, 4452: 4451, 4453: 4452, 4454: 4453, 4455: 4454, 4456: 4455, 4457: 4456, 4458: 4457, 4459: 4458, 4460: 4459, 4461: 4460, 4462: 4461, 4463: 4462, 4464: 4463, 4465: 4464, 4466: 4465, 4467: 4466, 4468: 4467, 4469: 4468, 4470: 4469, 4471: 4470, 4472: 4471, 4473: 4472, 4474: 4473, 4475: 4474, 4476: 4475, 4477: 4476, 4478: 4477, 4479: 4478, 4480: 4479, 4481: 4480, 4482: 4481, 4483: 4482, 4484: 4483, 4485: 4484, 4486: 4485, 4487: 4486, 4488: 4487, 4489: 4488, 4490: 4489, 4491: 4490, 4492: 4491, 4493: 4492, 4494: 4493, 4495: 4494, 4496: 4495, 4497: 4496, 4498: 4497, 4499: 4498, 4500: 4499, 4501: 4500, 4502: 4501, 4503: 4502, 4504: 4503, 4505: 4504, 4506: 4505, 4507: 4506, 4508: 4507, 4509: 4508, 4510: 4509, 4511: 4510, 4512: 4511, 4513: 4512, 4514: 4513, 4515: 4514, 4516: 4515, 4517: 4516, 4518: 4517, 4519: 4518, 4520: 4519, 4521: 4520, 4522: 4521, 4523: 4522, 4524: 4523, 4525: 4524, 4526: 4525, 4527: 4526, 4528: 4527, 4529: 4528, 4530: 4529, 4531: 4530, 4532: 4531, 4533: 4532, 4534: 4533, 4535: 4534, 4536: 4535, 4537: 4536, 4538: 4537, 4539: 4538, 4540: 4539, 4541: 4540, 4542: 4541, 4543: 4542, 4544: 4543, 4545: 4544, 4546: 4545, 4547: 4546, 4548: 4547, 4549: 4548, 4550: 4549, 4551: 4550, 4552: 4551, 4553: 4552, 4554: 4553, 4555: 4554, 4556: 4555, 4557: 4556, 4558: 4557, 4559: 4558, 4560: 4559, 4561: 4560, 4562: 4561, 4563: 4562, 4564: 4563, 4565: 4564, 4566: 4565, 4567: 4566, 4568: 4567, 4569: 4568, 4570: 4569, 4571: 4570, 4572: 4571, 4573: 4572, 4574: 4573, 4575: 4574, 4576: 4575, 4577: 4576, 4578: 4577, 4579: 4578, 4580: 4579, 4581: 4580, 4582: 4581, 4583: 4582, 4584: 4583, 4585: 4584, 4586: 4585, 4587: 4586, 4588: 4587, 4589: 4588, 4590: 4589, 4591: 4590, 4592: 4591, 4593: 4592, 4594: 4593, 4595: 4594, 4596: 4595, 4597: 4596, 4598: 4597, 4599: 4598, 4600: 4599, 4601: 4600, 4602: 4601, 4603: 4602, 4604: 4603, 4605: 4604, 4606: 4605, 4607: 4606, 4608: 4607, 4609: 4608, 4610: 4609, 4611: 4610, 4612: 4611, 4613: 4612, 4614: 4613, 4615: 4614, 4616: 4615, 4617: 4616, 4618: 4617, 4619: 4618, 4620: 4619, 4621: 4620, 4622: 4621, 4623: 4622, 4624: 4623, 4625: 4624, 4626: 4625, 4627: 4626, 4628: 4627, 4629: 4628, 4630: 4629, 4631: 4630, 4632: 4631, 4633: 4632, 4634: 4633, 4635: 4634, 4636: 4635, 4637: 4636, 4638: 4637, 4639: 4638, 4640: 4639, 4641: 4640, 4642: 4641, 4643: 4642, 4644: 4643, 4645: 4644, 4646: 4645, 4647: 4646, 4648: 4647, 4649: 4648, 4650: 4649, 4651: 4650, 4652: 4651, 4653: 4652, 4654: 4653, 4655: 4654, 4656: 4655, 4657: 4656, 4658: 4657, 4659: 4658, 4660: 4659, 4661: 4660, 4662: 4661, 4663: 4662, 4664: 4663, 4665: 4664, 4666: 4665, 4667: 4666, 4668: 4667, 4669: 4668, 4670: 4669, 4671: 4670, 4672: 4671, 4673: 4672, 4674: 4673, 4675: 4674, 4676: 4675, 4677: 4676, 4678: 4677, 4679: 4678, 4680: 4679, 4681: 4680, 4682: 4681, 4683: 4682, 4684: 4683, 4685: 4684, 4686: 4685, 4687: 4686, 4688: 4687, 4689: 4688, 4690: 4689, 4691: 4690, 4692: 4691, 4693: 4692, 4694: 4693, 4695: 4694, 4696: 4695, 4697: 4696, 4698: 4697, 4699: 4698, 4700: 4699, 4701: 4700, 4702: 4701, 4703: 4702, 4704: 4703, 4705: 4704, 4706: 4705, 4707: 4706, 4708: 4707, 4709: 4708, 4710: 4709, 4711: 4710, 4712: 4711, 4713: 4712, 4714: 4713, 4715: 4714, 4716: 4715, 4717: 4716, 4718: 4717, 4719: 4718, 4720: 4719, 4721: 4720, 4722: 4721, 4723: 4722, 4724: 4723, 4725: 4724, 4726: 4725, 4727: 4726, 4728: 4727, 4729: 4728, 4730: 4729, 4731: 4730, 4732: 4731, 4733: 4732, 4734: 4733, 4735: 4734, 4736: 4735, 4737: 4736, 4738: 4737, 4739: 4738, 4740: 4739, 4741: 4740, 4742: 4741, 4743: 4742, 4744: 4743, 4745: 4744, 4746: 4745, 4747: 4746, 4748: 4747, 4749: 4748, 4750: 4749, 4751: 4750, 4752: 4751, 4753: 4752, 4754: 4753, 4755: 4754, 4756: 4755, 4757: 4756, 4758: 4757, 4759: 4758, 4760: 4759, 4761: 4760, 4762: 4761, 4763: 4762, 4764: 4763, 4765: 4764, 4766: 4765, 4767: 4766, 4768: 4767, 4769: 4768, 4770: 4769, 4771: 4770, 4772: 4771, 4773: 4772, 4774: 4773, 4775: 4774, 4776: 4775, 4777: 4776, 4778: 4777, 4779: 4778, 4780: 4779, 4781: 4780, 4782: 4781, 4783: 4782, 4784: 4783, 4785: 4784, 4786: 4785, 4787: 4786, 4788: 4787, 4789: 4788, 4790: 4789, 4791: 4790, 4792: 4791, 4793: 4792, 4794: 4793, 4795: 4794, 4796: 4795, 4797: 4796, 4798: 4797, 4799: 4798, 4800: 4799, 4801: 4800, 4802: 4801, 4803: 4802, 4804: 4803, 4805: 4804, 4806: 4805, 4807: 4806, 4808: 4807, 4809: 4808, 4810: 4809, 4811: 4810, 4812: 4811, 4813: 4812, 4814: 4813, 4815: 4814, 4816: 4815, 4817: 4816, 4818: 4817, 4819: 4818, 4820: 4819, 4821: 4820, 4822: 4821, 4823: 4822, 4824: 4823, 4825: 4824, 4826: 4825, 4827: 4826, 4828: 4827, 4829: 4828, 4830: 4829, 4831: 4830, 4832: 4831, 4833: 4832, 4834: 4833, 4835: 4834, 4836: 4835, 4837: 4836, 4838: 4837, 4839: 4838, 4840: 4839, 4841: 4840, 4842: 4841, 4843: 4842, 4844: 4843, 4845: 4844, 4846: 4845, 4847: 4846, 4848: 4847, 4849: 4848, 4850: 4849, 4851: 4850, 4852: 4851, 4853: 4852, 4854: 4853, 4855: 4854, 4856: 4855, 4857: 4856, 4858: 4857, 4859: 4858, 4860: 4859, 4861: 4860, 4862: 4861, 4863: 4862, 4864: 4863, 4865: 4864, 4866: 4865, 4867: 4866, 4868: 4867, 4869: 4868, 4870: 4869, 4871: 4870, 4872: 4871, 4873: 4872, 4874: 4873, 4875: 4874, 4876: 4875, 4877: 4876, 4878: 4877, 4879: 4878, 4880: 4879, 4881: 4880, 4882: 4881, 4883: 4882, 4884: 4883, 4885: 4884, 4886: 4885, 4887: 4886, 4888: 4887, 4889: 4888, 4890: 4889, 4891: 4890, 4892: 4891, 4893: 4892, 4894: 4893, 4895: 4894, 4896: 4895, 4897: 4896, 4898: 4897, 4899: 4898, 4900: 4899, 4901: 4900, 4902: 4901, 4903: 4902, 4904: 4903, 4905: 4904, 4906: 4905, 4907: 4906, 4908: 4907, 4909: 4908, 4910: 4909, 4911: 4910, 4912: 4911, 4913: 4912, 4914: 4913, 4915: 4914, 4916: 4915, 4917: 4916, 4918: 4917, 4919: 4918, 4920: 4919, 4921: 4920, 4922: 4921, 4923: 4922, 4924: 4923, 4925: 4924, 4926: 4925, 4927: 4926, 4928: 4927, 4929: 4928, 4930: 4929, 4931: 4930, 4932: 4931, 4933: 4932, 4934: 4933, 4935: 4934, 4936: 4935, 4937: 4936, 4938: 4937, 4939: 4938, 4940: 4939, 4941: 4940, 4942: 4941, 4943: 4942, 4944: 4943, 4945: 4944, 4946: 4945, 4947: 4946, 4948: 4947, 4949: 4948, 4950: 4949, 4951: 4950, 4952: 4951, 4953: 4952, 4954: 4953, 4955: 4954, 4956: 4955, 4957: 4956, 4958: 4957, 4959: 4958, 4960: 4959, 4961: 4960, 4962: 4961, 4963: 4962, 4964: 4963, 4965: 4964, 4966: 4965, 4967: 4966, 4968: 4967, 4969: 4968, 4970: 4969, 4971: 4970, 4972: 4971, 4973: 4972, 4974: 4973, 4975: 4974, 4976: 4975, 4977: 4976, 4978: 4977, 4979: 4978, 4980: 4979, 4981: 4980, 4982: 4981, 4983: 4982, 4984: 4983, 4985: 4984, 4986: 4985, 4987: 4986, 4988: 4987, 4989: 4988, 4990: 4989, 4991: 4990, 4992: 4991, 4993: 4992, 4994: 4993, 4995: 4994, 4996: 4995, 4997: 4996, 4998: 4997, 4999: 4998, 5000: 4999, 5001: 5000, 5002: 5001, 5003: 5002, 5004: 5003, 5005: 5004, 5006: 5005, 5007: 5006, 5008: 5007, 5009: 5008, 5010: 5009, 5011: 5010, 5012: 5011, 5013: 5012, 5014: 5013, 5015: 5014, 5016: 5015, 5017: 5016, 5018: 5017, 5019: 5018, 5020: 5019, 5021: 5020, 5022: 5021, 5023: 5022, 5024: 5023, 5025: 5024, 5026: 5025, 5027: 5026, 5028: 5027, 5029: 5028, 5030: 5029, 5031: 5030, 5032: 5031, 5033: 5032, 5034: 5033, 5035: 5034, 5036: 5035, 5037: 5036, 5038: 5037, 5039: 5038, 5040: 5039, 5041: 5040, 5042: 5041, 5043: 5042, 5044: 5043, 5045: 5044, 5046: 5045, 5047: 5046, 5048: 5047, 5049: 5048, 5050: 5049, 5051: 5050, 5052: 5051, 5053: 5052, 5054: 5053, 5055: 5054, 5056: 5055, 5057: 5056, 5058: 5057, 5059: 5058, 5060: 5059, 5061: 5060, 5062: 5061, 5063: 5062, 5064: 5063, 5065: 5064, 5066: 5065, 5067: 5066, 5068: 5067, 5069: 5068, 5070: 5069, 5071: 5070, 5072: 5071, 5073: 5072, 5074: 5073, 5075: 5074, 5076: 5075, 5077: 5076, 5078: 5077, 5079: 5078, 5080: 5079, 5081: 5080, 5082: 5081, 5083: 5082, 5084: 5083, 5085: 5084, 5086: 5085, 5087: 5086, 5088: 5087, 5089: 5088, 5090: 5089, 5091: 5090, 5092: 5091, 5093: 5092, 5094: 5093, 5095: 5094, 5096: 5095, 5097: 5096, 5098: 5097, 5099: 5098, 5100: 5099, 5101: 5100, 5102: 5101, 5103: 5102, 5104: 5103, 5105: 5104, 5106: 5105, 5107: 5106, 5108: 5107, 5109: 5108, 5110: 5109, 5111: 5110, 5112: 5111, 5113: 5112, 5114: 5113, 5115: 5114, 5116: 5115, 5117: 5116, 5118: 5117, 5119: 5118, 5120: 5119, 5121: 5120, 5122: 5121, 5123: 5122, 5124: 5123, 5125: 5124, 5126: 5125, 5127: 5126, 5128: 5127, 5129: 5128, 5130: 5129, 5131: 5130, 5132: 5131, 5133: 5132, 5134: 5133, 5135: 5134, 5136: 5135, 5137: 5136, 5138: 5137, 5139: 5138, 5140: 5139, 5141: 5140, 5142: 5141, 5143: 5142, 5144: 5143, 5145: 5144, 5146: 5145, 5147: 5146, 5148: 5147, 5149: 5148, 5150: 5149, 5151: 5150, 5152: 5151, 5153: 5152, 5154: 5153, 5155: 5154, 5156: 5155, 5157: 5156, 5158: 5157, 5159: 5158, 5160: 5159, 5161: 5160, 5162: 5161, 5163: 5162, 5164: 5163, 5165: 5164, 5166: 5165, 5167: 5166, 5168: 5167, 5169: 5168, 5170: 5169, 5171: 5170, 5172: 5171, 5173: 5172, 5174: 5173, 5175: 5174, 5176: 5175, 5177: 5176, 5178: 5177, 5179: 5178, 5180: 5179, 5181: 5180, 5182: 5181, 5183: 5182, 5184: 5183, 5185: 5184, 5186: 5185, 5187: 5186, 5188: 5187, 5189: 5188, 5190: 5189, 5191: 5190, 5192: 5191, 5193: 5192, 5194: 5193, 5195: 5194, 5196: 5195, 5197: 5196, 5198: 5197, 5199: 5198, 5200: 5199, 5201: 5200, 5202: 5201, 5203: 5202, 5204: 5203, 5205: 5204, 5206: 5205, 5207: 5206, 5208: 5207, 5209: 5208, 5210: 5209, 5211: 5210, 5212: 5211, 5213: 5212, 5214: 5213, 5215: 5214, 5216: 5215, 5217: 5216, 5218: 5217, 5219: 5218, 5220: 5219, 5221: 5220, 5222: 5221, 5223: 5222, 5224: 5223, 5225: 5224, 5226: 5225, 5227: 5226, 5228: 5227, 5229: 5228, 5230: 5229, 5231: 5230, 5232: 5231, 5233: 5232, 5234: 5233, 5235: 5234, 5236: 5235, 5237: 5236, 5238: 5237, 5239: 5238, 5240: 5239, 5241: 5240, 5242: 5241, 5243: 5242, 5244: 5243, 5245: 5244, 5246: 5245, 5247: 5246, 5248: 5247, 5249: 5248, 5250: 5249, 5251: 5250, 5252: 5251, 5253: 5252, 5254: 5253, 5255: 5254, 5256: 5255, 5257: 5256, 5258: 5257, 5259: 5258, 5260: 5259, 5261: 5260, 5262: 5261, 5263: 5262, 5264: 5263, 5265: 5264, 5266: 5265, 5267: 5266, 5268: 5267, 5269: 5268, 5270: 5269, 5271: 5270, 5272: 5271, 5273: 5272, 5274: 5273, 5275: 5274, 5276: 5275, 5277: 5276, 5278: 5277, 5279: 5278, 5280: 5279, 5281: 5280, 5282: 5281, 5283: 5282, 5284: 5283, 5285: 5284, 5286: 5285, 5287: 5286, 5288: 5287, 5289: 5288, 5290: 5289, 5291: 5290, 5292: 5291, 5293: 5292, 5294: 5293, 5295: 5294, 5296: 5295, 5297: 5296, 5298: 5297, 5299: 5298, 5300: 5299, 5301: 5300, 5302: 5301, 5303: 5302, 5304: 5303, 5305: 5304, 5306: 5305, 5307: 5306, 5308: 5307, 5309: 5308, 5310: 5309, 5311: 5310, 5312: 5311, 5313: 5312, 5314: 5313, 5315: 5314, 5316: 5315, 5317: 5316, 5318: 5317, 5319: 5318, 5320: 5319, 5321: 5320, 5322: 5321, 5323: 5322, 5324: 5323, 5325: 5324, 5326: 5325, 5327: 5326, 5328: 5327, 5329: 5328, 5330: 5329, 5331: 5330, 5332: 5331, 5333: 5332, 5334: 5333, 5335: 5334, 5336: 5335, 5337: 5336, 5338: 5337, 5339: 5338, 5340: 5339, 5341: 5340, 5342: 5341, 5343: 5342, 5344: 5343, 5345: 5344, 5346: 5345, 5347: 5346, 5348: 5347, 5349: 5348, 5350: 5349, 5351: 5350, 5352: 5351, 5353: 5352, 5354: 5353, 5355: 5354, 5356: 5355, 5357: 5356, 5358: 5357, 5359: 5358, 5360: 5359, 5361: 5360, 5362: 5361, 5363: 5362, 5364: 5363, 5365: 5364, 5366: 5365, 5367: 5366, 5368: 5367, 5369: 5368, 5370: 5369, 5371: 5370, 5372: 5371, 5373: 5372, 5374: 5373, 5375: 5374, 5376: 5375, 5377: 5376, 5378: 5377, 5379: 5378, 5380: 5379, 5381: 5380, 5382: 5381, 5383: 5382, 5384: 5383, 5385: 5384, 5386: 5385, 5387: 5386, 5388: 5387, 5389: 5388, 5390: 5389, 5391: 5390, 5392: 5391, 5393: 5392, 5394: 5393, 5395: 5394, 5396: 5395, 5397: 5396, 5398: 5397, 5399: 5398, 5400: 5399, 5401: 5400, 5402: 5401, 5403: 5402, 5404: 5403, 5405: 5404, 5406: 5405, 5407: 5406, 5408: 5407, 5409: 5408, 5410: 5409, 5411: 5410, 5412: 5411, 5413: 5412, 5414: 5413, 5415: 5414, 5416: 5415, 5417: 5416, 5418: 5417, 5419: 5418, 5420: 5419, 5421: 5420, 5422: 5421, 5423: 5422, 5424: 5423, 5425: 5424, 5426: 5425, 5427: 5426, 5428: 5427, 5429: 5428, 5430: 5429, 5431: 5430, 5432: 5431, 5433: 5432, 5434: 5433, 5435: 5434, 5436: 5435, 5437: 5436, 5438: 5437, 5439: 5438, 5440: 5439, 5441: 5440, 5442: 5441, 5443: 5442, 5444: 5443, 5445: 5444, 5446: 5445, 5447: 5446, 5448: 5447, 5449: 5448, 5450: 5449, 5451: 5450, 5452: 5451, 5453: 5452, 5454: 5453, 5455: 5454, 5456: 5455, 5457: 5456, 5458: 5457, 5459: 5458, 5460: 5459, 5461: 5460, 5462: 5461, 5463: 5462, 5464: 5463, 5465: 5464, 5466: 5465, 5467: 5466, 5468: 5467, 5469: 5468, 5470: 5469, 5471: 5470, 5472: 5471, 5473: 5472, 5474: 5473, 5475: 5474, 5476: 5475, 5477: 5476, 5478: 5477, 5479: 5478, 5480: 5479, 5481: 5480, 5482: 5481, 5483: 5482, 5484: 5483, 5485: 5484, 5486: 5485, 5487: 5486, 5488: 5487, 5489: 5488, 5490: 5489, 5491: 5490, 5492: 5491, 5493: 5492, 5494: 5493, 5495: 5494, 5496: 5495, 5497: 5496, 5498: 5497, 5499: 5498, 5500: 5499, 5501: 5500, 5502: 5501, 5503: 5502, 5504: 5503, 5505: 5504, 5506: 5505, 5507: 5506, 5508: 5507, 5509: 5508, 5510: 5509, 5511: 5510, 5512: 5511, 5513: 5512, 5514: 5513, 5515: 5514, 5516: 5515, 5517: 5516, 5518: 5517, 5519: 5518, 5520: 5519, 5521: 5520, 5522: 5521, 5523: 5522, 5524: 5523, 5525: 5524, 5526: 5525, 5527: 5526, 5528: 5527, 5529: 5528, 5530: 5529, 5531: 5530, 5532: 5531, 5533: 5532, 5534: 5533, 5535: 5534, 5536: 5535, 5537: 5536, 5538: 5537, 5539: 5538, 5540: 5539, 5541: 5540, 5542: 5541, 5543: 5542, 5544: 5543, 5545: 5544, 5546: 5545, 5547: 5546, 5548: 5547, 5549: 5548, 5550: 5549, 5551: 5550, 5552: 5551, 5553: 5552, 5554: 5553, 5555: 5554, 5556: 5555, 5557: 5556, 5558: 5557, 5559: 5558, 5560: 5559, 5561: 5560, 5562: 5561, 5563: 5562, 5564: 5563, 5565: 5564, 5566: 5565, 5567: 5566, 5568: 5567, 5569: 5568, 5570: 5569, 5571: 5570, 5572: 5571, 5573: 5572, 5574: 5573, 5575: 5574, 5576: 5575, 5577: 5576, 5578: 5577, 5579: 5578, 5580: 5579, 5581: 5580, 5582: 5581, 5583: 5582, 5584: 5583, 5585: 5584, 5586: 5585, 5587: 5586, 5588: 5587, 5589: 5588, 5590: 5589, 5591: 5590, 5592: 5591, 5593: 5592, 5594: 5593, 5595: 5594, 5596: 5595, 5597: 5596, 5598: 5597, 5599: 5598, 5600: 5599, 5601: 5600, 5602: 5601, 5603: 5602, 5604: 5603, 5605: 5604, 5606: 5605, 5607: 5606, 5608: 5607, 5609: 5608, 5610: 5609, 5611: 5610, 5612: 5611, 5613: 5612, 5614: 5613, 5615: 5614, 5616: 5615, 5617: 5616, 5618: 5617, 5619: 5618, 5620: 5619, 5621: 5620, 5622: 5621, 5623: 5622, 5624: 5623, 5625: 5624, 5626: 5625, 5627: 5626, 5628: 5627, 5629: 5628, 5630: 5629, 5631: 5630, 5632: 5631, 5633: 5632, 5634: 5633, 5635: 5634, 5636: 5635, 5637: 5636, 5638: 5637, 5639: 5638, 5640: 5639, 5641: 5640, 5642: 5641, 5643: 5642, 5644: 5643, 5645: 5644, 5646: 5645, 5647: 5646, 5648: 5647, 5649: 5648, 5650: 5649, 5651: 5650, 5652: 5651, 5653: 5652, 5654: 5653, 5655: 5654, 5656: 5655, 5657: 5656, 5658: 5657, 5659: 5658, 5660: 5659, 5661: 5660, 5662: 5661, 5663: 5662, 5664: 5663, 5665: 5664, 5666: 5665, 5667: 5666, 5668: 5667, 5669: 5668, 5670: 5669, 5671: 5670, 5672: 5671, 5673: 5672, 5674: 5673, 5675: 5674, 5676: 5675, 5677: 5676, 5678: 5677, 5679: 5678, 5680: 5679, 5681: 5680, 5682: 5681, 5683: 5682, 5684: 5683, 5685: 5684, 5686: 5685, 5687: 5686, 5688: 5687, 5689: 5688, 5690: 5689, 5691: 5690, 5692: 5691, 5693: 5692, 5694: 5693, 5695: 5694, 5696: 5695, 5697: 5696, 5698: 5697, 5699: 5698, 5700: 5699, 5701: 5700, 5702: 5701, 5703: 5702, 5704: 5703, 5705: 5704, 5706: 5705, 5707: 5706, 5708: 5707, 5709: 5708, 5710: 5709, 5711: 5710, 5712: 5711, 5713: 5712, 5714: 5713, 5715: 5714, 5716: 5715, 5717: 5716, 5718: 5717, 5719: 5718, 5720: 5719, 5721: 5720, 5722: 5721, 5723: 5722, 5724: 5723, 5725: 5724, 5726: 5725, 5727: 5726, 5728: 5727, 5729: 5728, 5730: 5729, 5731: 5730, 5732: 5731, 5733: 5732, 5734: 5733, 5735: 5734, 5736: 5735, 5737: 5736, 5738: 5737, 5739: 5738, 5740: 5739, 5741: 5740, 5742: 5741, 5743: 5742, 5744: 5743, 5745: 5744, 5746: 5745, 5747: 5746, 5748: 5747, 5749: 5748, 5750: 5749, 5751: 5750, 5752: 5751, 5753: 5752, 5754: 5753, 5755: 5754, 5756: 5755, 5757: 5756, 5758: 5757, 5759: 5758, 5760: 5759, 5761: 5760, 5762: 5761, 5763: 5762, 5764: 5763, 5765: 5764, 5766: 5765, 5767: 5766, 5768: 5767, 5769: 5768, 5770: 5769, 5771: 5770, 5772: 5771, 5773: 5772, 5774: 5773, 5775: 5774, 5776: 5775, 5777: 5776, 5778: 5777, 5779: 5778, 5780: 5779, 5781: 5780, 5782: 5781, 5783: 5782, 5784: 5783, 5785: 5784, 5786: 5785, 5787: 5786, 5788: 5787, 5789: 5788, 5790: 5789, 5791: 5790, 5792: 5791, 5793: 5792, 5794: 5793, 5795: 5794, 5796: 5795, 5797: 5796, 5798: 5797, 5799: 5798, 5800: 5799, 5801: 5800, 5802: 5801, 5803: 5802, 5804: 5803, 5805: 5804, 5806: 5805, 5807: 5806, 5808: 5807, 5809: 5808, 5810: 5809, 5811: 5810, 5812: 5811, 5813: 5812, 5814: 5813, 5815: 5814, 5816: 5815, 5817: 5816, 5818: 5817, 5819: 5818, 5820: 5819, 5821: 5820, 5822: 5821, 5823: 5822, 5824: 5823, 5825: 5824, 5826: 5825, 5827: 5826, 5828: 5827, 5829: 5828, 5830: 5829, 5831: 5830, 5832: 5831, 5833: 5832, 5834: 5833, 5835: 5834, 5836: 5835, 5837: 5836, 5838: 5837, 5839: 5838, 5840: 5839, 5841: 5840, 5842: 5841, 5843: 5842, 5844: 5843, 5845: 5844, 5846: 5845, 5847: 5846, 5848: 5847, 5849: 5848, 5850: 5849, 5851: 5850, 5852: 5851, 5853: 5852, 5854: 5853, 5855: 5854, 5856: 5855, 5857: 5856, 5858: 5857, 5859: 5858, 5860: 5859, 5861: 5860, 5862: 5861, 5863: 5862, 5864: 5863, 5865: 5864, 5866: 5865, 5867: 5866, 5868: 5867, 5869: 5868, 5870: 5869, 5871: 5870, 5872: 5871, 5873: 5872, 5874: 5873, 5875: 5874, 5876: 5875, 5877: 5876, 5878: 5877, 5879: 5878, 5880: 5879, 5881: 5880, 5882: 5881, 5883: 5882, 5884: 5883, 5885: 5884, 5886: 5885, 5887: 5886, 5888: 5887, 5889: 5888, 5890: 5889, 5891: 5890, 5892: 5891, 5893: 5892, 5894: 5893, 5895: 5894, 5896: 5895, 5897: 5896, 5898: 5897, 5899: 5898, 5900: 5899, 5901: 5900, 5902: 5901, 5903: 5902, 5904: 5903, 5905: 5904, 5906: 5905, 5907: 5906, 5908: 5907, 5909: 5908, 5910: 5909, 5911: 5910, 5912: 5911, 5913: 5912, 5914: 5913, 5915: 5914, 5916: 5915, 5917: 5916, 5918: 5917, 5919: 5918, 5920: 5919, 5921: 5920, 5922: 5921, 5923: 5922, 5924: 5923, 5925: 5924, 5926: 5925, 5927: 5926, 5928: 5927, 5929: 5928, 5930: 5929, 5931: 5930, 5932: 5931, 5933: 5932, 5934: 5933, 5935: 5934, 5936: 5935, 5937: 5936, 5938: 5937, 5939: 5938, 5940: 5939, 5941: 5940, 5942: 5941, 5943: 5942, 5944: 5943, 5945: 5944, 5946: 5945, 5947: 5946, 5948: 5947, 5949: 5948, 5950: 5949, 5951: 5950, 5952: 5951, 5953: 5952, 5954: 5953, 5955: 5954, 5956: 5955, 5957: 5956, 5958: 5957, 5959: 5958, 5960: 5959, 5961: 5960, 5962: 5961, 5963: 5962, 5964: 5963, 5965: 5964, 5966: 5965, 5967: 5966, 5968: 5967, 5969: 5968, 5970: 5969, 5971: 5970, 5972: 5971, 5973: 5972, 5974: 5973, 5975: 5974, 5976: 5975, 5977: 5976, 5978: 5977, 5979: 5978, 5980: 5979, 5981: 5980, 5982: 5981, 5983: 5982, 5984: 5983, 5985: 5984, 5986: 5985, 5987: 5986, 5988: 5987, 5989: 5988, 5990: 5989, 5991: 5990, 5992: 5991, 5993: 5992, 5994: 5993, 5995: 5994, 5996: 5995, 5997: 5996, 5998: 5997, 5999: 5998, 6000: 5999, 6001: 6000, 6002: 6001, 6003: 6002, 6004: 6003, 6005: 6004, 6006: 6005, 6007: 6006, 6008: 6007, 6009: 6008, 6010: 6009, 6011: 6010, 6012: 6011, 6013: 6012, 6014: 6013, 6015: 6014, 6016: 6015, 6017: 6016, 6018: 6017, 6019: 6018, 6020: 6019, 6021: 6020, 6022: 6021, 6023: 6022, 6024: 6023, 6025: 6024, 6026: 6025, 6027: 6026, 6028: 6027, 6029: 6028, 6030: 6029, 6031: 6030, 6032: 6031, 6033: 6032, 6034: 6033, 6035: 6034, 6036: 6035, 6037: 6036, 6038: 6037, 6039: 6038, 6040: 6039}\n",
            "{0: 1, 1: 2, 2: 3, 3: 4, 4: 5, 5: 6, 6: 7, 7: 8, 8: 9, 9: 10, 10: 11, 11: 12, 12: 13, 13: 14, 14: 15, 15: 16, 16: 17, 17: 18, 18: 19, 19: 20, 20: 21, 21: 22, 22: 23, 23: 24, 24: 25, 25: 26, 26: 27, 27: 28, 28: 29, 29: 30, 30: 31, 31: 32, 32: 33, 33: 34, 34: 35, 35: 36, 36: 37, 37: 38, 38: 39, 39: 40, 40: 41, 41: 42, 42: 43, 43: 44, 44: 45, 45: 46, 46: 47, 47: 48, 48: 49, 49: 50, 50: 51, 51: 52, 52: 53, 53: 54, 54: 55, 55: 56, 56: 57, 57: 58, 58: 59, 59: 60, 60: 61, 61: 62, 62: 63, 63: 64, 64: 65, 65: 66, 66: 67, 67: 68, 68: 69, 69: 70, 70: 71, 71: 72, 72: 73, 73: 74, 74: 75, 75: 76, 76: 77, 77: 78, 78: 79, 79: 80, 80: 81, 81: 82, 82: 83, 83: 84, 84: 85, 85: 86, 86: 87, 87: 88, 88: 89, 89: 90, 90: 91, 91: 92, 92: 93, 93: 94, 94: 95, 95: 96, 96: 97, 97: 98, 98: 99, 99: 100, 100: 101, 101: 102, 102: 103, 103: 104, 104: 105, 105: 106, 106: 107, 107: 108, 108: 109, 109: 110, 110: 111, 111: 112, 112: 113, 113: 114, 114: 115, 115: 116, 116: 117, 117: 118, 118: 119, 119: 120, 120: 121, 121: 122, 122: 123, 123: 124, 124: 125, 125: 126, 126: 127, 127: 128, 128: 129, 129: 130, 130: 131, 131: 132, 132: 133, 133: 134, 134: 135, 135: 136, 136: 137, 137: 138, 138: 139, 139: 140, 140: 141, 141: 142, 142: 143, 143: 144, 144: 145, 145: 146, 146: 147, 147: 148, 148: 149, 149: 150, 150: 151, 151: 152, 152: 153, 153: 154, 154: 155, 155: 156, 156: 157, 157: 158, 158: 159, 159: 160, 160: 161, 161: 162, 162: 163, 163: 164, 164: 165, 165: 166, 166: 167, 167: 168, 168: 169, 169: 170, 170: 171, 171: 172, 172: 173, 173: 174, 174: 175, 175: 176, 176: 177, 177: 178, 178: 179, 179: 180, 180: 181, 181: 182, 182: 183, 183: 184, 184: 185, 185: 186, 186: 187, 187: 188, 188: 189, 189: 190, 190: 191, 191: 192, 192: 193, 193: 194, 194: 195, 195: 196, 196: 197, 197: 198, 198: 199, 199: 200, 200: 201, 201: 202, 202: 203, 203: 204, 204: 205, 205: 206, 206: 207, 207: 208, 208: 209, 209: 210, 210: 211, 211: 212, 212: 213, 213: 214, 214: 215, 215: 216, 216: 217, 217: 218, 218: 219, 219: 220, 220: 221, 221: 222, 222: 223, 223: 224, 224: 225, 225: 226, 226: 227, 227: 228, 228: 229, 229: 230, 230: 231, 231: 232, 232: 233, 233: 234, 234: 235, 235: 236, 236: 237, 237: 238, 238: 239, 239: 240, 240: 241, 241: 242, 242: 243, 243: 244, 244: 245, 245: 246, 246: 247, 247: 248, 248: 249, 249: 250, 250: 251, 251: 252, 252: 253, 253: 254, 254: 255, 255: 256, 256: 257, 257: 258, 258: 259, 259: 260, 260: 261, 261: 262, 262: 263, 263: 264, 264: 265, 265: 266, 266: 267, 267: 268, 268: 269, 269: 270, 270: 271, 271: 272, 272: 273, 273: 274, 274: 275, 275: 276, 276: 277, 277: 278, 278: 279, 279: 280, 280: 281, 281: 282, 282: 283, 283: 284, 284: 285, 285: 286, 286: 287, 287: 288, 288: 289, 289: 290, 290: 291, 291: 292, 292: 293, 293: 294, 294: 295, 295: 296, 296: 297, 297: 298, 298: 299, 299: 300, 300: 301, 301: 302, 302: 303, 303: 304, 304: 305, 305: 306, 306: 307, 307: 308, 308: 309, 309: 310, 310: 311, 311: 312, 312: 313, 313: 314, 314: 315, 315: 316, 316: 317, 317: 318, 318: 319, 319: 320, 320: 321, 321: 322, 322: 323, 323: 324, 324: 325, 325: 326, 326: 327, 327: 328, 328: 329, 329: 330, 330: 331, 331: 332, 332: 333, 333: 334, 334: 335, 335: 336, 336: 337, 337: 338, 338: 339, 339: 340, 340: 341, 341: 342, 342: 343, 343: 344, 344: 345, 345: 346, 346: 347, 347: 348, 348: 349, 349: 350, 350: 351, 351: 352, 352: 353, 353: 354, 354: 355, 355: 356, 356: 357, 357: 358, 358: 359, 359: 360, 360: 361, 361: 362, 362: 363, 363: 364, 364: 365, 365: 366, 366: 367, 367: 368, 368: 369, 369: 370, 370: 371, 371: 372, 372: 373, 373: 374, 374: 375, 375: 376, 376: 377, 377: 378, 378: 379, 379: 380, 380: 381, 381: 382, 382: 383, 383: 384, 384: 385, 385: 386, 386: 387, 387: 388, 388: 389, 389: 390, 390: 391, 391: 392, 392: 393, 393: 394, 394: 395, 395: 396, 396: 397, 397: 398, 398: 399, 399: 400, 400: 401, 401: 402, 402: 403, 403: 404, 404: 405, 405: 406, 406: 407, 407: 408, 408: 409, 409: 410, 410: 411, 411: 412, 412: 413, 413: 414, 414: 415, 415: 416, 416: 417, 417: 418, 418: 419, 419: 420, 420: 421, 421: 422, 422: 423, 423: 424, 424: 425, 425: 426, 426: 427, 427: 428, 428: 429, 429: 430, 430: 431, 431: 432, 432: 433, 433: 434, 434: 435, 435: 436, 436: 437, 437: 438, 438: 439, 439: 440, 440: 441, 441: 442, 442: 443, 443: 444, 444: 445, 445: 446, 446: 447, 447: 448, 448: 449, 449: 450, 450: 451, 451: 452, 452: 453, 453: 454, 454: 455, 455: 456, 456: 457, 457: 458, 458: 459, 459: 460, 460: 461, 461: 462, 462: 463, 463: 464, 464: 465, 465: 466, 466: 467, 467: 468, 468: 469, 469: 470, 470: 471, 471: 472, 472: 473, 473: 474, 474: 475, 475: 476, 476: 477, 477: 478, 478: 479, 479: 480, 480: 481, 481: 482, 482: 483, 483: 484, 484: 485, 485: 486, 486: 487, 487: 488, 488: 489, 489: 490, 490: 491, 491: 492, 492: 493, 493: 494, 494: 495, 495: 496, 496: 497, 497: 498, 498: 499, 499: 500, 500: 501, 501: 502, 502: 503, 503: 504, 504: 505, 505: 506, 506: 507, 507: 508, 508: 509, 509: 510, 510: 511, 511: 512, 512: 513, 513: 514, 514: 515, 515: 516, 516: 517, 517: 518, 518: 519, 519: 520, 520: 521, 521: 522, 522: 523, 523: 524, 524: 525, 525: 526, 526: 527, 527: 528, 528: 529, 529: 530, 530: 531, 531: 532, 532: 533, 533: 534, 534: 535, 535: 536, 536: 537, 537: 538, 538: 539, 539: 540, 540: 541, 541: 542, 542: 543, 543: 544, 544: 545, 545: 546, 546: 547, 547: 548, 548: 549, 549: 550, 550: 551, 551: 552, 552: 553, 553: 554, 554: 555, 555: 556, 556: 557, 557: 558, 558: 559, 559: 560, 560: 561, 561: 562, 562: 563, 563: 564, 564: 565, 565: 566, 566: 567, 567: 568, 568: 569, 569: 570, 570: 571, 571: 572, 572: 573, 573: 574, 574: 575, 575: 576, 576: 577, 577: 578, 578: 579, 579: 580, 580: 581, 581: 582, 582: 583, 583: 584, 584: 585, 585: 586, 586: 587, 587: 588, 588: 589, 589: 590, 590: 591, 591: 592, 592: 593, 593: 594, 594: 595, 595: 596, 596: 597, 597: 598, 598: 599, 599: 600, 600: 601, 601: 602, 602: 603, 603: 604, 604: 605, 605: 606, 606: 607, 607: 608, 608: 609, 609: 610, 610: 611, 611: 612, 612: 613, 613: 614, 614: 615, 615: 616, 616: 617, 617: 618, 618: 619, 619: 620, 620: 621, 621: 622, 622: 623, 623: 624, 624: 625, 625: 626, 626: 627, 627: 628, 628: 629, 629: 630, 630: 631, 631: 632, 632: 633, 633: 634, 634: 635, 635: 636, 636: 637, 637: 638, 638: 639, 639: 640, 640: 641, 641: 642, 642: 643, 643: 644, 644: 645, 645: 646, 646: 647, 647: 648, 648: 649, 649: 650, 650: 651, 651: 652, 652: 653, 653: 654, 654: 655, 655: 656, 656: 657, 657: 658, 658: 659, 659: 660, 660: 661, 661: 662, 662: 663, 663: 664, 664: 665, 665: 666, 666: 667, 667: 668, 668: 669, 669: 670, 670: 671, 671: 672, 672: 673, 673: 674, 674: 675, 675: 676, 676: 677, 677: 678, 678: 679, 679: 680, 680: 681, 681: 682, 682: 683, 683: 684, 684: 685, 685: 686, 686: 687, 687: 688, 688: 689, 689: 690, 690: 691, 691: 692, 692: 693, 693: 694, 694: 695, 695: 696, 696: 697, 697: 698, 698: 699, 699: 700, 700: 701, 701: 702, 702: 703, 703: 704, 704: 705, 705: 706, 706: 707, 707: 708, 708: 709, 709: 710, 710: 711, 711: 712, 712: 713, 713: 714, 714: 715, 715: 716, 716: 717, 717: 718, 718: 719, 719: 720, 720: 721, 721: 722, 722: 723, 723: 724, 724: 725, 725: 726, 726: 727, 727: 728, 728: 729, 729: 730, 730: 731, 731: 732, 732: 733, 733: 734, 734: 735, 735: 736, 736: 737, 737: 738, 738: 739, 739: 740, 740: 741, 741: 742, 742: 743, 743: 744, 744: 745, 745: 746, 746: 747, 747: 748, 748: 749, 749: 750, 750: 751, 751: 752, 752: 753, 753: 754, 754: 755, 755: 756, 756: 757, 757: 758, 758: 759, 759: 760, 760: 761, 761: 762, 762: 763, 763: 764, 764: 765, 765: 766, 766: 767, 767: 768, 768: 769, 769: 770, 770: 771, 771: 772, 772: 773, 773: 774, 774: 775, 775: 776, 776: 777, 777: 778, 778: 779, 779: 780, 780: 781, 781: 782, 782: 783, 783: 784, 784: 785, 785: 786, 786: 787, 787: 788, 788: 789, 789: 790, 790: 791, 791: 792, 792: 793, 793: 794, 794: 795, 795: 796, 796: 797, 797: 798, 798: 799, 799: 800, 800: 801, 801: 802, 802: 803, 803: 804, 804: 805, 805: 806, 806: 807, 807: 808, 808: 809, 809: 810, 810: 811, 811: 812, 812: 813, 813: 814, 814: 815, 815: 816, 816: 817, 817: 818, 818: 819, 819: 820, 820: 821, 821: 822, 822: 823, 823: 824, 824: 825, 825: 826, 826: 827, 827: 828, 828: 829, 829: 830, 830: 831, 831: 832, 832: 833, 833: 834, 834: 835, 835: 836, 836: 837, 837: 838, 838: 839, 839: 840, 840: 841, 841: 842, 842: 843, 843: 844, 844: 845, 845: 846, 846: 847, 847: 848, 848: 849, 849: 850, 850: 851, 851: 852, 852: 853, 853: 854, 854: 855, 855: 856, 856: 857, 857: 858, 858: 859, 859: 860, 860: 861, 861: 862, 862: 863, 863: 864, 864: 865, 865: 866, 866: 867, 867: 868, 868: 869, 869: 870, 870: 871, 871: 872, 872: 873, 873: 874, 874: 875, 875: 876, 876: 877, 877: 878, 878: 879, 879: 880, 880: 881, 881: 882, 882: 883, 883: 884, 884: 885, 885: 886, 886: 887, 887: 888, 888: 889, 889: 890, 890: 891, 891: 892, 892: 893, 893: 894, 894: 895, 895: 896, 896: 897, 897: 898, 898: 899, 899: 900, 900: 901, 901: 902, 902: 903, 903: 904, 904: 905, 905: 906, 906: 907, 907: 908, 908: 909, 909: 910, 910: 911, 911: 912, 912: 913, 913: 914, 914: 915, 915: 916, 916: 917, 917: 918, 918: 919, 919: 920, 920: 921, 921: 922, 922: 923, 923: 924, 924: 925, 925: 926, 926: 927, 927: 928, 928: 929, 929: 930, 930: 931, 931: 932, 932: 933, 933: 934, 934: 935, 935: 936, 936: 937, 937: 938, 938: 939, 939: 940, 940: 941, 941: 942, 942: 943, 943: 944, 944: 945, 945: 946, 946: 947, 947: 948, 948: 949, 949: 950, 950: 951, 951: 952, 952: 953, 953: 954, 954: 955, 955: 956, 956: 957, 957: 958, 958: 959, 959: 960, 960: 961, 961: 962, 962: 963, 963: 964, 964: 965, 965: 966, 966: 967, 967: 968, 968: 969, 969: 970, 970: 971, 971: 972, 972: 973, 973: 974, 974: 975, 975: 976, 976: 977, 977: 978, 978: 979, 979: 980, 980: 981, 981: 982, 982: 983, 983: 984, 984: 985, 985: 986, 986: 987, 987: 988, 988: 989, 989: 990, 990: 991, 991: 992, 992: 993, 993: 994, 994: 995, 995: 996, 996: 997, 997: 998, 998: 999, 999: 1000, 1000: 1001, 1001: 1002, 1002: 1003, 1003: 1004, 1004: 1005, 1005: 1006, 1006: 1007, 1007: 1008, 1008: 1009, 1009: 1010, 1010: 1011, 1011: 1012, 1012: 1013, 1013: 1014, 1014: 1015, 1015: 1016, 1016: 1017, 1017: 1018, 1018: 1019, 1019: 1020, 1020: 1021, 1021: 1022, 1022: 1023, 1023: 1024, 1024: 1025, 1025: 1026, 1026: 1027, 1027: 1028, 1028: 1029, 1029: 1030, 1030: 1031, 1031: 1032, 1032: 1033, 1033: 1034, 1034: 1035, 1035: 1036, 1036: 1037, 1037: 1038, 1038: 1039, 1039: 1040, 1040: 1041, 1041: 1042, 1042: 1043, 1043: 1044, 1044: 1045, 1045: 1046, 1046: 1047, 1047: 1048, 1048: 1049, 1049: 1050, 1050: 1051, 1051: 1052, 1052: 1053, 1053: 1054, 1054: 1055, 1055: 1056, 1056: 1057, 1057: 1058, 1058: 1059, 1059: 1060, 1060: 1061, 1061: 1062, 1062: 1063, 1063: 1064, 1064: 1065, 1065: 1066, 1066: 1067, 1067: 1068, 1068: 1069, 1069: 1070, 1070: 1071, 1071: 1072, 1072: 1073, 1073: 1074, 1074: 1075, 1075: 1076, 1076: 1077, 1077: 1078, 1078: 1079, 1079: 1080, 1080: 1081, 1081: 1082, 1082: 1083, 1083: 1084, 1084: 1085, 1085: 1086, 1086: 1087, 1087: 1088, 1088: 1089, 1089: 1090, 1090: 1091, 1091: 1092, 1092: 1093, 1093: 1094, 1094: 1095, 1095: 1096, 1096: 1097, 1097: 1098, 1098: 1099, 1099: 1100, 1100: 1101, 1101: 1102, 1102: 1103, 1103: 1104, 1104: 1105, 1105: 1106, 1106: 1107, 1107: 1108, 1108: 1109, 1109: 1110, 1110: 1111, 1111: 1112, 1112: 1113, 1113: 1114, 1114: 1115, 1115: 1116, 1116: 1117, 1117: 1118, 1118: 1119, 1119: 1120, 1120: 1121, 1121: 1122, 1122: 1123, 1123: 1124, 1124: 1125, 1125: 1126, 1126: 1127, 1127: 1128, 1128: 1129, 1129: 1130, 1130: 1131, 1131: 1132, 1132: 1133, 1133: 1134, 1134: 1135, 1135: 1136, 1136: 1137, 1137: 1138, 1138: 1139, 1139: 1140, 1140: 1141, 1141: 1142, 1142: 1143, 1143: 1144, 1144: 1145, 1145: 1146, 1146: 1147, 1147: 1148, 1148: 1149, 1149: 1150, 1150: 1151, 1151: 1152, 1152: 1153, 1153: 1154, 1154: 1155, 1155: 1156, 1156: 1157, 1157: 1158, 1158: 1159, 1159: 1160, 1160: 1161, 1161: 1162, 1162: 1163, 1163: 1164, 1164: 1165, 1165: 1166, 1166: 1167, 1167: 1168, 1168: 1169, 1169: 1170, 1170: 1171, 1171: 1172, 1172: 1173, 1173: 1174, 1174: 1175, 1175: 1176, 1176: 1177, 1177: 1178, 1178: 1179, 1179: 1180, 1180: 1181, 1181: 1182, 1182: 1183, 1183: 1184, 1184: 1185, 1185: 1186, 1186: 1187, 1187: 1188, 1188: 1189, 1189: 1190, 1190: 1191, 1191: 1192, 1192: 1193, 1193: 1194, 1194: 1195, 1195: 1196, 1196: 1197, 1197: 1198, 1198: 1199, 1199: 1200, 1200: 1201, 1201: 1202, 1202: 1203, 1203: 1204, 1204: 1205, 1205: 1206, 1206: 1207, 1207: 1208, 1208: 1209, 1209: 1210, 1210: 1211, 1211: 1212, 1212: 1213, 1213: 1214, 1214: 1215, 1215: 1216, 1216: 1217, 1217: 1218, 1218: 1219, 1219: 1220, 1220: 1221, 1221: 1222, 1222: 1223, 1223: 1224, 1224: 1225, 1225: 1226, 1226: 1227, 1227: 1228, 1228: 1229, 1229: 1230, 1230: 1231, 1231: 1232, 1232: 1233, 1233: 1234, 1234: 1235, 1235: 1236, 1236: 1237, 1237: 1238, 1238: 1239, 1239: 1240, 1240: 1241, 1241: 1242, 1242: 1243, 1243: 1244, 1244: 1245, 1245: 1246, 1246: 1247, 1247: 1248, 1248: 1249, 1249: 1250, 1250: 1251, 1251: 1252, 1252: 1253, 1253: 1254, 1254: 1255, 1255: 1256, 1256: 1257, 1257: 1258, 1258: 1259, 1259: 1260, 1260: 1261, 1261: 1262, 1262: 1263, 1263: 1264, 1264: 1265, 1265: 1266, 1266: 1267, 1267: 1268, 1268: 1269, 1269: 1270, 1270: 1271, 1271: 1272, 1272: 1273, 1273: 1274, 1274: 1275, 1275: 1276, 1276: 1277, 1277: 1278, 1278: 1279, 1279: 1280, 1280: 1281, 1281: 1282, 1282: 1283, 1283: 1284, 1284: 1285, 1285: 1286, 1286: 1287, 1287: 1288, 1288: 1289, 1289: 1290, 1290: 1291, 1291: 1292, 1292: 1293, 1293: 1294, 1294: 1295, 1295: 1296, 1296: 1297, 1297: 1298, 1298: 1299, 1299: 1300, 1300: 1301, 1301: 1302, 1302: 1303, 1303: 1304, 1304: 1305, 1305: 1306, 1306: 1307, 1307: 1308, 1308: 1309, 1309: 1310, 1310: 1311, 1311: 1312, 1312: 1313, 1313: 1314, 1314: 1315, 1315: 1316, 1316: 1317, 1317: 1318, 1318: 1319, 1319: 1320, 1320: 1321, 1321: 1322, 1322: 1323, 1323: 1324, 1324: 1325, 1325: 1326, 1326: 1327, 1327: 1328, 1328: 1329, 1329: 1330, 1330: 1331, 1331: 1332, 1332: 1333, 1333: 1334, 1334: 1335, 1335: 1336, 1336: 1337, 1337: 1338, 1338: 1339, 1339: 1340, 1340: 1341, 1341: 1342, 1342: 1343, 1343: 1344, 1344: 1345, 1345: 1346, 1346: 1347, 1347: 1348, 1348: 1349, 1349: 1350, 1350: 1351, 1351: 1352, 1352: 1353, 1353: 1354, 1354: 1355, 1355: 1356, 1356: 1357, 1357: 1358, 1358: 1359, 1359: 1360, 1360: 1361, 1361: 1362, 1362: 1363, 1363: 1364, 1364: 1365, 1365: 1366, 1366: 1367, 1367: 1368, 1368: 1369, 1369: 1370, 1370: 1371, 1371: 1372, 1372: 1373, 1373: 1374, 1374: 1375, 1375: 1376, 1376: 1377, 1377: 1378, 1378: 1379, 1379: 1380, 1380: 1381, 1381: 1382, 1382: 1383, 1383: 1384, 1384: 1385, 1385: 1386, 1386: 1387, 1387: 1388, 1388: 1389, 1389: 1390, 1390: 1391, 1391: 1392, 1392: 1393, 1393: 1394, 1394: 1395, 1395: 1396, 1396: 1397, 1397: 1398, 1398: 1399, 1399: 1400, 1400: 1401, 1401: 1402, 1402: 1403, 1403: 1404, 1404: 1405, 1405: 1406, 1406: 1407, 1407: 1408, 1408: 1409, 1409: 1410, 1410: 1411, 1411: 1412, 1412: 1413, 1413: 1414, 1414: 1415, 1415: 1416, 1416: 1417, 1417: 1418, 1418: 1419, 1419: 1420, 1420: 1421, 1421: 1422, 1422: 1423, 1423: 1424, 1424: 1425, 1425: 1426, 1426: 1427, 1427: 1428, 1428: 1429, 1429: 1430, 1430: 1431, 1431: 1432, 1432: 1433, 1433: 1434, 1434: 1435, 1435: 1436, 1436: 1437, 1437: 1438, 1438: 1439, 1439: 1440, 1440: 1441, 1441: 1442, 1442: 1443, 1443: 1444, 1444: 1445, 1445: 1446, 1446: 1447, 1447: 1448, 1448: 1449, 1449: 1450, 1450: 1451, 1451: 1452, 1452: 1453, 1453: 1454, 1454: 1455, 1455: 1456, 1456: 1457, 1457: 1458, 1458: 1459, 1459: 1460, 1460: 1461, 1461: 1462, 1462: 1463, 1463: 1464, 1464: 1465, 1465: 1466, 1466: 1467, 1467: 1468, 1468: 1469, 1469: 1470, 1470: 1471, 1471: 1472, 1472: 1473, 1473: 1474, 1474: 1475, 1475: 1476, 1476: 1477, 1477: 1478, 1478: 1479, 1479: 1480, 1480: 1481, 1481: 1482, 1482: 1483, 1483: 1484, 1484: 1485, 1485: 1486, 1486: 1487, 1487: 1488, 1488: 1489, 1489: 1490, 1490: 1491, 1491: 1492, 1492: 1493, 1493: 1494, 1494: 1495, 1495: 1496, 1496: 1497, 1497: 1498, 1498: 1499, 1499: 1500, 1500: 1501, 1501: 1502, 1502: 1503, 1503: 1504, 1504: 1505, 1505: 1506, 1506: 1507, 1507: 1508, 1508: 1509, 1509: 1510, 1510: 1511, 1511: 1512, 1512: 1513, 1513: 1514, 1514: 1515, 1515: 1516, 1516: 1517, 1517: 1518, 1518: 1519, 1519: 1520, 1520: 1521, 1521: 1522, 1522: 1523, 1523: 1524, 1524: 1525, 1525: 1526, 1526: 1527, 1527: 1528, 1528: 1529, 1529: 1530, 1530: 1531, 1531: 1532, 1532: 1533, 1533: 1534, 1534: 1535, 1535: 1536, 1536: 1537, 1537: 1538, 1538: 1539, 1539: 1540, 1540: 1541, 1541: 1542, 1542: 1543, 1543: 1544, 1544: 1545, 1545: 1546, 1546: 1547, 1547: 1548, 1548: 1549, 1549: 1550, 1550: 1551, 1551: 1552, 1552: 1553, 1553: 1554, 1554: 1555, 1555: 1556, 1556: 1557, 1557: 1558, 1558: 1559, 1559: 1560, 1560: 1561, 1561: 1562, 1562: 1563, 1563: 1564, 1564: 1565, 1565: 1566, 1566: 1567, 1567: 1568, 1568: 1569, 1569: 1570, 1570: 1571, 1571: 1572, 1572: 1573, 1573: 1574, 1574: 1575, 1575: 1576, 1576: 1577, 1577: 1578, 1578: 1579, 1579: 1580, 1580: 1581, 1581: 1582, 1582: 1583, 1583: 1584, 1584: 1585, 1585: 1586, 1586: 1587, 1587: 1588, 1588: 1589, 1589: 1590, 1590: 1591, 1591: 1592, 1592: 1593, 1593: 1594, 1594: 1595, 1595: 1596, 1596: 1597, 1597: 1598, 1598: 1599, 1599: 1600, 1600: 1601, 1601: 1602, 1602: 1603, 1603: 1604, 1604: 1605, 1605: 1606, 1606: 1607, 1607: 1608, 1608: 1609, 1609: 1610, 1610: 1611, 1611: 1612, 1612: 1613, 1613: 1614, 1614: 1615, 1615: 1616, 1616: 1617, 1617: 1618, 1618: 1619, 1619: 1620, 1620: 1621, 1621: 1622, 1622: 1623, 1623: 1624, 1624: 1625, 1625: 1626, 1626: 1627, 1627: 1628, 1628: 1629, 1629: 1630, 1630: 1631, 1631: 1632, 1632: 1633, 1633: 1634, 1634: 1635, 1635: 1636, 1636: 1637, 1637: 1638, 1638: 1639, 1639: 1640, 1640: 1641, 1641: 1642, 1642: 1643, 1643: 1644, 1644: 1645, 1645: 1646, 1646: 1647, 1647: 1648, 1648: 1649, 1649: 1650, 1650: 1651, 1651: 1652, 1652: 1653, 1653: 1654, 1654: 1655, 1655: 1656, 1656: 1657, 1657: 1658, 1658: 1659, 1659: 1660, 1660: 1661, 1661: 1662, 1662: 1663, 1663: 1664, 1664: 1665, 1665: 1666, 1666: 1667, 1667: 1668, 1668: 1669, 1669: 1670, 1670: 1671, 1671: 1672, 1672: 1673, 1673: 1674, 1674: 1675, 1675: 1676, 1676: 1677, 1677: 1678, 1678: 1679, 1679: 1680, 1680: 1681, 1681: 1682, 1682: 1683, 1683: 1684, 1684: 1685, 1685: 1686, 1686: 1687, 1687: 1688, 1688: 1689, 1689: 1690, 1690: 1691, 1691: 1692, 1692: 1693, 1693: 1694, 1694: 1695, 1695: 1696, 1696: 1697, 1697: 1698, 1698: 1699, 1699: 1700, 1700: 1701, 1701: 1702, 1702: 1703, 1703: 1704, 1704: 1705, 1705: 1706, 1706: 1707, 1707: 1708, 1708: 1709, 1709: 1710, 1710: 1711, 1711: 1712, 1712: 1713, 1713: 1714, 1714: 1715, 1715: 1716, 1716: 1717, 1717: 1718, 1718: 1719, 1719: 1720, 1720: 1721, 1721: 1722, 1722: 1723, 1723: 1724, 1724: 1725, 1725: 1726, 1726: 1727, 1727: 1728, 1728: 1729, 1729: 1730, 1730: 1731, 1731: 1732, 1732: 1733, 1733: 1734, 1734: 1735, 1735: 1736, 1736: 1737, 1737: 1738, 1738: 1739, 1739: 1740, 1740: 1741, 1741: 1742, 1742: 1743, 1743: 1744, 1744: 1745, 1745: 1746, 1746: 1747, 1747: 1748, 1748: 1749, 1749: 1750, 1750: 1751, 1751: 1752, 1752: 1753, 1753: 1754, 1754: 1755, 1755: 1756, 1756: 1757, 1757: 1758, 1758: 1759, 1759: 1760, 1760: 1761, 1761: 1762, 1762: 1763, 1763: 1764, 1764: 1765, 1765: 1766, 1766: 1767, 1767: 1768, 1768: 1769, 1769: 1770, 1770: 1771, 1771: 1772, 1772: 1773, 1773: 1774, 1774: 1775, 1775: 1776, 1776: 1777, 1777: 1778, 1778: 1779, 1779: 1780, 1780: 1781, 1781: 1782, 1782: 1783, 1783: 1784, 1784: 1785, 1785: 1786, 1786: 1787, 1787: 1788, 1788: 1789, 1789: 1790, 1790: 1791, 1791: 1792, 1792: 1793, 1793: 1794, 1794: 1795, 1795: 1796, 1796: 1797, 1797: 1798, 1798: 1799, 1799: 1800, 1800: 1801, 1801: 1802, 1802: 1803, 1803: 1804, 1804: 1805, 1805: 1806, 1806: 1807, 1807: 1808, 1808: 1809, 1809: 1810, 1810: 1811, 1811: 1812, 1812: 1813, 1813: 1814, 1814: 1815, 1815: 1816, 1816: 1817, 1817: 1818, 1818: 1819, 1819: 1820, 1820: 1821, 1821: 1822, 1822: 1823, 1823: 1824, 1824: 1825, 1825: 1826, 1826: 1827, 1827: 1828, 1828: 1829, 1829: 1830, 1830: 1831, 1831: 1832, 1832: 1833, 1833: 1834, 1834: 1835, 1835: 1836, 1836: 1837, 1837: 1838, 1838: 1839, 1839: 1840, 1840: 1841, 1841: 1842, 1842: 1843, 1843: 1844, 1844: 1845, 1845: 1846, 1846: 1847, 1847: 1848, 1848: 1849, 1849: 1850, 1850: 1851, 1851: 1852, 1852: 1853, 1853: 1854, 1854: 1855, 1855: 1856, 1856: 1857, 1857: 1858, 1858: 1859, 1859: 1860, 1860: 1861, 1861: 1862, 1862: 1863, 1863: 1864, 1864: 1865, 1865: 1866, 1866: 1867, 1867: 1868, 1868: 1869, 1869: 1870, 1870: 1871, 1871: 1872, 1872: 1873, 1873: 1874, 1874: 1875, 1875: 1876, 1876: 1877, 1877: 1878, 1878: 1879, 1879: 1880, 1880: 1881, 1881: 1882, 1882: 1883, 1883: 1884, 1884: 1885, 1885: 1886, 1886: 1887, 1887: 1888, 1888: 1889, 1889: 1890, 1890: 1891, 1891: 1892, 1892: 1893, 1893: 1894, 1894: 1895, 1895: 1896, 1896: 1897, 1897: 1898, 1898: 1899, 1899: 1900, 1900: 1901, 1901: 1902, 1902: 1903, 1903: 1904, 1904: 1905, 1905: 1906, 1906: 1907, 1907: 1908, 1908: 1909, 1909: 1910, 1910: 1911, 1911: 1912, 1912: 1913, 1913: 1914, 1914: 1915, 1915: 1916, 1916: 1917, 1917: 1918, 1918: 1919, 1919: 1920, 1920: 1921, 1921: 1922, 1922: 1923, 1923: 1924, 1924: 1925, 1925: 1926, 1926: 1927, 1927: 1928, 1928: 1929, 1929: 1930, 1930: 1931, 1931: 1932, 1932: 1933, 1933: 1934, 1934: 1935, 1935: 1936, 1936: 1937, 1937: 1938, 1938: 1939, 1939: 1940, 1940: 1941, 1941: 1942, 1942: 1943, 1943: 1944, 1944: 1945, 1945: 1946, 1946: 1947, 1947: 1948, 1948: 1949, 1949: 1950, 1950: 1951, 1951: 1952, 1952: 1953, 1953: 1954, 1954: 1955, 1955: 1956, 1956: 1957, 1957: 1958, 1958: 1959, 1959: 1960, 1960: 1961, 1961: 1962, 1962: 1963, 1963: 1964, 1964: 1965, 1965: 1966, 1966: 1967, 1967: 1968, 1968: 1969, 1969: 1970, 1970: 1971, 1971: 1972, 1972: 1973, 1973: 1974, 1974: 1975, 1975: 1976, 1976: 1977, 1977: 1978, 1978: 1979, 1979: 1980, 1980: 1981, 1981: 1982, 1982: 1983, 1983: 1984, 1984: 1985, 1985: 1986, 1986: 1987, 1987: 1988, 1988: 1989, 1989: 1990, 1990: 1991, 1991: 1992, 1992: 1993, 1993: 1994, 1994: 1995, 1995: 1996, 1996: 1997, 1997: 1998, 1998: 1999, 1999: 2000, 2000: 2001, 2001: 2002, 2002: 2003, 2003: 2004, 2004: 2005, 2005: 2006, 2006: 2007, 2007: 2008, 2008: 2009, 2009: 2010, 2010: 2011, 2011: 2012, 2012: 2013, 2013: 2014, 2014: 2015, 2015: 2016, 2016: 2017, 2017: 2018, 2018: 2019, 2019: 2020, 2020: 2021, 2021: 2022, 2022: 2023, 2023: 2024, 2024: 2025, 2025: 2026, 2026: 2027, 2027: 2028, 2028: 2029, 2029: 2030, 2030: 2031, 2031: 2032, 2032: 2033, 2033: 2034, 2034: 2035, 2035: 2036, 2036: 2037, 2037: 2038, 2038: 2039, 2039: 2040, 2040: 2041, 2041: 2042, 2042: 2043, 2043: 2044, 2044: 2045, 2045: 2046, 2046: 2047, 2047: 2048, 2048: 2049, 2049: 2050, 2050: 2051, 2051: 2052, 2052: 2053, 2053: 2054, 2054: 2055, 2055: 2056, 2056: 2057, 2057: 2058, 2058: 2059, 2059: 2060, 2060: 2061, 2061: 2062, 2062: 2063, 2063: 2064, 2064: 2065, 2065: 2066, 2066: 2067, 2067: 2068, 2068: 2069, 2069: 2070, 2070: 2071, 2071: 2072, 2072: 2073, 2073: 2074, 2074: 2075, 2075: 2076, 2076: 2077, 2077: 2078, 2078: 2079, 2079: 2080, 2080: 2081, 2081: 2082, 2082: 2083, 2083: 2084, 2084: 2085, 2085: 2086, 2086: 2087, 2087: 2088, 2088: 2089, 2089: 2090, 2090: 2091, 2091: 2092, 2092: 2093, 2093: 2094, 2094: 2095, 2095: 2096, 2096: 2097, 2097: 2098, 2098: 2099, 2099: 2100, 2100: 2101, 2101: 2102, 2102: 2103, 2103: 2104, 2104: 2105, 2105: 2106, 2106: 2107, 2107: 2108, 2108: 2109, 2109: 2110, 2110: 2111, 2111: 2112, 2112: 2113, 2113: 2114, 2114: 2115, 2115: 2116, 2116: 2117, 2117: 2118, 2118: 2119, 2119: 2120, 2120: 2121, 2121: 2122, 2122: 2123, 2123: 2124, 2124: 2125, 2125: 2126, 2126: 2127, 2127: 2128, 2128: 2129, 2129: 2130, 2130: 2131, 2131: 2132, 2132: 2133, 2133: 2134, 2134: 2135, 2135: 2136, 2136: 2137, 2137: 2138, 2138: 2139, 2139: 2140, 2140: 2141, 2141: 2142, 2142: 2143, 2143: 2144, 2144: 2145, 2145: 2146, 2146: 2147, 2147: 2148, 2148: 2149, 2149: 2150, 2150: 2151, 2151: 2152, 2152: 2153, 2153: 2154, 2154: 2155, 2155: 2156, 2156: 2157, 2157: 2158, 2158: 2159, 2159: 2160, 2160: 2161, 2161: 2162, 2162: 2163, 2163: 2164, 2164: 2165, 2165: 2166, 2166: 2167, 2167: 2168, 2168: 2169, 2169: 2170, 2170: 2171, 2171: 2172, 2172: 2173, 2173: 2174, 2174: 2175, 2175: 2176, 2176: 2177, 2177: 2178, 2178: 2179, 2179: 2180, 2180: 2181, 2181: 2182, 2182: 2183, 2183: 2184, 2184: 2185, 2185: 2186, 2186: 2187, 2187: 2188, 2188: 2189, 2189: 2190, 2190: 2191, 2191: 2192, 2192: 2193, 2193: 2194, 2194: 2195, 2195: 2196, 2196: 2197, 2197: 2198, 2198: 2199, 2199: 2200, 2200: 2201, 2201: 2202, 2202: 2203, 2203: 2204, 2204: 2205, 2205: 2206, 2206: 2207, 2207: 2208, 2208: 2209, 2209: 2210, 2210: 2211, 2211: 2212, 2212: 2213, 2213: 2214, 2214: 2215, 2215: 2216, 2216: 2217, 2217: 2218, 2218: 2219, 2219: 2220, 2220: 2221, 2221: 2222, 2222: 2223, 2223: 2224, 2224: 2225, 2225: 2226, 2226: 2227, 2227: 2228, 2228: 2229, 2229: 2230, 2230: 2231, 2231: 2232, 2232: 2233, 2233: 2234, 2234: 2235, 2235: 2236, 2236: 2237, 2237: 2238, 2238: 2239, 2239: 2240, 2240: 2241, 2241: 2242, 2242: 2243, 2243: 2244, 2244: 2245, 2245: 2246, 2246: 2247, 2247: 2248, 2248: 2249, 2249: 2250, 2250: 2251, 2251: 2252, 2252: 2253, 2253: 2254, 2254: 2255, 2255: 2256, 2256: 2257, 2257: 2258, 2258: 2259, 2259: 2260, 2260: 2261, 2261: 2262, 2262: 2263, 2263: 2264, 2264: 2265, 2265: 2266, 2266: 2267, 2267: 2268, 2268: 2269, 2269: 2270, 2270: 2271, 2271: 2272, 2272: 2273, 2273: 2274, 2274: 2275, 2275: 2276, 2276: 2277, 2277: 2278, 2278: 2279, 2279: 2280, 2280: 2281, 2281: 2282, 2282: 2283, 2283: 2284, 2284: 2285, 2285: 2286, 2286: 2287, 2287: 2288, 2288: 2289, 2289: 2290, 2290: 2291, 2291: 2292, 2292: 2293, 2293: 2294, 2294: 2295, 2295: 2296, 2296: 2297, 2297: 2298, 2298: 2299, 2299: 2300, 2300: 2301, 2301: 2302, 2302: 2303, 2303: 2304, 2304: 2305, 2305: 2306, 2306: 2307, 2307: 2308, 2308: 2309, 2309: 2310, 2310: 2311, 2311: 2312, 2312: 2313, 2313: 2314, 2314: 2315, 2315: 2316, 2316: 2317, 2317: 2318, 2318: 2319, 2319: 2320, 2320: 2321, 2321: 2322, 2322: 2323, 2323: 2324, 2324: 2325, 2325: 2326, 2326: 2327, 2327: 2328, 2328: 2329, 2329: 2330, 2330: 2331, 2331: 2332, 2332: 2333, 2333: 2334, 2334: 2335, 2335: 2336, 2336: 2337, 2337: 2338, 2338: 2339, 2339: 2340, 2340: 2341, 2341: 2342, 2342: 2343, 2343: 2344, 2344: 2345, 2345: 2346, 2346: 2347, 2347: 2348, 2348: 2349, 2349: 2350, 2350: 2351, 2351: 2352, 2352: 2353, 2353: 2354, 2354: 2355, 2355: 2356, 2356: 2357, 2357: 2358, 2358: 2359, 2359: 2360, 2360: 2361, 2361: 2362, 2362: 2363, 2363: 2364, 2364: 2365, 2365: 2366, 2366: 2367, 2367: 2368, 2368: 2369, 2369: 2370, 2370: 2371, 2371: 2372, 2372: 2373, 2373: 2374, 2374: 2375, 2375: 2376, 2376: 2377, 2377: 2378, 2378: 2379, 2379: 2380, 2380: 2381, 2381: 2382, 2382: 2383, 2383: 2384, 2384: 2385, 2385: 2386, 2386: 2387, 2387: 2388, 2388: 2389, 2389: 2390, 2390: 2391, 2391: 2392, 2392: 2393, 2393: 2394, 2394: 2395, 2395: 2396, 2396: 2397, 2397: 2398, 2398: 2399, 2399: 2400, 2400: 2401, 2401: 2402, 2402: 2403, 2403: 2404, 2404: 2405, 2405: 2406, 2406: 2407, 2407: 2408, 2408: 2409, 2409: 2410, 2410: 2411, 2411: 2412, 2412: 2413, 2413: 2414, 2414: 2415, 2415: 2416, 2416: 2417, 2417: 2418, 2418: 2419, 2419: 2420, 2420: 2421, 2421: 2422, 2422: 2423, 2423: 2424, 2424: 2425, 2425: 2426, 2426: 2427, 2427: 2428, 2428: 2429, 2429: 2430, 2430: 2431, 2431: 2432, 2432: 2433, 2433: 2434, 2434: 2435, 2435: 2436, 2436: 2437, 2437: 2438, 2438: 2439, 2439: 2440, 2440: 2441, 2441: 2442, 2442: 2443, 2443: 2444, 2444: 2445, 2445: 2446, 2446: 2447, 2447: 2448, 2448: 2449, 2449: 2450, 2450: 2451, 2451: 2452, 2452: 2453, 2453: 2454, 2454: 2455, 2455: 2456, 2456: 2457, 2457: 2458, 2458: 2459, 2459: 2460, 2460: 2461, 2461: 2462, 2462: 2463, 2463: 2464, 2464: 2465, 2465: 2466, 2466: 2467, 2467: 2468, 2468: 2469, 2469: 2470, 2470: 2471, 2471: 2472, 2472: 2473, 2473: 2474, 2474: 2475, 2475: 2476, 2476: 2477, 2477: 2478, 2478: 2479, 2479: 2480, 2480: 2481, 2481: 2482, 2482: 2483, 2483: 2484, 2484: 2485, 2485: 2486, 2486: 2487, 2487: 2488, 2488: 2489, 2489: 2490, 2490: 2491, 2491: 2492, 2492: 2493, 2493: 2494, 2494: 2495, 2495: 2496, 2496: 2497, 2497: 2498, 2498: 2499, 2499: 2500, 2500: 2501, 2501: 2502, 2502: 2503, 2503: 2504, 2504: 2505, 2505: 2506, 2506: 2507, 2507: 2508, 2508: 2509, 2509: 2510, 2510: 2511, 2511: 2512, 2512: 2513, 2513: 2514, 2514: 2515, 2515: 2516, 2516: 2517, 2517: 2518, 2518: 2519, 2519: 2520, 2520: 2521, 2521: 2522, 2522: 2523, 2523: 2524, 2524: 2525, 2525: 2526, 2526: 2527, 2527: 2528, 2528: 2529, 2529: 2530, 2530: 2531, 2531: 2532, 2532: 2533, 2533: 2534, 2534: 2535, 2535: 2536, 2536: 2537, 2537: 2538, 2538: 2539, 2539: 2540, 2540: 2541, 2541: 2542, 2542: 2543, 2543: 2544, 2544: 2545, 2545: 2546, 2546: 2547, 2547: 2548, 2548: 2549, 2549: 2550, 2550: 2551, 2551: 2552, 2552: 2553, 2553: 2554, 2554: 2555, 2555: 2556, 2556: 2557, 2557: 2558, 2558: 2559, 2559: 2560, 2560: 2561, 2561: 2562, 2562: 2563, 2563: 2564, 2564: 2565, 2565: 2566, 2566: 2567, 2567: 2568, 2568: 2569, 2569: 2570, 2570: 2571, 2571: 2572, 2572: 2573, 2573: 2574, 2574: 2575, 2575: 2576, 2576: 2577, 2577: 2578, 2578: 2579, 2579: 2580, 2580: 2581, 2581: 2582, 2582: 2583, 2583: 2584, 2584: 2585, 2585: 2586, 2586: 2587, 2587: 2588, 2588: 2589, 2589: 2590, 2590: 2591, 2591: 2592, 2592: 2593, 2593: 2594, 2594: 2595, 2595: 2596, 2596: 2597, 2597: 2598, 2598: 2599, 2599: 2600, 2600: 2601, 2601: 2602, 2602: 2603, 2603: 2604, 2604: 2605, 2605: 2606, 2606: 2607, 2607: 2608, 2608: 2609, 2609: 2610, 2610: 2611, 2611: 2612, 2612: 2613, 2613: 2614, 2614: 2615, 2615: 2616, 2616: 2617, 2617: 2618, 2618: 2619, 2619: 2620, 2620: 2621, 2621: 2622, 2622: 2623, 2623: 2624, 2624: 2625, 2625: 2626, 2626: 2627, 2627: 2628, 2628: 2629, 2629: 2630, 2630: 2631, 2631: 2632, 2632: 2633, 2633: 2634, 2634: 2635, 2635: 2636, 2636: 2637, 2637: 2638, 2638: 2639, 2639: 2640, 2640: 2641, 2641: 2642, 2642: 2643, 2643: 2644, 2644: 2645, 2645: 2646, 2646: 2647, 2647: 2648, 2648: 2649, 2649: 2650, 2650: 2651, 2651: 2652, 2652: 2653, 2653: 2654, 2654: 2655, 2655: 2656, 2656: 2657, 2657: 2658, 2658: 2659, 2659: 2660, 2660: 2661, 2661: 2662, 2662: 2663, 2663: 2664, 2664: 2665, 2665: 2666, 2666: 2667, 2667: 2668, 2668: 2669, 2669: 2670, 2670: 2671, 2671: 2672, 2672: 2673, 2673: 2674, 2674: 2675, 2675: 2676, 2676: 2677, 2677: 2678, 2678: 2679, 2679: 2680, 2680: 2681, 2681: 2682, 2682: 2683, 2683: 2684, 2684: 2685, 2685: 2686, 2686: 2687, 2687: 2688, 2688: 2689, 2689: 2690, 2690: 2691, 2691: 2692, 2692: 2693, 2693: 2694, 2694: 2695, 2695: 2696, 2696: 2697, 2697: 2698, 2698: 2699, 2699: 2700, 2700: 2701, 2701: 2702, 2702: 2703, 2703: 2704, 2704: 2705, 2705: 2706, 2706: 2707, 2707: 2708, 2708: 2709, 2709: 2710, 2710: 2711, 2711: 2712, 2712: 2713, 2713: 2714, 2714: 2715, 2715: 2716, 2716: 2717, 2717: 2718, 2718: 2719, 2719: 2720, 2720: 2721, 2721: 2722, 2722: 2723, 2723: 2724, 2724: 2725, 2725: 2726, 2726: 2727, 2727: 2728, 2728: 2729, 2729: 2730, 2730: 2731, 2731: 2732, 2732: 2733, 2733: 2734, 2734: 2735, 2735: 2736, 2736: 2737, 2737: 2738, 2738: 2739, 2739: 2740, 2740: 2741, 2741: 2742, 2742: 2743, 2743: 2744, 2744: 2745, 2745: 2746, 2746: 2747, 2747: 2748, 2748: 2749, 2749: 2750, 2750: 2751, 2751: 2752, 2752: 2753, 2753: 2754, 2754: 2755, 2755: 2756, 2756: 2757, 2757: 2758, 2758: 2759, 2759: 2760, 2760: 2761, 2761: 2762, 2762: 2763, 2763: 2764, 2764: 2765, 2765: 2766, 2766: 2767, 2767: 2768, 2768: 2769, 2769: 2770, 2770: 2771, 2771: 2772, 2772: 2773, 2773: 2774, 2774: 2775, 2775: 2776, 2776: 2777, 2777: 2778, 2778: 2779, 2779: 2780, 2780: 2781, 2781: 2782, 2782: 2783, 2783: 2784, 2784: 2785, 2785: 2786, 2786: 2787, 2787: 2788, 2788: 2789, 2789: 2790, 2790: 2791, 2791: 2792, 2792: 2793, 2793: 2794, 2794: 2795, 2795: 2796, 2796: 2797, 2797: 2798, 2798: 2799, 2799: 2800, 2800: 2801, 2801: 2802, 2802: 2803, 2803: 2804, 2804: 2805, 2805: 2806, 2806: 2807, 2807: 2808, 2808: 2809, 2809: 2810, 2810: 2811, 2811: 2812, 2812: 2813, 2813: 2814, 2814: 2815, 2815: 2816, 2816: 2817, 2817: 2818, 2818: 2819, 2819: 2820, 2820: 2821, 2821: 2822, 2822: 2823, 2823: 2824, 2824: 2825, 2825: 2826, 2826: 2827, 2827: 2828, 2828: 2829, 2829: 2830, 2830: 2831, 2831: 2832, 2832: 2833, 2833: 2834, 2834: 2835, 2835: 2836, 2836: 2837, 2837: 2838, 2838: 2839, 2839: 2840, 2840: 2841, 2841: 2842, 2842: 2843, 2843: 2844, 2844: 2845, 2845: 2846, 2846: 2847, 2847: 2848, 2848: 2849, 2849: 2850, 2850: 2851, 2851: 2852, 2852: 2853, 2853: 2854, 2854: 2855, 2855: 2856, 2856: 2857, 2857: 2858, 2858: 2859, 2859: 2860, 2860: 2861, 2861: 2862, 2862: 2863, 2863: 2864, 2864: 2865, 2865: 2866, 2866: 2867, 2867: 2868, 2868: 2869, 2869: 2870, 2870: 2871, 2871: 2872, 2872: 2873, 2873: 2874, 2874: 2875, 2875: 2876, 2876: 2877, 2877: 2878, 2878: 2879, 2879: 2880, 2880: 2881, 2881: 2882, 2882: 2883, 2883: 2884, 2884: 2885, 2885: 2886, 2886: 2887, 2887: 2888, 2888: 2889, 2889: 2890, 2890: 2891, 2891: 2892, 2892: 2893, 2893: 2894, 2894: 2895, 2895: 2896, 2896: 2897, 2897: 2898, 2898: 2899, 2899: 2900, 2900: 2901, 2901: 2902, 2902: 2903, 2903: 2904, 2904: 2905, 2905: 2906, 2906: 2907, 2907: 2908, 2908: 2909, 2909: 2910, 2910: 2911, 2911: 2912, 2912: 2913, 2913: 2914, 2914: 2915, 2915: 2916, 2916: 2917, 2917: 2918, 2918: 2919, 2919: 2920, 2920: 2921, 2921: 2922, 2922: 2923, 2923: 2924, 2924: 2925, 2925: 2926, 2926: 2927, 2927: 2928, 2928: 2929, 2929: 2930, 2930: 2931, 2931: 2932, 2932: 2933, 2933: 2934, 2934: 2935, 2935: 2936, 2936: 2937, 2937: 2938, 2938: 2939, 2939: 2940, 2940: 2941, 2941: 2942, 2942: 2943, 2943: 2944, 2944: 2945, 2945: 2946, 2946: 2947, 2947: 2948, 2948: 2949, 2949: 2950, 2950: 2951, 2951: 2952, 2952: 2953, 2953: 2954, 2954: 2955, 2955: 2956, 2956: 2957, 2957: 2958, 2958: 2959, 2959: 2960, 2960: 2961, 2961: 2962, 2962: 2963, 2963: 2964, 2964: 2965, 2965: 2966, 2966: 2967, 2967: 2968, 2968: 2969, 2969: 2970, 2970: 2971, 2971: 2972, 2972: 2973, 2973: 2974, 2974: 2975, 2975: 2976, 2976: 2977, 2977: 2978, 2978: 2979, 2979: 2980, 2980: 2981, 2981: 2982, 2982: 2983, 2983: 2984, 2984: 2985, 2985: 2986, 2986: 2987, 2987: 2988, 2988: 2989, 2989: 2990, 2990: 2991, 2991: 2992, 2992: 2993, 2993: 2994, 2994: 2995, 2995: 2996, 2996: 2997, 2997: 2998, 2998: 2999, 2999: 3000, 3000: 3001, 3001: 3002, 3002: 3003, 3003: 3004, 3004: 3005, 3005: 3006, 3006: 3007, 3007: 3008, 3008: 3009, 3009: 3010, 3010: 3011, 3011: 3012, 3012: 3013, 3013: 3014, 3014: 3015, 3015: 3016, 3016: 3017, 3017: 3018, 3018: 3019, 3019: 3020, 3020: 3021, 3021: 3022, 3022: 3023, 3023: 3024, 3024: 3025, 3025: 3026, 3026: 3027, 3027: 3028, 3028: 3029, 3029: 3030, 3030: 3031, 3031: 3032, 3032: 3033, 3033: 3034, 3034: 3035, 3035: 3036, 3036: 3037, 3037: 3038, 3038: 3039, 3039: 3040, 3040: 3041, 3041: 3042, 3042: 3043, 3043: 3044, 3044: 3045, 3045: 3046, 3046: 3047, 3047: 3048, 3048: 3049, 3049: 3050, 3050: 3051, 3051: 3052, 3052: 3053, 3053: 3054, 3054: 3055, 3055: 3056, 3056: 3057, 3057: 3058, 3058: 3059, 3059: 3060, 3060: 3061, 3061: 3062, 3062: 3063, 3063: 3064, 3064: 3065, 3065: 3066, 3066: 3067, 3067: 3068, 3068: 3069, 3069: 3070, 3070: 3071, 3071: 3072, 3072: 3073, 3073: 3074, 3074: 3075, 3075: 3076, 3076: 3077, 3077: 3078, 3078: 3079, 3079: 3080, 3080: 3081, 3081: 3082, 3082: 3083, 3083: 3084, 3084: 3085, 3085: 3086, 3086: 3087, 3087: 3088, 3088: 3089, 3089: 3090, 3090: 3091, 3091: 3092, 3092: 3093, 3093: 3094, 3094: 3095, 3095: 3096, 3096: 3097, 3097: 3098, 3098: 3099, 3099: 3100, 3100: 3101, 3101: 3102, 3102: 3103, 3103: 3104, 3104: 3105, 3105: 3106, 3106: 3107, 3107: 3108, 3108: 3109, 3109: 3110, 3110: 3111, 3111: 3112, 3112: 3113, 3113: 3114, 3114: 3115, 3115: 3116, 3116: 3117, 3117: 3118, 3118: 3119, 3119: 3120, 3120: 3121, 3121: 3122, 3122: 3123, 3123: 3124, 3124: 3125, 3125: 3126, 3126: 3127, 3127: 3128, 3128: 3129, 3129: 3130, 3130: 3131, 3131: 3132, 3132: 3133, 3133: 3134, 3134: 3135, 3135: 3136, 3136: 3137, 3137: 3138, 3138: 3139, 3139: 3140, 3140: 3141, 3141: 3142, 3142: 3143, 3143: 3144, 3144: 3145, 3145: 3146, 3146: 3147, 3147: 3148, 3148: 3149, 3149: 3150, 3150: 3151, 3151: 3152, 3152: 3153, 3153: 3154, 3154: 3155, 3155: 3156, 3156: 3157, 3157: 3158, 3158: 3159, 3159: 3160, 3160: 3161, 3161: 3162, 3162: 3163, 3163: 3164, 3164: 3165, 3165: 3166, 3166: 3167, 3167: 3168, 3168: 3169, 3169: 3170, 3170: 3171, 3171: 3172, 3172: 3173, 3173: 3174, 3174: 3175, 3175: 3176, 3176: 3177, 3177: 3178, 3178: 3179, 3179: 3180, 3180: 3181, 3181: 3182, 3182: 3183, 3183: 3184, 3184: 3185, 3185: 3186, 3186: 3187, 3187: 3188, 3188: 3189, 3189: 3190, 3190: 3191, 3191: 3192, 3192: 3193, 3193: 3194, 3194: 3195, 3195: 3196, 3196: 3197, 3197: 3198, 3198: 3199, 3199: 3200, 3200: 3201, 3201: 3202, 3202: 3203, 3203: 3204, 3204: 3205, 3205: 3206, 3206: 3207, 3207: 3208, 3208: 3209, 3209: 3210, 3210: 3211, 3211: 3212, 3212: 3213, 3213: 3214, 3214: 3215, 3215: 3216, 3216: 3217, 3217: 3218, 3218: 3219, 3219: 3220, 3220: 3221, 3221: 3222, 3222: 3223, 3223: 3224, 3224: 3225, 3225: 3226, 3226: 3227, 3227: 3228, 3228: 3229, 3229: 3230, 3230: 3231, 3231: 3232, 3232: 3233, 3233: 3234, 3234: 3235, 3235: 3236, 3236: 3237, 3237: 3238, 3238: 3239, 3239: 3240, 3240: 3241, 3241: 3242, 3242: 3243, 3243: 3244, 3244: 3245, 3245: 3246, 3246: 3247, 3247: 3248, 3248: 3249, 3249: 3250, 3250: 3251, 3251: 3252, 3252: 3253, 3253: 3254, 3254: 3255, 3255: 3256, 3256: 3257, 3257: 3258, 3258: 3259, 3259: 3260, 3260: 3261, 3261: 3262, 3262: 3263, 3263: 3264, 3264: 3265, 3265: 3266, 3266: 3267, 3267: 3268, 3268: 3269, 3269: 3270, 3270: 3271, 3271: 3272, 3272: 3273, 3273: 3274, 3274: 3275, 3275: 3276, 3276: 3277, 3277: 3278, 3278: 3279, 3279: 3280, 3280: 3281, 3281: 3282, 3282: 3283, 3283: 3284, 3284: 3285, 3285: 3286, 3286: 3287, 3287: 3288, 3288: 3289, 3289: 3290, 3290: 3291, 3291: 3292, 3292: 3293, 3293: 3294, 3294: 3295, 3295: 3296, 3296: 3297, 3297: 3298, 3298: 3299, 3299: 3300, 3300: 3301, 3301: 3302, 3302: 3303, 3303: 3304, 3304: 3305, 3305: 3306, 3306: 3307, 3307: 3308, 3308: 3309, 3309: 3310, 3310: 3311, 3311: 3312, 3312: 3313, 3313: 3314, 3314: 3315, 3315: 3316, 3316: 3317, 3317: 3318, 3318: 3319, 3319: 3320, 3320: 3321, 3321: 3322, 3322: 3323, 3323: 3324, 3324: 3325, 3325: 3326, 3326: 3327, 3327: 3328, 3328: 3329, 3329: 3330, 3330: 3331, 3331: 3332, 3332: 3333, 3333: 3334, 3334: 3335, 3335: 3336, 3336: 3337, 3337: 3338, 3338: 3339, 3339: 3340, 3340: 3341, 3341: 3342, 3342: 3343, 3343: 3344, 3344: 3345, 3345: 3346, 3346: 3347, 3347: 3348, 3348: 3349, 3349: 3350, 3350: 3351, 3351: 3352, 3352: 3353, 3353: 3354, 3354: 3355, 3355: 3356, 3356: 3357, 3357: 3358, 3358: 3359, 3359: 3360, 3360: 3361, 3361: 3362, 3362: 3363, 3363: 3364, 3364: 3365, 3365: 3366, 3366: 3367, 3367: 3368, 3368: 3369, 3369: 3370, 3370: 3371, 3371: 3372, 3372: 3373, 3373: 3374, 3374: 3375, 3375: 3376, 3376: 3377, 3377: 3378, 3378: 3379, 3379: 3380, 3380: 3381, 3381: 3382, 3382: 3383, 3383: 3384, 3384: 3385, 3385: 3386, 3386: 3387, 3387: 3388, 3388: 3389, 3389: 3390, 3390: 3391, 3391: 3392, 3392: 3393, 3393: 3394, 3394: 3395, 3395: 3396, 3396: 3397, 3397: 3398, 3398: 3399, 3399: 3400, 3400: 3401, 3401: 3402, 3402: 3403, 3403: 3404, 3404: 3405, 3405: 3406, 3406: 3407, 3407: 3408, 3408: 3409, 3409: 3410, 3410: 3411, 3411: 3412, 3412: 3413, 3413: 3414, 3414: 3415, 3415: 3416, 3416: 3417, 3417: 3418, 3418: 3419, 3419: 3420, 3420: 3421, 3421: 3422, 3422: 3423, 3423: 3424, 3424: 3425, 3425: 3426, 3426: 3427, 3427: 3428, 3428: 3429, 3429: 3430, 3430: 3431, 3431: 3432, 3432: 3433, 3433: 3434, 3434: 3435, 3435: 3436, 3436: 3437, 3437: 3438, 3438: 3439, 3439: 3440, 3440: 3441, 3441: 3442, 3442: 3443, 3443: 3444, 3444: 3445, 3445: 3446, 3446: 3447, 3447: 3448, 3448: 3449, 3449: 3450, 3450: 3451, 3451: 3452, 3452: 3453, 3453: 3454, 3454: 3455, 3455: 3456, 3456: 3457, 3457: 3458, 3458: 3459, 3459: 3460, 3460: 3461, 3461: 3462, 3462: 3463, 3463: 3464, 3464: 3465, 3465: 3466, 3466: 3467, 3467: 3468, 3468: 3469, 3469: 3470, 3470: 3471, 3471: 3472, 3472: 3473, 3473: 3474, 3474: 3475, 3475: 3476, 3476: 3477, 3477: 3478, 3478: 3479, 3479: 3480, 3480: 3481, 3481: 3482, 3482: 3483, 3483: 3484, 3484: 3485, 3485: 3486, 3486: 3487, 3487: 3488, 3488: 3489, 3489: 3490, 3490: 3491, 3491: 3492, 3492: 3493, 3493: 3494, 3494: 3495, 3495: 3496, 3496: 3497, 3497: 3498, 3498: 3499, 3499: 3500, 3500: 3501, 3501: 3502, 3502: 3503, 3503: 3504, 3504: 3505, 3505: 3506, 3506: 3507, 3507: 3508, 3508: 3509, 3509: 3510, 3510: 3511, 3511: 3512, 3512: 3513, 3513: 3514, 3514: 3515, 3515: 3516, 3516: 3517, 3517: 3518, 3518: 3519, 3519: 3520, 3520: 3521, 3521: 3522, 3522: 3523, 3523: 3524, 3524: 3525, 3525: 3526, 3526: 3527, 3527: 3528, 3528: 3529, 3529: 3530, 3530: 3531, 3531: 3532, 3532: 3533, 3533: 3534, 3534: 3535, 3535: 3536, 3536: 3537, 3537: 3538, 3538: 3539, 3539: 3540, 3540: 3541, 3541: 3542, 3542: 3543, 3543: 3544, 3544: 3545, 3545: 3546, 3546: 3547, 3547: 3548, 3548: 3549, 3549: 3550, 3550: 3551, 3551: 3552, 3552: 3553, 3553: 3554, 3554: 3555, 3555: 3556, 3556: 3557, 3557: 3558, 3558: 3559, 3559: 3560, 3560: 3561, 3561: 3562, 3562: 3563, 3563: 3564, 3564: 3565, 3565: 3566, 3566: 3567, 3567: 3568, 3568: 3569, 3569: 3570, 3570: 3571, 3571: 3572, 3572: 3573, 3573: 3574, 3574: 3575, 3575: 3576, 3576: 3577, 3577: 3578, 3578: 3579, 3579: 3580, 3580: 3581, 3581: 3582, 3582: 3583, 3583: 3584, 3584: 3585, 3585: 3586, 3586: 3587, 3587: 3588, 3588: 3589, 3589: 3590, 3590: 3591, 3591: 3592, 3592: 3593, 3593: 3594, 3594: 3595, 3595: 3596, 3596: 3597, 3597: 3598, 3598: 3599, 3599: 3600, 3600: 3601, 3601: 3602, 3602: 3603, 3603: 3604, 3604: 3605, 3605: 3606, 3606: 3607, 3607: 3608, 3608: 3609, 3609: 3610, 3610: 3611, 3611: 3612, 3612: 3613, 3613: 3614, 3614: 3615, 3615: 3616, 3616: 3617, 3617: 3618, 3618: 3619, 3619: 3620, 3620: 3621, 3621: 3622, 3622: 3623, 3623: 3624, 3624: 3625, 3625: 3626, 3626: 3627, 3627: 3628, 3628: 3629, 3629: 3630, 3630: 3631, 3631: 3632, 3632: 3633, 3633: 3634, 3634: 3635, 3635: 3636, 3636: 3637, 3637: 3638, 3638: 3639, 3639: 3640, 3640: 3641, 3641: 3642, 3642: 3643, 3643: 3644, 3644: 3645, 3645: 3646, 3646: 3647, 3647: 3648, 3648: 3649, 3649: 3650, 3650: 3651, 3651: 3652, 3652: 3653, 3653: 3654, 3654: 3655, 3655: 3656, 3656: 3657, 3657: 3658, 3658: 3659, 3659: 3660, 3660: 3661, 3661: 3662, 3662: 3663, 3663: 3664, 3664: 3665, 3665: 3666, 3666: 3667, 3667: 3668, 3668: 3669, 3669: 3670, 3670: 3671, 3671: 3672, 3672: 3673, 3673: 3674, 3674: 3675, 3675: 3676, 3676: 3677, 3677: 3678, 3678: 3679, 3679: 3680, 3680: 3681, 3681: 3682, 3682: 3683, 3683: 3684, 3684: 3685, 3685: 3686, 3686: 3687, 3687: 3688, 3688: 3689, 3689: 3690, 3690: 3691, 3691: 3692, 3692: 3693, 3693: 3694, 3694: 3695, 3695: 3696, 3696: 3697, 3697: 3698, 3698: 3699, 3699: 3700, 3700: 3701, 3701: 3702, 3702: 3703, 3703: 3704, 3704: 3705, 3705: 3706, 3706: 3707, 3707: 3708, 3708: 3709, 3709: 3710, 3710: 3711, 3711: 3712, 3712: 3713, 3713: 3714, 3714: 3715, 3715: 3716, 3716: 3717, 3717: 3718, 3718: 3719, 3719: 3720, 3720: 3721, 3721: 3722, 3722: 3723, 3723: 3724, 3724: 3725, 3725: 3726, 3726: 3727, 3727: 3728, 3728: 3729, 3729: 3730, 3730: 3731, 3731: 3732, 3732: 3733, 3733: 3734, 3734: 3735, 3735: 3736, 3736: 3737, 3737: 3738, 3738: 3739, 3739: 3740, 3740: 3741, 3741: 3742, 3742: 3743, 3743: 3744, 3744: 3745, 3745: 3746, 3746: 3747, 3747: 3748, 3748: 3749, 3749: 3750, 3750: 3751, 3751: 3752, 3752: 3753, 3753: 3754, 3754: 3755, 3755: 3756, 3756: 3757, 3757: 3758, 3758: 3759, 3759: 3760, 3760: 3761, 3761: 3762, 3762: 3763, 3763: 3764, 3764: 3765, 3765: 3766, 3766: 3767, 3767: 3768, 3768: 3769, 3769: 3770, 3770: 3771, 3771: 3772, 3772: 3773, 3773: 3774, 3774: 3775, 3775: 3776, 3776: 3777, 3777: 3778, 3778: 3779, 3779: 3780, 3780: 3781, 3781: 3782, 3782: 3783, 3783: 3784, 3784: 3785, 3785: 3786, 3786: 3787, 3787: 3788, 3788: 3789, 3789: 3790, 3790: 3791, 3791: 3792, 3792: 3793, 3793: 3794, 3794: 3795, 3795: 3796, 3796: 3797, 3797: 3798, 3798: 3799, 3799: 3800, 3800: 3801, 3801: 3802, 3802: 3803, 3803: 3804, 3804: 3805, 3805: 3806, 3806: 3807, 3807: 3808, 3808: 3809, 3809: 3810, 3810: 3811, 3811: 3812, 3812: 3813, 3813: 3814, 3814: 3815, 3815: 3816, 3816: 3817, 3817: 3818, 3818: 3819, 3819: 3820, 3820: 3821, 3821: 3822, 3822: 3823, 3823: 3824, 3824: 3825, 3825: 3826, 3826: 3827, 3827: 3828, 3828: 3829, 3829: 3830, 3830: 3831, 3831: 3832, 3832: 3833, 3833: 3834, 3834: 3835, 3835: 3836, 3836: 3837, 3837: 3838, 3838: 3839, 3839: 3840, 3840: 3841, 3841: 3842, 3842: 3843, 3843: 3844, 3844: 3845, 3845: 3846, 3846: 3847, 3847: 3848, 3848: 3849, 3849: 3850, 3850: 3851, 3851: 3852, 3852: 3853, 3853: 3854, 3854: 3855, 3855: 3856, 3856: 3857, 3857: 3858, 3858: 3859, 3859: 3860, 3860: 3861, 3861: 3862, 3862: 3863, 3863: 3864, 3864: 3865, 3865: 3866, 3866: 3867, 3867: 3868, 3868: 3869, 3869: 3870, 3870: 3871, 3871: 3872, 3872: 3873, 3873: 3874, 3874: 3875, 3875: 3876, 3876: 3877, 3877: 3878, 3878: 3879, 3879: 3880, 3880: 3881, 3881: 3882, 3882: 3883, 3883: 3884, 3884: 3885, 3885: 3886, 3886: 3887, 3887: 3888, 3888: 3889, 3889: 3890, 3890: 3891, 3891: 3892, 3892: 3893, 3893: 3894, 3894: 3895, 3895: 3896, 3896: 3897, 3897: 3898, 3898: 3899, 3899: 3900, 3900: 3901, 3901: 3902, 3902: 3903, 3903: 3904, 3904: 3905, 3905: 3906, 3906: 3907, 3907: 3908, 3908: 3909, 3909: 3910, 3910: 3911, 3911: 3912, 3912: 3913, 3913: 3914, 3914: 3915, 3915: 3916, 3916: 3917, 3917: 3918, 3918: 3919, 3919: 3920, 3920: 3921, 3921: 3922, 3922: 3923, 3923: 3924, 3924: 3925, 3925: 3926, 3926: 3927, 3927: 3928, 3928: 3929, 3929: 3930, 3930: 3931, 3931: 3932, 3932: 3933, 3933: 3934, 3934: 3935, 3935: 3936, 3936: 3937, 3937: 3938, 3938: 3939, 3939: 3940, 3940: 3941, 3941: 3942, 3942: 3943, 3943: 3944, 3944: 3945, 3945: 3946, 3946: 3947, 3947: 3948, 3948: 3949, 3949: 3950, 3950: 3951, 3951: 3952, 3952: 3953, 3953: 3954, 3954: 3955, 3955: 3956, 3956: 3957, 3957: 3958, 3958: 3959, 3959: 3960, 3960: 3961, 3961: 3962, 3962: 3963, 3963: 3964, 3964: 3965, 3965: 3966, 3966: 3967, 3967: 3968, 3968: 3969, 3969: 3970, 3970: 3971, 3971: 3972, 3972: 3973, 3973: 3974, 3974: 3975, 3975: 3976, 3976: 3977, 3977: 3978, 3978: 3979, 3979: 3980, 3980: 3981, 3981: 3982, 3982: 3983, 3983: 3984, 3984: 3985, 3985: 3986, 3986: 3987, 3987: 3988, 3988: 3989, 3989: 3990, 3990: 3991, 3991: 3992, 3992: 3993, 3993: 3994, 3994: 3995, 3995: 3996, 3996: 3997, 3997: 3998, 3998: 3999, 3999: 4000, 4000: 4001, 4001: 4002, 4002: 4003, 4003: 4004, 4004: 4005, 4005: 4006, 4006: 4007, 4007: 4008, 4008: 4009, 4009: 4010, 4010: 4011, 4011: 4012, 4012: 4013, 4013: 4014, 4014: 4015, 4015: 4016, 4016: 4017, 4017: 4018, 4018: 4019, 4019: 4020, 4020: 4021, 4021: 4022, 4022: 4023, 4023: 4024, 4024: 4025, 4025: 4026, 4026: 4027, 4027: 4028, 4028: 4029, 4029: 4030, 4030: 4031, 4031: 4032, 4032: 4033, 4033: 4034, 4034: 4035, 4035: 4036, 4036: 4037, 4037: 4038, 4038: 4039, 4039: 4040, 4040: 4041, 4041: 4042, 4042: 4043, 4043: 4044, 4044: 4045, 4045: 4046, 4046: 4047, 4047: 4048, 4048: 4049, 4049: 4050, 4050: 4051, 4051: 4052, 4052: 4053, 4053: 4054, 4054: 4055, 4055: 4056, 4056: 4057, 4057: 4058, 4058: 4059, 4059: 4060, 4060: 4061, 4061: 4062, 4062: 4063, 4063: 4064, 4064: 4065, 4065: 4066, 4066: 4067, 4067: 4068, 4068: 4069, 4069: 4070, 4070: 4071, 4071: 4072, 4072: 4073, 4073: 4074, 4074: 4075, 4075: 4076, 4076: 4077, 4077: 4078, 4078: 4079, 4079: 4080, 4080: 4081, 4081: 4082, 4082: 4083, 4083: 4084, 4084: 4085, 4085: 4086, 4086: 4087, 4087: 4088, 4088: 4089, 4089: 4090, 4090: 4091, 4091: 4092, 4092: 4093, 4093: 4094, 4094: 4095, 4095: 4096, 4096: 4097, 4097: 4098, 4098: 4099, 4099: 4100, 4100: 4101, 4101: 4102, 4102: 4103, 4103: 4104, 4104: 4105, 4105: 4106, 4106: 4107, 4107: 4108, 4108: 4109, 4109: 4110, 4110: 4111, 4111: 4112, 4112: 4113, 4113: 4114, 4114: 4115, 4115: 4116, 4116: 4117, 4117: 4118, 4118: 4119, 4119: 4120, 4120: 4121, 4121: 4122, 4122: 4123, 4123: 4124, 4124: 4125, 4125: 4126, 4126: 4127, 4127: 4128, 4128: 4129, 4129: 4130, 4130: 4131, 4131: 4132, 4132: 4133, 4133: 4134, 4134: 4135, 4135: 4136, 4136: 4137, 4137: 4138, 4138: 4139, 4139: 4140, 4140: 4141, 4141: 4142, 4142: 4143, 4143: 4144, 4144: 4145, 4145: 4146, 4146: 4147, 4147: 4148, 4148: 4149, 4149: 4150, 4150: 4151, 4151: 4152, 4152: 4153, 4153: 4154, 4154: 4155, 4155: 4156, 4156: 4157, 4157: 4158, 4158: 4159, 4159: 4160, 4160: 4161, 4161: 4162, 4162: 4163, 4163: 4164, 4164: 4165, 4165: 4166, 4166: 4167, 4167: 4168, 4168: 4169, 4169: 4170, 4170: 4171, 4171: 4172, 4172: 4173, 4173: 4174, 4174: 4175, 4175: 4176, 4176: 4177, 4177: 4178, 4178: 4179, 4179: 4180, 4180: 4181, 4181: 4182, 4182: 4183, 4183: 4184, 4184: 4185, 4185: 4186, 4186: 4187, 4187: 4188, 4188: 4189, 4189: 4190, 4190: 4191, 4191: 4192, 4192: 4193, 4193: 4194, 4194: 4195, 4195: 4196, 4196: 4197, 4197: 4198, 4198: 4199, 4199: 4200, 4200: 4201, 4201: 4202, 4202: 4203, 4203: 4204, 4204: 4205, 4205: 4206, 4206: 4207, 4207: 4208, 4208: 4209, 4209: 4210, 4210: 4211, 4211: 4212, 4212: 4213, 4213: 4214, 4214: 4215, 4215: 4216, 4216: 4217, 4217: 4218, 4218: 4219, 4219: 4220, 4220: 4221, 4221: 4222, 4222: 4223, 4223: 4224, 4224: 4225, 4225: 4226, 4226: 4227, 4227: 4228, 4228: 4229, 4229: 4230, 4230: 4231, 4231: 4232, 4232: 4233, 4233: 4234, 4234: 4235, 4235: 4236, 4236: 4237, 4237: 4238, 4238: 4239, 4239: 4240, 4240: 4241, 4241: 4242, 4242: 4243, 4243: 4244, 4244: 4245, 4245: 4246, 4246: 4247, 4247: 4248, 4248: 4249, 4249: 4250, 4250: 4251, 4251: 4252, 4252: 4253, 4253: 4254, 4254: 4255, 4255: 4256, 4256: 4257, 4257: 4258, 4258: 4259, 4259: 4260, 4260: 4261, 4261: 4262, 4262: 4263, 4263: 4264, 4264: 4265, 4265: 4266, 4266: 4267, 4267: 4268, 4268: 4269, 4269: 4270, 4270: 4271, 4271: 4272, 4272: 4273, 4273: 4274, 4274: 4275, 4275: 4276, 4276: 4277, 4277: 4278, 4278: 4279, 4279: 4280, 4280: 4281, 4281: 4282, 4282: 4283, 4283: 4284, 4284: 4285, 4285: 4286, 4286: 4287, 4287: 4288, 4288: 4289, 4289: 4290, 4290: 4291, 4291: 4292, 4292: 4293, 4293: 4294, 4294: 4295, 4295: 4296, 4296: 4297, 4297: 4298, 4298: 4299, 4299: 4300, 4300: 4301, 4301: 4302, 4302: 4303, 4303: 4304, 4304: 4305, 4305: 4306, 4306: 4307, 4307: 4308, 4308: 4309, 4309: 4310, 4310: 4311, 4311: 4312, 4312: 4313, 4313: 4314, 4314: 4315, 4315: 4316, 4316: 4317, 4317: 4318, 4318: 4319, 4319: 4320, 4320: 4321, 4321: 4322, 4322: 4323, 4323: 4324, 4324: 4325, 4325: 4326, 4326: 4327, 4327: 4328, 4328: 4329, 4329: 4330, 4330: 4331, 4331: 4332, 4332: 4333, 4333: 4334, 4334: 4335, 4335: 4336, 4336: 4337, 4337: 4338, 4338: 4339, 4339: 4340, 4340: 4341, 4341: 4342, 4342: 4343, 4343: 4344, 4344: 4345, 4345: 4346, 4346: 4347, 4347: 4348, 4348: 4349, 4349: 4350, 4350: 4351, 4351: 4352, 4352: 4353, 4353: 4354, 4354: 4355, 4355: 4356, 4356: 4357, 4357: 4358, 4358: 4359, 4359: 4360, 4360: 4361, 4361: 4362, 4362: 4363, 4363: 4364, 4364: 4365, 4365: 4366, 4366: 4367, 4367: 4368, 4368: 4369, 4369: 4370, 4370: 4371, 4371: 4372, 4372: 4373, 4373: 4374, 4374: 4375, 4375: 4376, 4376: 4377, 4377: 4378, 4378: 4379, 4379: 4380, 4380: 4381, 4381: 4382, 4382: 4383, 4383: 4384, 4384: 4385, 4385: 4386, 4386: 4387, 4387: 4388, 4388: 4389, 4389: 4390, 4390: 4391, 4391: 4392, 4392: 4393, 4393: 4394, 4394: 4395, 4395: 4396, 4396: 4397, 4397: 4398, 4398: 4399, 4399: 4400, 4400: 4401, 4401: 4402, 4402: 4403, 4403: 4404, 4404: 4405, 4405: 4406, 4406: 4407, 4407: 4408, 4408: 4409, 4409: 4410, 4410: 4411, 4411: 4412, 4412: 4413, 4413: 4414, 4414: 4415, 4415: 4416, 4416: 4417, 4417: 4418, 4418: 4419, 4419: 4420, 4420: 4421, 4421: 4422, 4422: 4423, 4423: 4424, 4424: 4425, 4425: 4426, 4426: 4427, 4427: 4428, 4428: 4429, 4429: 4430, 4430: 4431, 4431: 4432, 4432: 4433, 4433: 4434, 4434: 4435, 4435: 4436, 4436: 4437, 4437: 4438, 4438: 4439, 4439: 4440, 4440: 4441, 4441: 4442, 4442: 4443, 4443: 4444, 4444: 4445, 4445: 4446, 4446: 4447, 4447: 4448, 4448: 4449, 4449: 4450, 4450: 4451, 4451: 4452, 4452: 4453, 4453: 4454, 4454: 4455, 4455: 4456, 4456: 4457, 4457: 4458, 4458: 4459, 4459: 4460, 4460: 4461, 4461: 4462, 4462: 4463, 4463: 4464, 4464: 4465, 4465: 4466, 4466: 4467, 4467: 4468, 4468: 4469, 4469: 4470, 4470: 4471, 4471: 4472, 4472: 4473, 4473: 4474, 4474: 4475, 4475: 4476, 4476: 4477, 4477: 4478, 4478: 4479, 4479: 4480, 4480: 4481, 4481: 4482, 4482: 4483, 4483: 4484, 4484: 4485, 4485: 4486, 4486: 4487, 4487: 4488, 4488: 4489, 4489: 4490, 4490: 4491, 4491: 4492, 4492: 4493, 4493: 4494, 4494: 4495, 4495: 4496, 4496: 4497, 4497: 4498, 4498: 4499, 4499: 4500, 4500: 4501, 4501: 4502, 4502: 4503, 4503: 4504, 4504: 4505, 4505: 4506, 4506: 4507, 4507: 4508, 4508: 4509, 4509: 4510, 4510: 4511, 4511: 4512, 4512: 4513, 4513: 4514, 4514: 4515, 4515: 4516, 4516: 4517, 4517: 4518, 4518: 4519, 4519: 4520, 4520: 4521, 4521: 4522, 4522: 4523, 4523: 4524, 4524: 4525, 4525: 4526, 4526: 4527, 4527: 4528, 4528: 4529, 4529: 4530, 4530: 4531, 4531: 4532, 4532: 4533, 4533: 4534, 4534: 4535, 4535: 4536, 4536: 4537, 4537: 4538, 4538: 4539, 4539: 4540, 4540: 4541, 4541: 4542, 4542: 4543, 4543: 4544, 4544: 4545, 4545: 4546, 4546: 4547, 4547: 4548, 4548: 4549, 4549: 4550, 4550: 4551, 4551: 4552, 4552: 4553, 4553: 4554, 4554: 4555, 4555: 4556, 4556: 4557, 4557: 4558, 4558: 4559, 4559: 4560, 4560: 4561, 4561: 4562, 4562: 4563, 4563: 4564, 4564: 4565, 4565: 4566, 4566: 4567, 4567: 4568, 4568: 4569, 4569: 4570, 4570: 4571, 4571: 4572, 4572: 4573, 4573: 4574, 4574: 4575, 4575: 4576, 4576: 4577, 4577: 4578, 4578: 4579, 4579: 4580, 4580: 4581, 4581: 4582, 4582: 4583, 4583: 4584, 4584: 4585, 4585: 4586, 4586: 4587, 4587: 4588, 4588: 4589, 4589: 4590, 4590: 4591, 4591: 4592, 4592: 4593, 4593: 4594, 4594: 4595, 4595: 4596, 4596: 4597, 4597: 4598, 4598: 4599, 4599: 4600, 4600: 4601, 4601: 4602, 4602: 4603, 4603: 4604, 4604: 4605, 4605: 4606, 4606: 4607, 4607: 4608, 4608: 4609, 4609: 4610, 4610: 4611, 4611: 4612, 4612: 4613, 4613: 4614, 4614: 4615, 4615: 4616, 4616: 4617, 4617: 4618, 4618: 4619, 4619: 4620, 4620: 4621, 4621: 4622, 4622: 4623, 4623: 4624, 4624: 4625, 4625: 4626, 4626: 4627, 4627: 4628, 4628: 4629, 4629: 4630, 4630: 4631, 4631: 4632, 4632: 4633, 4633: 4634, 4634: 4635, 4635: 4636, 4636: 4637, 4637: 4638, 4638: 4639, 4639: 4640, 4640: 4641, 4641: 4642, 4642: 4643, 4643: 4644, 4644: 4645, 4645: 4646, 4646: 4647, 4647: 4648, 4648: 4649, 4649: 4650, 4650: 4651, 4651: 4652, 4652: 4653, 4653: 4654, 4654: 4655, 4655: 4656, 4656: 4657, 4657: 4658, 4658: 4659, 4659: 4660, 4660: 4661, 4661: 4662, 4662: 4663, 4663: 4664, 4664: 4665, 4665: 4666, 4666: 4667, 4667: 4668, 4668: 4669, 4669: 4670, 4670: 4671, 4671: 4672, 4672: 4673, 4673: 4674, 4674: 4675, 4675: 4676, 4676: 4677, 4677: 4678, 4678: 4679, 4679: 4680, 4680: 4681, 4681: 4682, 4682: 4683, 4683: 4684, 4684: 4685, 4685: 4686, 4686: 4687, 4687: 4688, 4688: 4689, 4689: 4690, 4690: 4691, 4691: 4692, 4692: 4693, 4693: 4694, 4694: 4695, 4695: 4696, 4696: 4697, 4697: 4698, 4698: 4699, 4699: 4700, 4700: 4701, 4701: 4702, 4702: 4703, 4703: 4704, 4704: 4705, 4705: 4706, 4706: 4707, 4707: 4708, 4708: 4709, 4709: 4710, 4710: 4711, 4711: 4712, 4712: 4713, 4713: 4714, 4714: 4715, 4715: 4716, 4716: 4717, 4717: 4718, 4718: 4719, 4719: 4720, 4720: 4721, 4721: 4722, 4722: 4723, 4723: 4724, 4724: 4725, 4725: 4726, 4726: 4727, 4727: 4728, 4728: 4729, 4729: 4730, 4730: 4731, 4731: 4732, 4732: 4733, 4733: 4734, 4734: 4735, 4735: 4736, 4736: 4737, 4737: 4738, 4738: 4739, 4739: 4740, 4740: 4741, 4741: 4742, 4742: 4743, 4743: 4744, 4744: 4745, 4745: 4746, 4746: 4747, 4747: 4748, 4748: 4749, 4749: 4750, 4750: 4751, 4751: 4752, 4752: 4753, 4753: 4754, 4754: 4755, 4755: 4756, 4756: 4757, 4757: 4758, 4758: 4759, 4759: 4760, 4760: 4761, 4761: 4762, 4762: 4763, 4763: 4764, 4764: 4765, 4765: 4766, 4766: 4767, 4767: 4768, 4768: 4769, 4769: 4770, 4770: 4771, 4771: 4772, 4772: 4773, 4773: 4774, 4774: 4775, 4775: 4776, 4776: 4777, 4777: 4778, 4778: 4779, 4779: 4780, 4780: 4781, 4781: 4782, 4782: 4783, 4783: 4784, 4784: 4785, 4785: 4786, 4786: 4787, 4787: 4788, 4788: 4789, 4789: 4790, 4790: 4791, 4791: 4792, 4792: 4793, 4793: 4794, 4794: 4795, 4795: 4796, 4796: 4797, 4797: 4798, 4798: 4799, 4799: 4800, 4800: 4801, 4801: 4802, 4802: 4803, 4803: 4804, 4804: 4805, 4805: 4806, 4806: 4807, 4807: 4808, 4808: 4809, 4809: 4810, 4810: 4811, 4811: 4812, 4812: 4813, 4813: 4814, 4814: 4815, 4815: 4816, 4816: 4817, 4817: 4818, 4818: 4819, 4819: 4820, 4820: 4821, 4821: 4822, 4822: 4823, 4823: 4824, 4824: 4825, 4825: 4826, 4826: 4827, 4827: 4828, 4828: 4829, 4829: 4830, 4830: 4831, 4831: 4832, 4832: 4833, 4833: 4834, 4834: 4835, 4835: 4836, 4836: 4837, 4837: 4838, 4838: 4839, 4839: 4840, 4840: 4841, 4841: 4842, 4842: 4843, 4843: 4844, 4844: 4845, 4845: 4846, 4846: 4847, 4847: 4848, 4848: 4849, 4849: 4850, 4850: 4851, 4851: 4852, 4852: 4853, 4853: 4854, 4854: 4855, 4855: 4856, 4856: 4857, 4857: 4858, 4858: 4859, 4859: 4860, 4860: 4861, 4861: 4862, 4862: 4863, 4863: 4864, 4864: 4865, 4865: 4866, 4866: 4867, 4867: 4868, 4868: 4869, 4869: 4870, 4870: 4871, 4871: 4872, 4872: 4873, 4873: 4874, 4874: 4875, 4875: 4876, 4876: 4877, 4877: 4878, 4878: 4879, 4879: 4880, 4880: 4881, 4881: 4882, 4882: 4883, 4883: 4884, 4884: 4885, 4885: 4886, 4886: 4887, 4887: 4888, 4888: 4889, 4889: 4890, 4890: 4891, 4891: 4892, 4892: 4893, 4893: 4894, 4894: 4895, 4895: 4896, 4896: 4897, 4897: 4898, 4898: 4899, 4899: 4900, 4900: 4901, 4901: 4902, 4902: 4903, 4903: 4904, 4904: 4905, 4905: 4906, 4906: 4907, 4907: 4908, 4908: 4909, 4909: 4910, 4910: 4911, 4911: 4912, 4912: 4913, 4913: 4914, 4914: 4915, 4915: 4916, 4916: 4917, 4917: 4918, 4918: 4919, 4919: 4920, 4920: 4921, 4921: 4922, 4922: 4923, 4923: 4924, 4924: 4925, 4925: 4926, 4926: 4927, 4927: 4928, 4928: 4929, 4929: 4930, 4930: 4931, 4931: 4932, 4932: 4933, 4933: 4934, 4934: 4935, 4935: 4936, 4936: 4937, 4937: 4938, 4938: 4939, 4939: 4940, 4940: 4941, 4941: 4942, 4942: 4943, 4943: 4944, 4944: 4945, 4945: 4946, 4946: 4947, 4947: 4948, 4948: 4949, 4949: 4950, 4950: 4951, 4951: 4952, 4952: 4953, 4953: 4954, 4954: 4955, 4955: 4956, 4956: 4957, 4957: 4958, 4958: 4959, 4959: 4960, 4960: 4961, 4961: 4962, 4962: 4963, 4963: 4964, 4964: 4965, 4965: 4966, 4966: 4967, 4967: 4968, 4968: 4969, 4969: 4970, 4970: 4971, 4971: 4972, 4972: 4973, 4973: 4974, 4974: 4975, 4975: 4976, 4976: 4977, 4977: 4978, 4978: 4979, 4979: 4980, 4980: 4981, 4981: 4982, 4982: 4983, 4983: 4984, 4984: 4985, 4985: 4986, 4986: 4987, 4987: 4988, 4988: 4989, 4989: 4990, 4990: 4991, 4991: 4992, 4992: 4993, 4993: 4994, 4994: 4995, 4995: 4996, 4996: 4997, 4997: 4998, 4998: 4999, 4999: 5000, 5000: 5001, 5001: 5002, 5002: 5003, 5003: 5004, 5004: 5005, 5005: 5006, 5006: 5007, 5007: 5008, 5008: 5009, 5009: 5010, 5010: 5011, 5011: 5012, 5012: 5013, 5013: 5014, 5014: 5015, 5015: 5016, 5016: 5017, 5017: 5018, 5018: 5019, 5019: 5020, 5020: 5021, 5021: 5022, 5022: 5023, 5023: 5024, 5024: 5025, 5025: 5026, 5026: 5027, 5027: 5028, 5028: 5029, 5029: 5030, 5030: 5031, 5031: 5032, 5032: 5033, 5033: 5034, 5034: 5035, 5035: 5036, 5036: 5037, 5037: 5038, 5038: 5039, 5039: 5040, 5040: 5041, 5041: 5042, 5042: 5043, 5043: 5044, 5044: 5045, 5045: 5046, 5046: 5047, 5047: 5048, 5048: 5049, 5049: 5050, 5050: 5051, 5051: 5052, 5052: 5053, 5053: 5054, 5054: 5055, 5055: 5056, 5056: 5057, 5057: 5058, 5058: 5059, 5059: 5060, 5060: 5061, 5061: 5062, 5062: 5063, 5063: 5064, 5064: 5065, 5065: 5066, 5066: 5067, 5067: 5068, 5068: 5069, 5069: 5070, 5070: 5071, 5071: 5072, 5072: 5073, 5073: 5074, 5074: 5075, 5075: 5076, 5076: 5077, 5077: 5078, 5078: 5079, 5079: 5080, 5080: 5081, 5081: 5082, 5082: 5083, 5083: 5084, 5084: 5085, 5085: 5086, 5086: 5087, 5087: 5088, 5088: 5089, 5089: 5090, 5090: 5091, 5091: 5092, 5092: 5093, 5093: 5094, 5094: 5095, 5095: 5096, 5096: 5097, 5097: 5098, 5098: 5099, 5099: 5100, 5100: 5101, 5101: 5102, 5102: 5103, 5103: 5104, 5104: 5105, 5105: 5106, 5106: 5107, 5107: 5108, 5108: 5109, 5109: 5110, 5110: 5111, 5111: 5112, 5112: 5113, 5113: 5114, 5114: 5115, 5115: 5116, 5116: 5117, 5117: 5118, 5118: 5119, 5119: 5120, 5120: 5121, 5121: 5122, 5122: 5123, 5123: 5124, 5124: 5125, 5125: 5126, 5126: 5127, 5127: 5128, 5128: 5129, 5129: 5130, 5130: 5131, 5131: 5132, 5132: 5133, 5133: 5134, 5134: 5135, 5135: 5136, 5136: 5137, 5137: 5138, 5138: 5139, 5139: 5140, 5140: 5141, 5141: 5142, 5142: 5143, 5143: 5144, 5144: 5145, 5145: 5146, 5146: 5147, 5147: 5148, 5148: 5149, 5149: 5150, 5150: 5151, 5151: 5152, 5152: 5153, 5153: 5154, 5154: 5155, 5155: 5156, 5156: 5157, 5157: 5158, 5158: 5159, 5159: 5160, 5160: 5161, 5161: 5162, 5162: 5163, 5163: 5164, 5164: 5165, 5165: 5166, 5166: 5167, 5167: 5168, 5168: 5169, 5169: 5170, 5170: 5171, 5171: 5172, 5172: 5173, 5173: 5174, 5174: 5175, 5175: 5176, 5176: 5177, 5177: 5178, 5178: 5179, 5179: 5180, 5180: 5181, 5181: 5182, 5182: 5183, 5183: 5184, 5184: 5185, 5185: 5186, 5186: 5187, 5187: 5188, 5188: 5189, 5189: 5190, 5190: 5191, 5191: 5192, 5192: 5193, 5193: 5194, 5194: 5195, 5195: 5196, 5196: 5197, 5197: 5198, 5198: 5199, 5199: 5200, 5200: 5201, 5201: 5202, 5202: 5203, 5203: 5204, 5204: 5205, 5205: 5206, 5206: 5207, 5207: 5208, 5208: 5209, 5209: 5210, 5210: 5211, 5211: 5212, 5212: 5213, 5213: 5214, 5214: 5215, 5215: 5216, 5216: 5217, 5217: 5218, 5218: 5219, 5219: 5220, 5220: 5221, 5221: 5222, 5222: 5223, 5223: 5224, 5224: 5225, 5225: 5226, 5226: 5227, 5227: 5228, 5228: 5229, 5229: 5230, 5230: 5231, 5231: 5232, 5232: 5233, 5233: 5234, 5234: 5235, 5235: 5236, 5236: 5237, 5237: 5238, 5238: 5239, 5239: 5240, 5240: 5241, 5241: 5242, 5242: 5243, 5243: 5244, 5244: 5245, 5245: 5246, 5246: 5247, 5247: 5248, 5248: 5249, 5249: 5250, 5250: 5251, 5251: 5252, 5252: 5253, 5253: 5254, 5254: 5255, 5255: 5256, 5256: 5257, 5257: 5258, 5258: 5259, 5259: 5260, 5260: 5261, 5261: 5262, 5262: 5263, 5263: 5264, 5264: 5265, 5265: 5266, 5266: 5267, 5267: 5268, 5268: 5269, 5269: 5270, 5270: 5271, 5271: 5272, 5272: 5273, 5273: 5274, 5274: 5275, 5275: 5276, 5276: 5277, 5277: 5278, 5278: 5279, 5279: 5280, 5280: 5281, 5281: 5282, 5282: 5283, 5283: 5284, 5284: 5285, 5285: 5286, 5286: 5287, 5287: 5288, 5288: 5289, 5289: 5290, 5290: 5291, 5291: 5292, 5292: 5293, 5293: 5294, 5294: 5295, 5295: 5296, 5296: 5297, 5297: 5298, 5298: 5299, 5299: 5300, 5300: 5301, 5301: 5302, 5302: 5303, 5303: 5304, 5304: 5305, 5305: 5306, 5306: 5307, 5307: 5308, 5308: 5309, 5309: 5310, 5310: 5311, 5311: 5312, 5312: 5313, 5313: 5314, 5314: 5315, 5315: 5316, 5316: 5317, 5317: 5318, 5318: 5319, 5319: 5320, 5320: 5321, 5321: 5322, 5322: 5323, 5323: 5324, 5324: 5325, 5325: 5326, 5326: 5327, 5327: 5328, 5328: 5329, 5329: 5330, 5330: 5331, 5331: 5332, 5332: 5333, 5333: 5334, 5334: 5335, 5335: 5336, 5336: 5337, 5337: 5338, 5338: 5339, 5339: 5340, 5340: 5341, 5341: 5342, 5342: 5343, 5343: 5344, 5344: 5345, 5345: 5346, 5346: 5347, 5347: 5348, 5348: 5349, 5349: 5350, 5350: 5351, 5351: 5352, 5352: 5353, 5353: 5354, 5354: 5355, 5355: 5356, 5356: 5357, 5357: 5358, 5358: 5359, 5359: 5360, 5360: 5361, 5361: 5362, 5362: 5363, 5363: 5364, 5364: 5365, 5365: 5366, 5366: 5367, 5367: 5368, 5368: 5369, 5369: 5370, 5370: 5371, 5371: 5372, 5372: 5373, 5373: 5374, 5374: 5375, 5375: 5376, 5376: 5377, 5377: 5378, 5378: 5379, 5379: 5380, 5380: 5381, 5381: 5382, 5382: 5383, 5383: 5384, 5384: 5385, 5385: 5386, 5386: 5387, 5387: 5388, 5388: 5389, 5389: 5390, 5390: 5391, 5391: 5392, 5392: 5393, 5393: 5394, 5394: 5395, 5395: 5396, 5396: 5397, 5397: 5398, 5398: 5399, 5399: 5400, 5400: 5401, 5401: 5402, 5402: 5403, 5403: 5404, 5404: 5405, 5405: 5406, 5406: 5407, 5407: 5408, 5408: 5409, 5409: 5410, 5410: 5411, 5411: 5412, 5412: 5413, 5413: 5414, 5414: 5415, 5415: 5416, 5416: 5417, 5417: 5418, 5418: 5419, 5419: 5420, 5420: 5421, 5421: 5422, 5422: 5423, 5423: 5424, 5424: 5425, 5425: 5426, 5426: 5427, 5427: 5428, 5428: 5429, 5429: 5430, 5430: 5431, 5431: 5432, 5432: 5433, 5433: 5434, 5434: 5435, 5435: 5436, 5436: 5437, 5437: 5438, 5438: 5439, 5439: 5440, 5440: 5441, 5441: 5442, 5442: 5443, 5443: 5444, 5444: 5445, 5445: 5446, 5446: 5447, 5447: 5448, 5448: 5449, 5449: 5450, 5450: 5451, 5451: 5452, 5452: 5453, 5453: 5454, 5454: 5455, 5455: 5456, 5456: 5457, 5457: 5458, 5458: 5459, 5459: 5460, 5460: 5461, 5461: 5462, 5462: 5463, 5463: 5464, 5464: 5465, 5465: 5466, 5466: 5467, 5467: 5468, 5468: 5469, 5469: 5470, 5470: 5471, 5471: 5472, 5472: 5473, 5473: 5474, 5474: 5475, 5475: 5476, 5476: 5477, 5477: 5478, 5478: 5479, 5479: 5480, 5480: 5481, 5481: 5482, 5482: 5483, 5483: 5484, 5484: 5485, 5485: 5486, 5486: 5487, 5487: 5488, 5488: 5489, 5489: 5490, 5490: 5491, 5491: 5492, 5492: 5493, 5493: 5494, 5494: 5495, 5495: 5496, 5496: 5497, 5497: 5498, 5498: 5499, 5499: 5500, 5500: 5501, 5501: 5502, 5502: 5503, 5503: 5504, 5504: 5505, 5505: 5506, 5506: 5507, 5507: 5508, 5508: 5509, 5509: 5510, 5510: 5511, 5511: 5512, 5512: 5513, 5513: 5514, 5514: 5515, 5515: 5516, 5516: 5517, 5517: 5518, 5518: 5519, 5519: 5520, 5520: 5521, 5521: 5522, 5522: 5523, 5523: 5524, 5524: 5525, 5525: 5526, 5526: 5527, 5527: 5528, 5528: 5529, 5529: 5530, 5530: 5531, 5531: 5532, 5532: 5533, 5533: 5534, 5534: 5535, 5535: 5536, 5536: 5537, 5537: 5538, 5538: 5539, 5539: 5540, 5540: 5541, 5541: 5542, 5542: 5543, 5543: 5544, 5544: 5545, 5545: 5546, 5546: 5547, 5547: 5548, 5548: 5549, 5549: 5550, 5550: 5551, 5551: 5552, 5552: 5553, 5553: 5554, 5554: 5555, 5555: 5556, 5556: 5557, 5557: 5558, 5558: 5559, 5559: 5560, 5560: 5561, 5561: 5562, 5562: 5563, 5563: 5564, 5564: 5565, 5565: 5566, 5566: 5567, 5567: 5568, 5568: 5569, 5569: 5570, 5570: 5571, 5571: 5572, 5572: 5573, 5573: 5574, 5574: 5575, 5575: 5576, 5576: 5577, 5577: 5578, 5578: 5579, 5579: 5580, 5580: 5581, 5581: 5582, 5582: 5583, 5583: 5584, 5584: 5585, 5585: 5586, 5586: 5587, 5587: 5588, 5588: 5589, 5589: 5590, 5590: 5591, 5591: 5592, 5592: 5593, 5593: 5594, 5594: 5595, 5595: 5596, 5596: 5597, 5597: 5598, 5598: 5599, 5599: 5600, 5600: 5601, 5601: 5602, 5602: 5603, 5603: 5604, 5604: 5605, 5605: 5606, 5606: 5607, 5607: 5608, 5608: 5609, 5609: 5610, 5610: 5611, 5611: 5612, 5612: 5613, 5613: 5614, 5614: 5615, 5615: 5616, 5616: 5617, 5617: 5618, 5618: 5619, 5619: 5620, 5620: 5621, 5621: 5622, 5622: 5623, 5623: 5624, 5624: 5625, 5625: 5626, 5626: 5627, 5627: 5628, 5628: 5629, 5629: 5630, 5630: 5631, 5631: 5632, 5632: 5633, 5633: 5634, 5634: 5635, 5635: 5636, 5636: 5637, 5637: 5638, 5638: 5639, 5639: 5640, 5640: 5641, 5641: 5642, 5642: 5643, 5643: 5644, 5644: 5645, 5645: 5646, 5646: 5647, 5647: 5648, 5648: 5649, 5649: 5650, 5650: 5651, 5651: 5652, 5652: 5653, 5653: 5654, 5654: 5655, 5655: 5656, 5656: 5657, 5657: 5658, 5658: 5659, 5659: 5660, 5660: 5661, 5661: 5662, 5662: 5663, 5663: 5664, 5664: 5665, 5665: 5666, 5666: 5667, 5667: 5668, 5668: 5669, 5669: 5670, 5670: 5671, 5671: 5672, 5672: 5673, 5673: 5674, 5674: 5675, 5675: 5676, 5676: 5677, 5677: 5678, 5678: 5679, 5679: 5680, 5680: 5681, 5681: 5682, 5682: 5683, 5683: 5684, 5684: 5685, 5685: 5686, 5686: 5687, 5687: 5688, 5688: 5689, 5689: 5690, 5690: 5691, 5691: 5692, 5692: 5693, 5693: 5694, 5694: 5695, 5695: 5696, 5696: 5697, 5697: 5698, 5698: 5699, 5699: 5700, 5700: 5701, 5701: 5702, 5702: 5703, 5703: 5704, 5704: 5705, 5705: 5706, 5706: 5707, 5707: 5708, 5708: 5709, 5709: 5710, 5710: 5711, 5711: 5712, 5712: 5713, 5713: 5714, 5714: 5715, 5715: 5716, 5716: 5717, 5717: 5718, 5718: 5719, 5719: 5720, 5720: 5721, 5721: 5722, 5722: 5723, 5723: 5724, 5724: 5725, 5725: 5726, 5726: 5727, 5727: 5728, 5728: 5729, 5729: 5730, 5730: 5731, 5731: 5732, 5732: 5733, 5733: 5734, 5734: 5735, 5735: 5736, 5736: 5737, 5737: 5738, 5738: 5739, 5739: 5740, 5740: 5741, 5741: 5742, 5742: 5743, 5743: 5744, 5744: 5745, 5745: 5746, 5746: 5747, 5747: 5748, 5748: 5749, 5749: 5750, 5750: 5751, 5751: 5752, 5752: 5753, 5753: 5754, 5754: 5755, 5755: 5756, 5756: 5757, 5757: 5758, 5758: 5759, 5759: 5760, 5760: 5761, 5761: 5762, 5762: 5763, 5763: 5764, 5764: 5765, 5765: 5766, 5766: 5767, 5767: 5768, 5768: 5769, 5769: 5770, 5770: 5771, 5771: 5772, 5772: 5773, 5773: 5774, 5774: 5775, 5775: 5776, 5776: 5777, 5777: 5778, 5778: 5779, 5779: 5780, 5780: 5781, 5781: 5782, 5782: 5783, 5783: 5784, 5784: 5785, 5785: 5786, 5786: 5787, 5787: 5788, 5788: 5789, 5789: 5790, 5790: 5791, 5791: 5792, 5792: 5793, 5793: 5794, 5794: 5795, 5795: 5796, 5796: 5797, 5797: 5798, 5798: 5799, 5799: 5800, 5800: 5801, 5801: 5802, 5802: 5803, 5803: 5804, 5804: 5805, 5805: 5806, 5806: 5807, 5807: 5808, 5808: 5809, 5809: 5810, 5810: 5811, 5811: 5812, 5812: 5813, 5813: 5814, 5814: 5815, 5815: 5816, 5816: 5817, 5817: 5818, 5818: 5819, 5819: 5820, 5820: 5821, 5821: 5822, 5822: 5823, 5823: 5824, 5824: 5825, 5825: 5826, 5826: 5827, 5827: 5828, 5828: 5829, 5829: 5830, 5830: 5831, 5831: 5832, 5832: 5833, 5833: 5834, 5834: 5835, 5835: 5836, 5836: 5837, 5837: 5838, 5838: 5839, 5839: 5840, 5840: 5841, 5841: 5842, 5842: 5843, 5843: 5844, 5844: 5845, 5845: 5846, 5846: 5847, 5847: 5848, 5848: 5849, 5849: 5850, 5850: 5851, 5851: 5852, 5852: 5853, 5853: 5854, 5854: 5855, 5855: 5856, 5856: 5857, 5857: 5858, 5858: 5859, 5859: 5860, 5860: 5861, 5861: 5862, 5862: 5863, 5863: 5864, 5864: 5865, 5865: 5866, 5866: 5867, 5867: 5868, 5868: 5869, 5869: 5870, 5870: 5871, 5871: 5872, 5872: 5873, 5873: 5874, 5874: 5875, 5875: 5876, 5876: 5877, 5877: 5878, 5878: 5879, 5879: 5880, 5880: 5881, 5881: 5882, 5882: 5883, 5883: 5884, 5884: 5885, 5885: 5886, 5886: 5887, 5887: 5888, 5888: 5889, 5889: 5890, 5890: 5891, 5891: 5892, 5892: 5893, 5893: 5894, 5894: 5895, 5895: 5896, 5896: 5897, 5897: 5898, 5898: 5899, 5899: 5900, 5900: 5901, 5901: 5902, 5902: 5903, 5903: 5904, 5904: 5905, 5905: 5906, 5906: 5907, 5907: 5908, 5908: 5909, 5909: 5910, 5910: 5911, 5911: 5912, 5912: 5913, 5913: 5914, 5914: 5915, 5915: 5916, 5916: 5917, 5917: 5918, 5918: 5919, 5919: 5920, 5920: 5921, 5921: 5922, 5922: 5923, 5923: 5924, 5924: 5925, 5925: 5926, 5926: 5927, 5927: 5928, 5928: 5929, 5929: 5930, 5930: 5931, 5931: 5932, 5932: 5933, 5933: 5934, 5934: 5935, 5935: 5936, 5936: 5937, 5937: 5938, 5938: 5939, 5939: 5940, 5940: 5941, 5941: 5942, 5942: 5943, 5943: 5944, 5944: 5945, 5945: 5946, 5946: 5947, 5947: 5948, 5948: 5949, 5949: 5950, 5950: 5951, 5951: 5952, 5952: 5953, 5953: 5954, 5954: 5955, 5955: 5956, 5956: 5957, 5957: 5958, 5958: 5959, 5959: 5960, 5960: 5961, 5961: 5962, 5962: 5963, 5963: 5964, 5964: 5965, 5965: 5966, 5966: 5967, 5967: 5968, 5968: 5969, 5969: 5970, 5970: 5971, 5971: 5972, 5972: 5973, 5973: 5974, 5974: 5975, 5975: 5976, 5976: 5977, 5977: 5978, 5978: 5979, 5979: 5980, 5980: 5981, 5981: 5982, 5982: 5983, 5983: 5984, 5984: 5985, 5985: 5986, 5986: 5987, 5987: 5988, 5988: 5989, 5989: 5990, 5990: 5991, 5991: 5992, 5992: 5993, 5993: 5994, 5994: 5995, 5995: 5996, 5996: 5997, 5997: 5998, 5998: 5999, 5999: 6000, 6000: 6001, 6001: 6002, 6002: 6003, 6003: 6004, 6004: 6005, 6005: 6006, 6006: 6007, 6007: 6008, 6008: 6009, 6009: 6010, 6010: 6011, 6011: 6012, 6012: 6013, 6013: 6014, 6014: 6015, 6015: 6016, 6016: 6017, 6017: 6018, 6018: 6019, 6019: 6020, 6020: 6021, 6021: 6022, 6022: 6023, 6023: 6024, 6024: 6025, 6025: 6026, 6026: 6027, 6027: 6028, 6028: 6029, 6029: 6030, 6030: 6031, 6031: 6032, 6032: 6033, 6033: 6034, 6034: 6035, 6035: 6036, 6036: 6037, 6037: 6038, 6038: 6039, 6039: 6040}\n"
          ]
        }
      ]
    },
    {
      "cell_type": "code",
      "source": [
        "movie_ids = ratings3['MovieID'].unique().tolist()\n",
        "movie2movie_encoded = {x: i for i, x in enumerate(movie_ids)}\n",
        "movie_encoded2movie = {i: x for i, x in enumerate(movie_ids)}\n",
        "print(movie2movie_encoded)\n",
        "print(movie_encoded2movie)"
      ],
      "metadata": {
        "colab": {
          "base_uri": "https://localhost:8080/"
        },
        "id": "dWnNhiYQHXBk",
        "outputId": "f6fb0d28-186c-4676-c4e3-7025b380e7f4"
      },
      "execution_count": 40,
      "outputs": [
        {
          "output_type": "stream",
          "name": "stdout",
          "text": [
            "{1193: 0, 661: 1, 914: 2, 3408: 3, 2355: 4, 1197: 5, 1287: 6, 2804: 7, 594: 8, 919: 9, 595: 10, 938: 11, 2398: 12, 2918: 13, 1035: 14, 2791: 15, 2687: 16, 2018: 17, 3105: 18, 2797: 19, 2321: 20, 720: 21, 1270: 22, 527: 23, 2340: 24, 48: 25, 1097: 26, 1721: 27, 1545: 28, 745: 29, 2294: 30, 3186: 31, 1566: 32, 588: 33, 1907: 34, 783: 35, 1836: 36, 1022: 37, 2762: 38, 150: 39, 1: 40, 1961: 41, 1962: 42, 2692: 43, 260: 44, 1028: 45, 1029: 46, 1207: 47, 2028: 48, 531: 49, 3114: 50, 608: 51, 1246: 52, 1357: 53, 3068: 54, 1537: 55, 647: 56, 2194: 57, 648: 58, 2268: 59, 2628: 60, 1103: 61, 2916: 62, 3468: 63, 1210: 64, 1792: 65, 1687: 66, 1213: 67, 3578: 68, 2881: 69, 3030: 70, 1217: 71, 434: 72, 2126: 73, 3107: 74, 3108: 75, 3035: 76, 1253: 77, 1610: 78, 292: 79, 2236: 80, 3071: 81, 902: 82, 368: 83, 1259: 84, 3147: 85, 1544: 86, 1293: 87, 1188: 88, 3255: 89, 3256: 90, 3257: 91, 110: 92, 2278: 93, 2490: 94, 1834: 95, 3471: 96, 589: 97, 1690: 98, 3654: 99, 2852: 100, 1945: 101, 982: 102, 1873: 103, 2858: 104, 1225: 105, 515: 106, 442: 107, 2312: 108, 265: 109, 1408: 110, 1084: 111, 3699: 112, 480: 113, 1442: 114, 2067: 115, 1265: 116, 1370: 117, 1801: 118, 1372: 119, 2353: 120, 3334: 121, 2427: 122, 590: 123, 1196: 124, 1552: 125, 736: 126, 1198: 127, 593: 128, 2359: 129, 95: 130, 2717: 131, 2571: 132, 1917: 133, 2396: 134, 3735: 135, 1953: 136, 1597: 137, 3809: 138, 1954: 139, 1955: 140, 235: 141, 1124: 142, 1957: 143, 163: 144, 21: 145, 165: 146, 1090: 147, 380: 148, 2501: 149, 349: 150, 457: 151, 1096: 152, 920: 153, 459: 154, 1527: 155, 3418: 156, 1385: 157, 3451: 158, 3095: 159, 780: 160, 498: 161, 2728: 162, 2002: 163, 1784: 164, 2943: 165, 2006: 166, 318: 167, 1968: 168, 3678: 169, 1244: 170, 356: 171, 1245: 172, 3893: 173, 1247: 174, 3421: 175, 1641: 176, 1394: 177, 3534: 178, 104: 179, 2735: 180, 1431: 181, 3868: 182, 1079: 183, 2997: 184, 1615: 185, 1291: 186, 653: 187, 2167: 188, 1580: 189, 3619: 190, 1049: 191, 1261: 192, 552: 193, 1266: 194, 733: 195, 1378: 196, 1379: 197, 3552: 198, 1304: 199, 2470: 200, 3168: 201, 2617: 202, 3671: 203, 2871: 204, 2115: 205, 1136: 206, 2081: 207, 2951: 208, 1214: 209, 1036: 210, 3702: 211, 2366: 212, 1387: 213, 3527: 214, 1201: 215, 2947: 216, 1240: 217, 2987: 218, 2333: 219, 1175: 220, 39: 221, 288: 222, 2337: 223, 1535: 224, 1392: 225, 1466: 226, 860: 227, 1683: 228, 866: 229, 1684: 230, 2770: 231, 215: 232, 1759: 233, 501: 234, 506: 235, 1250: 236, 3793: 237, 509: 238, 41: 239, 2058: 240, 3799: 241, 47: 242, 2700: 243, 296: 244, 581: 245, 1617: 246, 728: 247, 299: 248, 3079: 249, 2560: 250, 1909: 251, 224: 252, 3728: 253, 229: 254, 6: 255, 3006: 256, 1046: 257, 800: 258, 50: 259, 52: 260, 1191: 261, 1192: 262, 3081: 263, 377: 264, 1268: 265, 3083: 266, 3513: 267, 2428: 268, 2282: 269, 3514: 270, 1554: 271, 1912: 272, 2716: 273, 1485: 274, 2289: 275, 162: 276, 1127: 277, 3016: 278, 2070: 279, 1704: 280, 3163: 281, 2437: 282, 2291: 283, 1635: 284, 1279: 285, 2721: 286, 2723: 287, 1921: 288, 2725: 289, 1923: 290, 2580: 291, 3386: 292, 3744: 293, 968: 294, 896: 295, 3020: 296, 1788: 297, 176: 298, 461: 299, 1429: 300, 2159: 301, 1715: 302, 1643: 303, 3249: 304, 3176: 305, 1719: 306, 2806: 307, 2734: 308, 1649: 309, 321: 310, 2013: 311, 3100: 312, 2952: 313, 1794: 314, 2599: 315, 1500: 316, 2959: 317, 1509: 318, 1722: 319, 1650: 320, 908: 321, 1653: 322, 2384: 323, 1729: 324, 3476: 325, 2890: 326, 3113: 327, 16: 328, 2029: 329, 194: 330, 551: 331, 1513: 332, 3046: 333, 2318: 334, 1517: 335, 1089: 336, 3260: 337, 913: 338, 1730: 339, 3409: 340, 2607: 341, 1449: 342, 1732: 343, 1733: 344, 2390: 345, 1734: 346, 3266: 347, 3267: 348, 3624: 349, 2395: 350, 1594: 351, 2683: 352, 412: 353, 2759: 354, 994: 355, 1884: 356, 1885: 357, 272: 358, 24: 359, 3051: 360, 348: 361, 2323: 362, 1093: 363, 29: 364, 562: 365, 1095: 366, 1529: 367, 2188: 368, 497: 369, 202: 370, 1747: 371, 2908: 372, 1966: 373, 3499: 374, 353: 375, 32: 376, 1243: 377, 1897: 378, 1171: 379, 3786: 380, 34: 381, 357: 382, 36: 383, 714: 384, 2406: 385, 1101: 386, 3717: 387, 1030: 388, 1688: 389, 364: 390, 3501: 391, 3072: 392, 3074: 393, 3508: 394, 1043: 395, 597: 396, 383: 397, 2506: 398, 3524: 399, 1569: 400, 2082: 401, 3600: 402, 3604: 403, 2802: 404, 3536: 405, 3753: 406, 3682: 407, 2017: 408, 3685: 409, 3610: 410, 1296: 411, 838: 412, 1007: 413, 1947: 414, 2966: 415, 266: 416, 17: 417, 1441: 418, 1088: 419, 912: 420, 199: 421, 1806: 422, 2469: 423, 2100: 424, 1959: 425, 1380: 426, 569: 427, 1674: 428, 3565: 429, 861: 430, 1997: 431, 1573: 432, 474: 433, 1221: 434, 2336: 435, 3425: 436, 1393: 437, 1682: 438, 508: 439, 3213: 440, 42: 441, 650: 442, 3500: 443, 3148: 444, 2702: 445, 1476: 446, 1693: 447, 151: 448, 510: 449, 4: 450, 1621: 451, 3155: 452, 58: 453, 2712: 454, 2429: 455, 1840: 456, 1916: 457, 1488: 458, 230: 459, 1120: 460, 161: 461, 1411: 462, 524: 463, 1059: 464, 454: 465, 1701: 466, 1274: 467, 741: 468, 1277: 469, 1639: 470, 3528: 471, 2297: 472, 465: 473, 1711: 474, 538: 475, 393: 476, 2442: 477, 73: 478, 3246: 479, 3173: 480, 105: 481, 253: 482, 3250: 483, 3252: 484, 476: 485, 111: 486, 3259: 487, 1589: 488, 2023: 489, 14: 490, 337: 491, 2314: 492, 2600: 493, 269: 494, 555: 495, 1660: 496, 3265: 497, 1735: 498, 3481: 499, 2686: 500, 2688: 501, 345: 502, 2320: 503, 25: 504, 2324: 505, 2329: 506, 1810: 507, 2541: 508, 1673: 509, 1678: 510, 1027: 511, 2699: 512, 282: 513, 367: 514, 223: 515, 3298: 516, 3948: 517, 805: 518, 3510: 519, 300: 520, 1777: 521, 3301: 522, 1343: 523, 3160: 524, 529: 525, 3452: 526, 1060: 527, 1356: 528, 1358: 529, 3178: 530, 3751: 531, 3826: 532, 3755: 533, 2302: 534, 1148: 535, 2166: 536, 3253: 537, 1584: 538, 1223: 539, 1446: 540, 3623: 541, 778: 542, 1669: 543, 3484: 544, 3916: 545, 1233: 546, 1307: 547, 3270: 548, 1310: 549, 428: 550, 2622: 551, 3358: 552, 3359: 553, 1756: 554, 1320: 555, 2124: 556, 2125: 557, 2054: 558, 1252: 559, 1254: 560, 3869: 561, 1256: 562, 1257: 563, 1831: 564, 3363: 565, 586: 566, 587: 567, 3438: 568, 3439: 569, 3296: 570, 2496: 571, 2497: 572, 2: 573, 2498: 574, 153: 575, 7: 576, 2133: 577, 2135: 578, 2136: 579, 2137: 580, 802: 581, 2138: 582, 1409: 583, 1339: 584, 1269: 585, 2640: 586, 592: 587, 596: 588, 3447: 589, 1918: 590, 2140: 591, 2072: 592, 1271: 593, 1345: 594, 2077: 595, 2078: 596, 1276: 597, 743: 598, 671: 599, 1278: 600, 3525: 601, 1927: 602, 2657: 603, 3388: 604, 316: 605, 317: 606, 248: 607, 2080: 608, 1282: 609, 1283: 610, 750: 611, 2087: 612, 1286: 613, 3608: 614, 2662: 615, 3466: 616, 2300: 617, 180: 618, 329: 619, 3034: 620, 186: 621, 2161: 622, 3037: 623, 2090: 624, 3039: 625, 2091: 626, 830: 627, 2093: 628, 904: 629, 2094: 630, 1292: 631, 2096: 632, 1294: 633, 765: 634, 2746: 635, 1009: 636, 1948: 637, 333: 638, 339: 639, 2316: 640, 1371: 641, 2174: 642, 1374: 643, 1375: 644, 915: 645, 1376: 646, 1377: 647, 916: 648, 918: 649, 1012: 650, 2826: 651, 3629: 652, 1015: 653, 1016: 654, 1019: 655, 3489: 656, 344: 657, 275: 658, 2252: 659, 277: 660, 923: 661, 924: 662, 3701: 663, 3703: 664, 926: 665, 3704: 666, 1020: 667, 784: 668, 858: 669, 1023: 670, 1025: 671, 2693: 672, 1967: 673, 351: 674, 2405: 675, 2407: 676, 3066: 677, 2193: 678, 932: 679, 1031: 680, 1104: 681, 1032: 682, 435: 683, 943: 684, 3723: 685, 1042: 686, 370: 687, 2423: 688, 3153: 689, 2424: 690, 3086: 691, 3087: 692, 953: 693, 954: 694, 3591: 695, 2863: 696, 3593: 697, 1125: 698, 520: 699, 3668: 700, 2795: 701, 1129: 702, 2431: 703, 62: 704, 3309: 705, 1633: 706, 2436: 707, 3097: 708, 3099: 709, 3812: 710, 2000: 711, 963: 712, 2001: 713, 1200: 714, 2003: 715, 1203: 716, 2005: 717, 1204: 718, 969: 719, 2872: 720, 3675: 721, 2946: 722, 898: 723, 2009: 724, 2874: 725, 899: 726, 1135: 727, 2948: 728, 539: 729, 2371: 730, 3247: 731, 3174: 732, 3175: 733, 2375: 734, 2378: 735, 971: 736, 2011: 737, 2012: 738, 2015: 739, 1215: 740, 1073: 741, 3688: 742, 541: 743, 542: 744, 543: 745, 3254: 746, 2453: 747, 2529: 748, 1654: 749, 1583: 750, 3189: 751, 116: 752, 1586: 753, 2021: 754, 1220: 755, 1080: 756, 2967: 757, 2968: 758, 2530: 759, 3264: 760, 3194: 761, 2393: 762, 3198: 763, 2399: 764, 1302: 765, 1230: 766, 2105: 767, 2033: 768, 2108: 769, 1234: 770, 2109: 771, 1091: 772, 3347: 773, 203: 774, 1676: 775, 208: 776, 2111: 777, 2040: 778, 2041: 779, 3928: 780, 2043: 781, 2045: 782, 2046: 783, 2047: 784, 2049: 785, 1753: 786, 216: 787, 2706: 788, 2639: 789, 2710: 790, 663: 791, 3448: 792, 231: 793, 2076: 794, 246: 795, 249: 796, 1288: 797, 3396: 798, 3101: 799, 2598: 800, 2306: 801, 764: 802, 342: 803, 1887: 804, 2325: 805, 3129: 806, 2907: 807, 788: 808, 2766: 809, 2335: 810, 1461: 811, 3146: 812, 1546: 813, 440: 814, 441: 815, 2507: 816, 1563: 817, 1498: 818, 2883: 819, 3182: 820, 85: 821, 88: 822, 986: 823, 481: 824, 2539: 825, 1665: 826, 2106: 827, 708: 828, 3362: 829, 813: 830, 3897: 831, 934: 832, 3658: 833, 1303: 834, 999: 835, 2616: 836, 3785: 837, 1331: 838, 1262: 839, 2641: 840, 3036: 841, 3479: 842, 10: 843, 2822: 844, 3494: 845, 421: 846, 3070: 847, 2414: 848, 1479: 849, 517: 850, 952: 851, 60: 852, 3745: 853, 2370: 854, 1216: 855, 2528: 856, 1587: 857, 3269: 858, 3417: 859, 3354: 860, 1263: 861, 2572: 862, 2731: 863, 3033: 864, 2243: 865, 2694: 866, 2920: 867, 1982: 868, 2976: 869, 2485: 870, 141: 871, 3798: 872, 2707: 873, 2567: 874, 3004: 875, 3005: 876, 2719: 877, 160: 878, 748: 879, 2724: 880, 2581: 881, 1783: 882, 1422: 883, 3461: 884, 3535: 885, 257: 886, 832: 887, 762: 888, 2676: 889, 1883: 890, 2763: 891, 3566: 892, 2764: 893, 1892: 894, 1608: 895, 1396: 896, 2840: 897, 2841: 898, 3646: 899, 500: 900, 3145: 901, 2272: 902, 2273: 903, 1619: 904, 1625: 905, 1487: 906, 1702: 907, 2433: 908, 70: 909, 1644: 910, 1645: 911, 2882: 912, 2387: 913, 2389: 914, 2961: 915, 553: 916, 628: 917, 3261: 918, 2605: 919, 1804: 920, 1805: 921, 2391: 922, 2394: 923, 3773: 924, 1092: 925, 1672: 926, 2555: 927, 2629: 928, 2701: 929, 2568: 930, 2713: 931, 1911: 932, 3516: 933, 2643: 934, 2720: 935, 2722: 936, 2805: 937, 2828: 938, 2761: 939, 2856: 940, 2369: 941, 2888: 942, 2392: 943, 2975: 944, 1179: 945, 2553: 946, 2554: 947, 3932: 948, 3863: 949, 1185: 950, 3503: 951, 3879: 952, 3375: 953, 1779: 954, 164: 955, 3457: 956, 319: 957, 247: 958, 1428: 959, 1284: 960, 2660: 961, 2661: 962, 2663: 963, 2664: 964, 2667: 965, 2668: 966, 3032: 967, 2311: 968, 2173: 969, 198: 970, 2752: 971, 340: 972, 3700: 973, 2901: 974, 3638: 975, 30: 976, 1601: 977, 3713: 978, 2912: 979, 3576: 980, 503: 981, 293: 982, 1614: 983, 2346: 984, 942: 985, 446: 986, 1624: 987, 3156: 988, 2287: 989, 2288: 990, 3662: 991, 3594: 992, 3300: 993, 1206: 994, 1069: 995, 76: 996, 2377: 997, 2010: 998, 3827: 999, 610: 1000, 1077: 1001, 2526: 1002, 2527: 1003, 2454: 1004, 2455: 1005, 3696: 1006, 2533: 1007, 1301: 1008, 707: 1009, 2613: 1010, 2542: 1011, 496: 1012, 2549: 1013, 1748: 1014, 3927: 1015, 2116: 1016, 2117: 1017, 2985: 1018, 2989: 1019, 2123: 1020, 2052: 1021, 2993: 1022, 1186: 1023, 222: 1024, 158: 1025, 3877: 1026, 2139: 1027, 3440: 1028, 737: 1029, 2718: 1030, 2573: 1031, 302: 1032, 232: 1033, 2141: 1034, 2142: 1035, 168: 1036, 2143: 1037, 2145: 1038, 1344: 1039, 3889: 1040, 1275: 1041, 3526: 1042, 313: 1043, 2153: 1044, 2083: 1045, 2085: 1046, 2089: 1047, 2807: 1048, 2739: 1049, 3397: 1050, 3398: 1051, 3399: 1052, 327: 1053, 1367: 1054, 839: 1055, 1005: 1056, 405: 1057, 1876: 1058, 261: 1059, 262: 1060, 2248: 1061, 1013: 1062, 1882: 1063, 1956: 1064, 26: 1065, 2253: 1066, 3705: 1067, 3633: 1068, 3635: 1069, 1960: 1070, 3639: 1071, 2402: 1072, 2404: 1073, 1606: 1074, 1391: 1075, 1033: 1076, 291: 1077, 44: 1078, 2348: 1079, 940: 1080, 2421: 1081, 2422: 1082, 1126: 1083, 1562: 1084, 1499: 1085, 1064: 1086, 532: 1087, 466: 1088, 2373: 1089, 2014: 1090, 2953: 1091, 2019: 1092, 616: 1093, 546: 1094, 2450: 1095, 475: 1096, 86: 1097, 2020: 1098, 2025: 1099, 2893: 1100, 3698: 1101, 485: 1102, 1591: 1103, 1739: 1104, 3911: 1105, 1094: 1106, 493: 1107, 2042: 1108, 1242: 1109, 3930: 1110, 1321: 1111, 2990: 1112, 2991: 1113, 1327: 1114, 1258: 1115, 2633: 1116, 2638: 1117, 1407: 1118, 1334: 1119, 2064: 1120, 2644: 1121, 2646: 1122, 2647: 1123, 2574: 1124, 1772: 1125, 2648: 1126, 2649: 1127, 1340: 1128, 2653: 1129, 1350: 1130, 2160: 1131, 330: 1132, 1373: 1133, 842: 1134, 785: 1135, 2836: 1136, 420: 1137, 3208: 1138, 2338: 1139, 2195: 1140, 1974: 1141, 879: 1142, 2782: 1143, 2789: 1144, 3082: 1145, 2860: 1146, 2790: 1147, 3596: 1148, 1994: 1149, 2502: 1150, 2367: 1151, 2296: 1152, 2004: 1153, 2949: 1154, 1717: 1155, 2376: 1156, 3752: 1157, 1219: 1158, 3325: 1159, 1655: 1160, 2103: 1161, 3273: 1162, 1694: 1163, 1468: 1164, 585: 1165, 3000: 1166, 2800: 1167, 3053: 1168, 3268: 1169, 3774: 1170, 3355: 1171, 1754: 1172, 145: 1173, 1689: 1174, 2122: 1175, 2134: 1176, 1405: 1177, 3017: 1178, 1347: 1179, 818: 1180, 3450: 1181, 678: 1182, 312: 1183, 173: 1184, 2150: 1185, 1425: 1186, 3896: 1187, 1799: 1188, 256: 1189, 185: 1190, 2163: 1191, 1438: 1192, 833: 1193, 2671: 1194, 910: 1195, 2249: 1196, 771: 1197, 849: 1198, 3120: 1199, 3052: 1200, 2189: 1201, 786: 1202, 429: 1203, 2263: 1204, 2265: 1205, 1034: 1206, 798: 1207, 799: 1208, 1037: 1209, 3210: 1210, 2413: 1211, 2416: 1212, 1047: 1213, 3660: 1214, 3661: 1215, 2792: 1216, 1991: 1217, 2794: 1218, 65: 1219, 1205: 1220, 3243: 1221, 2374: 1222, 473: 1223, 81: 1224, 3258: 1225, 112: 1226, 3835: 1227, 1222: 1228, 3917: 1229, 2478: 1230, 1248: 1231, 1249: 1232, 3420: 1233, 3505: 1234, 1189: 1235, 3507: 1236, 3435: 1237, 659: 1238, 2202: 1239, 1267: 1240, 1199: 1241, 2642: 1242, 1845: 1243, 3952: 1244, 2148: 1245, 2149: 1246, 3521: 1247, 674: 1248, 2726: 1249, 2808: 1250, 3104: 1251, 187: 1252, 903: 1253, 3618: 1254, 3474: 1255, 11: 1256, 2241: 1257, 3044: 1258, 196: 1259, 911: 1260, 2176: 1261, 3551: 1262, 3556: 1263, 1958: 1264, 2322: 1265, 2259: 1266, 1388: 1267, 3634: 1268, 3708: 1269, 1965: 1270, 2409: 1271, 2917: 1272, 431: 1273, 2410: 1274, 2411: 1275, 45: 1276, 2419: 1277, 951: 1278, 521: 1279, 3740: 1280, 3741: 1281, 2511: 1282, 1212: 1283, 1218: 1284, 3763: 1285, 1227: 1286, 556: 1287, 3338: 1288, 125: 1289, 3770: 1290, 1306: 1291, 2973: 1292, 3920: 1293, 1313: 1294, 2118: 1295, 2119: 1296, 3424: 1297, 3361: 1298, 2132: 1299, 303: 1300, 2144: 1301, 175: 1302, 2301: 1303, 2245: 1304, 2757: 1305, 3707: 1306, 425: 1307, 2915: 1308, 372: 1309, 2352: 1310, 1057: 1311, 468: 1312, 1663: 1313, 2709: 1314, 157: 1315, 1920: 1316, 688: 1317, 3676: 1318, 3422: 1319, 3423: 1320, 719: 1321, 3426: 1322, 3287: 1323, 2558: 1324, 217: 1325, 2053: 1326, 2059: 1327, 724: 1328, 3502: 1329, 3506: 1330, 3360: 1331, 1833: 1332, 3: 1333, 5: 1334, 804: 1335, 3441: 1336, 234: 1337, 236: 1338, 237: 1339, 2146: 1340, 673: 1341, 315: 1342, 2154: 1343, 1285: 1344, 252: 1345, 3614: 1346, 1298: 1347, 3543: 1348, 1003: 1349, 694: 1350, 3040: 1351, 2313: 1352, 267: 1353, 195: 1354, 2247: 1355, 1880: 1356, 413: 1357, 416: 1358, 1888: 1359, 276: 1360, 278: 1361, 3056: 1362, 1381: 1363, 1457: 1364, 852: 1365, 2906: 1366, 1021: 1367, 350: 1368, 424: 1369, 3130: 1370, 2403: 1371, 3206: 1372, 3063: 1373, 2261: 1374, 38: 1375, 2262: 1376, 1463: 1377, 1390: 1378, 2266: 1379, 2269: 1380, 1100: 1381, 432: 1382, 2779: 1383, 361: 1384, 2412: 1385, 1541: 1386, 3219: 1387, 2418: 1388, 3584: 1389, 511: 1390, 518: 1391, 445: 1392, 2420: 1393, 3152: 1394, 378: 1395, 1556: 1396, 3590: 1397, 450: 1398, 2798: 1399, 381: 1400, 455: 1401, 1703: 1402, 3308: 1403, 64: 1404, 3098: 1405, 2942: 1406, 2875: 1407, 605: 1408, 609: 1409, 463: 1410, 1713: 1411, 1640: 1412, 467: 1413, 74: 1414, 3248: 1415, 2447: 1416, 2950: 1417, 3684: 1418, 3686: 1419, 612: 1420, 540: 1421, 3689: 1422, 471: 1423, 472: 1424, 2459: 1425, 1588: 1426, 118: 1427, 3690: 1428, 550: 1429, 3331: 1430, 3263: 1431, 487: 1432, 2463: 1433, 94: 1434, 122: 1435, 1593: 1436, 3846: 1437, 491: 1438, 3274: 1439, 2473: 1440, 499: 1441, 207: 1442, 135: 1443, 1180: 1444, 3364: 1445, 2066: 1446, 3469: 1447, 905: 1448, 922: 1449, 2186: 1450, 930: 1451, 947: 1452, 3730: 1453, 955: 1454, 528: 1455, 3683: 1456, 1237: 1457, 2550: 1458, 144: 1459, 901: 1460, 906: 1461, 3548: 1462, 334: 1463, 846: 1464, 928: 1465, 1208: 1466, 1224: 1467, 3366: 1468, 3370: 1469, 1785: 1470, 3102: 1471, 3062: 1472, 3726: 1473, 2363: 1474, 2944: 1475, 3836: 1476, 3769: 1477, 1085: 1478, 3405: 1479, 2534: 1480, 3197: 1481, 494: 1482, 1176: 1483, 3943: 1484, 3949: 1485, 1922: 1486, 3554: 1487, 1041: 1488, 1657: 1489, 2544: 1490, 2208: 1491, 2065: 1492, 3012: 1493, 3022: 1494, 3028: 1495, 1281: 1496, 3462: 1497, 1937: 1498, 1297: 1499, 2747: 1500, 921: 1501, 3200: 1502, 933: 1503, 3640: 1504, 1976: 1505, 946: 1506, 2922: 1507, 2780: 1508, 3088: 1509, 957: 1510, 2935: 1511, 2936: 1512, 3096: 1513, 961: 1514, 2870: 1515, 3244: 1516, 1235: 1517, 3341: 1518, 3349: 1519, 3429: 1520, 3286: 1521, 28: 1522, 3159: 1523, 3821: 1524, 3787: 1525, 1680: 1526, 3935: 1527, 1183: 1528, 3504: 1529, 2637: 1530, 2565: 1531, 154: 1532, 1699: 1533, 2206: 1534, 1333: 1535, 3018: 1536, 3019: 1537, 2071: 1538, 1272: 1539, 1348: 1540, 2650: 1541, 2303: 1542, 1295: 1543, 907: 1544, 1299: 1545, 3546: 1546, 2817: 1547, 2674: 1548, 1946: 1549, 3110: 1550, 3111: 1551, 2178: 1552, 1017: 1553, 3121: 1554, 2183: 1555, 927: 1556, 3498: 1557, 3203: 1558, 3204: 1559, 1464: 1560, 931: 1561, 2344: 1562, 2921: 1563, 949: 1564, 3727: 1565, 2926: 1566, 3587: 1567, 3733: 1568, 2932: 1569, 2867: 1570, 3599: 1571, 3230: 1572, 3167: 1573, 3169: 1574, 2941: 1575, 1130: 1576, 1061: 1577, 3681: 1578, 3760: 1579, 3693: 1580, 1152: 1581, 1086: 1582, 2467: 1583, 1300: 1584, 3844: 1585, 1231: 1586, 3340: 1587, 2612: 1588, 565: 1589, 3271: 1590, 2983: 1591, 1835: 1592, 3387: 1593, 837: 1594, 1895: 1595, 3712: 1596, 3597: 1597, 2796: 1598, 2432: 1599, 2379: 1600, 2380: 1601, 2382: 1602, 2383: 1603, 2471: 1604, 1251: 1605, 2708: 1606, 1760: 1607, 3365: 1608, 155: 1609, 3871: 1610, 803: 1611, 1264: 1612, 3512: 1613, 2575: 1614, 1419: 1615, 824: 1616, 2088: 1617, 2732: 1618, 3467: 1619, 2238: 1620, 2239: 1621, 3473: 1622, 3549: 1623, 1949: 1624, 2171: 1625, 2682: 1626, 3567: 1627, 1964: 1628, 3060: 1629, 2331: 1630, 3061: 1631, 863: 1632, 2919: 1633, 3649: 1634, 945: 1635, 3725: 1636, 948: 1637, 3091: 1638, 965: 1639, 3320: 1640, 1078: 1641, 2385: 1642, 3831: 1643, 1081: 1644, 2969: 1645, 123: 1646, 1162: 1647, 2611: 1648, 2474: 1649, 3852: 1650, 1172: 1651, 3788: 1652, 1827: 1653, 233: 1654, 172: 1655, 178: 1656, 2155: 1657, 2815: 1658, 1875: 1659, 3480: 1660, 2250: 1661, 3706: 1662, 1963: 1663, 1603: 1664, 2334: 1665, 1395: 1666, 2774: 1667, 507: 1668, 3142: 1669, 1616: 1670, 449: 1671, 1480: 1672, 1147: 1673, 3697: 1674, 3196: 1675, 2972: 1676, 2540: 1677, 3864: 1678, 1977: 1679, 1353: 1680, 691: 1681, 2677: 1682, 13: 1683, 779: 1684, 1894: 1685, 46: 1686, 1620: 1687, 92: 1688, 490: 1689, 2772: 1690, 3157: 1691, 2027: 1692, 3519: 1693, 2669: 1694, 258: 1695, 2816: 1696, 2748: 1697, 3628: 1698, 3643: 1699, 2430: 1700, 897: 1701, 976: 1702, 2524: 1703, 3406: 1704, 2537: 1705, 3412: 1706, 1658: 1707, 2546: 1708, 3937: 1709, 1924: 1710, 1518: 1711, 3555: 1712, 2681: 1713, 2408: 1714, 379: 1715, 3802: 1716, 880: 1717, 3807: 1718, 66: 1719, 3758: 1720, 2520: 1721, 2456: 1722, 1590: 1723, 2034: 1724, 3780: 1725, 2986: 1726, 3011: 1727, 2097: 1728, 3612: 1729, 1952: 1730, 2846: 1731, 1983: 1732, 1984: 1733, 1985: 1734, 1986: 1735, 891: 1736, 107: 1737, 3251: 1738, 2460: 1739, 2461: 1740, 2462: 1741, 3771: 1742, 2107: 1743, 2110: 1744, 1821: 1745, 3284: 1746, 140: 1747, 218: 1748, 3436: 1749, 2491: 1750, 2492: 1751, 2205: 1752, 3873: 1753, 3874: 1754, 1914: 1755, 305: 1756, 1414: 1757, 1782: 1758, 753: 1759, 2738: 1760, 900: 1761, 2168: 1762, 3540: 1763, 909: 1764, 697: 1765, 3045: 1766, 1014: 1767, 2829: 1768, 1018: 1769, 1453: 1770, 1600: 1771, 355: 1772, 35: 1773, 287: 1774, 289: 1775, 2339: 1776, 1398: 1777, 937: 1778, 2849: 1779, 2415: 1780, 2417: 1781, 3076: 1782, 371: 1783, 447: 1784, 2426: 1785, 2356: 1786, 1632: 1787, 2292: 1788, 3814: 1789, 2443: 1790, 469: 1791, 1571: 1792, 2884: 1793, 1226: 1794, 1083: 1795, 489: 1796, 2468: 1797, 1666: 1798, 2037: 1799, 633: 1800, 492: 1801, 566: 1802, 205: 1803, 1677: 1804, 3280: 1805, 3939: 1806, 847: 1807, 1969: 1808, 1102: 1809, 1970: 1810, 1971: 1811, 1972: 1812, 1973: 1813, 1975: 1814, 1978: 1815, 1979: 1816, 366: 1817, 1980: 1818, 1981: 1819, 3677: 1820, 2523: 1821, 575: 1822, 2050: 1823, 599: 1824, 2152: 1825, 1359: 1826, 829: 1827, 835: 1828, 836: 1829, 1526: 1830, 1459: 1831, 2401: 1832, 1602: 1833, 1474: 1834, 3404: 1835, 2531: 1836, 2532: 1837, 991: 1838, 996: 1839, 1752: 1840, 1762: 1841, 239: 1842, 170: 1843, 1931: 1844, 1797: 1845, 3615: 1846, 1944: 1847, 3477: 1848, 336: 1849, 15: 1850, 19: 1851, 1010: 1852, 1011: 1853, 3483: 1854, 2827: 1855, 410: 1856, 346: 1857, 419: 1858, 423: 1859, 280: 1860, 360: 1861, 2857: 1862, 513: 1863, 514: 1864, 516: 1865, 374: 1866, 54: 1867, 376: 1868, 453: 1869, 533: 1870, 534: 1871, 2016: 1872, 2965: 1873, 486: 1874, 3926: 1875, 159: 1876, 1054: 1877, 89: 1878, 3861: 1879, 3509: 1880, 3390: 1881, 3616: 1882, 23: 1883, 2007: 1884, 1337: 1885, 2500: 1886, 3617: 1887, 3553: 1888, 886: 1889, 93: 1890, 1177: 1891, 571: 1892, 718: 1893, 2120: 1894, 1184: 1895, 580: 1896, 1190: 1897, 735: 1898, 1342: 1899, 1417: 1900, 1352: 1901, 1280: 1902, 2232: 1903, 2162: 1904, 2165: 1905, 1290: 1906, 1365: 1907, 766: 1908, 2315: 1909, 1522: 1910, 2328: 1911, 2264: 1912, 3067: 1913, 1609: 1914, 1611: 1915, 3078: 1916, 2349: 1917, 1623: 1918, 1627: 1919, 1483: 1920, 950: 1921, 3307: 1922, 3092: 1923, 893: 1924, 2517: 1925, 100: 1926, 3179: 1927, 1648: 1928, 3326: 1929, 1726: 1930, 2606: 1931, 126: 1932, 3342: 1933, 1816: 1934, 3285: 1935, 1686: 1936, 148: 1937, 3437: 1938, 1769: 1939, 1913: 1940, 1848: 1941, 307: 1942, 309: 1943, 242: 1944, 177: 1945, 3605: 1946, 3464: 1947, 1861: 1948, 3393: 1949, 322: 1950, 326: 1951, 184: 1952, 259: 1953, 188: 1954, 3478: 1955, 190: 1956, 193: 1957, 18: 1958, 268: 1959, 3620: 1960, 3550: 1961, 2750: 1962, 1950: 1963, 3557: 1964, 341: 1965, 415: 1966, 22: 1967, 427: 1968, 281: 1969, 358: 1970, 3571: 1971, 436: 1972, 290: 1973, 365: 1974, 2851: 1975, 2781: 1976, 2787: 1977, 519: 1978, 448: 1979, 55: 1980, 1051: 1981, 2793: 1982, 522: 1983, 382: 1984, 456: 1985, 3747: 1986, 1211: 1987, 2956: 1988, 611: 1989, 617: 1990, 3764: 1991, 482: 1992, 3918: 1993, 3919: 1994, 1305: 1995, 2038: 1996, 561: 1997, 2112: 1998, 2114: 1999, 1173: 2000, 3049: 2001, 3217: 2002, 2788: 2003, 3672: 2004, 2786: 2005, 3794: 2006, 3797: 2007, 2310: 2008, 3820: 2009, 3694: 2010, 1228: 2011, 2057: 2012, 3024: 2013, 695: 2014, 2184: 2015, 2364: 2016, 2365: 2017, 3328: 2018, 2615: 2019, 1862: 2020, 2744: 2021, 3663: 2022, 3664: 2023, 392: 2024, 2891: 2025, 3923: 2026, 1311: 2027, 2147: 2028, 1421: 2029, 3201: 2030, 3134: 2031, 3224: 2032, 3089: 2033, 959: 2034, 978: 2035, 3185: 2036, 3414: 2037, 3350: 2038, 314: 2039, 1935: 2040, 3545: 2041, 2670: 2042, 1951: 2043, 3655: 2044, 3808: 2045, 3811: 2046, 3742: 2047, 3816: 2048, 1066: 2049, 615: 2050, 3910: 2051, 1241: 2052, 113: 2053, 1731: 2054, 2583: 2055, 3882: 2056, 3238: 2057, 3316: 2058, 3190: 2059, 3511: 2060, 3564: 2061, 3743: 2062, 3908: 2063, 3784: 2064, 3789: 2065, 2130: 2066, 1401: 2067, 806: 2068, 2069: 2069, 664: 2070, 2212: 2071, 3015: 2072, 2079: 2073, 3103: 2074, 3109: 2075, 1432: 2076, 1363: 2077, 1366: 2078, 2177: 2079, 848: 2080, 1450: 2081, 782: 2082, 929: 2083, 2341: 2084, 1477: 2085, 1629: 2086, 956: 2087, 2435: 2088, 2290: 2089, 960: 2090, 3317: 2091, 974: 2092, 1727: 2093, 2457: 2094, 3330: 2095, 2472: 2096, 132: 2097, 3430: 2098, 225: 2099, 3518: 2100, 3529: 2101, 2729: 2102, 3602: 2103, 1934: 2104, 1938: 2105, 254: 2106, 182: 2107, 3613: 2108, 2819: 2109, 2820: 2110, 2755: 2111, 418: 2112, 279: 2113, 437: 2114, 3724: 2115, 3729: 2116, 1050: 2117, 3738: 2118, 2939: 2119, 451: 2120, 2940: 2121, 1209: 2122, 78: 2123, 79: 2124, 82: 2125, 1082: 2126, 3841: 2127, 1161: 2128, 630: 2129, 1099: 2130, 3929: 2131, 640: 2132, 3007: 2133, 3115: 2134, 2505: 2135, 1707: 2136, 166: 2137, 2596: 2138, 2672: 2139, 2678: 2140, 1416: 2141, 2913: 2142, 9: 2143, 2803: 2144, 1919: 2145, 637: 2146, 973: 2147, 1939: 2148, 2929: 2149, 3112: 2150, 3069: 2151, 1926: 2152, 2690: 2153, 2434: 2154, 2439: 2155, 1904: 2156, 40: 2157, 2995: 2158, 43: 2159, 2979: 2160, 1187: 2161, 3124: 2162, 8: 2163, 692: 2164, 2170: 2165, 2196: 2166, 2448: 2167, 990: 2168, 2625: 2169, 3444: 2170, 240: 2171, 1858: 2172, 1004: 2173, 2879: 2174, 464: 2175, 3767: 2176, 3768: 2177, 704: 2178, 869: 2179, 2357: 2180, 577: 2181, 801: 2182, 2092: 2183, 3054: 2184, 1460: 2185, 1551: 2186, 2354: 2187, 1489: 2188, 885: 2189, 1495: 2190, 1582: 2191, 3400: 2192, 1592: 2193, 2559: 2194, 146: 2195, 238: 2196, 169: 2197, 181: 2198, 502: 2199, 362: 2200, 87: 2201, 2899: 2202, 558: 2203, 700: 2204, 2036: 2205, 631: 2206, 634: 2207, 709: 2208, 711: 2209, 3946: 2210, 3898: 2211, 3710: 2212, 536: 2213, 3783: 2214, 2771: 2215, 1131: 2216, 3282: 2217, 2499: 2218, 156: 2219, 3606: 2220, 1871: 2221, 417: 2222, 1024: 2223, 298: 2224, 72: 2225, 84: 2226, 2971: 2227, 568: 2228, 2873: 2229, 2024: 2230, 1178: 2231, 1260: 2232, 3093: 2233, 2924: 2234, 69: 2235, 2519: 2236, 2861: 2237, 941: 2238, 3324: 2239, 3299: 2240, 3825: 2241, 3914: 2242, 3859: 2243, 754: 2244, 3118: 2245, 583: 2246, 2157: 2247, 826: 2248, 2347: 2249, 3384: 2250, 438: 2251, 1112: 2252, 390: 2253, 2927: 2254, 2060: 2255, 1437: 2256, 2190: 2257, 3141: 2258, 2279: 2259, 993: 2260, 2582: 2261, 12: 2262, 294: 2263, 373: 2264, 63: 2265, 2880: 2266, 477: 2267, 2073: 2268, 1238: 2269, 810: 2270, 3895: 2271, 2084: 2272, 2169: 2273, 1605: 2274, 3225: 2275, 1595: 2276, 1750: 2277, 2566: 2278, 3515: 2279, 2714: 2280, 3453: 2281, 3454: 2282, 1881: 2283, 2876: 2284, 3824: 2285, 2102: 2286, 3776: 2287, 2978: 2288, 2048: 2289, 667: 2290, 1599: 2291, 2476: 2292, 204: 2293, 1681: 2294, 2818: 2295, 3933: 2296, 1349: 2297, 3837: 2298, 1542: 2299, 2203: 2300, 3870: 2301, 2204: 2302, 2210: 2303, 1507: 2304, 936: 2305, 944: 2306, 1596: 2307, 1929: 2308, 1936: 2309, 1940: 2310, 2904: 2311, 3736: 2312, 2937: 2313, 1824: 2314, 2938: 2315, 3901: 2316, 2535: 2317, 3936: 2318, 71: 2319, 3791: 2320, 3872: 2321, 851: 2322, 3177: 2323, 3357: 2324, 1755: 2325, 3580: 2326, 2877: 2327, 3754: 2328, 3915: 2329, 2285: 2330, 998: 2331, 3029: 2332, 1515: 2333, 2181: 2334, 1661: 2335, 1925: 2336, 1942: 2337, 1167: 2338, 3938: 2339, 3913: 2340, 3925: 2341, 2098: 2342, 2231: 2343, 2280: 2344, 1860: 2345, 1325: 2346, 2182: 2347, 3883: 2348, 3327: 2349, 2099: 2350, 3537: 2351, 1995: 2352, 2121: 2353, 1322: 2354, 1326: 2355, 1328: 2356, 1329: 2357, 3941: 2358, 3942: 2359, 3013: 2360, 2327: 2361, 3138: 2362, 2368: 2363, 2515: 2364, 2451: 2365, 2525: 2366, 3403: 2367, 2634: 2368, 2635: 2369, 2645: 2370, 2652: 2371, 2736: 2372, 2665: 2373, 324: 2374, 251: 2375, 328: 2376, 332: 2377, 407: 2378, 273: 2379, 3491: 2380, 3659: 2381, 1987: 2382, 1988: 2383, 3806: 2384, 1992: 2385, 1128: 2386, 1993: 2387, 1996: 2388, 1999: 2389, 2878: 2390, 606: 2391, 2026: 2392, 3840: 2393, 3843: 2394, 2104: 2395, 3921: 2396, 2113: 2397, 892: 2398, 241: 2399, 3538: 2400, 3934: 2401, 742: 2402, 3792: 2403, 3001: 2404, 3014: 2405, 1355: 2406, 687: 2407, 2242: 2408, 1389: 2409, 2260: 2410, 2267: 2411, 3211: 2412, 2343: 2413, 875: 2414, 3304: 2415, 2518: 2416, 101: 2417, 2381: 2418, 1807: 2419, 2551: 2420, 1841: 2421, 3389: 2422, 3465: 2423, 2741: 2424, 2745: 2425, 2749: 2426, 20: 2427, 1890: 2428, 3497: 2429, 2928: 2430, 2866: 2431, 458: 2432, 387: 2433, 603: 2434, 544: 2435, 3766: 2436, 3849: 2437, 3125: 2438, 1415: 2439, 171: 2440, 1879: 2441, 1063: 2442, 715: 2443, 3865: 2444, 3795: 2445, 3150: 2446, 2284: 2447, 2561: 2448, 1889: 2449, 2769: 2450, 3720: 2451, 3822: 2452, 3756: 2453, 3857: 2454, 3132: 2455, 3073: 2456, 3154: 2457, 3311: 2458, 1404: 2459, 1439: 2460, 1472: 2461, 1647: 2462, 1662: 2463, 1053: 2464, 384: 2465, 2458: 2466, 2654: 2467, 1855: 2468, 645: 2469, 574: 2470, 649: 2471, 665: 2472, 668: 2473, 1354: 2474, 781: 2475, 1543: 2476, 117: 2477, 2609: 2478, 3416: 2479, 211: 2480, 147: 2481, 1900: 2482, 306: 2483, 1859: 2484, 406: 2485, 2696: 2486, 2697: 2487, 2925: 2488, 3819: 2489, 3746: 2490, 535: 2491, 627: 2492, 97: 2493, 2361: 2494, 3064: 2495, 129: 2496, 1670: 2497, 3579: 2498, 3884: 2499, 3719: 2500, 512: 2501, 548: 2502, 1289: 2503, 1454: 2504, 793: 2505, 3094: 2506, 1780: 2507, 1856: 2508, 1932: 2509, 3392: 2510, 3395: 2511, 1111: 2512, 3813: 2513, 549: 2514, 2998: 2515, 2360: 2516, 213: 2517, 206: 2518, 2495: 2519, 3539: 2520, 3627: 2521, 3679: 2522, 1941: 2523, 3801: 2524, 3135: 2525, 935: 2526, 3292: 2527, 3371: 2528, 2570: 2529, 2801: 2530, 2862: 2531, 3834: 2532, 3853: 2533, 3855: 2534, 1194: 2535, 760: 2536, 1667: 2537, 808: 2538, 2086: 2539, 2240: 2540, 1445: 2541, 3214: 2542, 870: 2543, 2626: 2544, 3431: 2545, 3432: 2546, 3433: 2547, 3434: 2548, 2494: 2549, 227: 2550, 3385: 2551, 3394: 2552, 1008: 2553, 408: 2554, 338: 2555, 426: 2556, 3585: 2557, 460: 2558, 3117: 2559, 1516: 2560, 3055: 2561, 787: 2562, 3077: 2563, 3192: 2564, 3272: 2565, 3275: 2566, 2621: 2567, 1910: 2568, 308: 2569, 2730: 2570, 320: 2571, 2594: 2572, 2812: 2573, 3625: 2574, 3718: 2575, 363: 2576, 2859: 2577, 1123: 2578, 1055: 2579, 1202: 2580, 391: 2581, 3903: 2582, 3906: 2583, 3858: 2584, 759: 2585, 3860: 2586, 3950: 2587, 1502: 2588, 1539: 2589, 1612: 2590, 3302: 2591, 1564: 2592, 987: 2593, 2482: 2594, 1767: 2595, 179: 2596, 1896: 2597, 3581: 2598, 3598: 2599, 68: 2600, 3749: 2601, 3823: 2602, 2962: 2603, 1236: 2604, 638: 2605, 325: 2606, 274: 2607, 1581: 2608, 3415: 2609, 3470: 2610, 1273: 2611, 2255: 2612, 2295: 2613, 3199: 2614, 209: 2615, 271: 2616, 2905: 2617, 352: 2618, 2977: 2619, 564: 2620, 639: 2621, 1812: 2622, 1998: 2623, 2988: 2624, 2068: 2625, 670: 2626, 1361: 2627, 2330: 2628, 214: 2629, 523: 2630, 602: 2631, 83: 2632, 2022: 2633, 809: 2634, 1456: 2635, 1604: 2636, 1465: 2637, 1473: 2638, 1475: 2639, 1497: 2640, 2514: 2641, 2516: 2642, 1744: 2643, 2548: 2644, 1902: 2645, 152: 2646, 1771: 2647, 1866: 2648, 2597: 2649, 1869: 2650, 3709: 2651, 2835: 2652, 1119: 2653, 479: 2654, 2898: 2655, 98: 2656, 2974: 2657, 3782: 2658, 2996: 2659, 1255: 2660, 3520: 2661, 2656: 2662, 2666: 2663, 3592: 2664, 2035: 2665, 3922: 2666, 3924: 2667, 831: 2668, 1613: 2669, 2504: 2670, 2513: 2671, 984: 2672, 3401: 2673, 3262: 2674, 3673: 2675, 3674: 2676, 201: 2677, 876: 2678, 2372: 2679, 3329: 2680, 1728: 2681, 1928: 2682, 2587: 2683, 1930: 2684, 1933: 2685, 255: 2686, 1943: 2687, 3475: 2688, 1169: 2689, 3002: 2690, 669: 2691, 3010: 2692, 3951: 2693, 1413: 2694, 3885: 2695, 680: 2696, 3038: 2697, 3047: 2698, 2180: 2699, 854: 2700, 3075: 2701, 2351: 2702, 3235: 2703, 1631: 2704, 3090: 2705, 3241: 2706, 2512: 2707, 2440: 2708, 1572: 2709, 970: 2710, 3188: 2711, 2488: 2712, 2630: 2713, 3379: 2714, 2579: 2715, 3456: 2716, 2659: 2717, 183: 2718, 3547: 2719, 2824: 2720, 3559: 2721, 2689: 2722, 2830: 2723, 3568: 2724, 3731: 2725, 2864: 2726, 1132: 2727, 1068: 2728, 3680: 2729, 99: 2730, 2970: 2731, 1232: 2732, 3127: 2733, 2271: 2734, 3281: 2735, 2590: 2736, 1044: 2737, 3041: 2738, 3391: 2739, 3715: 2740, 3144: 2741, 1825: 2742, 31: 2743, 1323: 2744, 2475: 2745, 3449: 2746, 2552: 2747, 573: 2748, 2994: 2749, 3008: 2750, 685: 2751, 3128: 2752, 1397: 2753, 1399: 2754, 2276: 2755, 1547: 2756, 1482: 2757, 1725: 2758, 988: 2759, 2610: 2760, 1811: 2761, 2479: 2762, 2493: 2763, 2711: 2764, 301: 2765, 2679: 2766, 3711: 2767, 369: 2768, 57: 2769, 388: 2770, 613: 2771, 2963: 2772, 621: 2773, 483: 2774, 3839: 2775, 409: 2776, 1062: 2777, 3886: 2778, 761: 2779, 1626: 2780, 2614: 2781, 504: 2782, 3810: 2783, 547: 2784, 2894: 2785, 776: 2786, 137: 2787, 3909: 2788, 747: 2789, 717: 2790, 3867: 2791, 3796: 2792, 725: 2793, 3031: 2794, 2305: 2795, 1503: 2796, 767: 2797, 774: 2798, 2425: 2799, 3158: 2800, 3245: 2801, 3181: 2802, 2602: 2803, 1741: 2804, 2624: 2805, 2483: 2806, 1844: 2807, 3459: 2808, 2585: 2809, 3532: 2810, 1867: 2811, 1795: 2812, 1796: 2813, 1891: 2814, 2768: 2815, 2844: 2816, 1105: 2817, 1058: 2818, 525: 2819, 67: 2820, 80: 2821, 3902: 2822, 488: 2823, 632: 2824, 635: 2825, 495: 2826, 1646: 2827, 1550: 2828, 2445: 2829, 27: 2830, 295: 2831, 3761: 2832, 3162: 2833, 1874: 2834, 2865: 2835, 1346: 2836, 3180: 2837, 1746: 2838, 2651: 2839, 1854: 2840, 174: 2841, 191: 2842, 414: 2843, 354: 2844, 430: 2845, 433: 2846, 2889: 2847, 710: 2848, 1642: 2849, 2589: 2850, 2695: 2851, 3945: 2852, 2307: 2853, 3165: 2854, 3653: 2855, 2129: 2856, 3947: 2857, 149: 2858, 3149: 2859, 2785: 2860, 1427: 2861, 917: 2862, 1523: 2863, 1531: 2864, 2999: 2865, 1410: 2866, 2809: 2867, 1317: 2868, 2051: 2869, 2151: 2870, 3042: 2871, 3043: 2872, 3048: 2873, 2345: 2874, 2286: 2875, 3161: 2876, 964: 2877, 102: 2878, 119: 2879, 131: 2880, 3427: 2881, 1839: 2882, 1857: 2883, 1863: 2884, 3622: 2885, 2685: 2886, 3496: 2887, 505: 2888, 444: 2889, 3804: 2890, 537: 2891, 3695: 2892, 2031: 2893, 2032: 2894, 2900: 2895, 1484: 2896, 1076: 2897, 570: 2898, 662: 2899, 1533: 2900, 1471: 2901, 877: 2902, 3187: 2903, 1585: 2904, 1664: 2905, 3343: 2906, 263: 2907, 3562: 2908, 3716: 2909, 1114: 2910, 1150: 2911, 2964: 2912, 2062: 2913, 3050: 2914, 2569: 2915, 3563: 2916, 2839: 2917, 3851: 2918, 2075: 2919, 3544: 2920, 811: 2921, 751: 2922, 1508: 2923, 3221: 2924, 958: 2925, 128: 2926, 3577: 2927, 2008: 2928, 77: 2929, 3830: 2930, 2897: 2931, 3854: 2932, 250: 2933, 1423: 2934, 844: 2935, 3215: 2936, 3222: 2937, 3171: 2938, 3714: 2939, 3586: 2940, 3734: 2941, 2704: 2942, 1382: 2943, 3139: 2944, 2477: 2945, 3367: 2946, 2655: 2947, 3487: 2948, 2902: 2949, 3732: 2950, 210: 2951, 2627: 2952, 3667: 2953, 1870: 2954, 2751: 2955, 1134: 2956, 3765: 2957, 3572: 2958, 2799: 2959, 619: 2960, 2848: 2961, 1598: 2962, 3931: 2963, 2992: 2964, 1330: 2965, 1335: 2966, 3021: 2967, 841: 2968, 3058: 2969, 3351: 2970, 2636: 2971, 2740: 2972, 3488: 2973, 2903: 2974, 3573: 2975, 2784: 2976, 3833: 2977, 3838: 2978, 3692: 2979, 2095: 2980, 3339: 2981, 2362: 2982, 2388: 2983, 3569: 2984, 652: 2985, 755: 2986, 834: 2987, 882: 2988, 3345: 2989, 2886: 2990, 3777: 2991, 1496: 2992, 656: 2993, 3119: 2994, 3318: 2995, 3335: 2996, 3344: 2997, 3346: 2998, 2545: 2999, 1743: 3000, 1695: 3001, 3490: 3002, 3651: 3003, 2855: 3004, 1989: 3005, 1990: 3006, 2868: 3007, 600: 3008, 1165: 3009, 1002: 3010, 3372: 3011, 840: 3012, 865: 3013, 867: 3014, 2446: 3015, 1679: 3016, 1822: 3017, 3531: 3018, 3645: 3019, 3669: 3020, 1164: 3021, 1362: 3022, 3446: 3023, 681: 3024, 1332: 3025, 2464: 3026, 3276: 3027, 3133: 3028, 3310: 3029, 3665: 3030, 3781: 3031, 1826: 3032, 343: 3033, 484: 3034, 2219: 3035, 2256: 3036, 726: 3037, 3106: 3038, 2237: 3039, 2521: 3040, 2386: 3041, 3289: 3042, 3445: 3043, 331: 3044, 375: 3045, 722: 3046, 3894: 3047, 1384: 3048, 2673: 3049, 2825: 3050, 2843: 3051, 1039: 3052, 2933: 3053, 1163: 3054, 1525: 3055, 3239: 3056, 1490: 3057, 3240: 3058, 243: 3059, 1798: 3060, 470: 3061, 1351: 3062, 1511: 3063, 2175: 3064, 2281: 3065, 2293: 3066, 1651: 3067, 3183: 3068, 997: 3069, 2620: 3070, 1791: 3071, 1006: 3072, 335: 3073, 422: 3074, 75: 3075, 2885: 3076, 2400: 3077, 1067: 3078, 2733: 3079, 1153: 3080, 1383: 3081, 2810: 3082, 49: 3083, 939: 3084, 1817: 3085, 1749: 3086, 3670: 3087, 124: 3088, 1659: 3089, 228: 3090, 1773: 3091, 2767: 3092, 283: 3093, 478: 3094, 2298: 3095, 881: 3096, 3626: 3097, 807: 3098, 2055: 3099, 2896: 3100, 1906: 3101, 96: 3102, 1406: 3103, 2063: 3104, 3817: 3105, 1149: 3106, 1341: 3107, 2465: 3108, 2754: 3109, 3637: 3110, 2853: 3111, 746: 3112, 2618: 3113, 3374: 3114, 106: 3115, 1809: 3116, 1455: 3117, 705: 3118, 2715: 3119, 1758: 3120, 828: 3121, 2837: 3122, 626: 3123, 1865: 3124, 3739: 3125, 2179: 3126, 3293: 3127, 3912: 3128, 2074: 3129, 1538: 3130, 3790: 3131, 3428: 3132, 2847: 3133, 2854: 3134, 3832: 3135, 3691: 3136, 2128: 3137, 1336: 3138, 2326: 3139, 2737: 3140, 3721: 3141, 2044: 3142, 2982: 3143, 2275: 3144, 1837: 3145, 1113: 3146, 1133: 3147, 347: 3148, 1720: 3149, 1440: 3150, 578: 3151, 3410: 3152, 411: 3153, 658: 3154, 2931: 3155, 2911: 3156, 3892: 3157, 3122: 3158, 3143: 3159, 3368: 3160, 2481: 3161, 2201: 3162, 2342: 3163, 1656: 3164, 1312: 3165, 1000: 3166, 212: 3167, 56: 3168, 1412: 3169, 462: 3170, 121: 3171, 3648: 3172, 1893: 3173, 716: 3174, 2586: 3175, 1579: 3176, 2522: 3177, 37: 3178, 2487: 3179, 3900: 3180, 2056: 3181, 2131: 3182, 731: 3183, 1447: 3184, 2850: 3185, 3805: 3186, 1501: 3187, 103: 3188, 2778: 3189, 1056: 3190, 61: 3191, 1903: 3192, 2486: 3193, 2834: 3194, 200: 3195, 270: 3196, 1899: 3197, 2158: 3198, 3737: 3199, 3875: 3200, 1087: 3201, 2743: 3202, 114: 3203, 3940: 3204, 443: 3205, 2211: 3206, 2227: 3207, 992: 3208, 3291: 3209, 3442: 3210, 1853: 3211, 2164: 3212, 3313: 3213, 2753: 3214, 3632: 3215, 3314: 3216, 2658: 3217, 3611: 3218, 3878: 3219, 888: 3220, 1570: 3221, 3759: 3222, 3775: 3223, 3848: 3224, 402: 3225, 3137: 3226, 576: 3227, 2631: 3228, 297: 3229, 1558: 3230, 1565: 3231, 3588: 3232, 1549: 3233, 1692: 3234, 1168: 3235, 2869: 3236, 3862: 3237, 3140: 3238, 3944: 3239, 2892: 3240, 3866: 3241, 3891: 3242, 3899: 3243, 1026: 3244, 3025: 3245, 3407: 3246, 3463: 3247, 1170: 3248, 304: 3249, 2452: 3250, 2842: 3251, 3223: 3252, 1846: 3253, 1567: 3254, 136: 3255, 3378: 3256, 3232: 3257, 1458: 3258, 2466: 3259, 2536: 3260, 386: 3261, 554: 3262, 2200: 3263, 850: 3264, 545: 3265, 1117: 3266, 614: 3267, 2577: 3268, 167: 3269, 2773: 3270, 1040: 3271, 385: 3272, 3803: 3273, 2593: 3274, 2760: 3275, 1696: 3276, 2397: 3277, 2756: 3278, 3575: 3279, 3845: 3280, 3306: 3281, 2207: 3282, 1494: 3283, 2509: 3284, 3184: 3285, 3647: 3286, 2727: 3287, 244: 3288, 2304: 3289, 2914: 3290, 2960: 3291, 2061: 3292, 2317: 3293, 2185: 3294, 2187: 3295, 1864: 3296, 734: 3297, 2215: 3298, 1493: 3299, 1829: 3300, 2675: 3301, 1151: 3302, 2510: 3303, 1793: 3304, 3570: 3305, 3026: 3306, 2156: 3307, 2251: 3308, 3880: 3309, 1668: 3310, 1814: 3311, 3495: 3312, 1514: 3313, 1561: 3314, 3319: 3315, 359: 3316, 2945: 3317, 310: 3318, 925: 3319, 1901: 3320, 2578: 3321, 59: 3322, 3523: 3323, 2283: 3324, 2449: 3325, 452: 3326, 2244: 3327, 397: 3328, 2332: 3329, 1575: 3330, 756: 3331, 2691: 3332, 2813: 3333, 2538: 3334, 2191: 3335, 792: 3336, 3218: 3337, 3402: 3338, 3800: 3339, 3850: 3340, 3333: 3341, 2981: 3342, 821: 3343, 220: 3344, 1426: 3345, 2350: 3346, 2556: 3347, 1144: 3348, 2934: 3349, 1622: 3350, 1636: 3351, 980: 3352, 814: 3353, 394: 3354, 702: 3355, 744: 3356, 2246: 3357, 1486: 3358, 1154: 3359, 1160: 3360, 1504: 3361, 2197: 3362, 1574: 3363, 33: 3364, 3574: 3365, 2775: 3366, 389: 3367, 1071: 3368, 559: 3369, 1671: 3370, 3482: 3371, 3126: 3372, 1324: 3373, 189: 3374, 1174: 3375, 1898: 3376, 108: 3377, 2758: 3378, 3209: 3379, 2192: 3380, 1519: 3381, 1098: 3382, 1369: 3383, 3151: 3384, 1038: 3385, 2923: 3386, 3027: 3387, 1433: 3388, 3847: 3389, 3757: 3390, 3772: 3391, 2257: 3392, 3492: 3393, 598: 3394, 563: 3395, 729: 3396, 730: 3397, 758: 3398, 2233: 3399, 2234: 3400, 2441: 3401, 245: 3402, 1872: 3403, 264: 3404, 3636: 3405, 1116: 3406, 672: 3407, 682: 3408, 698: 3409, 3116: 3410, 862: 3411, 2503: 3412, 895: 3413, 2557: 3414, 2705: 3415, 197: 3416, 2765: 3417, 53: 3418, 526: 3419, 90: 3420, 567: 3421, 962: 3422, 618: 3423, 2172: 3424, 120: 3425, 2209: 3426, 703: 3427, 3003: 3428, 967: 3429, 2814: 3430, 2823: 3431, 3486: 3432, 3642: 3433, 972: 3434, 641: 3435, 2608: 3436, 1444: 3437, 1850: 3438, 3657: 3439, 1138: 3440, 2776: 3441, 1436: 3442, 769: 3443, 985: 3444, 1675: 3445, 2576: 3446, 3542: 3447, 192: 3448, 2127: 3449, 887: 3450, 712: 3451, 2831: 3452, 2358: 3453, 1849: 3454, 1121: 3455, 1181: 3456, 2562: 3457, 3205: 3458, 3644: 3459, 401: 3460, 2221: 3461, 3131: 3462, 3228: 3463, 1315: 3464, 864: 3465, 219: 3466, 3294: 3467, 3305: 3468, 3380: 3469, 643: 3470, 3419: 3471, 2632: 3472, 3888: 3473, 823: 3474, 2619: 3475, 1877: 3476, 3722: 3477, 2101: 3478, 2563: 3479, 3905: 3480, 853: 3481, 3904: 3482, 1548: 3483, 1878: 3484, 666: 3485, 1360: 3486, 1364: 3487, 696: 3488, 3517: 3489, 2984: 3490, 3601: 3491, 3322: 3492, 3303: 3493, 3887: 3494, 579: 3495, 2235: 3496, 789: 3497, 796: 3498, 3212: 3499, 3216: 3500, 2277: 3501, 3220: 3502, 1630: 3503, 977: 3504, 1652: 3505, 2484: 3506, 1852: 3507, 3621: 3508, 2821: 3509, 3493: 3510, 3641: 3511, 1115: 3512, 1118: 3513, 601: 3514, 3828: 3515, 1142: 3516, 1145: 3517, 3687: 3518, 2887: 3519, 623: 3520, 644: 3521, 651: 3522, 3876: 3523, 660: 3524, 1510: 3525, 1386: 3526, 859: 3527, 3136: 3528, 1553: 3529, 3166: 3530, 3312: 3531, 1718: 3532, 3321: 3533, 142: 3534, 1908: 3535, 1764: 3536, 2584: 3537, 1787: 3538, 2742: 3539, 3778: 3540, 3283: 3541, 884: 3542, 3085: 3543, 1685: 3544, 3748: 3545, 1528: 3546, 2591: 3547, 3595: 3548, 815: 3549, 2254: 3550, 2299: 3551, 1520: 3552, 775: 3553, 1420: 3554, 684: 3555, 690: 3556, 1534: 3557, 3652: 3558, 3277: 3559, 3666: 3560, 3522: 3561, 3295: 3562, 3377: 3563, 557: 3564, 1107: 3565, 560: 3566, 3458: 3567, 706: 3568, 2226: 3569, 1815: 3570, 2444: 3571, 3353: 3572, 3288: 3573, 3352: 3574, 1770: 3575, 398: 3576, 989: 3577, 2783: 3578, 1532: 3579, 966: 3580, 874: 3581, 1886: 3582, 2592: 3583, 657: 3584, 3890: 3585, 2039: 3586, 749: 3587, 3818: 3588, 582: 3589, 642: 3590, 3297: 3591, 732: 3592, 2930: 3593, 3057: 3594, 3472: 3595, 130: 3596, 139: 3597, 2955: 3598, 655: 3599, 3485: 3600, 790: 3601, 1915: 3602, 2833: 3603, 1714: 3604, 3207: 3605, 3242: 3606, 3533: 3607, 1851: 3608, 1830: 3609, 3881: 3610, 2777: 3611, 3443: 3612, 757: 3613, 2895: 3614, 889: 3615, 1470: 3616, 981: 3617, 679: 3618, 3373: 3619, 872: 3620, 3381: 3621, 1555: 3622, 3779: 3623, 791: 3624, 3609: 3625, 1430: 3626, 1724: 3627, 2223: 3628, 3233: 3629, 3237: 3630, 3762: 3631, 3172: 3632, 3065: 3633, 3631: 3634, 1139: 3635, 3603: 3636, 3842: 3637, 572: 3638, 2213: 3639, 2217: 3640, 3202: 3641, 975: 3642, 3376: 3643, 311: 3644, 1905: 3645, 2258: 3646, 2623: 3647, 3236: 3648, 396: 3649, 868: 3650, 3413: 3651, 1316: 3652, 878: 3653, 226: 3654, 2811: 3655, 827: 3656, 584: 3657, 1820: 3658, 607: 3659, 701: 3660, 2214: 3661, 763: 3662, 3229: 3663, 820: 3664, 3337: 3665, 138: 3666, 530: 3667, 1070: 3668, 843: 3669, 3336: 3670, 3460: 3671, 3123: 3672, 133: 3673, 3290: 3674, 1709: 3675, 3164: 3676, 3315: 3677, 1832: 3678, 439: 3679, 134: 3680, 2480: 3681, 1842: 3682, 2309: 3683, 3084: 3684, 2218: 3685, 2308: 3686, 624: 3687, 1434: 3688, 1868: 3689, 404: 3690, 2543: 3691, 591: 3692, 3656: 3693, 2438: 3694, 3323: 3695, 127: 3696, 3382: 3697, 1843: 3698, 286: 3699, 3530: 3700, 2198: 3701, 2703: 3702, 2845: 3703, 3607: 3704, 2909: 3705}\n",
            "{0: 1193, 1: 661, 2: 914, 3: 3408, 4: 2355, 5: 1197, 6: 1287, 7: 2804, 8: 594, 9: 919, 10: 595, 11: 938, 12: 2398, 13: 2918, 14: 1035, 15: 2791, 16: 2687, 17: 2018, 18: 3105, 19: 2797, 20: 2321, 21: 720, 22: 1270, 23: 527, 24: 2340, 25: 48, 26: 1097, 27: 1721, 28: 1545, 29: 745, 30: 2294, 31: 3186, 32: 1566, 33: 588, 34: 1907, 35: 783, 36: 1836, 37: 1022, 38: 2762, 39: 150, 40: 1, 41: 1961, 42: 1962, 43: 2692, 44: 260, 45: 1028, 46: 1029, 47: 1207, 48: 2028, 49: 531, 50: 3114, 51: 608, 52: 1246, 53: 1357, 54: 3068, 55: 1537, 56: 647, 57: 2194, 58: 648, 59: 2268, 60: 2628, 61: 1103, 62: 2916, 63: 3468, 64: 1210, 65: 1792, 66: 1687, 67: 1213, 68: 3578, 69: 2881, 70: 3030, 71: 1217, 72: 434, 73: 2126, 74: 3107, 75: 3108, 76: 3035, 77: 1253, 78: 1610, 79: 292, 80: 2236, 81: 3071, 82: 902, 83: 368, 84: 1259, 85: 3147, 86: 1544, 87: 1293, 88: 1188, 89: 3255, 90: 3256, 91: 3257, 92: 110, 93: 2278, 94: 2490, 95: 1834, 96: 3471, 97: 589, 98: 1690, 99: 3654, 100: 2852, 101: 1945, 102: 982, 103: 1873, 104: 2858, 105: 1225, 106: 515, 107: 442, 108: 2312, 109: 265, 110: 1408, 111: 1084, 112: 3699, 113: 480, 114: 1442, 115: 2067, 116: 1265, 117: 1370, 118: 1801, 119: 1372, 120: 2353, 121: 3334, 122: 2427, 123: 590, 124: 1196, 125: 1552, 126: 736, 127: 1198, 128: 593, 129: 2359, 130: 95, 131: 2717, 132: 2571, 133: 1917, 134: 2396, 135: 3735, 136: 1953, 137: 1597, 138: 3809, 139: 1954, 140: 1955, 141: 235, 142: 1124, 143: 1957, 144: 163, 145: 21, 146: 165, 147: 1090, 148: 380, 149: 2501, 150: 349, 151: 457, 152: 1096, 153: 920, 154: 459, 155: 1527, 156: 3418, 157: 1385, 158: 3451, 159: 3095, 160: 780, 161: 498, 162: 2728, 163: 2002, 164: 1784, 165: 2943, 166: 2006, 167: 318, 168: 1968, 169: 3678, 170: 1244, 171: 356, 172: 1245, 173: 3893, 174: 1247, 175: 3421, 176: 1641, 177: 1394, 178: 3534, 179: 104, 180: 2735, 181: 1431, 182: 3868, 183: 1079, 184: 2997, 185: 1615, 186: 1291, 187: 653, 188: 2167, 189: 1580, 190: 3619, 191: 1049, 192: 1261, 193: 552, 194: 1266, 195: 733, 196: 1378, 197: 1379, 198: 3552, 199: 1304, 200: 2470, 201: 3168, 202: 2617, 203: 3671, 204: 2871, 205: 2115, 206: 1136, 207: 2081, 208: 2951, 209: 1214, 210: 1036, 211: 3702, 212: 2366, 213: 1387, 214: 3527, 215: 1201, 216: 2947, 217: 1240, 218: 2987, 219: 2333, 220: 1175, 221: 39, 222: 288, 223: 2337, 224: 1535, 225: 1392, 226: 1466, 227: 860, 228: 1683, 229: 866, 230: 1684, 231: 2770, 232: 215, 233: 1759, 234: 501, 235: 506, 236: 1250, 237: 3793, 238: 509, 239: 41, 240: 2058, 241: 3799, 242: 47, 243: 2700, 244: 296, 245: 581, 246: 1617, 247: 728, 248: 299, 249: 3079, 250: 2560, 251: 1909, 252: 224, 253: 3728, 254: 229, 255: 6, 256: 3006, 257: 1046, 258: 800, 259: 50, 260: 52, 261: 1191, 262: 1192, 263: 3081, 264: 377, 265: 1268, 266: 3083, 267: 3513, 268: 2428, 269: 2282, 270: 3514, 271: 1554, 272: 1912, 273: 2716, 274: 1485, 275: 2289, 276: 162, 277: 1127, 278: 3016, 279: 2070, 280: 1704, 281: 3163, 282: 2437, 283: 2291, 284: 1635, 285: 1279, 286: 2721, 287: 2723, 288: 1921, 289: 2725, 290: 1923, 291: 2580, 292: 3386, 293: 3744, 294: 968, 295: 896, 296: 3020, 297: 1788, 298: 176, 299: 461, 300: 1429, 301: 2159, 302: 1715, 303: 1643, 304: 3249, 305: 3176, 306: 1719, 307: 2806, 308: 2734, 309: 1649, 310: 321, 311: 2013, 312: 3100, 313: 2952, 314: 1794, 315: 2599, 316: 1500, 317: 2959, 318: 1509, 319: 1722, 320: 1650, 321: 908, 322: 1653, 323: 2384, 324: 1729, 325: 3476, 326: 2890, 327: 3113, 328: 16, 329: 2029, 330: 194, 331: 551, 332: 1513, 333: 3046, 334: 2318, 335: 1517, 336: 1089, 337: 3260, 338: 913, 339: 1730, 340: 3409, 341: 2607, 342: 1449, 343: 1732, 344: 1733, 345: 2390, 346: 1734, 347: 3266, 348: 3267, 349: 3624, 350: 2395, 351: 1594, 352: 2683, 353: 412, 354: 2759, 355: 994, 356: 1884, 357: 1885, 358: 272, 359: 24, 360: 3051, 361: 348, 362: 2323, 363: 1093, 364: 29, 365: 562, 366: 1095, 367: 1529, 368: 2188, 369: 497, 370: 202, 371: 1747, 372: 2908, 373: 1966, 374: 3499, 375: 353, 376: 32, 377: 1243, 378: 1897, 379: 1171, 380: 3786, 381: 34, 382: 357, 383: 36, 384: 714, 385: 2406, 386: 1101, 387: 3717, 388: 1030, 389: 1688, 390: 364, 391: 3501, 392: 3072, 393: 3074, 394: 3508, 395: 1043, 396: 597, 397: 383, 398: 2506, 399: 3524, 400: 1569, 401: 2082, 402: 3600, 403: 3604, 404: 2802, 405: 3536, 406: 3753, 407: 3682, 408: 2017, 409: 3685, 410: 3610, 411: 1296, 412: 838, 413: 1007, 414: 1947, 415: 2966, 416: 266, 417: 17, 418: 1441, 419: 1088, 420: 912, 421: 199, 422: 1806, 423: 2469, 424: 2100, 425: 1959, 426: 1380, 427: 569, 428: 1674, 429: 3565, 430: 861, 431: 1997, 432: 1573, 433: 474, 434: 1221, 435: 2336, 436: 3425, 437: 1393, 438: 1682, 439: 508, 440: 3213, 441: 42, 442: 650, 443: 3500, 444: 3148, 445: 2702, 446: 1476, 447: 1693, 448: 151, 449: 510, 450: 4, 451: 1621, 452: 3155, 453: 58, 454: 2712, 455: 2429, 456: 1840, 457: 1916, 458: 1488, 459: 230, 460: 1120, 461: 161, 462: 1411, 463: 524, 464: 1059, 465: 454, 466: 1701, 467: 1274, 468: 741, 469: 1277, 470: 1639, 471: 3528, 472: 2297, 473: 465, 474: 1711, 475: 538, 476: 393, 477: 2442, 478: 73, 479: 3246, 480: 3173, 481: 105, 482: 253, 483: 3250, 484: 3252, 485: 476, 486: 111, 487: 3259, 488: 1589, 489: 2023, 490: 14, 491: 337, 492: 2314, 493: 2600, 494: 269, 495: 555, 496: 1660, 497: 3265, 498: 1735, 499: 3481, 500: 2686, 501: 2688, 502: 345, 503: 2320, 504: 25, 505: 2324, 506: 2329, 507: 1810, 508: 2541, 509: 1673, 510: 1678, 511: 1027, 512: 2699, 513: 282, 514: 367, 515: 223, 516: 3298, 517: 3948, 518: 805, 519: 3510, 520: 300, 521: 1777, 522: 3301, 523: 1343, 524: 3160, 525: 529, 526: 3452, 527: 1060, 528: 1356, 529: 1358, 530: 3178, 531: 3751, 532: 3826, 533: 3755, 534: 2302, 535: 1148, 536: 2166, 537: 3253, 538: 1584, 539: 1223, 540: 1446, 541: 3623, 542: 778, 543: 1669, 544: 3484, 545: 3916, 546: 1233, 547: 1307, 548: 3270, 549: 1310, 550: 428, 551: 2622, 552: 3358, 553: 3359, 554: 1756, 555: 1320, 556: 2124, 557: 2125, 558: 2054, 559: 1252, 560: 1254, 561: 3869, 562: 1256, 563: 1257, 564: 1831, 565: 3363, 566: 586, 567: 587, 568: 3438, 569: 3439, 570: 3296, 571: 2496, 572: 2497, 573: 2, 574: 2498, 575: 153, 576: 7, 577: 2133, 578: 2135, 579: 2136, 580: 2137, 581: 802, 582: 2138, 583: 1409, 584: 1339, 585: 1269, 586: 2640, 587: 592, 588: 596, 589: 3447, 590: 1918, 591: 2140, 592: 2072, 593: 1271, 594: 1345, 595: 2077, 596: 2078, 597: 1276, 598: 743, 599: 671, 600: 1278, 601: 3525, 602: 1927, 603: 2657, 604: 3388, 605: 316, 606: 317, 607: 248, 608: 2080, 609: 1282, 610: 1283, 611: 750, 612: 2087, 613: 1286, 614: 3608, 615: 2662, 616: 3466, 617: 2300, 618: 180, 619: 329, 620: 3034, 621: 186, 622: 2161, 623: 3037, 624: 2090, 625: 3039, 626: 2091, 627: 830, 628: 2093, 629: 904, 630: 2094, 631: 1292, 632: 2096, 633: 1294, 634: 765, 635: 2746, 636: 1009, 637: 1948, 638: 333, 639: 339, 640: 2316, 641: 1371, 642: 2174, 643: 1374, 644: 1375, 645: 915, 646: 1376, 647: 1377, 648: 916, 649: 918, 650: 1012, 651: 2826, 652: 3629, 653: 1015, 654: 1016, 655: 1019, 656: 3489, 657: 344, 658: 275, 659: 2252, 660: 277, 661: 923, 662: 924, 663: 3701, 664: 3703, 665: 926, 666: 3704, 667: 1020, 668: 784, 669: 858, 670: 1023, 671: 1025, 672: 2693, 673: 1967, 674: 351, 675: 2405, 676: 2407, 677: 3066, 678: 2193, 679: 932, 680: 1031, 681: 1104, 682: 1032, 683: 435, 684: 943, 685: 3723, 686: 1042, 687: 370, 688: 2423, 689: 3153, 690: 2424, 691: 3086, 692: 3087, 693: 953, 694: 954, 695: 3591, 696: 2863, 697: 3593, 698: 1125, 699: 520, 700: 3668, 701: 2795, 702: 1129, 703: 2431, 704: 62, 705: 3309, 706: 1633, 707: 2436, 708: 3097, 709: 3099, 710: 3812, 711: 2000, 712: 963, 713: 2001, 714: 1200, 715: 2003, 716: 1203, 717: 2005, 718: 1204, 719: 969, 720: 2872, 721: 3675, 722: 2946, 723: 898, 724: 2009, 725: 2874, 726: 899, 727: 1135, 728: 2948, 729: 539, 730: 2371, 731: 3247, 732: 3174, 733: 3175, 734: 2375, 735: 2378, 736: 971, 737: 2011, 738: 2012, 739: 2015, 740: 1215, 741: 1073, 742: 3688, 743: 541, 744: 542, 745: 543, 746: 3254, 747: 2453, 748: 2529, 749: 1654, 750: 1583, 751: 3189, 752: 116, 753: 1586, 754: 2021, 755: 1220, 756: 1080, 757: 2967, 758: 2968, 759: 2530, 760: 3264, 761: 3194, 762: 2393, 763: 3198, 764: 2399, 765: 1302, 766: 1230, 767: 2105, 768: 2033, 769: 2108, 770: 1234, 771: 2109, 772: 1091, 773: 3347, 774: 203, 775: 1676, 776: 208, 777: 2111, 778: 2040, 779: 2041, 780: 3928, 781: 2043, 782: 2045, 783: 2046, 784: 2047, 785: 2049, 786: 1753, 787: 216, 788: 2706, 789: 2639, 790: 2710, 791: 663, 792: 3448, 793: 231, 794: 2076, 795: 246, 796: 249, 797: 1288, 798: 3396, 799: 3101, 800: 2598, 801: 2306, 802: 764, 803: 342, 804: 1887, 805: 2325, 806: 3129, 807: 2907, 808: 788, 809: 2766, 810: 2335, 811: 1461, 812: 3146, 813: 1546, 814: 440, 815: 441, 816: 2507, 817: 1563, 818: 1498, 819: 2883, 820: 3182, 821: 85, 822: 88, 823: 986, 824: 481, 825: 2539, 826: 1665, 827: 2106, 828: 708, 829: 3362, 830: 813, 831: 3897, 832: 934, 833: 3658, 834: 1303, 835: 999, 836: 2616, 837: 3785, 838: 1331, 839: 1262, 840: 2641, 841: 3036, 842: 3479, 843: 10, 844: 2822, 845: 3494, 846: 421, 847: 3070, 848: 2414, 849: 1479, 850: 517, 851: 952, 852: 60, 853: 3745, 854: 2370, 855: 1216, 856: 2528, 857: 1587, 858: 3269, 859: 3417, 860: 3354, 861: 1263, 862: 2572, 863: 2731, 864: 3033, 865: 2243, 866: 2694, 867: 2920, 868: 1982, 869: 2976, 870: 2485, 871: 141, 872: 3798, 873: 2707, 874: 2567, 875: 3004, 876: 3005, 877: 2719, 878: 160, 879: 748, 880: 2724, 881: 2581, 882: 1783, 883: 1422, 884: 3461, 885: 3535, 886: 257, 887: 832, 888: 762, 889: 2676, 890: 1883, 891: 2763, 892: 3566, 893: 2764, 894: 1892, 895: 1608, 896: 1396, 897: 2840, 898: 2841, 899: 3646, 900: 500, 901: 3145, 902: 2272, 903: 2273, 904: 1619, 905: 1625, 906: 1487, 907: 1702, 908: 2433, 909: 70, 910: 1644, 911: 1645, 912: 2882, 913: 2387, 914: 2389, 915: 2961, 916: 553, 917: 628, 918: 3261, 919: 2605, 920: 1804, 921: 1805, 922: 2391, 923: 2394, 924: 3773, 925: 1092, 926: 1672, 927: 2555, 928: 2629, 929: 2701, 930: 2568, 931: 2713, 932: 1911, 933: 3516, 934: 2643, 935: 2720, 936: 2722, 937: 2805, 938: 2828, 939: 2761, 940: 2856, 941: 2369, 942: 2888, 943: 2392, 944: 2975, 945: 1179, 946: 2553, 947: 2554, 948: 3932, 949: 3863, 950: 1185, 951: 3503, 952: 3879, 953: 3375, 954: 1779, 955: 164, 956: 3457, 957: 319, 958: 247, 959: 1428, 960: 1284, 961: 2660, 962: 2661, 963: 2663, 964: 2664, 965: 2667, 966: 2668, 967: 3032, 968: 2311, 969: 2173, 970: 198, 971: 2752, 972: 340, 973: 3700, 974: 2901, 975: 3638, 976: 30, 977: 1601, 978: 3713, 979: 2912, 980: 3576, 981: 503, 982: 293, 983: 1614, 984: 2346, 985: 942, 986: 446, 987: 1624, 988: 3156, 989: 2287, 990: 2288, 991: 3662, 992: 3594, 993: 3300, 994: 1206, 995: 1069, 996: 76, 997: 2377, 998: 2010, 999: 3827, 1000: 610, 1001: 1077, 1002: 2526, 1003: 2527, 1004: 2454, 1005: 2455, 1006: 3696, 1007: 2533, 1008: 1301, 1009: 707, 1010: 2613, 1011: 2542, 1012: 496, 1013: 2549, 1014: 1748, 1015: 3927, 1016: 2116, 1017: 2117, 1018: 2985, 1019: 2989, 1020: 2123, 1021: 2052, 1022: 2993, 1023: 1186, 1024: 222, 1025: 158, 1026: 3877, 1027: 2139, 1028: 3440, 1029: 737, 1030: 2718, 1031: 2573, 1032: 302, 1033: 232, 1034: 2141, 1035: 2142, 1036: 168, 1037: 2143, 1038: 2145, 1039: 1344, 1040: 3889, 1041: 1275, 1042: 3526, 1043: 313, 1044: 2153, 1045: 2083, 1046: 2085, 1047: 2089, 1048: 2807, 1049: 2739, 1050: 3397, 1051: 3398, 1052: 3399, 1053: 327, 1054: 1367, 1055: 839, 1056: 1005, 1057: 405, 1058: 1876, 1059: 261, 1060: 262, 1061: 2248, 1062: 1013, 1063: 1882, 1064: 1956, 1065: 26, 1066: 2253, 1067: 3705, 1068: 3633, 1069: 3635, 1070: 1960, 1071: 3639, 1072: 2402, 1073: 2404, 1074: 1606, 1075: 1391, 1076: 1033, 1077: 291, 1078: 44, 1079: 2348, 1080: 940, 1081: 2421, 1082: 2422, 1083: 1126, 1084: 1562, 1085: 1499, 1086: 1064, 1087: 532, 1088: 466, 1089: 2373, 1090: 2014, 1091: 2953, 1092: 2019, 1093: 616, 1094: 546, 1095: 2450, 1096: 475, 1097: 86, 1098: 2020, 1099: 2025, 1100: 2893, 1101: 3698, 1102: 485, 1103: 1591, 1104: 1739, 1105: 3911, 1106: 1094, 1107: 493, 1108: 2042, 1109: 1242, 1110: 3930, 1111: 1321, 1112: 2990, 1113: 2991, 1114: 1327, 1115: 1258, 1116: 2633, 1117: 2638, 1118: 1407, 1119: 1334, 1120: 2064, 1121: 2644, 1122: 2646, 1123: 2647, 1124: 2574, 1125: 1772, 1126: 2648, 1127: 2649, 1128: 1340, 1129: 2653, 1130: 1350, 1131: 2160, 1132: 330, 1133: 1373, 1134: 842, 1135: 785, 1136: 2836, 1137: 420, 1138: 3208, 1139: 2338, 1140: 2195, 1141: 1974, 1142: 879, 1143: 2782, 1144: 2789, 1145: 3082, 1146: 2860, 1147: 2790, 1148: 3596, 1149: 1994, 1150: 2502, 1151: 2367, 1152: 2296, 1153: 2004, 1154: 2949, 1155: 1717, 1156: 2376, 1157: 3752, 1158: 1219, 1159: 3325, 1160: 1655, 1161: 2103, 1162: 3273, 1163: 1694, 1164: 1468, 1165: 585, 1166: 3000, 1167: 2800, 1168: 3053, 1169: 3268, 1170: 3774, 1171: 3355, 1172: 1754, 1173: 145, 1174: 1689, 1175: 2122, 1176: 2134, 1177: 1405, 1178: 3017, 1179: 1347, 1180: 818, 1181: 3450, 1182: 678, 1183: 312, 1184: 173, 1185: 2150, 1186: 1425, 1187: 3896, 1188: 1799, 1189: 256, 1190: 185, 1191: 2163, 1192: 1438, 1193: 833, 1194: 2671, 1195: 910, 1196: 2249, 1197: 771, 1198: 849, 1199: 3120, 1200: 3052, 1201: 2189, 1202: 786, 1203: 429, 1204: 2263, 1205: 2265, 1206: 1034, 1207: 798, 1208: 799, 1209: 1037, 1210: 3210, 1211: 2413, 1212: 2416, 1213: 1047, 1214: 3660, 1215: 3661, 1216: 2792, 1217: 1991, 1218: 2794, 1219: 65, 1220: 1205, 1221: 3243, 1222: 2374, 1223: 473, 1224: 81, 1225: 3258, 1226: 112, 1227: 3835, 1228: 1222, 1229: 3917, 1230: 2478, 1231: 1248, 1232: 1249, 1233: 3420, 1234: 3505, 1235: 1189, 1236: 3507, 1237: 3435, 1238: 659, 1239: 2202, 1240: 1267, 1241: 1199, 1242: 2642, 1243: 1845, 1244: 3952, 1245: 2148, 1246: 2149, 1247: 3521, 1248: 674, 1249: 2726, 1250: 2808, 1251: 3104, 1252: 187, 1253: 903, 1254: 3618, 1255: 3474, 1256: 11, 1257: 2241, 1258: 3044, 1259: 196, 1260: 911, 1261: 2176, 1262: 3551, 1263: 3556, 1264: 1958, 1265: 2322, 1266: 2259, 1267: 1388, 1268: 3634, 1269: 3708, 1270: 1965, 1271: 2409, 1272: 2917, 1273: 431, 1274: 2410, 1275: 2411, 1276: 45, 1277: 2419, 1278: 951, 1279: 521, 1280: 3740, 1281: 3741, 1282: 2511, 1283: 1212, 1284: 1218, 1285: 3763, 1286: 1227, 1287: 556, 1288: 3338, 1289: 125, 1290: 3770, 1291: 1306, 1292: 2973, 1293: 3920, 1294: 1313, 1295: 2118, 1296: 2119, 1297: 3424, 1298: 3361, 1299: 2132, 1300: 303, 1301: 2144, 1302: 175, 1303: 2301, 1304: 2245, 1305: 2757, 1306: 3707, 1307: 425, 1308: 2915, 1309: 372, 1310: 2352, 1311: 1057, 1312: 468, 1313: 1663, 1314: 2709, 1315: 157, 1316: 1920, 1317: 688, 1318: 3676, 1319: 3422, 1320: 3423, 1321: 719, 1322: 3426, 1323: 3287, 1324: 2558, 1325: 217, 1326: 2053, 1327: 2059, 1328: 724, 1329: 3502, 1330: 3506, 1331: 3360, 1332: 1833, 1333: 3, 1334: 5, 1335: 804, 1336: 3441, 1337: 234, 1338: 236, 1339: 237, 1340: 2146, 1341: 673, 1342: 315, 1343: 2154, 1344: 1285, 1345: 252, 1346: 3614, 1347: 1298, 1348: 3543, 1349: 1003, 1350: 694, 1351: 3040, 1352: 2313, 1353: 267, 1354: 195, 1355: 2247, 1356: 1880, 1357: 413, 1358: 416, 1359: 1888, 1360: 276, 1361: 278, 1362: 3056, 1363: 1381, 1364: 1457, 1365: 852, 1366: 2906, 1367: 1021, 1368: 350, 1369: 424, 1370: 3130, 1371: 2403, 1372: 3206, 1373: 3063, 1374: 2261, 1375: 38, 1376: 2262, 1377: 1463, 1378: 1390, 1379: 2266, 1380: 2269, 1381: 1100, 1382: 432, 1383: 2779, 1384: 361, 1385: 2412, 1386: 1541, 1387: 3219, 1388: 2418, 1389: 3584, 1390: 511, 1391: 518, 1392: 445, 1393: 2420, 1394: 3152, 1395: 378, 1396: 1556, 1397: 3590, 1398: 450, 1399: 2798, 1400: 381, 1401: 455, 1402: 1703, 1403: 3308, 1404: 64, 1405: 3098, 1406: 2942, 1407: 2875, 1408: 605, 1409: 609, 1410: 463, 1411: 1713, 1412: 1640, 1413: 467, 1414: 74, 1415: 3248, 1416: 2447, 1417: 2950, 1418: 3684, 1419: 3686, 1420: 612, 1421: 540, 1422: 3689, 1423: 471, 1424: 472, 1425: 2459, 1426: 1588, 1427: 118, 1428: 3690, 1429: 550, 1430: 3331, 1431: 3263, 1432: 487, 1433: 2463, 1434: 94, 1435: 122, 1436: 1593, 1437: 3846, 1438: 491, 1439: 3274, 1440: 2473, 1441: 499, 1442: 207, 1443: 135, 1444: 1180, 1445: 3364, 1446: 2066, 1447: 3469, 1448: 905, 1449: 922, 1450: 2186, 1451: 930, 1452: 947, 1453: 3730, 1454: 955, 1455: 528, 1456: 3683, 1457: 1237, 1458: 2550, 1459: 144, 1460: 901, 1461: 906, 1462: 3548, 1463: 334, 1464: 846, 1465: 928, 1466: 1208, 1467: 1224, 1468: 3366, 1469: 3370, 1470: 1785, 1471: 3102, 1472: 3062, 1473: 3726, 1474: 2363, 1475: 2944, 1476: 3836, 1477: 3769, 1478: 1085, 1479: 3405, 1480: 2534, 1481: 3197, 1482: 494, 1483: 1176, 1484: 3943, 1485: 3949, 1486: 1922, 1487: 3554, 1488: 1041, 1489: 1657, 1490: 2544, 1491: 2208, 1492: 2065, 1493: 3012, 1494: 3022, 1495: 3028, 1496: 1281, 1497: 3462, 1498: 1937, 1499: 1297, 1500: 2747, 1501: 921, 1502: 3200, 1503: 933, 1504: 3640, 1505: 1976, 1506: 946, 1507: 2922, 1508: 2780, 1509: 3088, 1510: 957, 1511: 2935, 1512: 2936, 1513: 3096, 1514: 961, 1515: 2870, 1516: 3244, 1517: 1235, 1518: 3341, 1519: 3349, 1520: 3429, 1521: 3286, 1522: 28, 1523: 3159, 1524: 3821, 1525: 3787, 1526: 1680, 1527: 3935, 1528: 1183, 1529: 3504, 1530: 2637, 1531: 2565, 1532: 154, 1533: 1699, 1534: 2206, 1535: 1333, 1536: 3018, 1537: 3019, 1538: 2071, 1539: 1272, 1540: 1348, 1541: 2650, 1542: 2303, 1543: 1295, 1544: 907, 1545: 1299, 1546: 3546, 1547: 2817, 1548: 2674, 1549: 1946, 1550: 3110, 1551: 3111, 1552: 2178, 1553: 1017, 1554: 3121, 1555: 2183, 1556: 927, 1557: 3498, 1558: 3203, 1559: 3204, 1560: 1464, 1561: 931, 1562: 2344, 1563: 2921, 1564: 949, 1565: 3727, 1566: 2926, 1567: 3587, 1568: 3733, 1569: 2932, 1570: 2867, 1571: 3599, 1572: 3230, 1573: 3167, 1574: 3169, 1575: 2941, 1576: 1130, 1577: 1061, 1578: 3681, 1579: 3760, 1580: 3693, 1581: 1152, 1582: 1086, 1583: 2467, 1584: 1300, 1585: 3844, 1586: 1231, 1587: 3340, 1588: 2612, 1589: 565, 1590: 3271, 1591: 2983, 1592: 1835, 1593: 3387, 1594: 837, 1595: 1895, 1596: 3712, 1597: 3597, 1598: 2796, 1599: 2432, 1600: 2379, 1601: 2380, 1602: 2382, 1603: 2383, 1604: 2471, 1605: 1251, 1606: 2708, 1607: 1760, 1608: 3365, 1609: 155, 1610: 3871, 1611: 803, 1612: 1264, 1613: 3512, 1614: 2575, 1615: 1419, 1616: 824, 1617: 2088, 1618: 2732, 1619: 3467, 1620: 2238, 1621: 2239, 1622: 3473, 1623: 3549, 1624: 1949, 1625: 2171, 1626: 2682, 1627: 3567, 1628: 1964, 1629: 3060, 1630: 2331, 1631: 3061, 1632: 863, 1633: 2919, 1634: 3649, 1635: 945, 1636: 3725, 1637: 948, 1638: 3091, 1639: 965, 1640: 3320, 1641: 1078, 1642: 2385, 1643: 3831, 1644: 1081, 1645: 2969, 1646: 123, 1647: 1162, 1648: 2611, 1649: 2474, 1650: 3852, 1651: 1172, 1652: 3788, 1653: 1827, 1654: 233, 1655: 172, 1656: 178, 1657: 2155, 1658: 2815, 1659: 1875, 1660: 3480, 1661: 2250, 1662: 3706, 1663: 1963, 1664: 1603, 1665: 2334, 1666: 1395, 1667: 2774, 1668: 507, 1669: 3142, 1670: 1616, 1671: 449, 1672: 1480, 1673: 1147, 1674: 3697, 1675: 3196, 1676: 2972, 1677: 2540, 1678: 3864, 1679: 1977, 1680: 1353, 1681: 691, 1682: 2677, 1683: 13, 1684: 779, 1685: 1894, 1686: 46, 1687: 1620, 1688: 92, 1689: 490, 1690: 2772, 1691: 3157, 1692: 2027, 1693: 3519, 1694: 2669, 1695: 258, 1696: 2816, 1697: 2748, 1698: 3628, 1699: 3643, 1700: 2430, 1701: 897, 1702: 976, 1703: 2524, 1704: 3406, 1705: 2537, 1706: 3412, 1707: 1658, 1708: 2546, 1709: 3937, 1710: 1924, 1711: 1518, 1712: 3555, 1713: 2681, 1714: 2408, 1715: 379, 1716: 3802, 1717: 880, 1718: 3807, 1719: 66, 1720: 3758, 1721: 2520, 1722: 2456, 1723: 1590, 1724: 2034, 1725: 3780, 1726: 2986, 1727: 3011, 1728: 2097, 1729: 3612, 1730: 1952, 1731: 2846, 1732: 1983, 1733: 1984, 1734: 1985, 1735: 1986, 1736: 891, 1737: 107, 1738: 3251, 1739: 2460, 1740: 2461, 1741: 2462, 1742: 3771, 1743: 2107, 1744: 2110, 1745: 1821, 1746: 3284, 1747: 140, 1748: 218, 1749: 3436, 1750: 2491, 1751: 2492, 1752: 2205, 1753: 3873, 1754: 3874, 1755: 1914, 1756: 305, 1757: 1414, 1758: 1782, 1759: 753, 1760: 2738, 1761: 900, 1762: 2168, 1763: 3540, 1764: 909, 1765: 697, 1766: 3045, 1767: 1014, 1768: 2829, 1769: 1018, 1770: 1453, 1771: 1600, 1772: 355, 1773: 35, 1774: 287, 1775: 289, 1776: 2339, 1777: 1398, 1778: 937, 1779: 2849, 1780: 2415, 1781: 2417, 1782: 3076, 1783: 371, 1784: 447, 1785: 2426, 1786: 2356, 1787: 1632, 1788: 2292, 1789: 3814, 1790: 2443, 1791: 469, 1792: 1571, 1793: 2884, 1794: 1226, 1795: 1083, 1796: 489, 1797: 2468, 1798: 1666, 1799: 2037, 1800: 633, 1801: 492, 1802: 566, 1803: 205, 1804: 1677, 1805: 3280, 1806: 3939, 1807: 847, 1808: 1969, 1809: 1102, 1810: 1970, 1811: 1971, 1812: 1972, 1813: 1973, 1814: 1975, 1815: 1978, 1816: 1979, 1817: 366, 1818: 1980, 1819: 1981, 1820: 3677, 1821: 2523, 1822: 575, 1823: 2050, 1824: 599, 1825: 2152, 1826: 1359, 1827: 829, 1828: 835, 1829: 836, 1830: 1526, 1831: 1459, 1832: 2401, 1833: 1602, 1834: 1474, 1835: 3404, 1836: 2531, 1837: 2532, 1838: 991, 1839: 996, 1840: 1752, 1841: 1762, 1842: 239, 1843: 170, 1844: 1931, 1845: 1797, 1846: 3615, 1847: 1944, 1848: 3477, 1849: 336, 1850: 15, 1851: 19, 1852: 1010, 1853: 1011, 1854: 3483, 1855: 2827, 1856: 410, 1857: 346, 1858: 419, 1859: 423, 1860: 280, 1861: 360, 1862: 2857, 1863: 513, 1864: 514, 1865: 516, 1866: 374, 1867: 54, 1868: 376, 1869: 453, 1870: 533, 1871: 534, 1872: 2016, 1873: 2965, 1874: 486, 1875: 3926, 1876: 159, 1877: 1054, 1878: 89, 1879: 3861, 1880: 3509, 1881: 3390, 1882: 3616, 1883: 23, 1884: 2007, 1885: 1337, 1886: 2500, 1887: 3617, 1888: 3553, 1889: 886, 1890: 93, 1891: 1177, 1892: 571, 1893: 718, 1894: 2120, 1895: 1184, 1896: 580, 1897: 1190, 1898: 735, 1899: 1342, 1900: 1417, 1901: 1352, 1902: 1280, 1903: 2232, 1904: 2162, 1905: 2165, 1906: 1290, 1907: 1365, 1908: 766, 1909: 2315, 1910: 1522, 1911: 2328, 1912: 2264, 1913: 3067, 1914: 1609, 1915: 1611, 1916: 3078, 1917: 2349, 1918: 1623, 1919: 1627, 1920: 1483, 1921: 950, 1922: 3307, 1923: 3092, 1924: 893, 1925: 2517, 1926: 100, 1927: 3179, 1928: 1648, 1929: 3326, 1930: 1726, 1931: 2606, 1932: 126, 1933: 3342, 1934: 1816, 1935: 3285, 1936: 1686, 1937: 148, 1938: 3437, 1939: 1769, 1940: 1913, 1941: 1848, 1942: 307, 1943: 309, 1944: 242, 1945: 177, 1946: 3605, 1947: 3464, 1948: 1861, 1949: 3393, 1950: 322, 1951: 326, 1952: 184, 1953: 259, 1954: 188, 1955: 3478, 1956: 190, 1957: 193, 1958: 18, 1959: 268, 1960: 3620, 1961: 3550, 1962: 2750, 1963: 1950, 1964: 3557, 1965: 341, 1966: 415, 1967: 22, 1968: 427, 1969: 281, 1970: 358, 1971: 3571, 1972: 436, 1973: 290, 1974: 365, 1975: 2851, 1976: 2781, 1977: 2787, 1978: 519, 1979: 448, 1980: 55, 1981: 1051, 1982: 2793, 1983: 522, 1984: 382, 1985: 456, 1986: 3747, 1987: 1211, 1988: 2956, 1989: 611, 1990: 617, 1991: 3764, 1992: 482, 1993: 3918, 1994: 3919, 1995: 1305, 1996: 2038, 1997: 561, 1998: 2112, 1999: 2114, 2000: 1173, 2001: 3049, 2002: 3217, 2003: 2788, 2004: 3672, 2005: 2786, 2006: 3794, 2007: 3797, 2008: 2310, 2009: 3820, 2010: 3694, 2011: 1228, 2012: 2057, 2013: 3024, 2014: 695, 2015: 2184, 2016: 2364, 2017: 2365, 2018: 3328, 2019: 2615, 2020: 1862, 2021: 2744, 2022: 3663, 2023: 3664, 2024: 392, 2025: 2891, 2026: 3923, 2027: 1311, 2028: 2147, 2029: 1421, 2030: 3201, 2031: 3134, 2032: 3224, 2033: 3089, 2034: 959, 2035: 978, 2036: 3185, 2037: 3414, 2038: 3350, 2039: 314, 2040: 1935, 2041: 3545, 2042: 2670, 2043: 1951, 2044: 3655, 2045: 3808, 2046: 3811, 2047: 3742, 2048: 3816, 2049: 1066, 2050: 615, 2051: 3910, 2052: 1241, 2053: 113, 2054: 1731, 2055: 2583, 2056: 3882, 2057: 3238, 2058: 3316, 2059: 3190, 2060: 3511, 2061: 3564, 2062: 3743, 2063: 3908, 2064: 3784, 2065: 3789, 2066: 2130, 2067: 1401, 2068: 806, 2069: 2069, 2070: 664, 2071: 2212, 2072: 3015, 2073: 2079, 2074: 3103, 2075: 3109, 2076: 1432, 2077: 1363, 2078: 1366, 2079: 2177, 2080: 848, 2081: 1450, 2082: 782, 2083: 929, 2084: 2341, 2085: 1477, 2086: 1629, 2087: 956, 2088: 2435, 2089: 2290, 2090: 960, 2091: 3317, 2092: 974, 2093: 1727, 2094: 2457, 2095: 3330, 2096: 2472, 2097: 132, 2098: 3430, 2099: 225, 2100: 3518, 2101: 3529, 2102: 2729, 2103: 3602, 2104: 1934, 2105: 1938, 2106: 254, 2107: 182, 2108: 3613, 2109: 2819, 2110: 2820, 2111: 2755, 2112: 418, 2113: 279, 2114: 437, 2115: 3724, 2116: 3729, 2117: 1050, 2118: 3738, 2119: 2939, 2120: 451, 2121: 2940, 2122: 1209, 2123: 78, 2124: 79, 2125: 82, 2126: 1082, 2127: 3841, 2128: 1161, 2129: 630, 2130: 1099, 2131: 3929, 2132: 640, 2133: 3007, 2134: 3115, 2135: 2505, 2136: 1707, 2137: 166, 2138: 2596, 2139: 2672, 2140: 2678, 2141: 1416, 2142: 2913, 2143: 9, 2144: 2803, 2145: 1919, 2146: 637, 2147: 973, 2148: 1939, 2149: 2929, 2150: 3112, 2151: 3069, 2152: 1926, 2153: 2690, 2154: 2434, 2155: 2439, 2156: 1904, 2157: 40, 2158: 2995, 2159: 43, 2160: 2979, 2161: 1187, 2162: 3124, 2163: 8, 2164: 692, 2165: 2170, 2166: 2196, 2167: 2448, 2168: 990, 2169: 2625, 2170: 3444, 2171: 240, 2172: 1858, 2173: 1004, 2174: 2879, 2175: 464, 2176: 3767, 2177: 3768, 2178: 704, 2179: 869, 2180: 2357, 2181: 577, 2182: 801, 2183: 2092, 2184: 3054, 2185: 1460, 2186: 1551, 2187: 2354, 2188: 1489, 2189: 885, 2190: 1495, 2191: 1582, 2192: 3400, 2193: 1592, 2194: 2559, 2195: 146, 2196: 238, 2197: 169, 2198: 181, 2199: 502, 2200: 362, 2201: 87, 2202: 2899, 2203: 558, 2204: 700, 2205: 2036, 2206: 631, 2207: 634, 2208: 709, 2209: 711, 2210: 3946, 2211: 3898, 2212: 3710, 2213: 536, 2214: 3783, 2215: 2771, 2216: 1131, 2217: 3282, 2218: 2499, 2219: 156, 2220: 3606, 2221: 1871, 2222: 417, 2223: 1024, 2224: 298, 2225: 72, 2226: 84, 2227: 2971, 2228: 568, 2229: 2873, 2230: 2024, 2231: 1178, 2232: 1260, 2233: 3093, 2234: 2924, 2235: 69, 2236: 2519, 2237: 2861, 2238: 941, 2239: 3324, 2240: 3299, 2241: 3825, 2242: 3914, 2243: 3859, 2244: 754, 2245: 3118, 2246: 583, 2247: 2157, 2248: 826, 2249: 2347, 2250: 3384, 2251: 438, 2252: 1112, 2253: 390, 2254: 2927, 2255: 2060, 2256: 1437, 2257: 2190, 2258: 3141, 2259: 2279, 2260: 993, 2261: 2582, 2262: 12, 2263: 294, 2264: 373, 2265: 63, 2266: 2880, 2267: 477, 2268: 2073, 2269: 1238, 2270: 810, 2271: 3895, 2272: 2084, 2273: 2169, 2274: 1605, 2275: 3225, 2276: 1595, 2277: 1750, 2278: 2566, 2279: 3515, 2280: 2714, 2281: 3453, 2282: 3454, 2283: 1881, 2284: 2876, 2285: 3824, 2286: 2102, 2287: 3776, 2288: 2978, 2289: 2048, 2290: 667, 2291: 1599, 2292: 2476, 2293: 204, 2294: 1681, 2295: 2818, 2296: 3933, 2297: 1349, 2298: 3837, 2299: 1542, 2300: 2203, 2301: 3870, 2302: 2204, 2303: 2210, 2304: 1507, 2305: 936, 2306: 944, 2307: 1596, 2308: 1929, 2309: 1936, 2310: 1940, 2311: 2904, 2312: 3736, 2313: 2937, 2314: 1824, 2315: 2938, 2316: 3901, 2317: 2535, 2318: 3936, 2319: 71, 2320: 3791, 2321: 3872, 2322: 851, 2323: 3177, 2324: 3357, 2325: 1755, 2326: 3580, 2327: 2877, 2328: 3754, 2329: 3915, 2330: 2285, 2331: 998, 2332: 3029, 2333: 1515, 2334: 2181, 2335: 1661, 2336: 1925, 2337: 1942, 2338: 1167, 2339: 3938, 2340: 3913, 2341: 3925, 2342: 2098, 2343: 2231, 2344: 2280, 2345: 1860, 2346: 1325, 2347: 2182, 2348: 3883, 2349: 3327, 2350: 2099, 2351: 3537, 2352: 1995, 2353: 2121, 2354: 1322, 2355: 1326, 2356: 1328, 2357: 1329, 2358: 3941, 2359: 3942, 2360: 3013, 2361: 2327, 2362: 3138, 2363: 2368, 2364: 2515, 2365: 2451, 2366: 2525, 2367: 3403, 2368: 2634, 2369: 2635, 2370: 2645, 2371: 2652, 2372: 2736, 2373: 2665, 2374: 324, 2375: 251, 2376: 328, 2377: 332, 2378: 407, 2379: 273, 2380: 3491, 2381: 3659, 2382: 1987, 2383: 1988, 2384: 3806, 2385: 1992, 2386: 1128, 2387: 1993, 2388: 1996, 2389: 1999, 2390: 2878, 2391: 606, 2392: 2026, 2393: 3840, 2394: 3843, 2395: 2104, 2396: 3921, 2397: 2113, 2398: 892, 2399: 241, 2400: 3538, 2401: 3934, 2402: 742, 2403: 3792, 2404: 3001, 2405: 3014, 2406: 1355, 2407: 687, 2408: 2242, 2409: 1389, 2410: 2260, 2411: 2267, 2412: 3211, 2413: 2343, 2414: 875, 2415: 3304, 2416: 2518, 2417: 101, 2418: 2381, 2419: 1807, 2420: 2551, 2421: 1841, 2422: 3389, 2423: 3465, 2424: 2741, 2425: 2745, 2426: 2749, 2427: 20, 2428: 1890, 2429: 3497, 2430: 2928, 2431: 2866, 2432: 458, 2433: 387, 2434: 603, 2435: 544, 2436: 3766, 2437: 3849, 2438: 3125, 2439: 1415, 2440: 171, 2441: 1879, 2442: 1063, 2443: 715, 2444: 3865, 2445: 3795, 2446: 3150, 2447: 2284, 2448: 2561, 2449: 1889, 2450: 2769, 2451: 3720, 2452: 3822, 2453: 3756, 2454: 3857, 2455: 3132, 2456: 3073, 2457: 3154, 2458: 3311, 2459: 1404, 2460: 1439, 2461: 1472, 2462: 1647, 2463: 1662, 2464: 1053, 2465: 384, 2466: 2458, 2467: 2654, 2468: 1855, 2469: 645, 2470: 574, 2471: 649, 2472: 665, 2473: 668, 2474: 1354, 2475: 781, 2476: 1543, 2477: 117, 2478: 2609, 2479: 3416, 2480: 211, 2481: 147, 2482: 1900, 2483: 306, 2484: 1859, 2485: 406, 2486: 2696, 2487: 2697, 2488: 2925, 2489: 3819, 2490: 3746, 2491: 535, 2492: 627, 2493: 97, 2494: 2361, 2495: 3064, 2496: 129, 2497: 1670, 2498: 3579, 2499: 3884, 2500: 3719, 2501: 512, 2502: 548, 2503: 1289, 2504: 1454, 2505: 793, 2506: 3094, 2507: 1780, 2508: 1856, 2509: 1932, 2510: 3392, 2511: 3395, 2512: 1111, 2513: 3813, 2514: 549, 2515: 2998, 2516: 2360, 2517: 213, 2518: 206, 2519: 2495, 2520: 3539, 2521: 3627, 2522: 3679, 2523: 1941, 2524: 3801, 2525: 3135, 2526: 935, 2527: 3292, 2528: 3371, 2529: 2570, 2530: 2801, 2531: 2862, 2532: 3834, 2533: 3853, 2534: 3855, 2535: 1194, 2536: 760, 2537: 1667, 2538: 808, 2539: 2086, 2540: 2240, 2541: 1445, 2542: 3214, 2543: 870, 2544: 2626, 2545: 3431, 2546: 3432, 2547: 3433, 2548: 3434, 2549: 2494, 2550: 227, 2551: 3385, 2552: 3394, 2553: 1008, 2554: 408, 2555: 338, 2556: 426, 2557: 3585, 2558: 460, 2559: 3117, 2560: 1516, 2561: 3055, 2562: 787, 2563: 3077, 2564: 3192, 2565: 3272, 2566: 3275, 2567: 2621, 2568: 1910, 2569: 308, 2570: 2730, 2571: 320, 2572: 2594, 2573: 2812, 2574: 3625, 2575: 3718, 2576: 363, 2577: 2859, 2578: 1123, 2579: 1055, 2580: 1202, 2581: 391, 2582: 3903, 2583: 3906, 2584: 3858, 2585: 759, 2586: 3860, 2587: 3950, 2588: 1502, 2589: 1539, 2590: 1612, 2591: 3302, 2592: 1564, 2593: 987, 2594: 2482, 2595: 1767, 2596: 179, 2597: 1896, 2598: 3581, 2599: 3598, 2600: 68, 2601: 3749, 2602: 3823, 2603: 2962, 2604: 1236, 2605: 638, 2606: 325, 2607: 274, 2608: 1581, 2609: 3415, 2610: 3470, 2611: 1273, 2612: 2255, 2613: 2295, 2614: 3199, 2615: 209, 2616: 271, 2617: 2905, 2618: 352, 2619: 2977, 2620: 564, 2621: 639, 2622: 1812, 2623: 1998, 2624: 2988, 2625: 2068, 2626: 670, 2627: 1361, 2628: 2330, 2629: 214, 2630: 523, 2631: 602, 2632: 83, 2633: 2022, 2634: 809, 2635: 1456, 2636: 1604, 2637: 1465, 2638: 1473, 2639: 1475, 2640: 1497, 2641: 2514, 2642: 2516, 2643: 1744, 2644: 2548, 2645: 1902, 2646: 152, 2647: 1771, 2648: 1866, 2649: 2597, 2650: 1869, 2651: 3709, 2652: 2835, 2653: 1119, 2654: 479, 2655: 2898, 2656: 98, 2657: 2974, 2658: 3782, 2659: 2996, 2660: 1255, 2661: 3520, 2662: 2656, 2663: 2666, 2664: 3592, 2665: 2035, 2666: 3922, 2667: 3924, 2668: 831, 2669: 1613, 2670: 2504, 2671: 2513, 2672: 984, 2673: 3401, 2674: 3262, 2675: 3673, 2676: 3674, 2677: 201, 2678: 876, 2679: 2372, 2680: 3329, 2681: 1728, 2682: 1928, 2683: 2587, 2684: 1930, 2685: 1933, 2686: 255, 2687: 1943, 2688: 3475, 2689: 1169, 2690: 3002, 2691: 669, 2692: 3010, 2693: 3951, 2694: 1413, 2695: 3885, 2696: 680, 2697: 3038, 2698: 3047, 2699: 2180, 2700: 854, 2701: 3075, 2702: 2351, 2703: 3235, 2704: 1631, 2705: 3090, 2706: 3241, 2707: 2512, 2708: 2440, 2709: 1572, 2710: 970, 2711: 3188, 2712: 2488, 2713: 2630, 2714: 3379, 2715: 2579, 2716: 3456, 2717: 2659, 2718: 183, 2719: 3547, 2720: 2824, 2721: 3559, 2722: 2689, 2723: 2830, 2724: 3568, 2725: 3731, 2726: 2864, 2727: 1132, 2728: 1068, 2729: 3680, 2730: 99, 2731: 2970, 2732: 1232, 2733: 3127, 2734: 2271, 2735: 3281, 2736: 2590, 2737: 1044, 2738: 3041, 2739: 3391, 2740: 3715, 2741: 3144, 2742: 1825, 2743: 31, 2744: 1323, 2745: 2475, 2746: 3449, 2747: 2552, 2748: 573, 2749: 2994, 2750: 3008, 2751: 685, 2752: 3128, 2753: 1397, 2754: 1399, 2755: 2276, 2756: 1547, 2757: 1482, 2758: 1725, 2759: 988, 2760: 2610, 2761: 1811, 2762: 2479, 2763: 2493, 2764: 2711, 2765: 301, 2766: 2679, 2767: 3711, 2768: 369, 2769: 57, 2770: 388, 2771: 613, 2772: 2963, 2773: 621, 2774: 483, 2775: 3839, 2776: 409, 2777: 1062, 2778: 3886, 2779: 761, 2780: 1626, 2781: 2614, 2782: 504, 2783: 3810, 2784: 547, 2785: 2894, 2786: 776, 2787: 137, 2788: 3909, 2789: 747, 2790: 717, 2791: 3867, 2792: 3796, 2793: 725, 2794: 3031, 2795: 2305, 2796: 1503, 2797: 767, 2798: 774, 2799: 2425, 2800: 3158, 2801: 3245, 2802: 3181, 2803: 2602, 2804: 1741, 2805: 2624, 2806: 2483, 2807: 1844, 2808: 3459, 2809: 2585, 2810: 3532, 2811: 1867, 2812: 1795, 2813: 1796, 2814: 1891, 2815: 2768, 2816: 2844, 2817: 1105, 2818: 1058, 2819: 525, 2820: 67, 2821: 80, 2822: 3902, 2823: 488, 2824: 632, 2825: 635, 2826: 495, 2827: 1646, 2828: 1550, 2829: 2445, 2830: 27, 2831: 295, 2832: 3761, 2833: 3162, 2834: 1874, 2835: 2865, 2836: 1346, 2837: 3180, 2838: 1746, 2839: 2651, 2840: 1854, 2841: 174, 2842: 191, 2843: 414, 2844: 354, 2845: 430, 2846: 433, 2847: 2889, 2848: 710, 2849: 1642, 2850: 2589, 2851: 2695, 2852: 3945, 2853: 2307, 2854: 3165, 2855: 3653, 2856: 2129, 2857: 3947, 2858: 149, 2859: 3149, 2860: 2785, 2861: 1427, 2862: 917, 2863: 1523, 2864: 1531, 2865: 2999, 2866: 1410, 2867: 2809, 2868: 1317, 2869: 2051, 2870: 2151, 2871: 3042, 2872: 3043, 2873: 3048, 2874: 2345, 2875: 2286, 2876: 3161, 2877: 964, 2878: 102, 2879: 119, 2880: 131, 2881: 3427, 2882: 1839, 2883: 1857, 2884: 1863, 2885: 3622, 2886: 2685, 2887: 3496, 2888: 505, 2889: 444, 2890: 3804, 2891: 537, 2892: 3695, 2893: 2031, 2894: 2032, 2895: 2900, 2896: 1484, 2897: 1076, 2898: 570, 2899: 662, 2900: 1533, 2901: 1471, 2902: 877, 2903: 3187, 2904: 1585, 2905: 1664, 2906: 3343, 2907: 263, 2908: 3562, 2909: 3716, 2910: 1114, 2911: 1150, 2912: 2964, 2913: 2062, 2914: 3050, 2915: 2569, 2916: 3563, 2917: 2839, 2918: 3851, 2919: 2075, 2920: 3544, 2921: 811, 2922: 751, 2923: 1508, 2924: 3221, 2925: 958, 2926: 128, 2927: 3577, 2928: 2008, 2929: 77, 2930: 3830, 2931: 2897, 2932: 3854, 2933: 250, 2934: 1423, 2935: 844, 2936: 3215, 2937: 3222, 2938: 3171, 2939: 3714, 2940: 3586, 2941: 3734, 2942: 2704, 2943: 1382, 2944: 3139, 2945: 2477, 2946: 3367, 2947: 2655, 2948: 3487, 2949: 2902, 2950: 3732, 2951: 210, 2952: 2627, 2953: 3667, 2954: 1870, 2955: 2751, 2956: 1134, 2957: 3765, 2958: 3572, 2959: 2799, 2960: 619, 2961: 2848, 2962: 1598, 2963: 3931, 2964: 2992, 2965: 1330, 2966: 1335, 2967: 3021, 2968: 841, 2969: 3058, 2970: 3351, 2971: 2636, 2972: 2740, 2973: 3488, 2974: 2903, 2975: 3573, 2976: 2784, 2977: 3833, 2978: 3838, 2979: 3692, 2980: 2095, 2981: 3339, 2982: 2362, 2983: 2388, 2984: 3569, 2985: 652, 2986: 755, 2987: 834, 2988: 882, 2989: 3345, 2990: 2886, 2991: 3777, 2992: 1496, 2993: 656, 2994: 3119, 2995: 3318, 2996: 3335, 2997: 3344, 2998: 3346, 2999: 2545, 3000: 1743, 3001: 1695, 3002: 3490, 3003: 3651, 3004: 2855, 3005: 1989, 3006: 1990, 3007: 2868, 3008: 600, 3009: 1165, 3010: 1002, 3011: 3372, 3012: 840, 3013: 865, 3014: 867, 3015: 2446, 3016: 1679, 3017: 1822, 3018: 3531, 3019: 3645, 3020: 3669, 3021: 1164, 3022: 1362, 3023: 3446, 3024: 681, 3025: 1332, 3026: 2464, 3027: 3276, 3028: 3133, 3029: 3310, 3030: 3665, 3031: 3781, 3032: 1826, 3033: 343, 3034: 484, 3035: 2219, 3036: 2256, 3037: 726, 3038: 3106, 3039: 2237, 3040: 2521, 3041: 2386, 3042: 3289, 3043: 3445, 3044: 331, 3045: 375, 3046: 722, 3047: 3894, 3048: 1384, 3049: 2673, 3050: 2825, 3051: 2843, 3052: 1039, 3053: 2933, 3054: 1163, 3055: 1525, 3056: 3239, 3057: 1490, 3058: 3240, 3059: 243, 3060: 1798, 3061: 470, 3062: 1351, 3063: 1511, 3064: 2175, 3065: 2281, 3066: 2293, 3067: 1651, 3068: 3183, 3069: 997, 3070: 2620, 3071: 1791, 3072: 1006, 3073: 335, 3074: 422, 3075: 75, 3076: 2885, 3077: 2400, 3078: 1067, 3079: 2733, 3080: 1153, 3081: 1383, 3082: 2810, 3083: 49, 3084: 939, 3085: 1817, 3086: 1749, 3087: 3670, 3088: 124, 3089: 1659, 3090: 228, 3091: 1773, 3092: 2767, 3093: 283, 3094: 478, 3095: 2298, 3096: 881, 3097: 3626, 3098: 807, 3099: 2055, 3100: 2896, 3101: 1906, 3102: 96, 3103: 1406, 3104: 2063, 3105: 3817, 3106: 1149, 3107: 1341, 3108: 2465, 3109: 2754, 3110: 3637, 3111: 2853, 3112: 746, 3113: 2618, 3114: 3374, 3115: 106, 3116: 1809, 3117: 1455, 3118: 705, 3119: 2715, 3120: 1758, 3121: 828, 3122: 2837, 3123: 626, 3124: 1865, 3125: 3739, 3126: 2179, 3127: 3293, 3128: 3912, 3129: 2074, 3130: 1538, 3131: 3790, 3132: 3428, 3133: 2847, 3134: 2854, 3135: 3832, 3136: 3691, 3137: 2128, 3138: 1336, 3139: 2326, 3140: 2737, 3141: 3721, 3142: 2044, 3143: 2982, 3144: 2275, 3145: 1837, 3146: 1113, 3147: 1133, 3148: 347, 3149: 1720, 3150: 1440, 3151: 578, 3152: 3410, 3153: 411, 3154: 658, 3155: 2931, 3156: 2911, 3157: 3892, 3158: 3122, 3159: 3143, 3160: 3368, 3161: 2481, 3162: 2201, 3163: 2342, 3164: 1656, 3165: 1312, 3166: 1000, 3167: 212, 3168: 56, 3169: 1412, 3170: 462, 3171: 121, 3172: 3648, 3173: 1893, 3174: 716, 3175: 2586, 3176: 1579, 3177: 2522, 3178: 37, 3179: 2487, 3180: 3900, 3181: 2056, 3182: 2131, 3183: 731, 3184: 1447, 3185: 2850, 3186: 3805, 3187: 1501, 3188: 103, 3189: 2778, 3190: 1056, 3191: 61, 3192: 1903, 3193: 2486, 3194: 2834, 3195: 200, 3196: 270, 3197: 1899, 3198: 2158, 3199: 3737, 3200: 3875, 3201: 1087, 3202: 2743, 3203: 114, 3204: 3940, 3205: 443, 3206: 2211, 3207: 2227, 3208: 992, 3209: 3291, 3210: 3442, 3211: 1853, 3212: 2164, 3213: 3313, 3214: 2753, 3215: 3632, 3216: 3314, 3217: 2658, 3218: 3611, 3219: 3878, 3220: 888, 3221: 1570, 3222: 3759, 3223: 3775, 3224: 3848, 3225: 402, 3226: 3137, 3227: 576, 3228: 2631, 3229: 297, 3230: 1558, 3231: 1565, 3232: 3588, 3233: 1549, 3234: 1692, 3235: 1168, 3236: 2869, 3237: 3862, 3238: 3140, 3239: 3944, 3240: 2892, 3241: 3866, 3242: 3891, 3243: 3899, 3244: 1026, 3245: 3025, 3246: 3407, 3247: 3463, 3248: 1170, 3249: 304, 3250: 2452, 3251: 2842, 3252: 3223, 3253: 1846, 3254: 1567, 3255: 136, 3256: 3378, 3257: 3232, 3258: 1458, 3259: 2466, 3260: 2536, 3261: 386, 3262: 554, 3263: 2200, 3264: 850, 3265: 545, 3266: 1117, 3267: 614, 3268: 2577, 3269: 167, 3270: 2773, 3271: 1040, 3272: 385, 3273: 3803, 3274: 2593, 3275: 2760, 3276: 1696, 3277: 2397, 3278: 2756, 3279: 3575, 3280: 3845, 3281: 3306, 3282: 2207, 3283: 1494, 3284: 2509, 3285: 3184, 3286: 3647, 3287: 2727, 3288: 244, 3289: 2304, 3290: 2914, 3291: 2960, 3292: 2061, 3293: 2317, 3294: 2185, 3295: 2187, 3296: 1864, 3297: 734, 3298: 2215, 3299: 1493, 3300: 1829, 3301: 2675, 3302: 1151, 3303: 2510, 3304: 1793, 3305: 3570, 3306: 3026, 3307: 2156, 3308: 2251, 3309: 3880, 3310: 1668, 3311: 1814, 3312: 3495, 3313: 1514, 3314: 1561, 3315: 3319, 3316: 359, 3317: 2945, 3318: 310, 3319: 925, 3320: 1901, 3321: 2578, 3322: 59, 3323: 3523, 3324: 2283, 3325: 2449, 3326: 452, 3327: 2244, 3328: 397, 3329: 2332, 3330: 1575, 3331: 756, 3332: 2691, 3333: 2813, 3334: 2538, 3335: 2191, 3336: 792, 3337: 3218, 3338: 3402, 3339: 3800, 3340: 3850, 3341: 3333, 3342: 2981, 3343: 821, 3344: 220, 3345: 1426, 3346: 2350, 3347: 2556, 3348: 1144, 3349: 2934, 3350: 1622, 3351: 1636, 3352: 980, 3353: 814, 3354: 394, 3355: 702, 3356: 744, 3357: 2246, 3358: 1486, 3359: 1154, 3360: 1160, 3361: 1504, 3362: 2197, 3363: 1574, 3364: 33, 3365: 3574, 3366: 2775, 3367: 389, 3368: 1071, 3369: 559, 3370: 1671, 3371: 3482, 3372: 3126, 3373: 1324, 3374: 189, 3375: 1174, 3376: 1898, 3377: 108, 3378: 2758, 3379: 3209, 3380: 2192, 3381: 1519, 3382: 1098, 3383: 1369, 3384: 3151, 3385: 1038, 3386: 2923, 3387: 3027, 3388: 1433, 3389: 3847, 3390: 3757, 3391: 3772, 3392: 2257, 3393: 3492, 3394: 598, 3395: 563, 3396: 729, 3397: 730, 3398: 758, 3399: 2233, 3400: 2234, 3401: 2441, 3402: 245, 3403: 1872, 3404: 264, 3405: 3636, 3406: 1116, 3407: 672, 3408: 682, 3409: 698, 3410: 3116, 3411: 862, 3412: 2503, 3413: 895, 3414: 2557, 3415: 2705, 3416: 197, 3417: 2765, 3418: 53, 3419: 526, 3420: 90, 3421: 567, 3422: 962, 3423: 618, 3424: 2172, 3425: 120, 3426: 2209, 3427: 703, 3428: 3003, 3429: 967, 3430: 2814, 3431: 2823, 3432: 3486, 3433: 3642, 3434: 972, 3435: 641, 3436: 2608, 3437: 1444, 3438: 1850, 3439: 3657, 3440: 1138, 3441: 2776, 3442: 1436, 3443: 769, 3444: 985, 3445: 1675, 3446: 2576, 3447: 3542, 3448: 192, 3449: 2127, 3450: 887, 3451: 712, 3452: 2831, 3453: 2358, 3454: 1849, 3455: 1121, 3456: 1181, 3457: 2562, 3458: 3205, 3459: 3644, 3460: 401, 3461: 2221, 3462: 3131, 3463: 3228, 3464: 1315, 3465: 864, 3466: 219, 3467: 3294, 3468: 3305, 3469: 3380, 3470: 643, 3471: 3419, 3472: 2632, 3473: 3888, 3474: 823, 3475: 2619, 3476: 1877, 3477: 3722, 3478: 2101, 3479: 2563, 3480: 3905, 3481: 853, 3482: 3904, 3483: 1548, 3484: 1878, 3485: 666, 3486: 1360, 3487: 1364, 3488: 696, 3489: 3517, 3490: 2984, 3491: 3601, 3492: 3322, 3493: 3303, 3494: 3887, 3495: 579, 3496: 2235, 3497: 789, 3498: 796, 3499: 3212, 3500: 3216, 3501: 2277, 3502: 3220, 3503: 1630, 3504: 977, 3505: 1652, 3506: 2484, 3507: 1852, 3508: 3621, 3509: 2821, 3510: 3493, 3511: 3641, 3512: 1115, 3513: 1118, 3514: 601, 3515: 3828, 3516: 1142, 3517: 1145, 3518: 3687, 3519: 2887, 3520: 623, 3521: 644, 3522: 651, 3523: 3876, 3524: 660, 3525: 1510, 3526: 1386, 3527: 859, 3528: 3136, 3529: 1553, 3530: 3166, 3531: 3312, 3532: 1718, 3533: 3321, 3534: 142, 3535: 1908, 3536: 1764, 3537: 2584, 3538: 1787, 3539: 2742, 3540: 3778, 3541: 3283, 3542: 884, 3543: 3085, 3544: 1685, 3545: 3748, 3546: 1528, 3547: 2591, 3548: 3595, 3549: 815, 3550: 2254, 3551: 2299, 3552: 1520, 3553: 775, 3554: 1420, 3555: 684, 3556: 690, 3557: 1534, 3558: 3652, 3559: 3277, 3560: 3666, 3561: 3522, 3562: 3295, 3563: 3377, 3564: 557, 3565: 1107, 3566: 560, 3567: 3458, 3568: 706, 3569: 2226, 3570: 1815, 3571: 2444, 3572: 3353, 3573: 3288, 3574: 3352, 3575: 1770, 3576: 398, 3577: 989, 3578: 2783, 3579: 1532, 3580: 966, 3581: 874, 3582: 1886, 3583: 2592, 3584: 657, 3585: 3890, 3586: 2039, 3587: 749, 3588: 3818, 3589: 582, 3590: 642, 3591: 3297, 3592: 732, 3593: 2930, 3594: 3057, 3595: 3472, 3596: 130, 3597: 139, 3598: 2955, 3599: 655, 3600: 3485, 3601: 790, 3602: 1915, 3603: 2833, 3604: 1714, 3605: 3207, 3606: 3242, 3607: 3533, 3608: 1851, 3609: 1830, 3610: 3881, 3611: 2777, 3612: 3443, 3613: 757, 3614: 2895, 3615: 889, 3616: 1470, 3617: 981, 3618: 679, 3619: 3373, 3620: 872, 3621: 3381, 3622: 1555, 3623: 3779, 3624: 791, 3625: 3609, 3626: 1430, 3627: 1724, 3628: 2223, 3629: 3233, 3630: 3237, 3631: 3762, 3632: 3172, 3633: 3065, 3634: 3631, 3635: 1139, 3636: 3603, 3637: 3842, 3638: 572, 3639: 2213, 3640: 2217, 3641: 3202, 3642: 975, 3643: 3376, 3644: 311, 3645: 1905, 3646: 2258, 3647: 2623, 3648: 3236, 3649: 396, 3650: 868, 3651: 3413, 3652: 1316, 3653: 878, 3654: 226, 3655: 2811, 3656: 827, 3657: 584, 3658: 1820, 3659: 607, 3660: 701, 3661: 2214, 3662: 763, 3663: 3229, 3664: 820, 3665: 3337, 3666: 138, 3667: 530, 3668: 1070, 3669: 843, 3670: 3336, 3671: 3460, 3672: 3123, 3673: 133, 3674: 3290, 3675: 1709, 3676: 3164, 3677: 3315, 3678: 1832, 3679: 439, 3680: 134, 3681: 2480, 3682: 1842, 3683: 2309, 3684: 3084, 3685: 2218, 3686: 2308, 3687: 624, 3688: 1434, 3689: 1868, 3690: 404, 3691: 2543, 3692: 591, 3693: 3656, 3694: 2438, 3695: 3323, 3696: 127, 3697: 3382, 3698: 1843, 3699: 286, 3700: 3530, 3701: 2198, 3702: 2703, 3703: 2845, 3704: 3607, 3705: 2909}\n"
          ]
        }
      ]
    },
    {
      "cell_type": "markdown",
      "source": [
        "Selanjutnya saya akan menggabungkan hasil encode tadi ke dalam dataset rating serta mengubah fitur `Rating` menjadi float."
      ],
      "metadata": {
        "id": "zJh6w_9B3qej"
      }
    },
    {
      "cell_type": "code",
      "source": [
        "# mapping UserID dan MovieID ke dataframe user dan movie\n",
        "ratings3[\"user\"] = ratings3[\"UserID\"].map(user2user_encoded)\n",
        "ratings3[\"movie\"] = ratings3[\"MovieID\"].map(movie2movie_encoded)\n",
        "# Mengubah rating menjadi nilai float\n",
        "ratings3['Rating'] = ratings3['Rating'].values.astype(np.float32)\n",
        "ratings3.head()"
      ],
      "metadata": {
        "colab": {
          "base_uri": "https://localhost:8080/",
          "height": 206
        },
        "id": "eqqdmEadHr5X",
        "outputId": "441431d0-00e0-4197-a9f7-2ba46583d6e0"
      },
      "execution_count": 41,
      "outputs": [
        {
          "output_type": "execute_result",
          "data": {
            "text/plain": [
              "   UserID  MovieID  Rating  Timestamp  user  movie\n",
              "0       1     1193     5.0  978300760     0      0\n",
              "1       1      661     3.0  978302109     0      1\n",
              "2       1      914     3.0  978301968     0      2\n",
              "3       1     3408     4.0  978300275     0      3\n",
              "4       1     2355     5.0  978824291     0      4"
            ],
            "text/html": [
              "\n",
              "  <div id=\"df-b9fb4d18-5b5c-47e8-8923-cf399920b671\">\n",
              "    <div class=\"colab-df-container\">\n",
              "      <div>\n",
              "<style scoped>\n",
              "    .dataframe tbody tr th:only-of-type {\n",
              "        vertical-align: middle;\n",
              "    }\n",
              "\n",
              "    .dataframe tbody tr th {\n",
              "        vertical-align: top;\n",
              "    }\n",
              "\n",
              "    .dataframe thead th {\n",
              "        text-align: right;\n",
              "    }\n",
              "</style>\n",
              "<table border=\"1\" class=\"dataframe\">\n",
              "  <thead>\n",
              "    <tr style=\"text-align: right;\">\n",
              "      <th></th>\n",
              "      <th>UserID</th>\n",
              "      <th>MovieID</th>\n",
              "      <th>Rating</th>\n",
              "      <th>Timestamp</th>\n",
              "      <th>user</th>\n",
              "      <th>movie</th>\n",
              "    </tr>\n",
              "  </thead>\n",
              "  <tbody>\n",
              "    <tr>\n",
              "      <th>0</th>\n",
              "      <td>1</td>\n",
              "      <td>1193</td>\n",
              "      <td>5.0</td>\n",
              "      <td>978300760</td>\n",
              "      <td>0</td>\n",
              "      <td>0</td>\n",
              "    </tr>\n",
              "    <tr>\n",
              "      <th>1</th>\n",
              "      <td>1</td>\n",
              "      <td>661</td>\n",
              "      <td>3.0</td>\n",
              "      <td>978302109</td>\n",
              "      <td>0</td>\n",
              "      <td>1</td>\n",
              "    </tr>\n",
              "    <tr>\n",
              "      <th>2</th>\n",
              "      <td>1</td>\n",
              "      <td>914</td>\n",
              "      <td>3.0</td>\n",
              "      <td>978301968</td>\n",
              "      <td>0</td>\n",
              "      <td>2</td>\n",
              "    </tr>\n",
              "    <tr>\n",
              "      <th>3</th>\n",
              "      <td>1</td>\n",
              "      <td>3408</td>\n",
              "      <td>4.0</td>\n",
              "      <td>978300275</td>\n",
              "      <td>0</td>\n",
              "      <td>3</td>\n",
              "    </tr>\n",
              "    <tr>\n",
              "      <th>4</th>\n",
              "      <td>1</td>\n",
              "      <td>2355</td>\n",
              "      <td>5.0</td>\n",
              "      <td>978824291</td>\n",
              "      <td>0</td>\n",
              "      <td>4</td>\n",
              "    </tr>\n",
              "  </tbody>\n",
              "</table>\n",
              "</div>\n",
              "      <button class=\"colab-df-convert\" onclick=\"convertToInteractive('df-b9fb4d18-5b5c-47e8-8923-cf399920b671')\"\n",
              "              title=\"Convert this dataframe to an interactive table.\"\n",
              "              style=\"display:none;\">\n",
              "        \n",
              "  <svg xmlns=\"http://www.w3.org/2000/svg\" height=\"24px\"viewBox=\"0 0 24 24\"\n",
              "       width=\"24px\">\n",
              "    <path d=\"M0 0h24v24H0V0z\" fill=\"none\"/>\n",
              "    <path d=\"M18.56 5.44l.94 2.06.94-2.06 2.06-.94-2.06-.94-.94-2.06-.94 2.06-2.06.94zm-11 1L8.5 8.5l.94-2.06 2.06-.94-2.06-.94L8.5 2.5l-.94 2.06-2.06.94zm10 10l.94 2.06.94-2.06 2.06-.94-2.06-.94-.94-2.06-.94 2.06-2.06.94z\"/><path d=\"M17.41 7.96l-1.37-1.37c-.4-.4-.92-.59-1.43-.59-.52 0-1.04.2-1.43.59L10.3 9.45l-7.72 7.72c-.78.78-.78 2.05 0 2.83L4 21.41c.39.39.9.59 1.41.59.51 0 1.02-.2 1.41-.59l7.78-7.78 2.81-2.81c.8-.78.8-2.07 0-2.86zM5.41 20L4 18.59l7.72-7.72 1.47 1.35L5.41 20z\"/>\n",
              "  </svg>\n",
              "      </button>\n",
              "      \n",
              "  <style>\n",
              "    .colab-df-container {\n",
              "      display:flex;\n",
              "      flex-wrap:wrap;\n",
              "      gap: 12px;\n",
              "    }\n",
              "\n",
              "    .colab-df-convert {\n",
              "      background-color: #E8F0FE;\n",
              "      border: none;\n",
              "      border-radius: 50%;\n",
              "      cursor: pointer;\n",
              "      display: none;\n",
              "      fill: #1967D2;\n",
              "      height: 32px;\n",
              "      padding: 0 0 0 0;\n",
              "      width: 32px;\n",
              "    }\n",
              "\n",
              "    .colab-df-convert:hover {\n",
              "      background-color: #E2EBFA;\n",
              "      box-shadow: 0px 1px 2px rgba(60, 64, 67, 0.3), 0px 1px 3px 1px rgba(60, 64, 67, 0.15);\n",
              "      fill: #174EA6;\n",
              "    }\n",
              "\n",
              "    [theme=dark] .colab-df-convert {\n",
              "      background-color: #3B4455;\n",
              "      fill: #D2E3FC;\n",
              "    }\n",
              "\n",
              "    [theme=dark] .colab-df-convert:hover {\n",
              "      background-color: #434B5C;\n",
              "      box-shadow: 0px 1px 3px 1px rgba(0, 0, 0, 0.15);\n",
              "      filter: drop-shadow(0px 1px 2px rgba(0, 0, 0, 0.3));\n",
              "      fill: #FFFFFF;\n",
              "    }\n",
              "  </style>\n",
              "\n",
              "      <script>\n",
              "        const buttonEl =\n",
              "          document.querySelector('#df-b9fb4d18-5b5c-47e8-8923-cf399920b671 button.colab-df-convert');\n",
              "        buttonEl.style.display =\n",
              "          google.colab.kernel.accessAllowed ? 'block' : 'none';\n",
              "\n",
              "        async function convertToInteractive(key) {\n",
              "          const element = document.querySelector('#df-b9fb4d18-5b5c-47e8-8923-cf399920b671');\n",
              "          const dataTable =\n",
              "            await google.colab.kernel.invokeFunction('convertToInteractive',\n",
              "                                                     [key], {});\n",
              "          if (!dataTable) return;\n",
              "\n",
              "          const docLinkHtml = 'Like what you see? Visit the ' +\n",
              "            '<a target=\"_blank\" href=https://colab.research.google.com/notebooks/data_table.ipynb>data table notebook</a>'\n",
              "            + ' to learn more about interactive tables.';\n",
              "          element.innerHTML = '';\n",
              "          dataTable['output_type'] = 'display_data';\n",
              "          await google.colab.output.renderOutput(dataTable, element);\n",
              "          const docLink = document.createElement('div');\n",
              "          docLink.innerHTML = docLinkHtml;\n",
              "          element.appendChild(docLink);\n",
              "        }\n",
              "      </script>\n",
              "    </div>\n",
              "  </div>\n",
              "  "
            ]
          },
          "metadata": {},
          "execution_count": 41
        }
      ]
    },
    {
      "cell_type": "markdown",
      "source": [
        "Mengecek beberapa data seperti jumlah user, jumlah film, dan mengubah rating menjadi float"
      ],
      "metadata": {
        "id": "x0J_akZP0xwL"
      }
    },
    {
      "cell_type": "code",
      "source": [
        "num_users = len(user2user_encoded)\n",
        "num_movies = len(movie_encoded2movie)\n",
        "\n",
        "min_rating = min(ratings3['Rating'])\n",
        "max_rating = max(ratings3['Rating'])\n",
        "\n",
        "print(f'Jumlah User: {num_users}, Jumlah Film: {num_movies}, Rating Minimum: {min_rating}, Rating maximuR: {max_rating}')"
      ],
      "metadata": {
        "colab": {
          "base_uri": "https://localhost:8080/"
        },
        "id": "7pfsotGzH-9H",
        "outputId": "a2c87087-ccb7-4a9a-cc41-b1ddb3f66b79"
      },
      "execution_count": 42,
      "outputs": [
        {
          "output_type": "stream",
          "name": "stdout",
          "text": [
            "Jumlah User: 6040, Jumlah Film: 3706, Rating Minimum: 1.0, Rating maximuR: 5.0\n"
          ]
        }
      ]
    },
    {
      "cell_type": "markdown",
      "source": [
        "### Pembagian Data untuk Data Training Dan Validasi\n",
        "Pada tahap ini. saya akan membagi data saya menjadi data training dan validasi. disini saya menggunakan `train_test_split` pada library sklearn sehingga memudahkan saya dalam melakukannya. saya membagi data 80% training dan 20% testing."
      ],
      "metadata": {
        "id": "mB-rV_hZ1DoK"
      }
    },
    {
      "cell_type": "code",
      "source": [
        "from sklearn.model_selection import train_test_split\n",
        "\n",
        "X = ratings3[['user', 'movie']].values\n",
        "# Membuat variabel y dengan melakukan normalisasi pada data terlebih dahulu\n",
        "y = ratings3['Rating'].apply(lambda X: (X - min_rating) / (max_rating - min_rating)).values\n",
        "\n",
        "X_train, X_val, y_train, y_val = train_test_split(X, y, test_size=0.2, random_state=42)\n",
        "X_train.shape, X_val.shape, y_train.shape, y_val.shape"
      ],
      "metadata": {
        "colab": {
          "base_uri": "https://localhost:8080/"
        },
        "id": "xfNJiEzfJfsy",
        "outputId": "c65ab983-cd2a-40c7-9232-39a8e849cdcf"
      },
      "execution_count": 43,
      "outputs": [
        {
          "output_type": "execute_result",
          "data": {
            "text/plain": [
              "((800167, 2), (200042, 2), (800167,), (200042,))"
            ]
          },
          "metadata": {},
          "execution_count": 43
        }
      ]
    },
    {
      "cell_type": "markdown",
      "source": [
        "### Modeling\n",
        "Untuk model sistem rekomendasi collaborative filtering, model menghitung skor kecocokan antara pengguna dan movie dengan teknik embedding. Pertama, melakukan proses embedding terhadap data user dan movie. Selanjutnya, lakukan operasi perkalian dot product antara embedding user dan movie. Selain itu, saya juga dapat menambahkan bias untuk setiap user dan resto. Skor kecocokan ditetapkan dalam skala [0,1] dengan fungsi aktivasi sigmoid."
      ],
      "metadata": {
        "id": "5SpGKnqF2QDB"
      }
    },
    {
      "cell_type": "code",
      "source": [
        "import tensorflow as tf\n",
        "from tensorflow import keras\n",
        "from tensorflow.keras import layers"
      ],
      "metadata": {
        "id": "pTTe7lhTERsf"
      },
      "execution_count": 44,
      "outputs": []
    },
    {
      "cell_type": "code",
      "source": [
        "class RecommenderNet(keras.Model):\n",
        "    def __init__(self, num_users, num_movies, embedding_size, **kwargs):\n",
        "        super(RecommenderNet, self).__init__(**kwargs)\n",
        "        self.num_users = num_users\n",
        "        self.num_movies = num_movies\n",
        "        self.embedding_size = embedding_size\n",
        "        self.user_embedding = layers.Embedding(\n",
        "            num_users,\n",
        "            embedding_size,\n",
        "            embeddings_initializer=\"he_normal\",\n",
        "            embeddings_regularizer=keras.regularizers.l2(1e-6),\n",
        "            mask_zero=True,\n",
        "        )\n",
        "        self.user_bias = layers.Embedding(num_users, 1)\n",
        "        self.movie_embedding = layers.Embedding(\n",
        "            num_movies,\n",
        "            embedding_size,\n",
        "            embeddings_initializer=\"he_normal\",\n",
        "            embeddings_regularizer=keras.regularizers.l2(1e-6),\n",
        "            mask_zero=True,\n",
        "        )\n",
        "        self.movie_bias = layers.Embedding(num_movies, 1)\n",
        "\n",
        "    def call(self, inputs):\n",
        "        user_vector = self.user_embedding(inputs[:, 0])\n",
        "        user_bias = self.user_bias(inputs[:, 0])\n",
        "        movie_vector = self.movie_embedding(inputs[:, 1])\n",
        "        movie_bias = self.movie_bias(inputs[:, 1])\n",
        "        dot_user_movie = tf.tensordot(user_vector, movie_vector, 2)\n",
        "        # Add all the components (including bias)\n",
        "        x = dot_user_movie + user_bias + movie_bias\n",
        "        # The sigmoid activation forces the rating to between 0 and 1\n",
        "        return tf.nn.sigmoid(x)"
      ],
      "metadata": {
        "id": "Jgp27v3AMYoP"
      },
      "execution_count": 45,
      "outputs": []
    },
    {
      "cell_type": "code",
      "source": [
        "EMBEDDING_SIZE = 32\n",
        "model = RecommenderNet(num_users, num_movies, EMBEDDING_SIZE)\n",
        "model.compile(\n",
        "    loss=tf.keras.losses.BinaryCrossentropy(),\n",
        "    optimizer=keras.optimizers.Adam(learning_rate=0.001),\n",
        "    metrics=[tf.keras.metrics.RootMeanSquaredError()]\n",
        ")"
      ],
      "metadata": {
        "id": "XEwSFd1yMd1w"
      },
      "execution_count": 46,
      "outputs": []
    },
    {
      "cell_type": "markdown",
      "source": [
        "Model ini menggunakan Binary Crossentropy untuk menghitung loss function, Adam (Adaptive Moment Estimation) sebagai optimizer, dan root mean squared error (RMSE) sebagai metrics evaluation. \n",
        "Langkah berikutnya, mulailah proses training. "
      ],
      "metadata": {
        "id": "qZMiN-js3DCB"
      }
    },
    {
      "cell_type": "code",
      "source": [
        "history = model.fit(\n",
        "    x = X_train,\n",
        "    y = y_train,\n",
        "    batch_size = 64,\n",
        "    epochs = 5,\n",
        "    verbose=1,\n",
        "    validation_data = (X_val, y_val)\n",
        ")"
      ],
      "metadata": {
        "colab": {
          "base_uri": "https://localhost:8080/"
        },
        "id": "PdIrbCDLMxUc",
        "outputId": "e68c0bbd-b3d3-42b3-de1a-186f3b913f4d"
      },
      "execution_count": 47,
      "outputs": [
        {
          "output_type": "stream",
          "name": "stdout",
          "text": [
            "Epoch 1/5\n",
            "12503/12503 [==============================] - 42s 3ms/step - loss: 0.6190 - root_mean_squared_error: 0.2516 - val_loss: 0.6095 - val_root_mean_squared_error: 0.2431\n",
            "Epoch 2/5\n",
            "12503/12503 [==============================] - 36s 3ms/step - loss: 0.6128 - root_mean_squared_error: 0.2440 - val_loss: 0.6171 - val_root_mean_squared_error: 0.2480\n",
            "Epoch 3/5\n",
            "12503/12503 [==============================] - 37s 3ms/step - loss: 0.6211 - root_mean_squared_error: 0.2495 - val_loss: 0.6241 - val_root_mean_squared_error: 0.2524\n",
            "Epoch 4/5\n",
            "12503/12503 [==============================] - 44s 4ms/step - loss: 0.6279 - root_mean_squared_error: 0.2537 - val_loss: 0.6303 - val_root_mean_squared_error: 0.2565\n",
            "Epoch 5/5\n",
            "12503/12503 [==============================] - 38s 3ms/step - loss: 0.6348 - root_mean_squared_error: 0.2578 - val_loss: 0.6346 - val_root_mean_squared_error: 0.2590\n"
          ]
        }
      ]
    },
    {
      "cell_type": "markdown",
      "source": [
        "### Visualisasi Metrik\n",
        "Untuk melihat visualisasi matriks. saya menggunakan maplotlib untuk melakukannya."
      ],
      "metadata": {
        "id": "lxFFhi063Kg0"
      }
    },
    {
      "cell_type": "code",
      "source": [
        "plt.plot(history.history['root_mean_squared_error'])\n",
        "plt.plot(history.history['val_root_mean_squared_error'])\n",
        "plt.title('model_metrics')\n",
        "plt.ylabel('root_mean_squared_error')\n",
        "plt.xlabel('epoch')\n",
        "plt.legend(['train', 'test'], loc='upper left')\n",
        "plt.show()\n",
        "plt.savefig('plot3')"
      ],
      "metadata": {
        "colab": {
          "base_uri": "https://localhost:8080/",
          "height": 316
        },
        "id": "7mdosajPO3fI",
        "outputId": "98365569-bb5a-4cdc-fe1f-3d7faf5b491a"
      },
      "execution_count": 48,
      "outputs": [
        {
          "output_type": "display_data",
          "data": {
            "text/plain": [
              "<Figure size 432x288 with 1 Axes>"
            ],
            "image/png": "[encoded data removed]"
          },
          "metadata": {}
        },
        {
          "output_type": "display_data",
          "data": {
            "text/plain": [
              "<Figure size 432x288 with 0 Axes>"
            ]
          },
          "metadata": {}
        }
      ]
    },
    {
      "cell_type": "code",
      "source": [
        "test_loss = model.evaluate(X_val, y_val)\n",
        "print('\\\\nTest Loss: {}'.format(test_loss))"
      ],
      "metadata": {
        "colab": {
          "base_uri": "https://localhost:8080/"
        },
        "id": "sXdBlAqshUGE",
        "outputId": "51e533c2-f86b-4ac7-d967-8fb0ec4542b4"
      },
      "execution_count": 49,
      "outputs": [
        {
          "output_type": "stream",
          "name": "stdout",
          "text": [
            "6252/6252 [==============================] - 14s 2ms/step - loss: 0.6161 - root_mean_squared_error: 0.2454\n",
            "\\nTest Loss: [0.6161371469497681, 0.24536041915416718]\n"
          ]
        }
      ]
    },
    {
      "cell_type": "markdown",
      "source": [
        "Dari proses ini, saya memperoleh nilai accuracy akhir sebesar sekitar 0.61 dan val loss pada data sebesar 0.24. Nilai tersebut cukup bagus untuk sistem rekomendasi."
      ],
      "metadata": {
        "id": "OCJUS_4W6QL6"
      }
    },
    {
      "cell_type": "markdown",
      "source": [
        "### Mendapatkan Rekomendasi\n",
        "Untuk mendapatkan rekomendasi film, pertama saya mengambil sampel user secara acak dan definisikan variabel movies_not_visited yang merupakan daftar film yang belum pernah ditonton oleh user. variabel tersebutlah yang akan direkomendasikan ke user.\\\n",
        "Sebelumnya, user telah memberikan rating ke beberapa film. rating-rating itu akan digunakan untuk rekomendasi film yang mungkin cocok untuk user tersebut. dan film yang direkomendasikan tersebut merupakan film yang belum pernah ditonton oleh users."
      ],
      "metadata": {
        "id": "m661F8ss6w5D"
      }
    },
    {
      "cell_type": "code",
      "source": [
        "print(\"Testing Model with 1 user\")\n",
        "movie_df = movies2\n",
        "user_id = \"new_user\"\n",
        "movies_watched_by_user = ratings3.sample(7)\n",
        "# film yang belum pernah di lihat user\n",
        "movies_not_watched = movie_df[~movie_df['MovieID'].isin(movies_watched_by_user.MovieID.values)]['MovieID'] \n",
        "movies_not_watched = list(\n",
        "    set(movies_not_watched)\n",
        "    .intersection(set(movie2movie_encoded.keys()))\n",
        ")\n",
        "\n",
        "movies_not_watched = [[movie2movie_encoded.get(x)] for x in movies_not_watched]\n",
        "\n",
        "user_movie_array = np.hstack(([[0]] * len(movies_not_watched), movies_not_watched))\n"
      ],
      "metadata": {
        "colab": {
          "base_uri": "https://localhost:8080/"
        },
        "id": "0MRq1SZnhhwp",
        "outputId": "d8a4cd99-712a-4c66-8509-dd7ae79d97f7"
      },
      "execution_count": 56,
      "outputs": [
        {
          "output_type": "stream",
          "name": "stdout",
          "text": [
            "Testing Model with 1 user\n"
          ]
        }
      ]
    },
    {
      "cell_type": "markdown",
      "source": [
        "Selanjutnya, saya menggunakan fungsi `model.predict()` untuk memberikan rekomendasi film kepada user sebanyak 5 film."
      ],
      "metadata": {
        "id": "8bsy7zHk8tD9"
      }
    },
    {
      "cell_type": "code",
      "source": [
        "ratings = model.predict(user_movie_array).flatten()\n",
        "top_ratings_indices = ratings.argsort()[-10:][::-1]\n",
        "\n",
        "recommended_movie_ids = [\n",
        "    movie_encoded2movie.get(movies_not_watched[x][0]) for x in top_ratings_indices\n",
        "]\n",
        "\n",
        "print(\"Showing recommendations for user: {}\".format(user_id))\n",
        "print(\"====\" * 9)\n",
        "print(\"Film-film yang diberi rating tinggi oleh user\")\n",
        "print(\"----\" * 8)\n",
        "top_movies_user = (movies_watched_by_user.sort_values(by=\"Rating\", ascending=False).head(5).MovieID.values)\n",
        "movie_df_rows = movie_df[movie_df[\"MovieID\"].isin(top_movies_user)]\n",
        "for i, row in enumerate(movie_df_rows.itertuples()):\n",
        "    i += 1\n",
        "    print(i,'.',row.Title, \":\", row.Genres)"
      ],
      "metadata": {
        "colab": {
          "base_uri": "https://localhost:8080/"
        },
        "id": "lhkryssx8r4a",
        "outputId": "26c488be-57c1-44ae-acc6-fae3845a769b"
      },
      "execution_count": 59,
      "outputs": [
        {
          "output_type": "stream",
          "name": "stdout",
          "text": [
            "Showing recommendations for user: new_user\n",
            "====================================\n",
            "Film-film yang diberi rating tinggi oleh user\n",
            "--------------------------------\n",
            "1 . Like Water for Chocolate (Como agua para chocolate) (1992) : ['Drama', 'Romance']\n",
            "2 . Fried Green Tomatoes (1991) : ['Drama']\n",
            "3 . Meet Joe Black (1998) : ['Romance']\n",
            "4 . Haunting, The (1999) : ['Horror', 'Thriller']\n",
            "5 . Christmas Story, A (1983) : ['Comedy', 'Drama']\n"
          ]
        }
      ]
    },
    {
      "cell_type": "code",
      "source": [
        "print(\"----\" * 8)\n",
        "print(\"10 rekomendasi film untuk user\")\n",
        "print(\"----\" * 8)\n",
        "recommended_movies = movie_df[movie_df[\"MovieID\"].isin(recommended_movie_ids)]\n",
        "for i, row in enumerate(recommended_movies.itertuples()):\n",
        "    i+= 1\n",
        "    print(i,'.',row.Title, \":\", row.Genres)"
      ],
      "metadata": {
        "colab": {
          "base_uri": "https://localhost:8080/"
        },
        "id": "zWVd-H5hfR5a",
        "outputId": "c3db7658-7baf-4778-f7e6-3b80548f9fba"
      },
      "execution_count": 58,
      "outputs": [
        {
          "output_type": "stream",
          "name": "stdout",
          "text": [
            "--------------------------------\n",
            "10 rekomendasi film untuk user\n",
            "--------------------------------\n",
            "1 . Star Wars: Episode IV - A New Hope (1977) : ['Action', 'Adventure', 'Fantasy', 'Sci-Fi']\n",
            "2 . Schindler's List (1993) : ['Drama', 'War']\n",
            "3 . Wallace & Gromit: The Best of Aardman Animation (1996) : ['Animation']\n",
            "4 . Close Shave, A (1995) : ['Animation', 'Comedy', 'Thriller']\n",
            "5 . Dr. Strangelove or: How I Learned to Stop Worrying and Love the Bomb (1963) : ['Sci-Fi', 'War']\n",
            "6 . Godfather, The (1972) : ['Action', 'Crime', 'Drama']\n",
            "7 . Wrong Trousers, The (1993) : ['Animation', 'Comedy']\n",
            "8 . Third Man, The (1949) : ['Mystery', 'Thriller']\n",
            "9 . 400 Blows, The (Les Quatre cents coups) (1959) : ['Drama']\n",
            "10 . Stalag 17 (1953) : ['Drama', 'War']\n"
          ]
        }
      ]
    }
  ]
}